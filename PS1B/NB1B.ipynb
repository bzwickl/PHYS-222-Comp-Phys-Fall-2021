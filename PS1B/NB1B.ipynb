{
 "cells": [
  {
   "cell_type": "markdown",
   "metadata": {
    "nbgrader": {
     "grade": false,
     "grade_id": "cell-6269b6e4bd97d29b",
     "locked": true,
     "schema_version": 3,
     "solution": false
    }
   },
   "source": [
    "# Notebook 1B - Mon/Tues\n",
    "## Using constants and special functions, Documenting work in a Jupyter Notebook.\n",
    "## Total Points: 11\n",
    "#### PHYS 225 Intro to Computational Physics, Fall 2020"
   ]
  },
  {
   "cell_type": "markdown",
   "metadata": {
    "nbgrader": {
     "grade": false,
     "grade_id": "cell-f892c69c91afa8fb",
     "locked": true,
     "schema_version": 3,
     "solution": false
    }
   },
   "source": [
    "## Entering and reading scientific notation in Python\n",
    "A rough estimate for the number of stars in the universe is $N = 1\\times10^{21}$.\n",
    "In Python you you would express the same value in scientific notation as `N = 1e21`.\n",
    "Python also prints out numbers in using this same notation.\n",
    "\n",
    "Always use the `e` notation to enter in scientific notation because it is more efficient, easier to read in code, and less prone to human error."
   ]
  },
  {
   "cell_type": "code",
   "execution_count": 1,
   "metadata": {},
   "outputs": [
    {
     "name": "stdout",
     "output_type": "stream",
     "text": [
      "1e+21\n",
      "5e+20\n"
     ]
    }
   ],
   "source": [
    "# It is easy to enter and read scientific notation using the \"e\" notation\n",
    "N = 1e21\n",
    "print(N)\n",
    "print(N/2)"
   ]
  },
  {
   "cell_type": "code",
   "execution_count": 2,
   "metadata": {},
   "outputs": [
    {
     "name": "stdout",
     "output_type": "stream",
     "text": [
      "1e+21\n",
      "210\n"
     ]
    }
   ],
   "source": [
    "# Calculating the scientific notation makes the value harder to read, and can hide mistakes.\n",
    "N = 1.0*10**21\n",
    "print(N)\n",
    "\n",
    "# a small typo drastically changes the result\n",
    "N = 1*10*21\n",
    "print(N)"
   ]
  },
  {
   "cell_type": "code",
   "execution_count": 3,
   "metadata": {},
   "outputs": [
    {
     "name": "stdout",
     "output_type": "stream",
     "text": [
      "5e+20\n",
      "833000000000.0\n"
     ]
    }
   ],
   "source": [
    "# The \"e\" notation is flexible.\n",
    "N = 0.5e21  # decimals smaller than 1 can use used before the \"e\"\n",
    "print(N)\n",
    "\n",
    "# values bigger than 10 can be used before the \"e\"\n",
    "N = 833e9  # 833 billion dollars (estimated US Gov't federal deficit for 2018)\n",
    "print(N)"
   ]
  },
  {
   "cell_type": "markdown",
   "metadata": {
    "nbgrader": {
     "grade": false,
     "grade_id": "cell-07646328cc99507c",
     "locked": true,
     "schema_version": 3,
     "solution": false
    }
   },
   "source": [
    "### Task 1: Using scientific notation in Python (1 point)\n",
    "* Create a variable `N_USpop` with a value of $3.26\\times10^{8}$.\n",
    "* Create a variable `diameter_flu_virus` with a value of $120 \\textrm{ nm}$. Enter the value in meters (not nm)!"
   ]
  },
  {
   "cell_type": "code",
   "execution_count": 4,
   "metadata": {
    "nbgrader": {
     "grade": false,
     "grade_id": "cell-d42e4b5e7d6b0213",
     "locked": false,
     "schema_version": 3,
     "solution": true
    }
   },
   "outputs": [],
   "source": [
    "\"\"\"\n",
    "Create the variables N_USpop and diameter_flu_vius and set them to the values specified above.\n",
    "\"\"\"\n",
    "### BEGIN SOLUTION\n",
    "N_USpop = 3.26e8\n",
    "diameter_flu_virus = 120e-9\n",
    "### END SOLUTION"
   ]
  },
  {
   "cell_type": "code",
   "execution_count": 5,
   "metadata": {
    "nbgrader": {
     "grade": true,
     "grade_id": "cell-bd1de369be46c90c",
     "locked": true,
     "points": 1,
     "schema_version": 3,
     "solution": false
    }
   },
   "outputs": [
    {
     "name": "stdout",
     "output_type": "stream",
     "text": [
      "326000000.0\n",
      "1.2e-07\n"
     ]
    }
   ],
   "source": [
    "\"\"\"Check the values \"\"\"\n",
    "\n",
    "# First check that variables have proper names \n",
    "# A NameError is produced if the variable name is not correct. \n",
    "print(N_USpop)\n",
    "print(diameter_flu_virus)\n",
    "\n",
    "# check the value of diameter_flu_virus\n",
    "assert abs(diameter_flu_virus - (120e-9))/abs(120e-9) < 1e-4 # autograded with tolerance\n",
    "\n",
    "# the test case for N_USpop is hidden\n",
    "### BEGIN HIDDEN TESTS\n",
    "assert abs(N_USpop - (3.26e8))/abs(3.26e8) < 1e-4 # autograded with tolerance\n",
    "### END HIDDEN TESTS"
   ]
  },
  {
   "cell_type": "markdown",
   "metadata": {
    "nbgrader": {
     "grade": false,
     "grade_id": "cell-e915a99470658128",
     "locked": true,
     "schema_version": 3,
     "solution": false
    }
   },
   "source": [
    "## Calculations with constants and special functions\n",
    "\n",
    "You will need to use `import` statements to access very useful variables and functions such as  \n",
    "* mathematical constants (e.g., $\\pi$ or $e$)\n",
    "* physical constants (e.g., $c$, $\\hbar$)\n",
    "* special functions (e.g., $\\sin(x)$, $e^x$, $\\log(x)$)\n",
    "\n",
    "### Mathematical constants\n",
    "Most mathematical constants can be accessed through the `numpy` (i.e., \"numerical python\") package , which requires importing values from a package. We will import from the `numpy` package, which will be used throughout the course. A more complete discussion of importing packages will come in week 3.\n",
    "\n",
    "`from numpy import pi, e  # imports the variables pi and e`  "
   ]
  },
  {
   "cell_type": "code",
   "execution_count": 6,
   "metadata": {},
   "outputs": [
    {
     "name": "stdout",
     "output_type": "stream",
     "text": [
      "3.141592653589793\n",
      "2.718281828459045\n",
      "6.283185307179586\n"
     ]
    }
   ],
   "source": [
    "from numpy import pi, e  # imports the variables pi and e\n",
    "print(pi)\n",
    "print(e)\n",
    "print(2*pi)"
   ]
  },
  {
   "cell_type": "markdown",
   "metadata": {
    "nbgrader": {
     "grade": false,
     "grade_id": "cell-283fce464c0c3f42",
     "locked": true,
     "schema_version": 3,
     "solution": false
    }
   },
   "source": [
    "### Special functions (e.g., $\\sin(x)$, $e^x$, $\\log(x)$)\n",
    "A large number of special functions, especially those common to a handheld calculator, are available in `numpy`. Please check out the [full list of available math functions](https://docs.scipy.org/doc/numpy-1.13.0/reference/routines.math.html) in numpy. \n",
    "\n",
    "A slightly different `import` statement will be used, which gives access to ALL the functions and variables in `numpy`.\n",
    "\n",
    "`import numpy as np  # gives access to all the the numpy functions`"
   ]
  },
  {
   "cell_type": "code",
   "execution_count": 7,
   "metadata": {},
   "outputs": [
    {
     "name": "stdout",
     "output_type": "stream",
     "text": [
      "0.0\n",
      "0.7071067811865475\n",
      "1.0\n"
     ]
    }
   ],
   "source": [
    "\"\"\" Try out sin(x) in python \"\"\"\n",
    "\n",
    "import numpy as np  # you only need to execute the import once in a notebook, usually near the top.\n",
    "\n",
    "# the np. is required because sin() is part of the numpy package\n",
    "x1 = np.sin(0)\n",
    "x2 = np.sin(pi/4)  # you can still use the pi value defined above\n",
    "x3 = np.sin(pi/2)\n",
    "print(x1)\n",
    "print(x2)\n",
    "print(x3)"
   ]
  },
  {
   "cell_type": "code",
   "execution_count": 8,
   "metadata": {},
   "outputs": [
    {
     "name": "stdout",
     "output_type": "stream",
     "text": [
      "1.0\n",
      "2.718281828459045\n",
      "0.36787944117144233\n"
     ]
    }
   ],
   "source": [
    "\"\"\" Try out e^x = exp(x) in python \"\"\"\n",
    "\n",
    "# the np. is required because exp() is part of the numpy package\n",
    "x1 = np.exp(0)\n",
    "x2 = np.exp(1)  # you can still use the pi value defined above\n",
    "x3 = np.exp(-1)\n",
    "print(x1)\n",
    "print(x2)\n",
    "print(x3)"
   ]
  },
  {
   "cell_type": "markdown",
   "metadata": {
    "nbgrader": {
     "grade": false,
     "grade_id": "cell-31cfb837757abab0",
     "locked": true,
     "schema_version": 3,
     "solution": false
    }
   },
   "source": [
    "### Physical constants\n",
    "A useful set of physical constants can be imported from the `scipy.constants` package. Please take a quick look at the [full set of physical constants available](https://docs.scipy.org/doc/scipy/reference/constants.html) in `scipy.constants`."
   ]
  },
  {
   "cell_type": "code",
   "execution_count": 9,
   "metadata": {},
   "outputs": [
    {
     "name": "stdout",
     "output_type": "stream",
     "text": [
      "299792458.0\n",
      "1.0545718176461565e-34\n",
      "1.602176634e-19\n",
      "1.67262192369e-27\n"
     ]
    }
   ],
   "source": [
    "from scipy.constants import hbar, c, e, m_p\n",
    "print(c)  # speed of light\n",
    "print(hbar)\n",
    "print(e)  # note that the value of e (which was 2.718...) is replaced by the electron charge.\n",
    "print(m_p)"
   ]
  },
  {
   "cell_type": "markdown",
   "metadata": {
    "nbgrader": {
     "grade": false,
     "grade_id": "cell-7be28cb837414500",
     "locked": true,
     "schema_version": 3,
     "solution": false
    }
   },
   "source": [
    "### Task 2: Calculation of the speed of light from permittivity and permeability of free space (1 point)\n",
    "A remarkable equation derived from electricity and magnetism showed that the speed of light $c$ was directly related to fundmanetal constants in electricity and magnetism, specifically the permittivity of free space $\\epsilon_0$ and the permiability of free space $\\mu_0$.\n",
    "$$ c = \\frac{1}{\\sqrt{\\epsilon_0 \\mu_0}} $$\n",
    "\n",
    "* Calculate the value of speed of light from the two EM constants and store the value in a variable name `c_EM`. Print it out and compare to the value in scipy.constants\n",
    "* Calculate the difference between the built-in speed of light `c` in `scipy.constants` vs `c_EM`, which you just calculated. Store the value in a variable named `diff`\n"
   ]
  },
  {
   "cell_type": "code",
   "execution_count": 10,
   "metadata": {
    "nbgrader": {
     "grade": false,
     "grade_id": "cell-8ce42bb50c298bdf",
     "locked": false,
     "schema_version": 3,
     "solution": true
    }
   },
   "outputs": [
    {
     "name": "stdout",
     "output_type": "stream",
     "text": [
      "299792458.0000065\n",
      "-6.496906280517578e-06\n"
     ]
    }
   ],
   "source": [
    "\"\"\"\n",
    "Compute the speed of light from EM constants and store \n",
    "the value in a variable named c_EM. Print out c_EM.\n",
    "\n",
    "Compute the difference \n",
    "\n",
    "\"\"\"\n",
    "\n",
    "# import the necessary constants first\n",
    "\n",
    "# then calculate c_EM\n",
    "\n",
    "### BEGIN SOLUTION\n",
    "from scipy.constants import epsilon_0, mu_0, c\n",
    "\n",
    "c_EM  = (epsilon_0 * mu_0)**(-0.5)\n",
    "print(c_EM)\n",
    "\n",
    "diff = c - c_EM\n",
    "print(diff)\n",
    "\n",
    "### END SOLUTION"
   ]
  },
  {
   "cell_type": "code",
   "execution_count": 11,
   "metadata": {
    "nbgrader": {
     "grade": true,
     "grade_id": "cell-a2d1c2db0e5b32f5",
     "locked": true,
     "points": 1,
     "schema_version": 3,
     "solution": false
    }
   },
   "outputs": [],
   "source": [
    "\"\"\"Check that c_EM  and diff calculations\"\"\"\n",
    "assert abs(c_EM - (299792458.0))/abs(299792458.0) < 1e-9 # autograded with tolerance\n",
    "assert  abs(diff) < 1e-1 # autograded with tolerance"
   ]
  },
  {
   "cell_type": "markdown",
   "metadata": {
    "nbgrader": {
     "grade": false,
     "grade_id": "cell-0172a790f524d8b1",
     "locked": true,
     "schema_version": 3,
     "solution": false
    }
   },
   "source": [
    "### Task 3: Calculation of the Rydberg energy (1 point)\n",
    "The Rydberg energy, $R$, gives the energy scale for energy transmissions of a Hydrogen atom and can be derived from the Bohr model of the atom. The Rydberg energy, $R$, can be used to calculate the absorption or emission spectrum of Hydrogen. \n",
    "$$ R = \\frac{m_e e^4}{8 h^2 \\epsilon_0^2}  \\approx 2.18\\times10^{-18} \\textrm{ J} = 13.6 \\textrm{ eV}$$"
   ]
  },
  {
   "cell_type": "code",
   "execution_count": 12,
   "metadata": {
    "nbgrader": {
     "grade": false,
     "grade_id": "cell-1435d38a486eada5",
     "locked": false,
     "schema_version": 3,
     "solution": true
    }
   },
   "outputs": [
    {
     "name": "stdout",
     "output_type": "stream",
     "text": [
      "2.1798723610862185e-18\n",
      "13.605693122885842\n"
     ]
    }
   ],
   "source": [
    "\"\"\"\n",
    "Compute the Rydberg Energy and save the value to a variable named R. Print out R.\n",
    "Make sure you get all your constants from scipy.constants.\n",
    "\"\"\"\n",
    "\n",
    "# import the necessary constants first\n",
    "\n",
    "# then calculate R\n",
    "\n",
    "### BEGIN SOLUTION\n",
    "from scipy.constants import h, epsilon_0, e, m_e\n",
    "R = m_e * e**4 / (8 * h**2 * epsilon_0**2)\n",
    "print(R)\n",
    "print(R/e)\n",
    "### END SOLUTION"
   ]
  },
  {
   "cell_type": "code",
   "execution_count": 14,
   "metadata": {
    "nbgrader": {
     "grade": true,
     "grade_id": "cell-e2485ddc8868d8bc",
     "locked": true,
     "points": 1,
     "schema_version": 3,
     "solution": false
    }
   },
   "outputs": [],
   "source": [
    "\"\"\"Check that R = 2.179872325390254e-18\"\"\"\n",
    "assert abs(R - (2.179872325390254e-18))/abs(2.179872325390254e-18) < 1e-5 # autograded with tolerance"
   ]
  },
  {
   "cell_type": "markdown",
   "metadata": {
    "nbgrader": {
     "grade": false,
     "grade_id": "cell-c66a0d1fbdeb7a6c",
     "locked": true,
     "schema_version": 3,
     "solution": false
    }
   },
   "source": [
    "## Documenting your solutions in a Jupyter notebook \n",
    "As you saw on Monday/Tuesday, Jupyter notebooks can contain images, snazzy LaTeX equations, and formatted text, such as headings, bold, italics. Additional useful features are hyperlinks and lists.  \n",
    "\n",
    "A full list of formatting features and examples of how to use it are given at the **[official markdown syntax website](https://daringfireball.net/projects/markdown/syntax)**."
   ]
  },
  {
   "cell_type": "markdown",
   "metadata": {
    "nbgrader": {
     "grade": false,
     "grade_id": "cell-60b99302c231f712",
     "locked": true,
     "schema_version": 3,
     "solution": false
    }
   },
   "source": [
    "## Pushing a broken down car\n",
    "\n",
    "Dr. Zwickl's brother-in-law, Matt, was an offensive lineman on his college football team and is way-way stronger than Dr. Zwickl. On a recent trip back from a pizza restaurant, Matt was describing how he pushed his car up a hill in their neighborhood after the transmission stopped working. Dr. Zwickl was surprised Matt was able to push the car up the hill given his own troubles pushing a minivan on a flat driveway. \n",
    "\n",
    "However, it made him wonder, \"What is the steepest hill I could push my car up?\" \n",
    "\n",
    "![Minivan](2019_honda_odyssey_angularfront.jpg)\n",
    "\n",
    "### Task 4: Get your pencil and paper solution into a Jupyter notebook (2 point)\n",
    "On a separate sheet of paper, neatly draw a diagram and derive a formula for the force required to push a minivan up a hill at constant speed. Upload images of your solution and your partners solution.\n",
    "* The images must be uploaded to the same directory as the Jupyter notebook. \n",
    "* The markdown syntax is `![Text descibing image](filename)`\n",
    "* The `filename` needs to include the extention (e.g., .jpg, .png)\n",
    "* You might want to resize the image before uploading (optional)"
   ]
  },
  {
   "cell_type": "markdown",
   "metadata": {
    "nbgrader": {
     "grade": true,
     "grade_id": "cell-0be11b80020154c6",
     "locked": false,
     "points": 2,
     "schema_version": 3,
     "solution": true
    }
   },
   "source": [
    "**Write Markdown to this cell to integrate the image of your solution.**"
   ]
  },
  {
   "cell_type": "markdown",
   "metadata": {
    "nbgrader": {
     "grade": false,
     "grade_id": "cell-724674a5dee8d7c7",
     "locked": true,
     "schema_version": 3,
     "solution": false
    }
   },
   "source": [
    "### Task 5: Compute the numerical value of the force required to push (1 point)\n",
    "In order to test your equation, use very unrealistic numbers for a minivan on a hill, assume \n",
    "* the mass of the minivan is $m_\\textrm{minivan} = 10 \\textrm{kg}$, and \n",
    "* the angle of the hill with respect to the horizontal is $\\theta = 38^{\\circ}$\n",
    "* the van can roll with minimal friction because it is in neutral. \n",
    "* The value of $g = 9.8 \\textrm{m/s}^2$.\n",
    "\n",
    "Keep the value of the force in a variable named `force1` and print out `force1`."
   ]
  },
  {
   "cell_type": "code",
   "execution_count": 15,
   "metadata": {
    "nbgrader": {
     "grade": false,
     "grade_id": "cell-85e6a66131a9c182",
     "locked": false,
     "schema_version": 3,
     "solution": true
    }
   },
   "outputs": [
    {
     "name": "stdout",
     "output_type": "stream",
     "text": [
      "60.3348245819145\n"
     ]
    }
   ],
   "source": [
    "\"\"\"\n",
    "Compute the numerical value for the above force and save the value to a variable named force1.\n",
    "If numpy was imported earlier in the notebook (meaning the cell was run), \n",
    "then you don't need to import it again.\n",
    "\"\"\"\n",
    "\n",
    "# define your variables first\n",
    "\n",
    "# then compute the force\n",
    "\n",
    "### BEGIN SOLUTION\n",
    "m = 10  # mass in kg\n",
    "g = 9.8 # gravitational acceleration in m/s^2\n",
    "theta = 38*pi/180 # angle in degrees converted to radians\n",
    "\n",
    "force1 = m*g*np.sin(theta)\n",
    "print(force1)\n",
    "del  m, g, theta\n",
    "### END SOLUTION"
   ]
  },
  {
   "cell_type": "markdown",
   "metadata": {
    "nbgrader": {
     "grade": false,
     "grade_id": "cell-9752a3a0ca0cb1db",
     "locked": true,
     "schema_version": 3,
     "solution": false
    }
   },
   "source": [
    "The value for the force should be about 60 N. A hidden autograder test will check the exact value."
   ]
  },
  {
   "cell_type": "code",
   "execution_count": 16,
   "metadata": {
    "nbgrader": {
     "grade": true,
     "grade_id": "cell-ba9b58c5036a73f6",
     "locked": true,
     "points": 1,
     "schema_version": 3,
     "solution": false
    }
   },
   "outputs": [
    {
     "name": "stdout",
     "output_type": "stream",
     "text": [
      "60.3348245819145\n"
     ]
    }
   ],
   "source": [
    "\"\"\"Check the value for the force\"\"\"\n",
    "# check the variable name\n",
    "print(force1)\n",
    "### BEGIN HIDDEN TESTS\n",
    "assert abs(force1 - (60.3348245819145))/abs(60.3348245819145) < 1e-2 # autograded with tolerance\n",
    "### END HIDDEN TESTS"
   ]
  },
  {
   "cell_type": "markdown",
   "metadata": {
    "nbgrader": {
     "grade": false,
     "grade_id": "cell-39c73f1a86c864d2",
     "locked": true,
     "schema_version": 3,
     "solution": false
    }
   },
   "source": [
    "### Task 6: Select reasonable estimates for the minivan mass $m$ and your maximum push force $F_\\textrm{max}$ (1 point)\n",
    "* Describe how you determined your estimates. \n",
    "* Try to use physical reasoning to estimate a reasonable value for $F_\\textrm{max}$ based on other feats of strength you can do.\n",
    "* Google is great for finding parameters for common objects like minivans."
   ]
  },
  {
   "cell_type": "markdown",
   "metadata": {
    "nbgrader": {
     "grade": true,
     "grade_id": "cell-877ed77d6f82957c",
     "locked": false,
     "points": 1,
     "schema_version": 3,
     "solution": true
    }
   },
   "source": []
  },
  {
   "cell_type": "markdown",
   "metadata": {
    "nbgrader": {
     "grade": false,
     "grade_id": "cell-d098fb4366b1219b",
     "locked": true,
     "schema_version": 3,
     "solution": false
    }
   },
   "source": [
    "### Task 7: Estimate the steepest hill you could push a minivan up (3 points)\n",
    "Show your code below. Because each group may use different parameters, the question is manually graded.\n",
    "1. You must use the following variables for the initial parameter estimates and final angle:\n",
    "    * `F_max`  (the max force you can push)\n",
    "    * `M_minivan` (the mass of the minivan)\n",
    "    * `theta_max` (the max you can push the minivan up)\n",
    "1. You **must** add comments to each line (either directly above, or at the end of the line)\n",
    "    * All variables should have a comment that specifies the quantity and units \n",
    "    * For estimated parameters, specify what your estimate is based on.\n",
    "    * Answers with insufficient comments will lose 1 point.\n",
    "1. Your final answer for `theta_max` should be in **degrees**.\n",
    "1. Print the final calculated value of `theta_max`\n",
    "1. Review your final answer with instructor before leaving.\n"
   ]
  },
  {
   "cell_type": "code",
   "execution_count": 17,
   "metadata": {
    "nbgrader": {
     "grade": false,
     "grade_id": "cell-3ab8395aabf71ea4",
     "locked": false,
     "schema_version": 3,
     "solution": true,
     "task": false
    }
   },
   "outputs": [
    {
     "name": "stdout",
     "output_type": "stream",
     "text": [
      "2.6327950260150352\n"
     ]
    }
   ],
   "source": [
    "\"\"\"Estimate the steepest angle you could push a minivan.\"\"\"\n",
    "# define all your variables\n",
    "\n",
    "# compute your angle\n",
    "\n",
    "### BEGIN SOLUTION\n",
    "# curb weight in pounds, coverted to kg, based on Honda website, for 2018\n",
    "M_minivan = 4354*0.453592 \n",
    "\n",
    "g = 9.8 # gravitational acceleration in m/s^2\n",
    "\n",
    "# max push force in Pounds, converted to kg then newtons. Assumes I can push with 200 lbs\n",
    "F_max = 200 * 0.453592 * 9.8\n",
    "\n",
    "\n",
    "theta_max = np.arcsin( F_max/(M_minivan * g) ) * 180 / pi # angle in degrees converted to radians\n",
    "\n",
    "print(theta_max)\n",
    "### END SOLUTION"
   ]
  },
  {
   "cell_type": "code",
   "execution_count": 18,
   "metadata": {
    "nbgrader": {
     "grade": true,
     "grade_id": "cell-af38ee5e3acdeb8e",
     "locked": true,
     "points": 3,
     "schema_version": 3,
     "solution": false,
     "task": false
    }
   },
   "outputs": [
    {
     "name": "stdout",
     "output_type": "stream",
     "text": [
      "2.6327950260150352\n",
      "smallest reasonable theta_max 0.2864800912409137\n",
      "largest reasonable theta_max 11.536959032815489\n"
     ]
    }
   ],
   "source": [
    "\"\"\"Check the calculation of theta_max\"\"\"\n",
    "# check the variable name\n",
    "print(theta_max)\n",
    "assert M_minivan > 0 # Minivan mass variable should exist and be positive\n",
    "assert F_max > 0 # F_max (max push) variable should exist and be positive\n",
    "assert theta_max > 0.1 # If you get a number below 0.1, check units on your angle. Radians or degrees?\n",
    "### BEGIN HIDDEN TESTS\n",
    "assert M_minivan > 3000*0.453592  # a light car is 3000 pounds\n",
    "assert M_minivan < 6000*0.453592 # a heavy truck is 6000 pounds, the minivan is right in the middle.\n",
    "assert F_max > 30 *0.453592 *9.8  # 50 pounds is like a heavy suitcase\n",
    "assert F_max < 600 *0.453592 *9.8  # strongest powerlifters can't do more than this...crazy to suppose.\n",
    "# smallest possible angle\n",
    "assert theta_max > np.arcsin( 30 / 6000)  * 180 / pi  # 50 pounds push, 6000 pound car\n",
    "assert theta_max < np.arcsin( 600/ 3000) * 180 / pi # 600 pounds push, 3000 pound car\n",
    "print(\"smallest reasonable theta_max\", np.arcsin( 30 / 6000)  * 180 / pi)\n",
    "print(\"largest reasonable theta_max\", np.arcsin( 600 / 3000)  * 180 / pi)\n",
    "### END HIDDEN TESTS"
   ]
  },
  {
   "cell_type": "markdown",
   "metadata": {
    "nbgrader": {
     "grade": false,
     "grade_id": "cell-8e857a723ef7b1dd",
     "locked": true,
     "schema_version": 3,
     "solution": false
    }
   },
   "source": [
    "### Task 8: Use LaTeX to write these two equations from your solution (2 points).\n",
    "\n",
    "1. An equation for the push force (calculated in task 5) in terms of masses and angles.\n",
    "1. An equation for the angle (calculated in Task 7) in terms of mass and push force.\n",
    "\n",
    "**Inline equations** are used to put math in the middle of a sentence. The `$` marks the beginning and end of the equation. In the Markdown it appears as `$E=mc^2$` but will print as $E=mc^2$.\n",
    "\n",
    "**Centered equations** aappear on their own line and are marked by `$$`. The Markdown will be entered as   \n",
    "`$$E = mc^2$$`  \n",
    "but will appear as \n",
    "$$E = mc^2$$\n",
    "\n",
    "There are many LaTeX guides online, but here is link to one [LaTeX cheat sheet](https://users.dickinson.edu/~richesod/latex/latexcheatsheet.pdf). You can also ask Google stuff like \"how do I make fractions in latex\".\n"
   ]
  },
  {
   "cell_type": "markdown",
   "metadata": {
    "nbgrader": {
     "grade": true,
     "grade_id": "cell-abc8d759b255e9d9",
     "locked": false,
     "points": 1,
     "schema_version": 3,
     "solution": true
    }
   },
   "source": [
    "Write your two LaTeX equations in here. Don't forget the `$` or `$$` before and after!"
   ]
  },
  {
   "cell_type": "markdown",
   "metadata": {},
   "source": [
    "## Remember to have Dr. Zwickl check over your notebook before submitting. "
   ]
  }
 ],
 "metadata": {
  "celltoolbar": "Create Assignment",
  "kernelspec": {
   "display_name": "Python 3",
   "language": "python",
   "name": "python3"
  },
  "language_info": {
   "codemirror_mode": {
    "name": "ipython",
    "version": 3
   },
   "file_extension": ".py",
   "mimetype": "text/x-python",
   "name": "python",
   "nbconvert_exporter": "python",
   "pygments_lexer": "ipython3",
   "version": "3.6.9"
  }
 },
 "nbformat": 4,
 "nbformat_minor": 2
}
