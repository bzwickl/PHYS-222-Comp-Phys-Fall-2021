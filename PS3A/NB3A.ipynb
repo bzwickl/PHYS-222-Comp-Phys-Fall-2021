{
 "cells": [
  {
   "cell_type": "markdown",
   "metadata": {
    "nbgrader": {
     "grade": false,
     "grade_id": "cell-ff906701d3739c3e",
     "locked": true,
     "schema_version": 3,
     "solution": false
    }
   },
   "source": [
    "# Notebook 3A - Wed/Thurs\n",
    "## Calculations with vector math using components and numpy arrays\n",
    "## Total Points: 6\n",
    "#### PHYS 225 Intro to Computational Physics, Fall 2020"
   ]
  },
  {
   "cell_type": "code",
   "execution_count": 1,
   "metadata": {},
   "outputs": [],
   "source": [
    "import numpy as np"
   ]
  },
  {
   "cell_type": "markdown",
   "metadata": {
    "nbgrader": {
     "grade": false,
     "grade_id": "cell-b454f37370ef988f",
     "locked": true,
     "schema_version": 3,
     "solution": false
    }
   },
   "source": [
    "## Gravity\n",
    "\n",
    "The vector equation for the gravitational force acting on a mass $m_2$ at position $\\vec{r}_2$ due to another mass $m_1$ at a position $\\vec{r}_1$ is given by\n",
    "\n",
    "$$ \\vec{F}_\\textrm{1 on 2} = -G\\frac{m_1 m_2}{r^2}\\hat{r} $$\n",
    "where the \"relative position\" vector pointing between the two masses is given by\n",
    "\n",
    "$$\\vec{r} = \\vec{r}_2 - \\vec{r}_1$$ \n",
    "\n",
    "and the unit vector pointing in the direction toward $m_2$ from $m_1$ is $\\hat{r}$\n",
    "\n",
    "\n"
   ]
  },
  {
   "cell_type": "markdown",
   "metadata": {
    "nbgrader": {
     "grade": false,
     "grade_id": "cell-fae90cb19a9aa87e",
     "locked": true,
     "schema_version": 3,
     "solution": false
    }
   },
   "source": [
    "# Task 1: Neatly, on a piece of paper answer the following questions (1 pt)\n",
    "1. Draw a diagram showing $\\vec{r}_1$ and $\\vec{r}_2$ as well as the relative position vector $\\vec{r}$ and unit vector $\\hat{r}$, and the gravitational force $\\vec{F}_\\textrm{1 on 2}$.\n",
    "1. Express $r=|\\vec{r}|$ in terms of the position vectors $\\vec{r}_1$ and $\\vec{r}_2$.\n",
    "1. Express the unit vector $\\hat{r}$ in terms of the vectors $\\vec{r}_1$ and $\\vec{r}_2$.\n",
    "1. Express $\\vec{F}_\\textrm{1 on 2}$ in terms of the vectors $\\vec{r}_1$ and $\\vec{r}_2$.\n",
    "1. Express $r$ in terms of the position components $(x_1, y_1, z_1)$ and $(x_2, y_2, z_2)$.\n",
    "1. Express $\\hat{r}$ in terms of the position components $(x_1, y_1, z_1)$ and $(x_2, y_2, z_2)$.\n",
    "1. Express $\\vec{F}_\\textrm{1 on 2}$ in terms of the position components $(x_1, y_1, z_1)$ and $(x_2, y_2, z_2)$.\n",
    "\n",
    "**In the markdown cell below, include a photo of your work.** Note: there are two ways to include images\n",
    "* The quick way\n",
    "    * `![Text describing image](imagename.png)`\n",
    "* An alternative that allows you adjust the image width (in this example set to 400 pixels)\n",
    "    * `<img src=\"imagename.png\" alt=\"Text describing image\" width=\"400\"/>`\n",
    "\n",
    "**Ask Dr. Zwickl check over your answers!**"
   ]
  },
  {
   "cell_type": "markdown",
   "metadata": {
    "nbgrader": {
     "grade": true,
     "grade_id": "cell-5bf3f2675a1a82de",
     "locked": false,
     "points": 1,
     "schema_version": 3,
     "solution": true
    }
   },
   "source": []
  },
  {
   "cell_type": "markdown",
   "metadata": {
    "nbgrader": {
     "grade": false,
     "grade_id": "cell-b98a215a91a9227a",
     "locked": true,
     "schema_version": 3,
     "solution": false
    }
   },
   "source": [
    "## Using Numpy Arrays as Vectors\n",
    "In your physics classes you do a ***bunch*** of mathematical calculations with vectors. It will be really, really useful to be able to do some vector math in Python. Today we will learn how to:\n",
    "* add two vectors\n",
    "* take the difference between two vectors\n",
    "* dot/scalar product of two vectors\n",
    "* cross/vector product of two vectors\n",
    "* find the length of a vector (also called a norm of a vector)\n",
    "\n",
    "There are several ways to represent vectors in mathematical notation, such as \n",
    "* Unit vector notation: $\\vec{u} = u_x \\hat{i} + u_y \\hat{j} + u_z \\hat{k}$\n",
    "* Or as a $1\\times n$ matrix: $(u_x, u_y, u_z)$\n",
    "\n",
    "The latter notation looks very much like a list or a numpy array. We can use numpy arrays as vectors in most cases.\n",
    "\n"
   ]
  },
  {
   "cell_type": "markdown",
   "metadata": {
    "nbgrader": {
     "grade": false,
     "grade_id": "cell-ad98a90b1c9b9775",
     "locked": true,
     "schema_version": 3,
     "solution": false
    }
   },
   "source": [
    "# Task 2: Do the following vector calculations by hand (1 point)\n",
    "\n",
    "For Task 2, and for the examples below assume: \n",
    "$$\\vec{u} = 2 \\hat{i} + 5 \\hat{j} - 7 \\hat{k}$$\n",
    "$$\\vec{v} = 3 \\hat{i} + 3 \\hat{j} + 3 \\hat{k}$$\n",
    "\n",
    "In the Markdown cell below, *type in your answers* to the following. Don't worry about the LaTeX, just make it readable.\n",
    "1. $\\vec{u} + \\vec{v}$\n",
    "1. $\\vec{u} - \\vec{v}$\n",
    "1. $\\vec{u} \\cdot \\vec{v}$\n",
    "1. $\\vec{u} \\times \\vec{v}$\n",
    "1. $u = |\\vec{u}|$\n",
    "1. $v = |\\vec{v}|$\n"
   ]
  },
  {
   "cell_type": "markdown",
   "metadata": {
    "nbgrader": {
     "grade": true,
     "grade_id": "cell-6def1301d27a3466",
     "locked": false,
     "points": 1,
     "schema_version": 3,
     "solution": true
    }
   },
   "source": []
  },
  {
   "cell_type": "markdown",
   "metadata": {
    "nbgrader": {
     "grade": false,
     "grade_id": "cell-296a18c5404810dc",
     "locked": true,
     "schema_version": 3,
     "solution": false
    }
   },
   "source": [
    "### Example calculations for vector math\n",
    "Execute the cells below to see example of adding, subtracting, and other operations on two numpy vectors."
   ]
  },
  {
   "cell_type": "code",
   "execution_count": 2,
   "metadata": {},
   "outputs": [
    {
     "name": "stdout",
     "output_type": "stream",
     "text": [
      "[ 2  5 -7]\n",
      "[3 3 3]\n"
     ]
    }
   ],
   "source": [
    "# define the same two vectors as used in Task 2.\n",
    "u = np.array([2, 5, -7])  # create a numpy array using vector components\n",
    "v = np.array([3, 3, 3])   # create a numpy array using vector components\n",
    "print(u)\n",
    "print(v)"
   ]
  },
  {
   "cell_type": "code",
   "execution_count": 3,
   "metadata": {},
   "outputs": [
    {
     "name": "stdout",
     "output_type": "stream",
     "text": [
      "[ 5  8 -4]\n"
     ]
    }
   ],
   "source": [
    "# addition of two vectors\n",
    "w1 = u + v\n",
    "print(w1)"
   ]
  },
  {
   "cell_type": "code",
   "execution_count": 4,
   "metadata": {},
   "outputs": [
    {
     "name": "stdout",
     "output_type": "stream",
     "text": [
      "[ -1   2 -10]\n"
     ]
    }
   ],
   "source": [
    "# subtraction of two vectors\n",
    "w2 = u - v\n",
    "print(w2)"
   ]
  },
  {
   "cell_type": "code",
   "execution_count": 5,
   "metadata": {},
   "outputs": [
    {
     "name": "stdout",
     "output_type": "stream",
     "text": [
      "0\n"
     ]
    }
   ],
   "source": [
    "# dot product of two vectors\n",
    "w3 = np.dot(u,v)  # note the result is a scalar, not a vector\n",
    "print(w3) "
   ]
  },
  {
   "cell_type": "code",
   "execution_count": 6,
   "metadata": {},
   "outputs": [
    {
     "name": "stdout",
     "output_type": "stream",
     "text": [
      "[ 36 -27  -9]\n"
     ]
    }
   ],
   "source": [
    "# cross product of two vectors\n",
    "w4 = np.cross(u,v) # the result is a vector (actually a numpy array of length 3)\n",
    "print(w4)"
   ]
  },
  {
   "cell_type": "code",
   "execution_count": 7,
   "metadata": {},
   "outputs": [
    {
     "name": "stdout",
     "output_type": "stream",
     "text": [
      "8.831760866327848\n",
      "5.196152422706632\n",
      "8.831760866327848\n"
     ]
    }
   ],
   "source": [
    "# length of a vector using built-in norm function\n",
    "u_length = np.linalg.norm(u)\n",
    "print( u_length )\n",
    "\n",
    "v_length = np.linalg.norm(v)\n",
    "print( v_length )\n",
    "\n",
    "# length of a vector using the pythagorean theorem\n",
    "u_length = (u[0]**2 + u[1]**2 + u[2]**2)**0.5\n",
    "print( u_length )  # gives the same result!"
   ]
  },
  {
   "cell_type": "markdown",
   "metadata": {
    "nbgrader": {
     "grade": false,
     "grade_id": "cell-77105e58ea3f0012",
     "locked": true,
     "schema_version": 3,
     "solution": false
    }
   },
   "source": [
    "# Task 3: Computationally verify the cross-product is orthogonal to original two vectors (1 point)\n",
    "1. The cross product $\\vec{w}_4=\\vec{u} \\times \\vec{v}$ should be orthogonal/perpindicular to both $\\vec{u}$ and $\\vec{v}$. Use the numpy vector math operations to show this for the example vectors `u` and `v` above.\n",
    "1. Use numpy operations to carry out one or more calculations that demonstrate orthogonality in this special case.\n",
    "1. Comment your code!\n",
    "\n",
    "**Your answer should go in the code cell below**"
   ]
  },
  {
   "cell_type": "code",
   "execution_count": 8,
   "metadata": {
    "nbgrader": {
     "grade": true,
     "grade_id": "cell-5d06728247a86694",
     "locked": false,
     "points": 1,
     "schema_version": 3,
     "solution": true
    }
   },
   "outputs": [],
   "source": [
    "# Insert code to computationally verify the cross-product is orthogonal to original two vectors."
   ]
  },
  {
   "cell_type": "markdown",
   "metadata": {
    "nbgrader": {
     "grade": false,
     "grade_id": "cell-2f5de83219196360",
     "locked": true,
     "schema_version": 3,
     "solution": false
    }
   },
   "source": [
    "#  Task 4: Define a function that returns the angle (in degrees) between two vectors (1 point)\n",
    "\n",
    "**Function name:** `angle_span`\n",
    "\n",
    "**Input parameters:** \n",
    "* u - a numpy array with three elements \n",
    "* v - a numpy array with three elements\n",
    "\n",
    "**Returns output:** \n",
    "* theta - the angle **in degrees** between vectors u and v \n",
    "\n",
    "1. First write your function out using pencil and paper math.\n",
    "1. Hint: How does the dot product of two vectors relate to the angle between them?"
   ]
  },
  {
   "cell_type": "code",
   "execution_count": 9,
   "metadata": {
    "nbgrader": {
     "grade": false,
     "grade_id": "cell-7a1b80e90b2d8f70",
     "locked": false,
     "schema_version": 3,
     "solution": true
    }
   },
   "outputs": [
    {
     "name": "stdout",
     "output_type": "stream",
     "text": [
      "0.0\n",
      "125.26438968275465\n",
      "179.99999879258172\n",
      "1.2074182697257333e-06\n"
     ]
    }
   ],
   "source": [
    "\"\"\"\n",
    "Define a function angle_span(u, v) that takes in two arrays of length 3 and returns the angle between them in degrees.\n",
    "\"\"\"\n",
    "### BEGIN SOLUTION\n",
    "\n",
    "def angle_span(u,v) :\n",
    "    \"\"\" u and v are two numpy arrays of same length, treated as vectors\n",
    "    \"\"\"\n",
    "    costheta = np.dot(u,v)/( np.linalg.norm(u) * np.linalg.norm(v) )\n",
    "    theta = np.arccos(costheta)\n",
    "    theta = np.degrees(theta)\n",
    "    return theta\n",
    "\n",
    "print( angle_span(u,v)-90)\n",
    "u1 = np.array([1,0,0])\n",
    "u2 = np.array([-1,-1,-1])\n",
    "print( angle_span(u1, u2))\n",
    "u1 = np.array([2.4, -6.7, 3.67])\n",
    "print( angle_span(u1, -u1))\n",
    "print( angle_span(u1, 2*u1))\n",
    "    \n",
    "### END SOLUTION"
   ]
  },
  {
   "cell_type": "code",
   "execution_count": 10,
   "metadata": {
    "nbgrader": {
     "grade": true,
     "grade_id": "cell-1821c93e1a5b92ae",
     "locked": true,
     "points": 1,
     "schema_version": 3,
     "solution": false
    }
   },
   "outputs": [],
   "source": [
    "\"\"\" test cases for the angle_span() function\"\"\"\n",
    "\n",
    "u = np.array([2, 5, -7]); v = np.array([3, 3, 3])\n",
    "assert abs(angle_span(u, v) - 90)/90 < 1e-5 \n",
    "\n",
    "u = np.array([1,0,0]); v = np.array([-1,-1,-1])\n",
    "assert abs(angle_span(u, v) - 125.26438968)/125.26438968 < 1e-5\n",
    "\n",
    "u = np.array([2.4, -6.7, 3.67])\n",
    "assert abs(angle_span(u, -u) - 180)/180 < 1e-5 # anti-parallel vectors are 180 deg apart\n",
    "assert abs(angle_span(u, 5*u) - 0) < 1e-5  # parallel vectors are 0 deg apart\n",
    "\n",
    "# reset the definitions of u and v to match the example above\n",
    "u = np.array([2, 5, -7]); v = np.array([3, 3, 3])"
   ]
  },
  {
   "cell_type": "markdown",
   "metadata": {
    "nbgrader": {
     "grade": false,
     "grade_id": "cell-393e0950e7fcdfd9",
     "locked": true,
     "schema_version": 3,
     "solution": false
    }
   },
   "source": [
    "# Task 5: Define a function `F_grav_comp( )` that computes the gravitational force *with vector components* (1 pt)\n",
    "**Function name:** `F_grav_comp()`\n",
    "\n",
    "**Inputs (8 in total):** \n",
    "* `x1`, `y1`, `z1`, which represent the position $x_1$, $y_1$, $z_1$ of mass 1 in meters\n",
    "* `x2`, `y2`, `z2`, which represent the position $x_2$, $y_2$, $z_2$ of mass 2 in meters\n",
    "* `m1` and `m2` represent mass values $m_1$, $m_2$ in kg\n",
    "\n",
    "**Output:** \n",
    "* a list with three components `[Fx, Fy, Fz]` representing the force components $F_x$, $F_y$, $F_z$"
   ]
  },
  {
   "cell_type": "code",
   "execution_count": 22,
   "metadata": {
    "nbgrader": {
     "grade": false,
     "grade_id": "cell-d349563b294f0d9d",
     "locked": false,
     "schema_version": 3,
     "solution": true
    }
   },
   "outputs": [
    {
     "name": "stdout",
     "output_type": "stream",
     "text": [
      "[-4.672009999999999e-07, -0.0, -0.0]\n",
      "[-4.67201e-07, -0.0, -0.0]\n",
      "[-4.67201e-07, -0.0, -0.0]\n",
      "[-2.6973862311566217e-09, -2.6973862311566217e-09, -2.6973862311566217e-09]\n",
      "[-4.910262433890484e-10, 4.910262433890484e-11, -8.183770723150807e-11]\n"
     ]
    },
    {
     "data": {
      "text/plain": [
       "array([8.89119415e-14, 8.89119415e-14, 8.89119415e-14])"
      ]
     },
     "execution_count": 22,
     "metadata": {},
     "output_type": "execute_result"
    }
   ],
   "source": [
    "\"\"\"\n",
    "Define the function F_grav_comp() which can be used to compute the graviational force\n",
    "x1, y1, z1, position components in meters\n",
    "x2, y2, z2, position components in meters\n",
    "m1, m2, masses in kg\n",
    "\"\"\"\n",
    "from scipy.constants import G # import gravitational constant \n",
    "\n",
    "### BEGIN SOLUTION\n",
    "def F_grav_comp(x1, y1, z1, x2, y2, z2, m1, m2) :\n",
    "    r = ( (x2-x1)**2 + (y2-y1)**2 + (z2-z1)**2 )**0.5\n",
    "    F_mag = G*m1*m2/r**2\n",
    "    Fx = -F_mag * (x2-x1)/r\n",
    "    Fy = -F_mag * (y2-y1)/r\n",
    "    Fz = -F_mag * (z2-z1)/r\n",
    "    return [Fx,Fy,Fz]\n",
    "\n",
    "print(F_grav_comp(0,0,0,1,0,0, m1=70, m2=100))\n",
    "print(F_grav_comp(0,0,0,1,0,0, m1=100, m2=70)) \n",
    "print(F_grav_comp(1,5,-4,2,5,-4, m1=100, m2=70)) \n",
    "print(F_grav_comp(0,0,0, 10/(3)**0.5, 10/(3)**0.5, 10/(3)**0.5, m1=100, m2=70)) \n",
    "print(F_grav_comp(-3,7,4,27,4,9, m1=100, m2=70)) \n",
    "\n",
    "result = np.array( F_grav_comp(0,0,0, 10/(3)**0.5, 10/(3)**0.5, 10/(3)**0.5, m1=100, m2=70) )\n",
    "abs(result - np.array([-2.697297319215167e-09, -2.697297319215167e-09, -2.697297319215167e-09]))\n",
    "### END SOLUTION"
   ]
  },
  {
   "cell_type": "markdown",
   "metadata": {
    "nbgrader": {
     "grade": false,
     "grade_id": "cell-c5249f5a181cde50",
     "locked": true,
     "schema_version": 3,
     "solution": false,
     "task": false
    }
   },
   "source": [
    "Compute the gravitational force between two people separated by 1 meter. The force should be less than a micronewton.\n",
    "\n",
    "The test result should look like \n",
    "\n",
    "    [-4.67201e-07, -0.0, -0.0]"
   ]
  },
  {
   "cell_type": "code",
   "execution_count": 23,
   "metadata": {},
   "outputs": [
    {
     "data": {
      "text/plain": [
       "[-4.672009999999999e-07, -0.0, -0.0]"
      ]
     },
     "execution_count": 23,
     "metadata": {},
     "output_type": "execute_result"
    }
   ],
   "source": [
    "# force between two people separated by 1 m\n",
    "x1 = 0; y1 = 0; z1 = 0  # coordinates of person 1\n",
    "x2 = 1; y2 = 0; z2 = 0  # corrdinates of person 2\n",
    "m1 = 70 # mass in kg\n",
    "m2 = 100 # mass in kg\n",
    "\n",
    "F_grav_comp(x1,y1,z1,x2,y2,z2, m1, m2)  "
   ]
  },
  {
   "cell_type": "code",
   "execution_count": 30,
   "metadata": {
    "nbgrader": {
     "grade": true,
     "grade_id": "cell-01bd5bcdb27e0c0f",
     "locked": true,
     "points": 1,
     "schema_version": 3,
     "solution": false
    }
   },
   "outputs": [
    {
     "name": "stdout",
     "output_type": "stream",
     "text": [
      "[-4.672009999999999e-07, -0.0, -0.0]\n",
      "[-4.67201e-07, -0.0, -0.0]\n",
      "[-4.67201e-07, -0.0, -0.0]\n",
      "[-4.6720099999999995e-09, -0.0, -0.0]\n",
      "[-2.6973862311566217e-09, -2.6973862311566217e-09, -2.6973862311566217e-09]\n"
     ]
    }
   ],
   "source": [
    "\"\"\" Test cases for F_grav_comp, which takes 8 component inputs \"\"\"\n",
    "\n",
    "def vector_error(studentresult, instructorresult) :\n",
    "    studentvec = np.array(studentresult)\n",
    "    instructorvec = np.array(instructorresult)\n",
    "    error = np.linalg.norm(studentvec - instructorvec)/np.linalg.norm(instructorvec)\n",
    "    return error\n",
    "    \n",
    "\n",
    "# force between two people shoudl be less than a micronewton.\n",
    "studentresult = F_grav_comp(0,0,0,1,0,0, m1=70, m2=100)\n",
    "#print(result)\n",
    "\n",
    "assert type(studentresult) == list  # check the type of the returned result is as-specified\n",
    "\n",
    "# check if the force vector is very close to the test case calculation\n",
    "instructorresult = [-4.67201e-07, -0.0, -0.0]\n",
    "print(studentresult)\n",
    "assert vector_error(studentresult, instructorresult ) < 1e-4\n",
    "\n",
    "# revese m1 and m2 values\n",
    "studentresult = F_grav_comp(0,0,0,1,0,0, m1=100, m2=70)\n",
    "instructorresult = [-4.67201e-07, -0.0, -0.0]\n",
    "print(studentresult)\n",
    "assert vector_error(studentresult, instructorresult ) < 1e-4\n",
    "\n",
    "\n",
    "# shift positions of both masses by equal amounts\n",
    "studentresult = F_grav_comp(-3,-3,-3,-2,-3,-3, m1=100, m2=70)\n",
    "instructorresult = [-4.67201e-07, -0.0, -0.0]\n",
    "print(studentresult)\n",
    "assert vector_error(studentresult, instructorresult ) < 1e-4\n",
    "\n",
    "# move masses 10x farther apart\n",
    "studentresult = F_grav_comp(-30,-30,-30,-20,-30,-30, m1=100, m2=70)\n",
    "instructorresult = [-4.67201e-09, -0.0, -0.0]\n",
    "print(studentresult)\n",
    "assert vector_error(studentresult, instructorresult ) < 1e-4\n",
    "\n",
    "# move masses 10x apart, include x, y, z displacement\n",
    "studentresult = F_grav_comp(0,0,0, 10/(3)**0.5, 10/(3)**0.5, 10/(3)**0.5, m1=100, m2=70)\n",
    "instructorresult = [-2.6973862311566217e-09, -2.6973862311566217e-09, -2.6973862311566217e-09]\n",
    "print(studentresult)\n",
    "assert vector_error(studentresult, instructorresult ) < 1e-4\n",
    "\n",
    "del studentresult, instructorresult, vector_error"
   ]
  },
  {
   "cell_type": "markdown",
   "metadata": {
    "nbgrader": {
     "grade": false,
     "grade_id": "cell-f40cec87d3b6afb1",
     "locked": true,
     "schema_version": 3,
     "solution": false
    }
   },
   "source": [
    "# Task 6: Define a function `F_grav_vec()` that computes the gravitational force *with numpy arrays* as position vectors (1 pt)\n",
    "**Function name:** `F_grav_vec()`\n",
    "\n",
    "**Inputs (4 in total):** \n",
    "* `pos1`, will be a length 3 numpy array representing the position vector of $m_1$\n",
    "* `pos2`, will be a length 3 numpy array representing the position vector of $m_2$\n",
    "* `m1` and `m2` represent mass values $m_1$, $m_2$\n",
    "\n",
    "**Output:** \n",
    "`F_grav`, a length 3 `numpy array` representing the force vector $\\vec{F}_\\textrm{grav}$"
   ]
  },
  {
   "cell_type": "code",
   "execution_count": 32,
   "metadata": {
    "nbgrader": {
     "grade": false,
     "grade_id": "cell-f82f7ea0e425e1ed",
     "locked": false,
     "schema_version": 3,
     "solution": true
    }
   },
   "outputs": [
    {
     "name": "stdout",
     "output_type": "stream",
     "text": [
      "[-4.67201e-07 -0.00000e+00 -0.00000e+00]\n",
      "[-4.67201e-07 -0.00000e+00 -0.00000e+00]\n",
      "[-4.67201e-07 -0.00000e+00 -0.00000e+00]\n",
      "[-4.67201e-09 -0.00000e+00 -0.00000e+00]\n"
     ]
    },
    {
     "data": {
      "text/plain": [
       "array([-4.67201e-09, -0.00000e+00, -0.00000e+00])"
      ]
     },
     "execution_count": 32,
     "metadata": {},
     "output_type": "execute_result"
    }
   ],
   "source": [
    "\"\"\"\n",
    "Define the function F_grav_vec() which can be used to compute the graviational force\n",
    "pos1, numpy array of positions (x1,y1,z1) in meters\n",
    "pos2, numpy array of positions (x2,y2,z2) in meters\n",
    "m1, m2, masses in kg\n",
    "\"\"\"\n",
    "from scipy.constants import G # import gravitational constant \n",
    "\n",
    "### BEGIN SOLUTION\n",
    "def F_grav_vec(pos1, pos2, m1, m2) :\n",
    "    r = np.linalg.norm(pos2-pos1)\n",
    "    F_mag = G*m1*m2/r**2\n",
    "    r_unit = (pos2-pos1)/r\n",
    "    F_grav = -F_mag*r_unit\n",
    "    return F_grav\n",
    "\n",
    "pos1 = np.array([0,0,0]); pos2 = np.array([1,0,0])\n",
    "print(F_grav_vec(pos1,pos2, m1=70, m2=100))\n",
    "print(F_grav_vec(pos1,pos2, m1=100, m2=70)) \n",
    "print(F_grav_vec(pos1+4,pos2+4, m1=100, m2=70))\n",
    "print(F_grav_vec(10*(pos1+4),10*(pos2+4), m1=100, m2=70))  \n",
    "F_grav_vec(10*(pos1+4),10*(pos2+4), m1=100, m2=70)\n",
    "### END SOLUTION"
   ]
  },
  {
   "cell_type": "markdown",
   "metadata": {
    "nbgrader": {
     "grade": false,
     "grade_id": "cell-1d5c488d05596127",
     "locked": true,
     "schema_version": 3,
     "solution": false,
     "task": false
    }
   },
   "source": [
    "The test below should produce an output that looks like\n",
    "\n",
    "    array([-4.67201e-07, -0.000000e+00, -0.000000e+00])\n"
   ]
  },
  {
   "cell_type": "code",
   "execution_count": 33,
   "metadata": {},
   "outputs": [
    {
     "data": {
      "text/plain": [
       "array([-4.67201e-07, -0.00000e+00, -0.00000e+00])"
      ]
     },
     "execution_count": 33,
     "metadata": {},
     "output_type": "execute_result"
    }
   ],
   "source": [
    "# force between two people separated by 1 m\n",
    "pos1 = np.array([0,0,0]) # coordinates of person 1\n",
    "pos2 = np.array([1,0,0])  # corrdinates of person 2\n",
    "m1 = 70 # mass in kg\n",
    "m2 = 100 # mass in kg\n",
    "\n",
    "F_grav_vec(pos1,pos2, m1, m2)  "
   ]
  },
  {
   "cell_type": "code",
   "execution_count": 37,
   "metadata": {
    "nbgrader": {
     "grade": true,
     "grade_id": "cell-31c3b6118c0ff7fa",
     "locked": true,
     "points": 1,
     "schema_version": 3,
     "solution": false
    }
   },
   "outputs": [
    {
     "name": "stdout",
     "output_type": "stream",
     "text": [
      "[-4.67201e-07 -0.00000e+00 -0.00000e+00]\n"
     ]
    }
   ],
   "source": [
    "## \"\"\"Check the F_grav_vec against test cases (same situations as for F_grav1)\"\"\"\n",
    "\n",
    "def vector_error(studentvec, instructorvec) :\n",
    "    error = np.linalg.norm(studentvec - instructorvec)/np.linalg.norm(instructorvec)\n",
    "    return error\n",
    "    \n",
    "\n",
    "# force between two people shoudl be less than a micronewton.\n",
    "pos1 = np.array([0,0,0]); pos2 = np.array([1,0,0])\n",
    "studentresult = F_grav_vec(pos1,pos2, m1=70, m2=100)\n",
    "assert type(studentresult) == np.ndarray  # check datatype of students' result\n",
    "\n",
    "instructorresult = np.array( [-4.67201e-07, -0.0, -0.0] )\n",
    "print(studentresult)\n",
    "assert vector_error(studentresult, instructorresult ) < 1e-4\n",
    "\n",
    "# revese m1 and m2 values\n",
    "studentresult = F_grav_vec(pos1,pos2, m1=100, m2=70)\n",
    "instructorresult = [-4.67201e-07, -0.0, -0.0]\n",
    "assert vector_error(studentresult, instructorresult ) < 1e-4\n",
    "\n",
    "# shift positions of both masses by equal amounts\n",
    "studentresult = F_grav_vec(pos1+4,pos2+4, m1=100, m2=70)\n",
    "instructorresult = [-4.67201e-07, -0.0, -0.0]\n",
    "assert vector_error(studentresult, instructorresult ) < 1e-4\n",
    "\n",
    "# move masses 10x farther apart\n",
    "studentresult = np.array(F_grav_vec(10*(pos1+4),10*(pos2+4), m1=100, m2=70))\n",
    "instructorresult = [-4.67201e-09, -0.0, -0.0]\n",
    "assert vector_error(studentresult, instructorresult ) < 1e-4\n",
    "\n",
    "del vector_error, studentresult, instructorresult"
   ]
  },
  {
   "cell_type": "code",
   "execution_count": null,
   "metadata": {},
   "outputs": [],
   "source": []
  }
 ],
 "metadata": {
  "celltoolbar": "Create Assignment",
  "kernelspec": {
   "display_name": "Python 3",
   "language": "python",
   "name": "python3"
  },
  "language_info": {
   "codemirror_mode": {
    "name": "ipython",
    "version": 3
   },
   "file_extension": ".py",
   "mimetype": "text/x-python",
   "name": "python",
   "nbconvert_exporter": "python",
   "pygments_lexer": "ipython3",
   "version": "3.6.9"
  }
 },
 "nbformat": 4,
 "nbformat_minor": 2
}
