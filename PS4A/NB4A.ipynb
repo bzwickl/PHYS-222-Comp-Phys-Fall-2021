{
 "cells": [
  {
   "cell_type": "markdown",
   "metadata": {
    "nbgrader": {
     "grade": false,
     "grade_id": "cell-5b77d3cf9432cc33",
     "locked": true,
     "schema_version": 3,
     "solution": false
    }
   },
   "source": [
    "## Notebook 4A - Wed/Thurs\n",
    "### Loops and calculating orbits by Euler's method\n",
    "### Total points: 5\n",
    "#### PHYS 225 Intro to Computational Physics, Fall 2020"
   ]
  },
  {
   "cell_type": "code",
   "execution_count": 18,
   "metadata": {},
   "outputs": [],
   "source": [
    "import numpy as np\n",
    "import matplotlib.pyplot as plt"
   ]
  },
  {
   "cell_type": "markdown",
   "metadata": {
    "nbgrader": {
     "grade": false,
     "grade_id": "cell-558102f72931fc88",
     "locked": true,
     "schema_version": 3,
     "solution": false,
     "task": false
    }
   },
   "source": [
    "## Unpacking items from a list\n",
    "Python has a convenient way to separate out lists or tuples into individually-named variables. You will need to use unpacking in Task 3."
   ]
  },
  {
   "cell_type": "code",
   "execution_count": 8,
   "metadata": {},
   "outputs": [],
   "source": [
    "# define a list\n",
    "datelist = [\"Monday\", 8, 23, 2020]"
   ]
  },
  {
   "cell_type": "markdown",
   "metadata": {},
   "source": [
    "We can split `datelist` into four separate variables in one line by \"unpacking\" the list. The length of the list must match the number of variables."
   ]
  },
  {
   "cell_type": "code",
   "execution_count": 19,
   "metadata": {},
   "outputs": [
    {
     "name": "stdout",
     "output_type": "stream",
     "text": [
      "Monday <class 'str'>\n",
      "8 <class 'int'>\n",
      "23 <class 'int'>\n",
      "2020 <class 'int'>\n"
     ]
    }
   ],
   "source": [
    "# a successful unpack\n",
    "day_of_week, month, day, year = datelist  # list of length 4  unpacked into 4 variables\n",
    "\n",
    "# print the value and the data type for each unpacked value\n",
    "print(day_of_week, type(day_of_week))\n",
    "print(month, type(month))\n",
    "print(day, type(day))\n",
    "print(year, type(year))"
   ]
  },
  {
   "cell_type": "code",
   "execution_count": 20,
   "metadata": {},
   "outputs": [
    {
     "ename": "ValueError",
     "evalue": "too many values to unpack (expected 3)",
     "output_type": "error",
     "traceback": [
      "\u001b[0;31m---------------------------------------------------------------------------\u001b[0m",
      "\u001b[0;31mValueError\u001b[0m                                Traceback (most recent call last)",
      "\u001b[0;32m<ipython-input-20-130d49a33070>\u001b[0m in \u001b[0;36m<module>\u001b[0;34m\u001b[0m\n\u001b[1;32m      1\u001b[0m \u001b[0;31m# unpack fails because number of elements didn't match\u001b[0m\u001b[0;34m\u001b[0m\u001b[0;34m\u001b[0m\u001b[0;34m\u001b[0m\u001b[0m\n\u001b[0;32m----> 2\u001b[0;31m \u001b[0mday_of_week\u001b[0m\u001b[0;34m,\u001b[0m \u001b[0mmonth\u001b[0m\u001b[0;34m,\u001b[0m \u001b[0mday\u001b[0m \u001b[0;34m=\u001b[0m \u001b[0mdatelist\u001b[0m\u001b[0;34m\u001b[0m\u001b[0;34m\u001b[0m\u001b[0m\n\u001b[0m",
      "\u001b[0;31mValueError\u001b[0m: too many values to unpack (expected 3)"
     ]
    }
   ],
   "source": [
    "# unpack fails because number of elements didn't match\n",
    "day_of_week, month, day = datelist"
   ]
  },
  {
   "cell_type": "markdown",
   "metadata": {
    "nbgrader": {
     "grade": false,
     "grade_id": "cell-6af17e14369ee142",
     "locked": true,
     "schema_version": 3,
     "solution": false
    }
   },
   "source": [
    "# Tasks 1-4: Orbits!\n",
    "\n",
    "# Task 1: Copy your `F_grav_vec()` function and run the test case (1 point)\n",
    "\n",
    "Copy your working code from labs PS3B and PS4A.  Make sure to use the function that inputs vectors (i.e., numpy arrays) and returns vectors (i.e., numpy arrays)."
   ]
  },
  {
   "cell_type": "code",
   "execution_count": 21,
   "metadata": {
    "nbgrader": {
     "grade": false,
     "grade_id": "cell-b1983c0f5f546209",
     "locked": false,
     "schema_version": 3,
     "solution": true
    }
   },
   "outputs": [
    {
     "name": "stdout",
     "output_type": "stream",
     "text": [
      "[-4.67201e-07 -0.00000e+00 -0.00000e+00]\n",
      "[-4.67201e-07 -0.00000e+00 -0.00000e+00]\n",
      "[-4.67201e-07 -0.00000e+00 -0.00000e+00]\n",
      "[-4.67201e-09 -0.00000e+00 -0.00000e+00]\n"
     ]
    }
   ],
   "source": [
    "\"\"\"\n",
    "Define the function F_grav_vec() which can be used to compute the graviational force\n",
    "pos1, numpy array of positions (x1,y1,z1) in meters\n",
    "pos2, numpy array of positions (x2,y2,z2) in meters\n",
    "m1, m2, masses in kg\n",
    "\"\"\"\n",
    "from scipy.constants import G # import gravitational constant \n",
    "\n",
    "### BEGIN SOLUTION\n",
    "def F_grav_vec(pos1, pos2, m1, m2) :\n",
    "    r = np.linalg.norm(pos2-pos1)\n",
    "    F_mag = G*m1*m2/r**2\n",
    "    r_unit = (pos2-pos1)/r\n",
    "    F_grav = -F_mag*r_unit\n",
    "    return F_grav\n",
    "\n",
    "pos1 = np.array([0,0,0]); pos2 = np.array([1,0,0])\n",
    "print(F_grav_vec(pos1,pos2, m1=70, m2=100))\n",
    "print(F_grav_vec(pos1,pos2, m1=100, m2=70)) \n",
    "print(F_grav_vec(pos1+4,pos2+4, m1=100, m2=70))\n",
    "print(F_grav_vec(10*(pos1+4),10*(pos2+4), m1=100, m2=70))  \n",
    "### END SOLUTION"
   ]
  },
  {
   "cell_type": "code",
   "execution_count": 23,
   "metadata": {
    "nbgrader": {
     "grade": true,
     "grade_id": "cell-31ec3b7911534129",
     "locked": true,
     "points": 1,
     "schema_version": 3,
     "solution": false
    }
   },
   "outputs": [],
   "source": [
    "## \"\"\"Check the F_grav_vec against test cases (same situations as for F_grav1)\"\"\"\n",
    "\n",
    "def vector_error(studentvec, instructorvec) :\n",
    "    error = np.linalg.norm(studentvec - instructorvec)/np.linalg.norm(instructorvec)\n",
    "    return error\n",
    "    \n",
    "\n",
    "# force between two people should be less than a micronewton.\n",
    "pos1 = np.array([0,0,0]); pos2 = np.array([1,0,0])\n",
    "studentresult = F_grav_vec(pos1,pos2, m1=70, m2=100)\n",
    "assert type(studentresult) == np.ndarray  # check datatype of students' result\n",
    "\n",
    "instructorresult = np.array( [-4.67201e-07, -0.0, -0.0] )\n",
    "assert vector_error(studentresult, instructorresult ) < 1e-5\n",
    "\n",
    "# revese m1 and m2 values\n",
    "studentresult = F_grav_vec(pos1,pos2, m1=100, m2=70)\n",
    "instructorresult = [-4.67201e-07, -0.0, -0.0]\n",
    "assert vector_error(studentresult, instructorresult ) < 1e-5\n",
    "\n",
    "# shift positions of both masses by equal amounts\n",
    "studentresult = F_grav_vec(pos1+4,pos2+4, m1=100, m2=70)\n",
    "instructorresult = [-4.67201e-07, -0.0, -0.0]\n",
    "assert vector_error(studentresult, instructorresult ) < 1e-5\n",
    "\n",
    "# move masses 10x farther apart\n",
    "studentresult = np.array(F_grav_vec(10*(pos1+4),10*(pos2+4), m1=100, m2=70))\n",
    "instructorresult = [-4.67201e-09, -0.0, -0.0]\n",
    "assert vector_error(studentresult, instructorresult ) < 1e-5\n",
    "\n",
    "del vector_error, studentresult, instructorresult"
   ]
  },
  {
   "cell_type": "markdown",
   "metadata": {
    "nbgrader": {
     "grade": false,
     "grade_id": "cell-2580fae2d310eaac",
     "locked": true,
     "schema_version": 3,
     "solution": false
    }
   },
   "source": [
    "# Task 2: Create the `orbit1()` function to calculate orbits around Earth (1 point)\n",
    "\n",
    "Start by copying and pasting your code from `trajectory4()` in PS4A, which already uses Newton's Universal Gravitational force and `F_grav_vec()`. \n",
    "\n",
    "The ONLY change is **the coordinate system should be the center of earth (rather than surface of earth).**\n",
    "\n",
    "**Function name:** `orbit1()`\n",
    "\n",
    "**Inputs:** \n",
    "* `pos0`, a numpy array that represent the initial position coordinates $x_0$, $y_0$, $z_0$ of object in meters, relative to the center of the earth\n",
    "* `vel0`, a numpy array that represent the initial velocity of object in m/s\n",
    "* `m`, mass of object in kg\n",
    "* `dt`, time step $\\Delta t$\n",
    "* `tmax`, simulation runs from $t = 0$ to $t = t_{\\textrm{max}}$ \n",
    "\n",
    "**Outputs:**  \n",
    " a list `[t_array, pos_array]` where\n",
    " * `t_array` is a numpy array of time values\n",
    " * `pos_array` is a 2D numpy array with 3 columns (x,y,z) and N rows for each step in the simulation\n",
    " \n",
    "**Note:** The function `orbit1` should not produce any plots, but we will use the output to produce plots."
   ]
  },
  {
   "cell_type": "code",
   "execution_count": 33,
   "metadata": {
    "nbgrader": {
     "grade": false,
     "grade_id": "cell-6016e04bfcb35212",
     "locked": false,
     "schema_version": 3,
     "solution": true
    }
   },
   "outputs": [],
   "source": [
    "\"\"\"\n",
    "Define the orbit1() function. Replace the constant gravitational acceleration with Newton's Universal Gravitation\n",
    "The object should not bounce.\n",
    "\"\"\"\n",
    "\n",
    "R_earth = 6.371e6  # Radius of earth in meters\n",
    "m_earth = 5.972e24 # mass of earth in kg\n",
    "\n",
    "\n",
    "### BEGIN SOLUTION\n",
    "def orbit1(pos0, vel0, m, dt, tmax) :\n",
    "\n",
    "    pos_earth_center = np.array([0,0,0])\n",
    "       \n",
    "    pos = pos0 \n",
    "    vel = vel0\n",
    "    t = 0 # intitial time\n",
    "\n",
    "    t_list = []  # makes a empty list to record the times\n",
    "    pos_list = [] # makes an empty list to record hte position\n",
    "    \n",
    "    t_list.append(t)\n",
    "    pos_list.append(pos)\n",
    "                   \n",
    "    while t < tmax:  # run loop for positive heights (y-values), stop when hit ground\n",
    "        force = F_grav_vec(pos_earth_center, pos, m_earth, m)\n",
    "        acc = force/m\n",
    "        #print(acc)\n",
    "        pos = pos + vel*dt # update position\n",
    "        vel = vel + acc*dt # update velocity\n",
    "        t = t + dt  # increment the time\n",
    "        pos_list.append(pos)  # append a new position to end of position list\n",
    "        t_list.append(t)  # append a new time to end of time list\n",
    "    \n",
    "    pos_array = np.array(pos_list)  # converts a list of position arrays to a 2D numpy array\n",
    "    t_array = np.array(t_list) # converts a list of times to a 1D array of times\n",
    "    \n",
    "    return [t_array, pos_array]\n",
    "\n",
    "### END SOLUTION"
   ]
  },
  {
   "cell_type": "code",
   "execution_count": 34,
   "metadata": {
    "nbgrader": {
     "grade": true,
     "grade_id": "cell-4469e54471413e39",
     "locked": true,
     "points": 1,
     "schema_version": 3,
     "solution": false
    }
   },
   "outputs": [],
   "source": [
    "\"\"\"\n",
    "Check the orbit1() function against a test case of \n",
    "launch outward from earth's surface (45 N latitude, 0 E longitude)\n",
    "\"\"\"\n",
    "R_earth = 6.371e6  # Radius of earth in meters\n",
    "\n",
    "pos0 = R_earth * np.array([0.5**0.5,0.5**0.5,0]); vel0 = 100*np.array([0.5**0.5,0.5**0.5,0])\n",
    "tmax = 20.45; dt = 0.01; m = 5\n",
    "t_array, pos_array = orbit1(pos0, vel0, m, dt, tmax)\n",
    "assert (t_array[-1] - tmax) < dt*2 \n",
    "assert abs(np.dot(pos_array[0], np.array([0.5**0.5,0.5**0.5,0])) - np.dot(pos_array[-1], np.array([0.5**0.5,0.5**0.5,0]))) < 10 \n",
    "assert abs(np.dot(pos_array[1023], np.array([0.5**0.5,0.5**0.5,0])) - np.dot(pos_array[-1], np.array([0.5**0.5,0.5**0.5,0])) - 510.2) < 10 "
   ]
  },
  {
   "cell_type": "markdown",
   "metadata": {
    "nbgrader": {
     "grade": false,
     "grade_id": "cell-e06a703cc9805369",
     "locked": true,
     "schema_version": 3,
     "solution": false
    }
   },
   "source": [
    "# Task 3: Diagram and parameters for International Space Station (1 point) \n",
    "![Image of International Space Station from Wikipedia](640px-International_Space_Station_after_undocking_of_STS-132.jpg)\n",
    "The [International Space Station (ISS)](https://en.wikipedia.org/wiki/International_Space_Station) is in an approximately circular orbit 404 km above the surface of the earth. In order to simulate 3 orbits of the ISS using the `orbit1()` function, ***what values*** would you give the following quantities and ***why***? \n",
    "1. `pos0` the initial vector position\n",
    "1. `vel0` the initial velocity vector\n",
    "1. `m` the mass\n",
    "1. `dt` the time step\n",
    "1. `tmax` the max time to run the simulation  \n",
    "\n",
    "Your diagram should include the earth-centered coordinate system and vectors for `pos0` and `vel0`.\n",
    "\n",
    "[Wikipedia's article on the ISS](https://en.wikipedia.org/wiki/International_Space_Station) offers some helpful parameters. Show your answers to your instructor."
   ]
  },
  {
   "cell_type": "markdown",
   "metadata": {
    "nbgrader": {
     "grade": true,
     "grade_id": "cell-4d2bd50e708c556b",
     "locked": false,
     "points": 1,
     "schema_version": 3,
     "solution": true
    }
   },
   "source": []
  },
  {
   "cell_type": "markdown",
   "metadata": {},
   "source": [
    "## Creating plots with x- and y-axes on the same scale\n",
    "For plotting trajectories, it is nice to force the plot aspect ratio to be equal, so the x-scale and y-scale are the same. This keeps circular orbits looking circular. The default is plots that are wider than tall, which will distort a circular orbit to look elliptical.\n",
    "\n",
    "**Code with default axes, which will not force x and y on the same scale**\n",
    "\n",
    "    plt.plot(x_array, y_array) # make the plot of y vs x\n",
    "\n",
    "**Code forcing equal scale on x and y axes**\n",
    "\n",
    "    fig = plt.figure()  # creates a new figure\n",
    "    ax = plt.gca()      # gca() gets the current \"axes object\" which has lots of plot settings\n",
    "    ax.set_aspect('equal')  # set the aspect ratio for the axes to be equal\n",
    "    plt.plot(x_array, y_array)  # make the plot of y vs x"
   ]
  },
  {
   "cell_type": "markdown",
   "metadata": {
    "nbgrader": {
     "grade": false,
     "grade_id": "cell-32083deaaf4db2d7",
     "locked": true,
     "schema_version": 3,
     "solution": false,
     "task": false
    }
   },
   "source": [
    "# Task 4: Create a plot of a unit circle using equal axes. \n",
    "Create a plot of a circle using the polar equations for x and y:\n",
    "$$x(t) = \\cos t$$\n",
    "$$y(t) = \\sin t$$\n",
    "\n",
    "You must use the equal axes formatting, as shown in the example above. Make sure to name your figure `fig` and your axes `ax` as shown in the example. I will check these variables in the autograder test cases."
   ]
  },
  {
   "cell_type": "code",
   "execution_count": 36,
   "metadata": {
    "nbgrader": {
     "grade": false,
     "grade_id": "cell-0222660dd164fe95",
     "locked": false,
     "schema_version": 3,
     "solution": true,
     "task": false
    }
   },
   "outputs": [
    {
     "data": {
      "text/plain": [
       "Text(0, 0.5, 'y')"
      ]
     },
     "execution_count": 36,
     "metadata": {},
     "output_type": "execute_result"
    },
    {
     "data": {
      "image/png": "[encoded data removed]",
      "text/plain": [
       "<Figure size 432x288 with 1 Axes>"
      ]
     },
     "metadata": {
      "needs_background": "light"
     },
     "output_type": "display_data"
    }
   ],
   "source": [
    "\"\"\" Create a plot of a unit circle, using equal axes for the plot \"\"\"\n",
    "\n",
    "### BEGIN SOLUTION\n",
    "t = np.linspace(0, 2*np.pi, 100)\n",
    "x = np.cos(t)\n",
    "y = np.sin(t)\n",
    "\n",
    "fig = plt.figure()  # creates a new figure\n",
    "ax = plt.gca()      # gca() gets the current \"axes object\" which has lots of plot settings\n",
    "ax.set_aspect('equal')  # set the aspect ratio for the axes to be equal\n",
    "plt.plot(x, y)  # make the plot of y vs x\n",
    "plt.xlabel(\"x\")\n",
    "plt.ylabel(\"y\")\n",
    "### END SOLUTION"
   ]
  },
  {
   "cell_type": "code",
   "execution_count": 39,
   "metadata": {
    "nbgrader": {
     "grade": true,
     "grade_id": "cell-f1324c9f4ce598a2",
     "locked": true,
     "points": 1,
     "schema_version": 3,
     "solution": false,
     "task": false
    }
   },
   "outputs": [],
   "source": [
    "\"\"\" \n",
    "Check the unit circle plot \n",
    "MAKE SURE IT LOOKS LIKE A CIRCLE!\n",
    "\"\"\"\n",
    "\n",
    "assert ax.get_aspect() == 1.0 # check for equal axes\n",
    "xmin, xmax = ax.get_xlim()  \n",
    "assert xmin <= -1 and xmax >= 1  # check the x limits are reasonable\n",
    "ymin, ymax = ax.get_ylim()\n",
    "assert ymin <= -1 and ymax >= 1  # check the y limits are reasonable"
   ]
  },
  {
   "cell_type": "markdown",
   "metadata": {
    "nbgrader": {
     "grade": false,
     "grade_id": "cell-e2fe9aa92f4800b6",
     "locked": true,
     "schema_version": 3,
     "solution": false
    }
   },
   "source": [
    "# Task 5 : Using the values you justified above calculate approximately 3 ISS orbits around the Earth (1 point)\n",
    "\n",
    "Using the values you justified above calculate approximately 3 ISS orbits around the Earth. Save your calculations in variables labeled \n",
    "* `t_array_ISS` \n",
    "* `pos_array_ISS`\n",
    "\n",
    "You must use the equal axes formatting, as shown in the example above.\n"
   ]
  },
  {
   "cell_type": "code",
   "execution_count": 40,
   "metadata": {
    "nbgrader": {
     "grade": false,
     "grade_id": "cell-97e6b8dfe5dbab93",
     "locked": false,
     "schema_version": 3,
     "solution": true
    }
   },
   "outputs": [
    {
     "name": "stdout",
     "output_type": "stream",
     "text": [
      "3.820241545327008e-08\n",
      "0.001881776433524201\n",
      "0.001245380941202227\n"
     ]
    },
    {
     "data": {
      "image/png": "[encoded data removed]",
      "text/plain": [
       "<Figure size 432x288 with 1 Axes>"
      ]
     },
     "metadata": {
      "needs_background": "light"
     },
     "output_type": "display_data"
    }
   ],
   "source": [
    "\"\"\"\n",
    "Use the orbit1() function to Calculate the time and position arrays \n",
    "t_array_ISS and pos_array_ISS for 3 orbits of the space station.\n",
    "Use your parameters from the previous task and define each on a separate line of code.\n",
    "\"\"\"\n",
    "\n",
    "R_earth = 6.371e6  # Radius of earth in meters\n",
    "\n",
    "### BEGIN SOLUTION\n",
    "\n",
    "ISS_height = 404e3 # height of ISS orbit above the earth's surface in meters\n",
    "ISS_mass = 419725 # mass in kg \n",
    "ISS_speed = 7.67e3  # orbital speed in m/s\n",
    "pos0 = np.array([R_earth + ISS_height, 0, 0])  # starts on the x-axis\n",
    "vel0 = np.array([0,ISS_speed,0]) # starts moving in the +y direction\n",
    "tmax = 3.00 * 92.5 * 60  # 10 orbits, 92.5 min per orbit, 60 seconds per min\n",
    "#dt = 92.5 * 60 / 100000  # divide orbital time in seconds by number of steps per orbit\n",
    "dt = .1\n",
    "\n",
    "t_array_ISS, pos_array_ISS = orbit1(pos0, vel0, ISS_mass, dt, tmax)\n",
    "fig = plt.figure()\n",
    "ax = plt.gca()\n",
    "ax.set_aspect('equal')\n",
    "plt.plot(pos_array_ISS[::,0], pos_array_ISS[::,1], '-')\n",
    "plt.plot(pos_array_ISS[-1,0], pos_array_ISS[-1,1], 'o')\n",
    "plt.plot(pos_array_ISS[0,0], pos_array_ISS[0,1], 'x')\n",
    "plt.xlabel(\"x (m)\")\n",
    "plt.ylabel(\"y (m)\")\n",
    "\n",
    "print( abs( (t_array_ISS[-1] - t_array_ISS[0]) - 92.5*3*60) )  # 3 orbits +- 5 minutes\n",
    "print( abs( np.mean(np.linalg.norm(pos_array_ISS, axis=1)) - 6776271 )/ 6776271 ) # 5% consistency in orbital radius\n",
    "print( abs( np.mean(pos_array_ISS) )/6776271 )\n",
    "\n",
    "### END SOLUTION"
   ]
  },
  {
   "cell_type": "markdown",
   "metadata": {
    "nbgrader": {
     "grade": false,
     "grade_id": "cell-ed155d072ea3e128",
     "locked": true,
     "schema_version": 3,
     "solution": false
    }
   },
   "source": [
    "#### Check your orbital calculations against this plot and the test cases below\n",
    "You should produce a plot something similar to \n",
    "![ISS Orbit](ISS_orbit.png)\n",
    "The start and end positions of the orbit should be very close, because we calculated 3 full orbits. If you notice a gap between the start and end positions try decreasing the time step $dt$, which will increase the accuracy."
   ]
  },
  {
   "cell_type": "code",
   "execution_count": 41,
   "metadata": {
    "nbgrader": {
     "grade": true,
     "grade_id": "cell-ffbc6eca11d13bb6",
     "locked": true,
     "points": 1,
     "schema_version": 3,
     "solution": false
    }
   },
   "outputs": [],
   "source": [
    "\"\"\" check the values of the pos_array_ISS and t_array_ISS \"\"\"\n",
    "\n",
    "assert abs( (t_array_ISS[-1] - t_array_ISS[0]) - 92.5*3*60) < 300  # 3 orbits +- 5 minutes\n",
    "assert abs( np.mean(np.linalg.norm(pos_array_ISS, axis=1)) - 6776271 )/ 6776271 < 0.05 # 5% consistency in orbital radius\n",
    "assert abs( np.mean(pos_array_ISS) )/6776271 < 0.05  # center of orbit should be (0,0,0) allow for 5% error"
   ]
  },
  {
   "cell_type": "markdown",
   "metadata": {
    "nbgrader": {
     "grade": false,
     "grade_id": "cell-e5085402533ea03f",
     "locked": true,
     "schema_version": 3,
     "solution": false
    }
   },
   "source": [
    "# `for` loop examples\n",
    "\n",
    "\n",
    "1. `for` loops require some iterable object such as a list or a numpy array.  \n",
    "1. The `for` loop then cycles over each element in that list or numpy array.\n",
    "\n",
    "There are a few ways to create iterable objects:\n",
    "* `range(stop)` (an iterable object of integers that starts at 0 and goes to `stop-1`)\n",
    "* `range(start, stop)` (an iterable object of integers that starts at `start` and goes to `stop-1`)\n",
    "* use a numpy array created by `np.linspace(start, stop, n)`\n",
    "* use a numpy array created by `np.arange(start, stop, step)`  See [numpy.arange() documentation](https://docs.scipy.org/doc/numpy/reference/generated/numpy.arange.html)."
   ]
  },
  {
   "cell_type": "code",
   "execution_count": 42,
   "metadata": {},
   "outputs": [
    {
     "name": "stdout",
     "output_type": "stream",
     "text": [
      "0\n",
      "1\n",
      "2\n",
      "3\n",
      "4\n"
     ]
    }
   ],
   "source": [
    "# using range(stop) as the iteratble object\n",
    "for i in range(5) :\n",
    "    print(i)"
   ]
  },
  {
   "cell_type": "markdown",
   "metadata": {
    "nbgrader": {
     "grade": false,
     "grade_id": "cell-b8cdcec592653cf7",
     "locked": true,
     "schema_version": 3,
     "solution": false,
     "task": false
    }
   },
   "source": [
    "#### using np.arange(start, stop,step) to create an iteratable object"
   ]
  },
  {
   "cell_type": "code",
   "execution_count": 43,
   "metadata": {},
   "outputs": [
    {
     "name": "stdout",
     "output_type": "stream",
     "text": [
      "[0.  0.1 0.2 0.3 0.4 0.5 0.6 0.7 0.8 0.9]\n",
      "0.0\n",
      "0.1\n",
      "0.2\n",
      "0.30000000000000004\n",
      "0.4\n",
      "0.5\n",
      "0.6000000000000001\n",
      "0.7000000000000001\n",
      "0.8\n",
      "0.9\n"
     ]
    }
   ],
   "source": [
    "theta = np.arange(0, 1, 0.1)  # go from 0 to 1 (excluding 1) in steps of 0.1\n",
    "print(theta)\n",
    "\n",
    "for angle in theta :\n",
    "    print(angle)"
   ]
  },
  {
   "cell_type": "markdown",
   "metadata": {
    "nbgrader": {
     "grade": false,
     "grade_id": "cell-16ce6ff5dc2f7159",
     "locked": true,
     "schema_version": 3,
     "solution": false,
     "task": false
    }
   },
   "source": [
    "#### using np.linspace(start, stop, num) to create an iteratable object"
   ]
  },
  {
   "cell_type": "code",
   "execution_count": 44,
   "metadata": {},
   "outputs": [
    {
     "name": "stdout",
     "output_type": "stream",
     "text": [
      "[0.  0.1 0.2 0.3 0.4 0.5 0.6 0.7 0.8 0.9 1. ]\n",
      "0.0\n",
      "0.1\n",
      "0.2\n",
      "0.30000000000000004\n",
      "0.4\n",
      "0.5\n",
      "0.6000000000000001\n",
      "0.7000000000000001\n",
      "0.8\n",
      "0.9\n",
      "1.0\n"
     ]
    }
   ],
   "source": [
    "theta = np.linspace(0,1,11)  # go from 0 to 1 in 11 steps\n",
    "print(theta)\n",
    "\n",
    "for angle in theta :\n",
    "    print(angle)"
   ]
  },
  {
   "cell_type": "markdown",
   "metadata": {
    "nbgrader": {
     "grade": false,
     "grade_id": "cell-9bf8c2727136cefb",
     "locked": true,
     "schema_version": 3,
     "solution": false
    }
   },
   "source": [
    "# Task 6 : Modify your solution from Task 5 to see the effect of varying the initial speed of the ISS. (Ungraded, time permitting)\n",
    "Either increasing or decreasing the initial speed will modify the orbit from circular to elliptical. \n",
    "\n",
    "**Suggestions** Use a `for` loop to try out a range of initial speeds. I produced a graph similar to this, where the velocity is calculated as a multiple of $v_\\textrm{circ}$, the orbital speed in a circular orbit.\n",
    "![Elliptical orbits](elliptical_orbits.png)"
   ]
  },
  {
   "cell_type": "code",
   "execution_count": 32,
   "metadata": {
    "nbgrader": {
     "grade": true,
     "grade_id": "cell-def1da17ea5fbaa2",
     "locked": false,
     "points": 0,
     "schema_version": 3,
     "solution": true
    }
   },
   "outputs": [
    {
     "name": "stdout",
     "output_type": "stream",
     "text": [
      "[0.7 0.8 0.9 1.  1.1 1.2 1.3]\n"
     ]
    },
    {
     "data": {
      "image/png": "[encoded data removed]",
      "text/plain": [
       "<Figure size 576x576 with 1 Axes>"
      ]
     },
     "metadata": {
      "needs_background": "light"
     },
     "output_type": "display_data"
    }
   ],
   "source": [
    "\"\"\" A series of elliptical orbits produced by varying the initial speed of the ISS\n",
    "Minimum value was 0.7 of actual speed. Maximum value was 1.3 of actual speed.\"\"\"\n",
    "\n",
    "### BEGIN SOLUTION\n",
    "\n",
    "R_earth = 6.371e6  # Radius of earth in meters\n",
    "ISS_height = 404e3 # height of ISS orbit above the earth's surface in meters\n",
    "ISS_mass = 419725 # mass in kg \n",
    "ISS_speed = 7.67e3  # orbital speed in m/s\n",
    "pos0 = np.array([R_earth + ISS_height, 0, 0])  # starts on the x-axis\n",
    "vel0 = np.array([0,ISS_speed,0]) # starts moving in the +y direction\n",
    "tmax = 1 * 92.5 * 60  # 10 orbits, 92.5 min per orbit, 60 seconds per min\n",
    "dt = 92.5 * 60 / 5000  # 1000 steps per orbit\n",
    "\n",
    "\n",
    "velscale = np.arange(0.7, 1.31, 0.1)\n",
    "tscale = [0.6,0.8,0.9,1,1.4,2.4,6]\n",
    "\n",
    "print(velscale)\n",
    "\n",
    "fig = plt.figure(figsize=(8,8))\n",
    "ax = plt.gca()\n",
    "ax.set_aspect('equal')\n",
    "\n",
    "for i in range(0,len(velscale)) :\n",
    "    t_array, pos_array = orbit1(pos0, velscale[i] * vel0, m, dt, tmax*tscale[i])\n",
    "    plt.plot(pos_array[:,0], pos_array[:,1], label=\"$v_0/v_{circ} = $\" + \"{0:.1f}\".format(velscale[i]))\n",
    "plt.legend(loc='lower left')\n",
    "plt.xlabel(\"x (m)\")\n",
    "plt.ylabel(\"y (m)\")\n",
    "\n",
    "plt.savefig(\"elliptical_orbits.png\")\n",
    "\n",
    "### END SOLUTION"
   ]
  },
  {
   "cell_type": "code",
   "execution_count": null,
   "metadata": {},
   "outputs": [],
   "source": []
  },
  {
   "cell_type": "code",
   "execution_count": null,
   "metadata": {},
   "outputs": [],
   "source": []
  }
 ],
 "metadata": {
  "celltoolbar": "Create Assignment",
  "kernelspec": {
   "display_name": "Python 3",
   "language": "python",
   "name": "python3"
  },
  "language_info": {
   "codemirror_mode": {
    "name": "ipython",
    "version": 3
   },
   "file_extension": ".py",
   "mimetype": "text/x-python",
   "name": "python",
   "nbconvert_exporter": "python",
   "pygments_lexer": "ipython3",
   "version": "3.6.9"
  }
 },
 "nbformat": 4,
 "nbformat_minor": 2
}
