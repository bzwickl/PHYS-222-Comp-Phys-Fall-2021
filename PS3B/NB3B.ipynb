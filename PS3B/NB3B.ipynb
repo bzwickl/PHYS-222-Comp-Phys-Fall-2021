{
 "cells": [
  {
   "cell_type": "markdown",
   "metadata": {
    "nbgrader": {
     "grade": false,
     "grade_id": "cell-5b77d3cf9432cc33",
     "locked": true,
     "schema_version": 3,
     "solution": false
    }
   },
   "source": [
    "## Notebook 3B  - Mon/Tues\n",
    "### Using logical tests, conditional statements (if, elif, else), and loops. Iteratively solving Newton's equations of motion using Euler's method.\n",
    "### Total points: 6\n",
    "#### PHYS 225 Intro to Computational Physics, Fall 2020"
   ]
  },
  {
   "cell_type": "code",
   "execution_count": 1,
   "metadata": {},
   "outputs": [],
   "source": [
    "# import numpy and matplotlib so they can be used throughout notebook\n",
    "import numpy as np\n",
    "import matplotlib.pyplot as plt"
   ]
  },
  {
   "cell_type": "markdown",
   "metadata": {
    "nbgrader": {
     "grade": false,
     "grade_id": "cell-127c8ef1fb32fc4b",
     "locked": true,
     "schema_version": 3,
     "solution": false,
     "task": false
    }
   },
   "source": [
    "## Review of the `type`, `len` and `size` functions \n",
    "You can use the `type()` function to figure out whether `u` and `v` are `np.ndarray`."
   ]
  },
  {
   "cell_type": "code",
   "execution_count": 2,
   "metadata": {},
   "outputs": [
    {
     "name": "stdout",
     "output_type": "stream",
     "text": [
      "False\n",
      "True\n"
     ]
    }
   ],
   "source": [
    "# quick example of checking the type of an object\n",
    "a = [1,2,4]\n",
    "b = np.array(a)  # create a numpy array based on the values in the list a\n",
    "\n",
    "print( type(a) == str )  # print True if a is a string\n",
    "print( type(a) == list ) # print True if a is a list"
   ]
  },
  {
   "cell_type": "code",
   "execution_count": 3,
   "metadata": {},
   "outputs": [
    {
     "name": "stdout",
     "output_type": "stream",
     "text": [
      "[1 2 4]\n",
      "False\n",
      "True\n"
     ]
    }
   ],
   "source": [
    "# compare data type of b\n",
    "print(b)\n",
    "print( type(b) == list) # b is an array, not a list, so this is false\n",
    "print( type(b) == np.ndarray)"
   ]
  },
  {
   "cell_type": "markdown",
   "metadata": {
    "nbgrader": {
     "grade": false,
     "grade_id": "cell-ab234adc792d3e49",
     "locked": true,
     "schema_version": 3,
     "solution": false,
     "task": false
    }
   },
   "source": [
    "In Python there is a built-in `len` function which determines the length of a list. You can also take len() of a numpy ndarray but it only gives you the length of the first dimension, which matters if you've got a 2D array of values, such as a matrix."
   ]
  },
  {
   "cell_type": "code",
   "execution_count": 4,
   "metadata": {},
   "outputs": [
    {
     "name": "stdout",
     "output_type": "stream",
     "text": [
      "4\n"
     ]
    }
   ],
   "source": [
    "b = np.array([-3,2.0, 4.5,4.1])\n",
    "\n",
    "print( len(b) ) # len returns length of 1st dimension of array"
   ]
  },
  {
   "cell_type": "markdown",
   "metadata": {
    "nbgrader": {
     "grade": false,
     "grade_id": "cell-f6a65401eba492fe",
     "locked": true,
     "schema_version": 3,
     "solution": false,
     "task": false
    }
   },
   "source": [
    "Numpy also includes ways to get the number of elements in an array:  \n",
    "1. Use `np.size()` function\n",
    "1. use the size attribute. Every array has a \"size\" parameter which give the total number of elements in the array. If `b` is an array, then `b.size` give the same thing as `np.size(b)` \n",
    "\n",
    "If the array is 2D, it is product of row length and column length."
   ]
  },
  {
   "cell_type": "code",
   "execution_count": 5,
   "metadata": {},
   "outputs": [
    {
     "name": "stdout",
     "output_type": "stream",
     "text": [
      "4\n",
      "4\n"
     ]
    }
   ],
   "source": [
    "print( np.size(b) ) # call the size function on the array\n",
    "\n",
    "print( b.size)  # access the size attribute of the array"
   ]
  },
  {
   "cell_type": "markdown",
   "metadata": {
    "nbgrader": {
     "grade": false,
     "grade_id": "cell-97942296a086595d",
     "locked": true,
     "schema_version": 3,
     "solution": false,
     "task": false
    }
   },
   "source": [
    "Note that for a 1D array, both `len(b)` and `b.size` give the same result."
   ]
  },
  {
   "cell_type": "markdown",
   "metadata": {
    "nbgrader": {
     "grade": false,
     "grade_id": "cell-6800eb1c64c19d7b",
     "locked": true,
     "schema_version": 3,
     "solution": false
    }
   },
   "source": [
    "###  Task 1: Improve `angle_span` to check for incorrect data types as inputs (1 pt, autograded)\n",
    "**Start by copy and pasting your solution for the `angle_span(u,v)`** function which you created in the previous assignment, PS3A.\n",
    "\n",
    "**Function name:** `angle_span`\n",
    "\n",
    "**Input parameters:** \n",
    "* `u` - a numpy array with three elements \n",
    "* `v` - a numpy array with three elements\n",
    "\n",
    "**Returns:** (will vary depending if there is an error)\n",
    "* `theta` - the angle **in degrees** between vectors u and v, if no errors are detected\n",
    "* `\"u or v is not type numpy.ndarray\"` - error string if either `u` or `v` is not a numpy array\n",
    "* `\"u and v have different numbers of elements\"` - error string if the input arrays have different numbers of elements\n",
    "\n",
    "**You must match the output strings exactly!**\n",
    "\n",
    "This exercise gives you an opportunity to apply the comparison operations, logical operators (`and` or `or`) and conditional commands  (`if`, `elif`, and `else`) from the prelab. "
   ]
  },
  {
   "cell_type": "code",
   "execution_count": 6,
   "metadata": {
    "nbgrader": {
     "grade": false,
     "grade_id": "cell-0d893b463a2e1303",
     "locked": false,
     "schema_version": 3,
     "solution": true
    }
   },
   "outputs": [
    {
     "name": "stdout",
     "output_type": "stream",
     "text": [
      "u or v is not type numpy.ndarray\n"
     ]
    }
   ],
   "source": [
    "\"\"\"\n",
    "Define a function angle_span(u, v) that takes in two numpy arrays \n",
    "and calulates the angle between them. The function should check \n",
    "for incorrect inputs as described in Task 1. You must use the specified \n",
    "error strings.\n",
    "\"\"\"\n",
    "### BEGIN SOLUTION\n",
    "\n",
    "def angle_span(u,v) :\n",
    "    \"\"\" u and v are two numpy arrays of same length, treated as vectors\n",
    "    \"\"\"\n",
    "    if type(u) != np.ndarray or type(v) != np.ndarray :\n",
    "        return  \"u or v is not type numpy.ndarray\" \n",
    "    \n",
    "    elif u.size != v.size :\n",
    "        return \"u and v have different numbers of elements\"\n",
    "    \n",
    "    else :\n",
    "        costheta = np.dot(u,v)/( np.linalg.norm(u) * np.linalg.norm(v) )\n",
    "        theta = np.arccos(costheta)\n",
    "        theta = np.degrees(theta)\n",
    "        return theta\n",
    "\n",
    "u1 = np.array([1,0])\n",
    "u1 = [1,0,0]\n",
    "u2 = np.array([-1,-1,-1])\n",
    "print( angle_span(u1, u2))\n",
    "    \n",
    "### END SOLUTION"
   ]
  },
  {
   "cell_type": "code",
   "execution_count": 27,
   "metadata": {
    "nbgrader": {
     "grade": true,
     "grade_id": "cell-a2351fa4ad6450cf",
     "locked": true,
     "points": 1,
     "schema_version": 3,
     "solution": false
    }
   },
   "outputs": [
    {
     "ename": "AssertionError",
     "evalue": "",
     "output_type": "error",
     "traceback": [
      "\u001b[0;31m---------------------------------------------------------------------------\u001b[0m",
      "\u001b[0;31mAssertionError\u001b[0m                            Traceback (most recent call last)",
      "\u001b[0;32m<ipython-input-27-0c23870874d6>\u001b[0m in \u001b[0;36m<module>\u001b[0;34m\u001b[0m\n\u001b[1;32m      1\u001b[0m \u001b[0mu\u001b[0m \u001b[0;34m=\u001b[0m \u001b[0mnp\u001b[0m\u001b[0;34m.\u001b[0m\u001b[0marray\u001b[0m\u001b[0;34m(\u001b[0m\u001b[0;34m[\u001b[0m\u001b[0;36m2\u001b[0m\u001b[0;34m,\u001b[0m\u001b[0;36m5\u001b[0m\u001b[0;34m]\u001b[0m\u001b[0;34m)\u001b[0m\u001b[0;34m;\u001b[0m \u001b[0mv\u001b[0m \u001b[0;34m=\u001b[0m \u001b[0mnp\u001b[0m\u001b[0;34m.\u001b[0m\u001b[0marray\u001b[0m\u001b[0;34m(\u001b[0m\u001b[0;34m[\u001b[0m\u001b[0;36m3\u001b[0m\u001b[0;34m,\u001b[0m \u001b[0;36m3\u001b[0m\u001b[0;34m,\u001b[0m \u001b[0;36m3\u001b[0m\u001b[0;34m]\u001b[0m\u001b[0;34m)\u001b[0m \u001b[0;31m# check if lengths differ\u001b[0m\u001b[0;34m\u001b[0m\u001b[0;34m\u001b[0m\u001b[0m\n\u001b[0;32m----> 2\u001b[0;31m \u001b[0;32massert\u001b[0m \u001b[0mangle_span\u001b[0m\u001b[0;34m(\u001b[0m\u001b[0mu\u001b[0m\u001b[0;34m,\u001b[0m \u001b[0mv\u001b[0m\u001b[0;34m)\u001b[0m \u001b[0;34m==\u001b[0m \u001b[0;34m\"u and v have different numbers of elements\"\u001b[0m\u001b[0;34m\u001b[0m\u001b[0;34m\u001b[0m\u001b[0m\n\u001b[0m\u001b[1;32m      3\u001b[0m \u001b[0;34m\u001b[0m\u001b[0m\n\u001b[1;32m      4\u001b[0m \u001b[0mu\u001b[0m \u001b[0;34m=\u001b[0m \u001b[0;34m[\u001b[0m\u001b[0;36m2\u001b[0m\u001b[0;34m,\u001b[0m\u001b[0;36m5\u001b[0m\u001b[0;34m,\u001b[0m\u001b[0;34m-\u001b[0m\u001b[0;36m7\u001b[0m\u001b[0;34m]\u001b[0m\u001b[0;34m;\u001b[0m \u001b[0mv\u001b[0m \u001b[0;34m=\u001b[0m \u001b[0mnp\u001b[0m\u001b[0;34m.\u001b[0m\u001b[0marray\u001b[0m\u001b[0;34m(\u001b[0m\u001b[0;34m[\u001b[0m\u001b[0;36m3\u001b[0m\u001b[0;34m,\u001b[0m\u001b[0;36m3\u001b[0m\u001b[0;34m,\u001b[0m\u001b[0;36m3\u001b[0m\u001b[0;34m]\u001b[0m\u001b[0;34m)\u001b[0m \u001b[0;31m# check if types differ, but lengths are the same\u001b[0m\u001b[0;34m\u001b[0m\u001b[0;34m\u001b[0m\u001b[0m\n\u001b[1;32m      5\u001b[0m \u001b[0;32massert\u001b[0m \u001b[0mangle_span\u001b[0m\u001b[0;34m(\u001b[0m\u001b[0mu\u001b[0m\u001b[0;34m,\u001b[0m \u001b[0mv\u001b[0m\u001b[0;34m)\u001b[0m \u001b[0;34m==\u001b[0m \u001b[0;34m\"u or v is not type numpy.ndarray\"\u001b[0m\u001b[0;34m\u001b[0m\u001b[0;34m\u001b[0m\u001b[0m\n",
      "\u001b[0;31mAssertionError\u001b[0m: "
     ]
    }
   ],
   "source": [
    "u = np.array([2,5]); v = np.array([3, 3, 3]) # check if lengths differ\n",
    "assert angle_span(u, v) == \"u and v have different numbers of elements\"\n",
    "\n",
    "u = [2,5,-7]; v = np.array([3,3,3]) # check if types differ, but lengths are the same\n",
    "assert angle_span(u, v) == \"u or v is not type numpy.ndarray\"\n",
    "\n",
    "u = np.array([2,5,-7]); v = [3,3,3]  # check if types differ, but lengths are the same\n",
    "assert angle_span(u, v) == \"u or v is not type numpy.ndarray\"\n",
    "\n",
    "u = np.array([2, 5, -7]); v = np.array([3, 3, 3])  # check the numerical value\n",
    "assert abs(angle_span(u, v) - 90)/90 < 1e-5 "
   ]
  },
  {
   "cell_type": "markdown",
   "metadata": {
    "nbgrader": {
     "grade": false,
     "grade_id": "cell-6981e7f7ae805fe0",
     "locked": true,
     "schema_version": 3,
     "solution": false,
     "task": false
    }
   },
   "source": [
    "## Review of a few things\n",
    "* lists, and appending to lists\n",
    "* creating lists of arrays.\n",
    "* converting a list of arrays into a 2D array"
   ]
  },
  {
   "cell_type": "markdown",
   "metadata": {},
   "source": [
    "#### Appending to lists"
   ]
  },
  {
   "cell_type": "code",
   "execution_count": 8,
   "metadata": {},
   "outputs": [
    {
     "name": "stdout",
     "output_type": "stream",
     "text": [
      "[1, 2, 3]\n",
      "[1, 2, 3, 4]\n"
     ]
    }
   ],
   "source": [
    "# Appending to a list\n",
    "l = [1,2,3]\n",
    "print(l)\n",
    "\n",
    "l.append(4)  # this modifies the variable by appending\n",
    "print(l)"
   ]
  },
  {
   "cell_type": "markdown",
   "metadata": {
    "nbgrader": {
     "grade": false,
     "grade_id": "cell-d78798225bc9daeb",
     "locked": true,
     "schema_version": 3,
     "solution": false,
     "task": false
    }
   },
   "source": [
    "#### Creating a list of arrays by appending\n",
    "\n",
    "In this example we have a series of position arrays with (x,y,z) coordinates. These are appended into a single list that records the vector position as the time evolves."
   ]
  },
  {
   "cell_type": "code",
   "execution_count": 9,
   "metadata": {},
   "outputs": [
    {
     "name": "stdout",
     "output_type": "stream",
     "text": [
      "[array([1., 0., 2.])]\n",
      "[array([1., 0., 2.]), array([1.1, 0.1, 1.9])]\n",
      "[array([1., 0., 2.]), array([1.1, 0.1, 1.9]), array([1.2, 0.2, 1.8])]\n",
      "[array([1., 0., 2.]), array([1.1, 0.1, 1.9]), array([1.2, 0.2, 1.8]), array([1.3, 0.3, 1.8])]\n"
     ]
    }
   ],
   "source": [
    "# Define a set of position vectors (numpy arrays) \n",
    "pos0 = np.array([1.0, 0.0, 2.0])   # x,y,z coordinates at time t0\n",
    "pos1 = np.array([1.1, 0.1, 1.9])   # x,y,z coordinates at time t1\n",
    "pos2 = np.array([1.2, 0.2, 1.8])   # x,y,z coordinates at time t2\n",
    "pos3 = np.array([1.3, 0.3, 1.8])   # x,y,z coordinates at time t3\n",
    "\n",
    "pos_list = []  # create an empty list\n",
    "\n",
    "pos_list.append(pos0)   # add one more set of x,y,z coordinates to the list.\n",
    "print( pos_list ) \n",
    "\n",
    "pos_list.append(pos1)   # add one more set of x,y,z coordinates to the list.\n",
    "print( pos_list ) \n",
    "\n",
    "pos_list.append(pos2)  # add one more set of x,y,z coordinates to the list.\n",
    "print( pos_list )\n",
    "\n",
    "pos_list.append(pos3) # add one more set of x,y,z coordinates to the list.\n",
    "print( pos_list )"
   ]
  },
  {
   "cell_type": "markdown",
   "metadata": {
    "nbgrader": {
     "grade": false,
     "grade_id": "cell-8a773d86f9ded6fc",
     "locked": true,
     "schema_version": 3,
     "solution": false,
     "task": false
    }
   },
   "source": [
    "#### Convert a list of arrays into a 2D numpy array\n",
    "\n",
    "In the example below, we use the `array()` function to convert a list of numpy arrays into a 2D numpy array. \n",
    "\n",
    "Notice how each row represents a set of x, y, z coordinates at a particular time.  The 1st column is all the x-values. The 2nd column is all the y-values. The 3rd column is all the the z-values."
   ]
  },
  {
   "cell_type": "code",
   "execution_count": 10,
   "metadata": {},
   "outputs": [
    {
     "name": "stdout",
     "output_type": "stream",
     "text": [
      "[[1.  0.  2. ]\n",
      " [1.1 0.1 1.9]\n",
      " [1.2 0.2 1.8]\n",
      " [1.3 0.3 1.8]]\n"
     ]
    }
   ],
   "source": [
    " # convert from list of numpy arrays to a 2D array\n",
    "pos_array = np.array(pos_list) \n",
    "print(pos_array)"
   ]
  },
  {
   "cell_type": "code",
   "execution_count": 11,
   "metadata": {},
   "outputs": [],
   "source": [
    "# For plotting we need to select out just the x-values. There is a simple way to select a column or a row"
   ]
  },
  {
   "cell_type": "code",
   "execution_count": 12,
   "metadata": {},
   "outputs": [
    {
     "name": "stdout",
     "output_type": "stream",
     "text": [
      "[1.  1.1 1.2 1.3]\n",
      "[0.  0.1 0.2 0.3]\n",
      "[2.  1.9 1.8 1.8]\n"
     ]
    }
   ],
   "source": [
    "xarray = pos_array[:, 0]  # the : picks all rows, 0 picks the 1st column (which are all the x-values)\n",
    "yarray = pos_array[:, 1]  # y-values\n",
    "zarray = pos_array[:, 2]  # z-values\n",
    "\n",
    "print(xarray)\n",
    "print(yarray)\n",
    "print(zarray)"
   ]
  },
  {
   "cell_type": "code",
   "execution_count": 13,
   "metadata": {},
   "outputs": [
    {
     "data": {
      "text/plain": [
       "Text(0, 0.5, 'y')"
      ]
     },
     "execution_count": 13,
     "metadata": {},
     "output_type": "execute_result"
    },
    {
     "data": {
      "image/png": "[encoded data removed]",
      "text/plain": [
       "<Figure size 432x288 with 1 Axes>"
      ]
     },
     "metadata": {
      "needs_background": "light"
     },
     "output_type": "display_data"
    }
   ],
   "source": [
    "# example of how we could plot a trajectory in x-y plane using the 2D array pos_array\n",
    "plt.plot(xarray, yarray, 'o');\n",
    "plt.xlabel(\"x\")\n",
    "plt.ylabel(\"y\")"
   ]
  },
  {
   "cell_type": "markdown",
   "metadata": {
    "nbgrader": {
     "grade": false,
     "grade_id": "cell-9c9dd5111c8cd78d",
     "locked": true,
     "schema_version": 3,
     "solution": false
    }
   },
   "source": [
    "## Example: Iteratively modeling the motion of a projectile\n",
    "\n",
    "* Run the code below.\n",
    "* Try adjusting the parameters like the initial conditions or `dt`\n",
    "* Make sure each line of the code makes sense before moving on."
   ]
  },
  {
   "cell_type": "code",
   "execution_count": 14,
   "metadata": {},
   "outputs": [
    {
     "data": {
      "text/plain": [
       "<matplotlib.legend.Legend at 0x7f0d9f20b6d8>"
      ]
     },
     "execution_count": 14,
     "metadata": {},
     "output_type": "execute_result"
    },
    {
     "data": {
      "image/png": "[encoded data removed]",
      "text/plain": [
       "<Figure size 432x288 with 1 Axes>"
      ]
     },
     "metadata": {
      "needs_background": "light"
     },
     "output_type": "display_data"
    }
   ],
   "source": [
    "\"\"\" Calculate the trajectory under gravity\"\"\"\n",
    "\n",
    "### SET INITIAL CONDITIONS and PARAMETERS\n",
    "m = 1 # mass in kg\n",
    "g = 9.8 # acceleration of gravity in m/s^2\n",
    "\n",
    "t = 0 # intitial time\n",
    "pos = np.array([0,1,0]) # define initial [x,y,z] position\n",
    "vel = np.array([2,2,0]) # define initial velocity\n",
    "\n",
    "force = m*np.array([0,-g,0]) # constant gravitational force in -y direction\n",
    "\n",
    "dt = 0.1 # time step \n",
    "\n",
    "### CREATE EMPTY ARRAYS TO STORE TRAJECTORY\n",
    "t_list = []  # makes a empty list to record the times\n",
    "pos_list = [] # makes an empty list to record hte position\n",
    "\n",
    "pos_list.append(pos)  # append the initial position to empty list\n",
    "t_list.append(t)  # append the initial position to empty list\n",
    "\n",
    "### ITERATIVELY CALCULATE TRAJECTORY USING EULER METHOD\n",
    "while t < 1:  # loop until the time is equal or greater than one.\n",
    "    acc = force/m\n",
    "    pos = pos + vel*dt # update position\n",
    "    vel = vel + acc*dt # update velocity\n",
    "    t = t + dt  # increment the time\n",
    "    \n",
    "    pos_list.append(pos)  # append updated position to end of position list\n",
    "    t_list.append(t)  # append updated time to end of time list\n",
    "    \n",
    "    \n",
    "pos_array = np.array(pos_list)  # converts a list of position arrays to a 2D numpy array\n",
    "t_array = np.array(t_list) # converts a list of times to a 1D array of times\n",
    "\n",
    "### CREATE PLOTS USING CALCULATED TRAJECTORY\n",
    "# plot all rows, 0th column to get x values\n",
    "plt.plot(t_array, pos_array[:,0], 'o-', label=\"x position\")  \n",
    "\n",
    "# plot all rows, 1st column to get y values\n",
    "plt.plot(t_array, pos_array[:,1], 'o-', label=\"y position\")  \n",
    "\n",
    "# plot all rows, 2nd column to get z values\n",
    "plt.plot(t_array, pos_array[:,2], 'o-', label=\"z position\")  \n",
    "\n",
    "# Add the labels\n",
    "plt.xlabel(\"Time (s)\")\n",
    "plt.ylabel(\"Displacement\")\n",
    "plt.legend()\n",
    "\n"
   ]
  },
  {
   "cell_type": "markdown",
   "metadata": {
    "nbgrader": {
     "grade": false,
     "grade_id": "cell-74199070c344d7ab",
     "locked": true,
     "schema_version": 3,
     "solution": false
    }
   },
   "source": [
    "# Task 2: Define a function `trajectory1( )` that computes the trajectory of an object (1 pt, auto)\n",
    "Start by **copying and pasting the example code immediately above**, but adapt it so it works inside a function, `trajectory1`.\n",
    "\n",
    "**Function name:** `trajectory1()`\n",
    "\n",
    "**Input parameters:** \n",
    "* `pos0`, a numpy array that represent the initial position coordinates $x_0$, $y_0$, $z_0$ of object in meters\n",
    "* `vel0`, a numpy array that represent the initial velocity of object in meters/s\n",
    "* `m`, mass of object in kg\n",
    "* `dt`, time step $\\Delta t$ in seconds\n",
    "* `tmax`, trajectory runs from $t = 0$ to $t_\\textrm{max}$.\n",
    "\n",
    "**Returns:**  \n",
    " a list `[t_array, pos_array]` where\n",
    " * `t_array` is a numpy array of time values\n",
    " * `pos_array` is a 2D numpy array with 3 columns (x,y,z) and N rows for each step in the simulation\n",
    "\n"
   ]
  },
  {
   "cell_type": "code",
   "execution_count": 15,
   "metadata": {
    "nbgrader": {
     "grade": false,
     "grade_id": "cell-d470dd4d1af8d176",
     "locked": false,
     "schema_version": 3,
     "solution": true
    }
   },
   "outputs": [],
   "source": [
    "\"\"\"\n",
    "Define the trajectory1() function. \n",
    "An object (projectile) moves in a constant gravitational force field.\n",
    "\"\"\"\n",
    "\n",
    "### BEGIN SOLUTION\n",
    "def trajectory1(pos0, vel0, m, dt, tmax) :\n",
    "\n",
    "    g = 9.8 # acceleration due to gravity in m/s^2\n",
    "    pos = pos0\n",
    "    vel = vel0\n",
    "    t = 0 # intitial time\n",
    "    \n",
    "    force = m*np.array([0,-g,0]) # constant gravitational force\n",
    "\n",
    "    t_list = []  # makes a empty list to record the times\n",
    "    pos_list = [] # makes an empty list to record hte position\n",
    "\n",
    "    pos_list.append(pos)  # append the initial position to empty list\n",
    "    t_list.append(t)  # append the initial position to empty list\n",
    "\n",
    "    while t < tmax:  # loop until the time is equal or greater than one.\n",
    "        acc = force/m\n",
    "        pos = pos + vel*dt # update position\n",
    "        vel = vel + acc*dt # update velocity\n",
    "        t = t + dt  # increment the time\n",
    "        pos_list.append(pos)  # append a new position to end of position list\n",
    "        t_list.append(t)  # append a new time to end of time list\n",
    "    \n",
    "    pos_array = np.array(pos_list)  # converts a list of position arrays to a 2D numpy array\n",
    "    t_array = np.array(t_list) # converts a list of times to a 1D array of times\n",
    "    \n",
    "    return [t_array, pos_array]\n",
    "\n",
    "### END SOLUTION"
   ]
  },
  {
   "cell_type": "markdown",
   "metadata": {
    "nbgrader": {
     "grade": false,
     "grade_id": "cell-8950c77a70d703d2",
     "locked": true,
     "schema_version": 3,
     "solution": false
    }
   },
   "source": [
    "#### Test cases for `Trajectory1()` function\n",
    "Running the test case below should return a plot that looks like ![Trajectory in test for Task 2](trajectory1.png)\n",
    "You should also pass all the tests."
   ]
  },
  {
   "cell_type": "code",
   "execution_count": 16,
   "metadata": {
    "nbgrader": {
     "grade": true,
     "grade_id": "cell-91b49598052a5201",
     "locked": true,
     "points": 1,
     "schema_version": 3,
     "solution": false
    }
   },
   "outputs": [
    {
     "data": {
      "image/png": "[encoded data removed]",
      "text/plain": [
       "<Figure size 432x288 with 1 Axes>"
      ]
     },
     "metadata": {
      "needs_background": "light"
     },
     "output_type": "display_data"
    }
   ],
   "source": [
    "\"\"\"Check the trajectory1() function \"\"\"\n",
    "\n",
    "# Test plot for trajectory1()\n",
    "pos0 = np.array([0,0,0]);  vel0 = np.array([2,2,-2]); m = 1; dt = 0.1; tmax = 1\n",
    "t_array, pos_array = trajectory1(pos0, vel0 , m, dt, tmax) \n",
    "plt.plot(t_array, pos_array[:,0], 'bo-', label=\"x position\")  # plot x vs t\n",
    "plt.plot(t_array, pos_array[:,1], 'go-', label=\"y position\")  # plot y vs t\n",
    "plt.plot(t_array, pos_array[:,2], 'mo-', label=\"z position\")  # plot z vs t\n",
    "plt.legend()\n",
    "plt.xlabel(\"Time (s)\")\n",
    "plt.ylabel(\"Position (m)\")\n",
    "\n",
    "#check particular numerical values in the solution\n",
    "assert type(t_array) == np.ndarray # check the data type\n",
    "assert type(pos_array) == np.ndarray  # check the data type\n",
    "assert len(t_array) == 12  # check the length of the time array\n",
    "assert pos_array.shape == (12,3)  #check for 3 columns, 11 rows\n",
    "assert abs(t_array[0] - 0) < 1e-5 # check initial condition\n",
    "assert abs(t_array[6] - 0.6)/(0.6) < 1e-5 # check midpoint\n",
    "assert abs(pos_array[8,0] - 1.6)/(1.6) < 1e-5  # check an x value\n",
    "assert abs(pos_array[5,1] - 0.02)/(0.02) <1e-5  # check a y value\n",
    "assert abs(pos_array.sum() - (-8.36))/abs(-8.36) < 1e-5 # check a z value"
   ]
  },
  {
   "cell_type": "markdown",
   "metadata": {
    "nbgrader": {
     "grade": false,
     "grade_id": "cell-375dbc808113b67d",
     "locked": true,
     "schema_version": 3,
     "solution": false
    }
   },
   "source": [
    "## Task 3: Define function `trajectory2()` that stops the `while` loop when object hits the ground (1 pt, auto)\n",
    "Copy and paste your code for `trajectory1()` and then modify it so the loop stops when the ball hits the ground, which we will assume is the plane $y = 0$.\n",
    "\n",
    "**Function name:** `trajectory2()`\n",
    "\n",
    "**Input parameters:** \n",
    "* `pos0`, a numpy array that represent the initial position coordinates $x_0$, $y_0$, $z_0$ of object in meters\n",
    "* `vel0`, a numpy array that represent the initial velocity of object in meters/s\n",
    "* `m`, mass of object in kg\n",
    "* `dt`, time step $\\Delta t$\n",
    "\n",
    "\n",
    "**Returns:**  \n",
    " a list `[t_array, pos_array]` where\n",
    " * `t_array` is a numpy array of time values\n",
    " * `pos_array` is a 2D numpy array with 3 columns (x,y,z) and N rows for each step in the simulation\n",
    " \n",
    "### RULE YOU MUST FOLLOW: You only need to change 2 lines of code from `trajectory1()`!"
   ]
  },
  {
   "cell_type": "code",
   "execution_count": 17,
   "metadata": {
    "nbgrader": {
     "grade": false,
     "grade_id": "cell-48f3a26f273ecd98",
     "locked": false,
     "schema_version": 3,
     "solution": true
    }
   },
   "outputs": [],
   "source": [
    "\"\"\"\n",
    "Define the trajectory2() function. The trajectory should stop when the ball hits the ground.\n",
    "\"\"\"\n",
    "\n",
    "### BEGIN SOLUTION\n",
    "def trajectory2(pos0, vel0, m, dt) :\n",
    "\n",
    "    g = 9.8 # acceleration due to gravity in m/s^2\n",
    "    pos = pos0\n",
    "    vel = vel0\n",
    "    t = 0 # intitial time\n",
    "    \n",
    "    force = m*np.array([0,-g,0]) # constant gravitational force\n",
    "\n",
    "    t_list = []  # makes a empty list to record the times\n",
    "    pos_list = [] # makes an empty list to record hte position\n",
    "    \n",
    "    pos_list.append(pos)  # append the initial position to empty list\n",
    "    t_list.append(t)  # append the initial position to empty list\n",
    "\n",
    "    while pos[1] >= 0:  # run loop for positive heights (y-values), stop when hit ground\n",
    "        acc = force/m\n",
    "        pos = pos + vel*dt # update position\n",
    "        vel = vel + acc*dt # update velocity\n",
    "        t = t + dt  # increment the time\n",
    "        pos_list.append(pos)  # append a new position to end of position list\n",
    "        t_list.append(t)  # append a new time to end of time list\n",
    "    \n",
    "    pos_array = np.array(pos_list)  # converts a list of position arrays to a 2D numpy array\n",
    "    t_array = np.array(t_list) # converts a list of times to a 1D array of times\n",
    "    \n",
    "    return [t_array, pos_array]\n",
    "\n",
    "### END SOLUTION"
   ]
  },
  {
   "cell_type": "markdown",
   "metadata": {
    "nbgrader": {
     "grade": false,
     "grade_id": "cell-a1ce2edafc5e6366",
     "locked": true,
     "schema_version": 3,
     "solution": false
    }
   },
   "source": [
    "#### Test cases for `Trajectory2()` function\n",
    "Running the test case below should return a plot that shows the object starting at $y_0=2 \\textrm{ m}$ high. The trajectory stops near $y=0$ at a position $x\\approx6.8 \\textrm{ m}$.\n",
    "![Trajectory in test for Task 2](trajectory2.png)\n",
    "You should also pass all the tests."
   ]
  },
  {
   "cell_type": "code",
   "execution_count": 18,
   "metadata": {
    "nbgrader": {
     "grade": true,
     "grade_id": "cell-ace4ecb0441c862b",
     "locked": true,
     "points": 1,
     "schema_version": 3,
     "solution": false
    }
   },
   "outputs": [
    {
     "data": {
      "image/png": "[encoded data removed]",
      "text/plain": [
       "<Figure size 432x288 with 1 Axes>"
      ]
     },
     "metadata": {
      "needs_background": "light"
     },
     "output_type": "display_data"
    }
   ],
   "source": [
    "###### \"\"\"Check the trajectory2() function \"\"\"\n",
    "\n",
    "# Test plot for trajectory2()\n",
    "pos0 = np.array([0,2,0]);  vel0 = np.array([5,5,0]); m = 1; dt = 0.02\n",
    "t_array, pos_array = trajectory2(pos0, vel0 , m, dt) \n",
    "plt.plot(pos_array[:,0], pos_array[:,1], 'bo-')  # plot x vs t\n",
    "plt.title(\"Trajectory in the x-y plane\")\n",
    "plt.xlabel(\"x position (m)\")\n",
    "plt.ylabel(\"y position (m)\")\n",
    "\n",
    "#check particular numerical values in the solution\n",
    "assert abs(len(t_array) - 68) < 2 # check the length of t_array\n",
    "assert (np.max(pos_array[:,1]) - 3.326)/3.326 < 0.02  # check the highest point\n",
    "assert (pos_array[-1,0] - 6.8)/6.8 < 0.02  # check the highest pointy\n",
    "\n",
    "pos0 = np.array([0,-2,0]);  vel0 = np.array([5,5,0]); m = 1; dt = 0.02\n",
    "t_array, pos_array = trajectory2(pos0, vel0 , m, dt) \n",
    "assert len(t_array) == 1"
   ]
  },
  {
   "cell_type": "markdown",
   "metadata": {
    "nbgrader": {
     "grade": false,
     "grade_id": "cell-c33852a89b816fc9",
     "locked": true,
     "schema_version": 3,
     "solution": false,
     "task": false
    }
   },
   "source": [
    "# Tasks 4-6  - Calculating trajectories using Newton's Universal Gravitational Force"
   ]
  },
  {
   "cell_type": "markdown",
   "metadata": {
    "nbgrader": {
     "grade": false,
     "grade_id": "cell-d1ea3882163274bb",
     "locked": true,
     "schema_version": 3,
     "solution": false,
     "task": false
    }
   },
   "source": [
    "# Task 4: Define the gravitational force function `F_grav_vec()` (1 pt, auto)\n",
    "   \n",
    "This task requires you to copy and paste your code from the previous lab, PS3A.  Make sure to use the one that inputs vectors and returns vectors."
   ]
  },
  {
   "cell_type": "code",
   "execution_count": 19,
   "metadata": {
    "nbgrader": {
     "grade": false,
     "grade_id": "cell-94f5482e6d2b31b6",
     "locked": false,
     "schema_version": 3,
     "solution": true
    }
   },
   "outputs": [
    {
     "name": "stdout",
     "output_type": "stream",
     "text": [
      "[-4.67201e-07 -0.00000e+00 -0.00000e+00]\n",
      "[-4.67201e-07 -0.00000e+00 -0.00000e+00]\n",
      "[-4.67201e-07 -0.00000e+00 -0.00000e+00]\n",
      "[-4.67201e-09 -0.00000e+00 -0.00000e+00]\n"
     ]
    }
   ],
   "source": [
    "\"\"\"\n",
    "Define the function F_grav_vec() which can be used to compute the graviational force\n",
    "pos1, numpy array of positions (x1,y1,z1) in meters\n",
    "pos2, numpy array of positions (x2,y2,z2) in meters\n",
    "m1, m2, masses in kg\n",
    "\"\"\"\n",
    "from scipy.constants import G # import gravitational constant \n",
    "\n",
    "### BEGIN SOLUTION\n",
    "def F_grav_vec(pos1, pos2, m1, m2) :\n",
    "    r = np.linalg.norm(pos2-pos1)\n",
    "    F_mag = G*m1*m2/r**2\n",
    "    r_unit = (pos2-pos1)/r\n",
    "    F_grav = -F_mag*r_unit\n",
    "    return F_grav\n",
    "\n",
    "pos1 = np.array([0,0,0]); pos2 = np.array([1,0,0])\n",
    "print(F_grav_vec(pos1,pos2, m1=70, m2=100))\n",
    "print(F_grav_vec(pos1,pos2, m1=100, m2=70)) \n",
    "print(F_grav_vec(pos1+4,pos2+4, m1=100, m2=70))\n",
    "print(F_grav_vec(10*(pos1+4),10*(pos2+4), m1=100, m2=70))  \n",
    "### END SOLUTION"
   ]
  },
  {
   "cell_type": "code",
   "execution_count": 20,
   "metadata": {
    "nbgrader": {
     "grade": true,
     "grade_id": "cell-ddd2e2c38632f948",
     "locked": true,
     "points": 1,
     "schema_version": 3,
     "solution": false
    }
   },
   "outputs": [],
   "source": [
    "## \"\"\"Check the F_grav_vec against test cases (same situations as for F_grav1)\"\"\"\n",
    "\n",
    "def vector_error(studentvec, instructorvec) :\n",
    "    error = np.linalg.norm(studentvec - instructorvec)/np.linalg.norm(instructorvec)\n",
    "    return error\n",
    "    \n",
    "\n",
    "# force between two people shoudl be less than a micronewton.\n",
    "pos1 = np.array([0,0,0]); pos2 = np.array([1,0,0])\n",
    "studentresult = F_grav_vec(pos1,pos2, m1=70, m2=100)\n",
    "assert type(studentresult) == np.ndarray  # check datatype of students' result\n",
    "\n",
    "instructorresult = np.array( [-4.67201e-07, -0.0, -0.0] )\n",
    "assert vector_error(studentresult, instructorresult ) < 1e-4\n",
    "\n",
    "# revese m1 and m2 values\n",
    "studentresult = F_grav_vec(pos1,pos2, m1=100, m2=70)\n",
    "instructorresult = [-4.67201e-07, -0.0, -0.0]\n",
    "assert vector_error(studentresult, instructorresult ) < 1e-4\n",
    "\n",
    "# shift positions of both masses by equal amounts\n",
    "studentresult = F_grav_vec(pos1+4,pos2+4, m1=100, m2=70)\n",
    "instructorresult = [-4.67201e-07, -0.0, -0.0]\n",
    "assert vector_error(studentresult, instructorresult ) < 1e-4\n",
    "\n",
    "# move masses 10x farther apart\n",
    "studentresult = np.array(F_grav_vec(10*(pos1+4),10*(pos2+4), m1=100, m2=70))\n",
    "instructorresult = [-4.67201e-09, -0.0, -0.0]\n",
    "assert vector_error(studentresult, instructorresult ) < 1e-4\n",
    "\n",
    "del vector_error, studentresult, instructorresult"
   ]
  },
  {
   "cell_type": "markdown",
   "metadata": {
    "nbgrader": {
     "grade": false,
     "grade_id": "cell-262a8139b870f033",
     "locked": true,
     "schema_version": 3,
     "solution": false,
     "task": false
    }
   },
   "source": [
    "## Task 5: Pencil and paper diagram and calculation\n",
    "\n",
    "1. Draw a diagram of the whole earth and a projectile that is launched from the earth's surface.\n",
    "1. Draw an $xyz$ coordinate system on the surface of the earth that matches the coordinate system used in the `trajectory1` function. \n",
    "1. Draw the position vectors for the projectile ($m_2$) and the center of earth ($m_1$). \n",
    "1. Write out the position vector (including numbers) for the center of the earth? \n",
    "\n",
    "**Insert your diagram in the cell below.**"
   ]
  },
  {
   "cell_type": "markdown",
   "metadata": {
    "nbgrader": {
     "grade": true,
     "grade_id": "cell-4fcec4396fdf94dc",
     "locked": false,
     "points": 1,
     "schema_version": 3,
     "solution": true,
     "task": false
    }
   },
   "source": []
  },
  {
   "cell_type": "markdown",
   "metadata": {},
   "source": [
    "## Task 6: Define a function `trajectory4()` that replaces a constant gravitational force $-mg\\hat{y}$ with a variable force calculated using `F_grav_vec()` (1 pt, autograded)\n",
    "Copy and paste your code for `trajectory1()` and then modify it so the acceleration is computed by calling `F_grav_vec()`, which uses Newton's universal gravitation formula. \n",
    "\n",
    "**Function name:** `trajectory4()`\n",
    "\n",
    "**Input parameters:** \n",
    "* `pos0`, a numpy array that represent the initial position coordinates $x_0$, $y_0$, $z_0$ of object in meters. `pos0` is *relative to the surface of the earth*, not the center.\n",
    "* `vel0`, a numpy array that represent the initial velocity of object in meters/s\n",
    "* `m`, mass of object in kg\n",
    "* `dt`, time step $\\Delta t$\n",
    "* `tmax`, simulation runs from $t = 0$ to $t = t_{\\textrm{max}}$ \n",
    "\n",
    "**Returns:**  \n",
    " a list `[t_array, pos_array]` where\n",
    " * `t_array` is a numpy array of time values\n",
    " * `pos_array` is a 2D numpy array with 3 columns (x,y,z) and N rows for each step in the simulation\n",
    " \n",
    "**Hint:** A Solution is possible by adding, deleting, or modifying just 3 lines\n",
    "\n",
    "**Discuss with instructor or TA:** Should the calculation of `F_grav_vec` happen inside or outside of the loop? What difference does it make?"
   ]
  },
  {
   "cell_type": "code",
   "execution_count": 21,
   "metadata": {
    "nbgrader": {
     "grade": false,
     "grade_id": "cell-d88707564aed4010",
     "locked": false,
     "schema_version": 3,
     "solution": true
    }
   },
   "outputs": [],
   "source": [
    "\"\"\"\n",
    "Define the trajectory4() function. Replace the constant gravitational acceleration with Newton's Universal Gravitation\n",
    "The object should not bounce.\n",
    "\"\"\"\n",
    "\n",
    "R_earth = 6.371e6  # Radius of earth in meters\n",
    "m_earth = 5.972e24 # mass of earth in kg\n",
    "\n",
    "\n",
    "### BEGIN SOLUTION\n",
    "def trajectory4(pos0, vel0, m, dt, tmax) :\n",
    "\n",
    "    pos_earth_center = np.array([0,-R_earth,0])\n",
    "       \n",
    "    pos = pos0 \n",
    "    vel = vel0\n",
    "    t = 0 # intitial time\n",
    "    \n",
    "    #force = m*np.array([0,-9.8,0]) # constant gravitational force\n",
    "\n",
    "    t_list = []  # makes a empty list to record the times\n",
    "    pos_list = [] # makes an empty list to record hte position\n",
    "    \n",
    "    t_list.append(t)\n",
    "    pos_list.append(pos)\n",
    "                   \n",
    "    while t < tmax:  # run loop for positive heights (y-values), stop when hit ground\n",
    "        force = F_grav_vec(pos_earth_center, pos, m_earth, m)\n",
    "        acc = force/m\n",
    "        #print(acc)\n",
    "        pos = pos + vel*dt # update position\n",
    "        vel = vel + acc*dt # update velocity\n",
    "        t = t + dt  # increment the time\n",
    "        pos_list.append(pos)  # append a new position to end of position list\n",
    "        t_list.append(t)  # append a new time to end of time list\n",
    "    \n",
    "    pos_array = np.array(pos_list)  # converts a list of position arrays to a 2D numpy array\n",
    "    t_array = np.array(t_list) # converts a list of times to a 1D array of times\n",
    "    \n",
    "    return [t_array, pos_array]\n",
    "\n",
    "### END SOLUTION"
   ]
  },
  {
   "cell_type": "markdown",
   "metadata": {
    "nbgrader": {
     "grade": false,
     "grade_id": "cell-1484f3cd24870cdb",
     "locked": true,
     "schema_version": 3,
     "solution": false
    }
   },
   "source": [
    "#### Test cases for `Trajectory4()` function\n",
    "The `trajectory4()` function should produce nearly identical results to the `trajectory1()` function. The graphs of trajectories modeled by the two functions should look like they overlap perfectly.\n",
    "![Trajectory in test for Task 5](trajectory4.png)\n",
    "You should also pass all the tests."
   ]
  },
  {
   "cell_type": "code",
   "execution_count": 23,
   "metadata": {
    "nbgrader": {
     "grade": true,
     "grade_id": "cell-b21809c75bf33bf1",
     "locked": true,
     "points": 1,
     "schema_version": 3,
     "solution": false
    }
   },
   "outputs": [
    {
     "data": {
      "text/plain": [
       "[<matplotlib.lines.Line2D at 0x7f0d9e754518>]"
      ]
     },
     "execution_count": 23,
     "metadata": {},
     "output_type": "execute_result"
    },
    {
     "data": {
      "image/png": "[encoded data removed]",
      "text/plain": [
       "<Figure size 432x288 with 1 Axes>"
      ]
     },
     "metadata": {
      "needs_background": "light"
     },
     "output_type": "display_data"
    },
    {
     "data": {
      "image/png": "[encoded data removed]",
      "text/plain": [
       "<Figure size 432x288 with 1 Axes>"
      ]
     },
     "metadata": {
      "needs_background": "light"
     },
     "output_type": "display_data"
    }
   ],
   "source": [
    "\"\"\"Check the trajectory4() function \"\"\"\n",
    "\n",
    "# Test plot for trajectory4()\n",
    "pos0 = np.array([0,2,0]);  vel0 = np.array([2,2,0]); m = 1; dt = 0.1; tmax = 1\n",
    "t_array4, pos_array4 = trajectory4(pos0, vel0 , m, dt, tmax) \n",
    "plt.plot(t_array4, pos_array4[:,0], 'b+', label=\"traj4 - x\")  # plot x vs t\n",
    "plt.plot(t_array4, pos_array4[:,1], 'g+', label=\"traj4 - y\")  # plot y vs t\n",
    "plt.plot(t_array4, pos_array4[:,2], 'm+', label=\"traj4 - z\")  # plot z vs t\n",
    "\n",
    "# Test plot for trajectory1()\n",
    "pos0 = np.array([0,2,0]);  vel0 = np.array([2,2,0]); m = 1; dt = 0.1; tmax = 1\n",
    "t_array1, pos_array1 = trajectory1(pos0, vel0 , m, dt, tmax) \n",
    "plt.plot(t_array1, pos_array1[:,0], 'bx', label=\"traj1 - x\")  # plot x vs t\n",
    "plt.plot(t_array1, pos_array1[:,1], 'gx', label=\"traj1 - y\")  # plot y vs t\n",
    "plt.plot(t_array1, pos_array1[:,2], 'mx', label=\"traj1 - z\")  # plot z vs t\n",
    "\n",
    "plt.legend()\n",
    "plt.xlabel(\"Time (s)\")\n",
    "plt.ylabel(\"Position (m)\")\n",
    "\n",
    "#check particular numerical values in the solution\n",
    "assert len(t_array1) == 12  # check the length of the time array\n",
    "assert pos_array1.shape == (12,3)  #check for 3 columns, 11 rows\n",
    "assert abs(np.sum(pos_array4[:,1] - pos_array1[:,1])) < 0.1\n",
    "\n",
    "\n",
    "# Test plot for trajectory4() for orbits\n",
    "R_earth = 6.371e6; g = 9.8\n",
    "pos0 = np.array([0,2,0]);  vel0 = np.array([(g*R_earth)**0.5,0,0]); m = 1; dt = 10; tmax = 6000\n",
    "\n",
    "plt.figure()\n",
    "plt.title(\"Test plot of an orbit...hopefully makes an almost-circle\")\n",
    "t_array4, pos_array4 = trajectory4(pos0, vel0 , m, dt, tmax) \n",
    "plt.plot(pos_array4[:,0],pos_array4[:,1] , 'b+', label=\"traj4 - x\")  # plot x vs t"
   ]
  },
  {
   "cell_type": "markdown",
   "metadata": {
    "nbgrader": {
     "grade": false,
     "grade_id": "cell-86d878db6af4cecd",
     "locked": true,
     "schema_version": 3,
     "solution": false
    }
   },
   "source": [
    "# Task 7: Define function `trajectory3()` that bounces up elastically after object  hits the ground (ungraded, time permitting)\n",
    "Copy and paste your code for `trajectory1()` and then modify it so the loop stops at a time $t_\\textrm{max}$. Also, the ball should bounce up after it hits the ground, which we will assume is the plane $y = 0$. \n",
    "\n",
    "**Function name:** `trajectory3()`\n",
    "\n",
    "**Inputs:** \n",
    "* `pos0`, a numpy array that represent the initial position coordinates $x_0$, $y_0$, $z_0$ of object in meters\n",
    "* `vel0`, a numpy array that represent the initial velocity of object in meters/s\n",
    "* `m`, mass of object in kg\n",
    "* `dt`, time step $\\Delta t$\n",
    "* `tmax`, simulation runs from $t = 0$ to $t = t_{\\textrm{max}}$ \n",
    "\n",
    "**Outputs:**  \n",
    " a list `[t_array, pos_array]` where\n",
    " * `t_array` is a numpy array of time values\n",
    " * `pos_array` is a 2D numpy array with 3 columns (x,y,z) and N rows for each step in the simulation\n",
    " \n",
    "### HINT: You can implement the bounce by adding 2 lines of code."
   ]
  },
  {
   "cell_type": "code",
   "execution_count": 24,
   "metadata": {
    "nbgrader": {
     "grade": false,
     "grade_id": "cell-0820fa4d0a9d48ec",
     "locked": false,
     "schema_version": 3,
     "solution": true
    }
   },
   "outputs": [],
   "source": [
    "\"\"\"\n",
    "Define the trajectory3() function. The object should bounce when the ball hits the ground.\n",
    "\"\"\"\n",
    "\n",
    "### BEGIN SOLUTION\n",
    "def trajectory3(pos0, vel0, m, dt, tmax) :\n",
    "\n",
    "    g = 9.8 # acceleration due to gravity in m/s^2\n",
    "    pos = pos0\n",
    "    vel = vel0\n",
    "    t = 0 # intitial time\n",
    "    \n",
    "    force = m*np.array([0,-g,0]) # constant gravitational force\n",
    "\n",
    "    t_list = []  # makes a empty list to record the times\n",
    "    pos_list = [] # makes an empty list to record hte position\n",
    "    pos_list.append(pos)  # append the initial position to empty list\n",
    "    t_list.append(t)  # append the initial position to empty list\n",
    "    \n",
    "    while t < tmax:  # run loop for positive heights (y-values), stop when hit ground\n",
    "        acc = force/m\n",
    "        pos = pos + vel*dt # update position\n",
    "        vel = vel + acc*dt # update velocity\n",
    "        if pos[1] < 0 :\n",
    "            vel[1] = -vel[1]\n",
    "        t = t + dt  # increment the time\n",
    "        pos_list.append(pos)  # append a new position to end of position list\n",
    "        t_list.append(t)  # append a new time to end of time list\n",
    "    \n",
    "    pos_array = np.array(pos_list)  # converts a list of position arrays to a 2D numpy array\n",
    "    t_array = np.array(t_list) # converts a list of times to a 1D array of times\n",
    "    \n",
    "    return [t_array, pos_array]\n",
    "\n",
    "### END SOLUTION"
   ]
  },
  {
   "cell_type": "markdown",
   "metadata": {
    "nbgrader": {
     "grade": false,
     "grade_id": "cell-2b07eef0c9522413",
     "locked": true,
     "schema_version": 3,
     "solution": false
    }
   },
   "source": [
    "#### Test cases for `Trajectory3()` function\n",
    "Running the test case below should return a plot that shows object always moving to the right, but bouncing when it hits the ground. The trajectory stops shortly after 3 bounces at a position $x\\approx 25 \\textrm{ m}$.\n",
    "![Trajectory in test for Task 4](trajectory3.png)\n",
    "You should also pass all the tests."
   ]
  },
  {
   "cell_type": "code",
   "execution_count": 25,
   "metadata": {
    "scrolled": true
   },
   "outputs": [
    {
     "data": {
      "image/png": "[encoded data removed]",
      "text/plain": [
       "<Figure size 432x288 with 1 Axes>"
      ]
     },
     "metadata": {
      "needs_background": "light"
     },
     "output_type": "display_data"
    }
   ],
   "source": [
    "\"\"\"Check the trajectory3() function \"\"\"\n",
    "\n",
    "# Test plot for trajectory3()\n",
    "pos0 = np.array([0,2,0]);  vel0 = np.array([5,5,0]); m = 1; dt = 0.02; tmax = 5\n",
    "t_array, pos_array = trajectory3(pos0, vel0 , m, dt, tmax) \n",
    "plt.plot(pos_array[:,0], pos_array[:,1], 'bo-')  # plot x vs t\n",
    "plt.title(\"Trajectory in the x-y plane\")\n",
    "plt.xlabel(\"x position (m)\")\n",
    "plt.ylabel(\"y position (m)\")\n",
    "\n",
    "\n",
    "#check particular numerical values in the solution\n",
    "assert abs(len(t_array) - 252) < 2 # check the length of t_array\n",
    "assert (np.max(pos_array[:50,1]) - 3.326)/3.326 < 0.02  # check the highest point\n",
    "assert (pos_array[-1,0] - 25.1)/25.1 < 0.02  # check the highest point\n",
    "assert (t_array[-1] - 5.02) < 0.21  # check the length of the time array"
   ]
  },
  {
   "cell_type": "markdown",
   "metadata": {
    "nbgrader": {
     "grade": false,
     "grade_id": "cell-d23e41c0fc31aae2",
     "locked": true,
     "schema_version": 3,
     "solution": false
    }
   },
   "source": [
    "# Task 8: Test `trajectory3()` \"bouncy\" function for negative initial height (ungraded, time permitting)\n",
    "\n",
    "1. Run the code below with the initial height of $y_0 = -2 \\textrm{ m}$, $v_{0,x} = 5 \\textrm{ m/s}$, $v_{0,y} = 5 \\textrm{ m/s}$, $dt = 0.1 \\textrm{ s}$, and $t_\\textrm{max} = 5 \\textrm{ s}$.\n",
    "1. Explain the behavior of the plot. Why does this happen? \n",
    "\n",
    "Put your explanation in the Markdown cell that says \"YOUR ANSWER HERE\"."
   ]
  },
  {
   "cell_type": "code",
   "execution_count": 26,
   "metadata": {},
   "outputs": [
    {
     "data": {
      "text/plain": [
       "Text(0, 0.5, 'y (m)')"
      ]
     },
     "execution_count": 26,
     "metadata": {},
     "output_type": "execute_result"
    },
    {
     "data": {
      "image/png": "[encoded data removed]",
      "text/plain": [
       "<Figure size 432x288 with 1 Axes>"
      ]
     },
     "metadata": {
      "needs_background": "light"
     },
     "output_type": "display_data"
    }
   ],
   "source": [
    "pos0 = np.array([0,-2,0]);  vel0 = np.array([5,5,0]); m = 1; dt = 0.1; tmax = 5\n",
    "t_array, pos_array = trajectory3(pos0, vel0 , m, dt, tmax) \n",
    "plt.figure()\n",
    "plt.plot(pos_array[:,0], pos_array[:,1], 'bo-')  # plot x vs t\n",
    "plt.xlabel(\"x (m)\")\n",
    "plt.ylabel(\"y (m)\")"
   ]
  },
  {
   "cell_type": "markdown",
   "metadata": {},
   "source": []
  }
 ],
 "metadata": {
  "celltoolbar": "Create Assignment",
  "kernelspec": {
   "display_name": "Python 3",
   "language": "python",
   "name": "python3"
  },
  "language_info": {
   "codemirror_mode": {
    "name": "ipython",
    "version": 3
   },
   "file_extension": ".py",
   "mimetype": "text/x-python",
   "name": "python",
   "nbconvert_exporter": "python",
   "pygments_lexer": "ipython3",
   "version": "3.6.9"
  }
 },
 "nbformat": 4,
 "nbformat_minor": 2
}
