{
 "cells": [
  {
   "cell_type": "markdown",
   "metadata": {
    "nbgrader": {
     "grade": false,
     "grade_id": "cell-6269b6e4bd97d29b",
     "locked": true,
     "schema_version": 3,
     "solution": false
    }
   },
   "source": [
    "# Notebook 2A - Wed/Thurs\n",
    "## Using lists, plotting data, plotting formulas\n",
    "## Total Points: 14\n",
    "#### PHYS 225 Intro to Computational Physics, Fall 2020"
   ]
  },
  {
   "cell_type": "markdown",
   "metadata": {
    "nbgrader": {
     "grade": false,
     "grade_id": "cell-f892c69c91afa8fb",
     "locked": true,
     "schema_version": 3,
     "solution": false
    }
   },
   "source": [
    "## Creating lists\n",
    "Python has many different data types, and we have already examined a few of them such as `int`, `float`, `bool`, and `string`. A list in python is a data type that allows you to create an ordered lists of items into a single named variable. Today we will use lists to store data, plot data, and plot functions."
   ]
  },
  {
   "cell_type": "code",
   "execution_count": 36,
   "metadata": {},
   "outputs": [
    {
     "name": "stdout",
     "output_type": "stream",
     "text": [
      "[1, 4, 9, 16, 25]\n"
     ]
    }
   ],
   "source": [
    "# Lists can contain different data types, but in this class we will often use lists of numbers\n",
    "y = [1**2, 2**2, 3**2, 4**2, 5**2]\n",
    "print(y)"
   ]
  },
  {
   "cell_type": "code",
   "execution_count": 37,
   "metadata": {},
   "outputs": [
    {
     "name": "stdout",
     "output_type": "stream",
     "text": [
      "1\n",
      "25\n",
      "25\n"
     ]
    }
   ],
   "source": [
    "# Pick out the 1st element of y\n",
    "print(y[0])  #index starts at 0, not 1\n",
    "\n",
    "# Pick out the 5th element of y\n",
    "print(y[4])\n",
    "\n",
    "# Pick out the last element of y\n",
    "print(y[-1])  # -1 starts at end of list"
   ]
  },
  {
   "cell_type": "code",
   "execution_count": 38,
   "metadata": {},
   "outputs": [
    {
     "name": "stdout",
     "output_type": "stream",
     "text": [
      "[1, 4, 9, 16]\n",
      "[9, 16, 25]\n"
     ]
    }
   ],
   "source": [
    "# You can also pick out a range of elements\n",
    "print(y[0:4])  #  0:4 means start a 0th element, end at 4th element (but don't include 4th)\n",
    "\n",
    "\n",
    "# if you don't specify and end value, it includes to end of list\n",
    "print(y[2:])  "
   ]
  },
  {
   "cell_type": "markdown",
   "metadata": {
    "nbgrader": {
     "grade": false,
     "grade_id": "cell-69b1a387020047ee",
     "locked": true,
     "schema_version": 3,
     "solution": false
    }
   },
   "source": [
    "### Task 1: Entering data a list (1 pt, autograded)\n",
    "#### Tesla Model S P100D performance data\n",
    "The 2017 Tesla Model S P100D, an electric-powered sedan, is one of the fastest production cars ever tested when accelerating from a stop. It can reach highway speeds in under 3 seconds. For more info about the testing, see this [article in Motor Trend](https://www.motortrend.com/cars/tesla/model-s/2017/2017-tesla-model-s-p100d-first-test-review/). Motor Trend compiled the following test data for acceleration:\n",
    "\n",
    "| Time (s) | Speed (mph) |\n",
    "|----------|-------------|\n",
    "| 0.0      | 0          |\n",
    "| 0.9      | 30          |\n",
    "| 1.3      | 40          |\n",
    "| 1.7      | 50          |\n",
    "| 2.3      | 60          |\n",
    "| 3.0      | 70          |\n",
    "| 3.8      | 80          |\n",
    "| 4.8      | 90          |\n",
    "| 6.0      | 100         |\n",
    "\n",
    "* Create a list variable named `t` and store the time values in it.\n",
    "* Create a list variable named `speed` and store the speed values in it."
   ]
  },
  {
   "cell_type": "code",
   "execution_count": 39,
   "metadata": {
    "nbgrader": {
     "grade": false,
     "grade_id": "cell-ad72e55e6643b29f",
     "locked": false,
     "schema_version": 3,
     "solution": true
    }
   },
   "outputs": [
    {
     "name": "stdout",
     "output_type": "stream",
     "text": [
      "[0, 0.9, 1.3, 1.7, 2.3, 3.0, 3.8, 4.8, 6.0]\n",
      "[0, 30, 40, 50, 60, 70, 80, 90, 100]\n"
     ]
    }
   ],
   "source": [
    "\"\"\"\n",
    "Create the list variables named `t` and `speed` and set them to the values specified above.\n",
    "\"\"\"\n",
    "### BEGIN SOLUTION\n",
    "t = [0, 0.9, 1.3, 1.7, 2.3, 3.0, 3.8, 4.8, 6.0]\n",
    "speed = [0, 30,40,50,60,70,80,90,100]\n",
    "\n",
    "print(t)\n",
    "print(speed)\n",
    "\n",
    "### END SOLUTION"
   ]
  },
  {
   "cell_type": "code",
   "execution_count": 40,
   "metadata": {
    "nbgrader": {
     "grade": true,
     "grade_id": "cell-f97b2da4a7ddf583",
     "locked": true,
     "points": 1,
     "schema_version": 3,
     "solution": false
    }
   },
   "outputs": [
    {
     "name": "stdout",
     "output_type": "stream",
     "text": [
      "[0, 0.9, 1.3, 1.7, 2.3, 3.0, 3.8, 4.8, 6.0]\n",
      "[0, 30, 40, 50, 60, 70, 80, 90, 100]\n"
     ]
    }
   ],
   "source": [
    "\"\"\"Check the values \"\"\"\n",
    "\n",
    "# First check that variables have proper names \n",
    "# A NameError is produced if the variable name is not correct. \n",
    "print(t)\n",
    "print(speed)\n",
    "\n",
    "# check the Lists\n",
    "assert len(t) == 9 # check length of each list is correct\n",
    "assert len(speed) == 9 # check length of each liat is correct\n",
    "assert t[2:] == [1.3, 1.7, 2.3, 3.0, 3.8, 4.8, 6.0]  #check last 6 elements of t\n",
    "assert speed[0:4] == [0,30,40,50] # check first 4 elements of speed\n"
   ]
  },
  {
   "cell_type": "markdown",
   "metadata": {
    "nbgrader": {
     "grade": false,
     "grade_id": "cell-e915a99470658128",
     "locked": true,
     "schema_version": 3,
     "solution": false
    }
   },
   "source": [
    "## Task 2: Subsets of data (1 pt, autograded)\n",
    "\n",
    "Use list subsetting (as described in the [DataCamp tutorial](https://campus.datacamp.com/courses/intro-to-python-for-data-science/chapter-2-python-lists?ex=9)) to accomplish these tasks:\n",
    "* For the list `t`, select the fourth element, and store the result in a variable `result1`. \n",
    "* For the list `t`, select the second element through the end and store the result in a variable `result2`.\n",
    "* For the list `speed`, select all elements except the first and the last and store the result in a variable `result3`.\n",
    "* Print out `result1`, `result2`, and `result3`.\n"
   ]
  },
  {
   "cell_type": "code",
   "execution_count": 41,
   "metadata": {
    "nbgrader": {
     "grade": false,
     "grade_id": "cell-0a5830f3ec1b7137",
     "locked": false,
     "schema_version": 3,
     "solution": true
    }
   },
   "outputs": [
    {
     "name": "stdout",
     "output_type": "stream",
     "text": [
      "1.7\n",
      "[0.9, 1.3, 1.7, 2.3, 3.0, 3.8, 4.8, 6.0]\n",
      "[30, 40, 50, 60, 70, 80]\n"
     ]
    }
   ],
   "source": [
    "\"\"\"\n",
    "Create the list variables t and speed and set them to the values specified above.\n",
    "\"\"\"\n",
    "### BEGIN SOLUTION\n",
    "result1 = t[3]\n",
    "result2 = t[1:]\n",
    "result3 = speed[1:7]\n",
    "\n",
    "print(result1)\n",
    "print(result2)\n",
    "print(result3)\n",
    "\n",
    "### END SOLUTION"
   ]
  },
  {
   "cell_type": "code",
   "execution_count": 54,
   "metadata": {
    "nbgrader": {
     "grade": true,
     "grade_id": "cell-4160850f7a9c85a9",
     "locked": true,
     "points": 1,
     "schema_version": 3,
     "solution": false
    }
   },
   "outputs": [
    {
     "name": "stdout",
     "output_type": "stream",
     "text": [
      "1.7\n",
      "[0.9, 1.3, 1.7, 2.3, 3.0, 3.8, 4.8, 6.0]\n",
      "[30, 40, 50, 60, 70, 80]\n"
     ]
    }
   ],
   "source": [
    "\"\"\"Check the values \"\"\"\n",
    "\n",
    "# First check that variables have proper names \n",
    "# A NameError is produced if the variable name is not correct. \n",
    "print(result1)\n",
    "print(result2)\n",
    "print(result3)\n",
    "\n",
    "# check the Lists\n",
    "assert result1 == 1.7 # fourth element of t\n",
    "assert result2 == [0.9, 1.3, 1.7, 2.3, 3.0, 3.8, 4.8, 6.0] # second element through end of t\n",
    "assert result3 == [30, 40,50,60,70,80] # removing first and last elements from speed\n"
   ]
  },
  {
   "cell_type": "markdown",
   "metadata": {
    "nbgrader": {
     "grade": false,
     "grade_id": "cell-283fce464c0c3f42",
     "locked": true,
     "schema_version": 3,
     "solution": false
    }
   },
   "source": [
    "### Plotting data\n",
    "Plotting data requires a new Python package. In this course we use a common package included in SciPy known as [Matplotlib](https://matplotlib.org/). You can check out a [gallery of cool Matplotlib plots](https://matplotlib.org/gallery/index.html). \n",
    "![Pyplot Two Subplots](https://matplotlib.org/_images/sphx_glr_pyplot_two_subplots_001.png).  \n",
    "\n",
    "In addition to creating plots, you will learn how to do add additional formatting, such as labels on the $x$ and $y$ axes, and other useful formatting. The most basic plotting command is `plt.plot()`.\n"
   ]
  },
  {
   "cell_type": "code",
   "execution_count": 43,
   "metadata": {},
   "outputs": [],
   "source": [
    "import matplotlib.pyplot as plt  # you only need to execute the import once in a notebook, usually near the top."
   ]
  },
  {
   "cell_type": "markdown",
   "metadata": {},
   "source": [
    "#### Example of simplest possible plot given a list of data"
   ]
  },
  {
   "cell_type": "code",
   "execution_count": 44,
   "metadata": {},
   "outputs": [
    {
     "data": {
      "text/plain": [
       "[<matplotlib.lines.Line2D at 0x7f8b4dd64978>]"
      ]
     },
     "execution_count": 44,
     "metadata": {},
     "output_type": "execute_result"
    },
    {
     "data": {
      "image/png": "[encoded data removed]",
      "text/plain": [
       "<Figure size 432x288 with 1 Axes>"
      ]
     },
     "metadata": {
      "needs_background": "light"
     },
     "output_type": "display_data"
    }
   ],
   "source": [
    "plt.plot(speed)  #plot speed values vs list index"
   ]
  },
  {
   "cell_type": "markdown",
   "metadata": {
    "nbgrader": {
     "grade": false,
     "grade_id": "cell-31cfb837757abab0",
     "locked": true,
     "schema_version": 3,
     "solution": false
    }
   },
   "source": [
    "## Improving the plot\n",
    "The basic plot shown above needs a lot of improvements, such as:\n",
    "1. plot speed vs time (rather than array index) \n",
    "    * using `plt.plot(x,y)`\n",
    "1. plot points, rather than a line, so as not to hide the data\n",
    "    * using `plt.plot(x,y, 'o')` for circles\n",
    "1. add axes labels for x and y axes\n",
    "    * using `plt.xlabel(\"label 1\")` and `plt.ylabel(\"label 2\")`\n",
    "1. add a plot title\n",
    "    * using `plt.title(\"descriptive title\")`\n",
    "1. change the x and y limits for the plot\n",
    "    * using `plt.xlim(x1, x2)`  and `plt.ylim(y1, y2)`\n"
   ]
  },
  {
   "cell_type": "code",
   "execution_count": 45,
   "metadata": {},
   "outputs": [
    {
     "data": {
      "text/plain": [
       "[<matplotlib.lines.Line2D at 0x7f8b4dcd2400>]"
      ]
     },
     "execution_count": 45,
     "metadata": {},
     "output_type": "execute_result"
    },
    {
     "data": {
      "image/png": "[encoded data removed]",
      "text/plain": [
       "<Figure size 432x288 with 1 Axes>"
      ]
     },
     "metadata": {
      "needs_background": "light"
     },
     "output_type": "display_data"
    }
   ],
   "source": [
    "# plot speed vs time\n",
    "plt.plot(t, speed)"
   ]
  },
  {
   "cell_type": "code",
   "execution_count": 46,
   "metadata": {},
   "outputs": [
    {
     "data": {
      "text/plain": [
       "[<matplotlib.lines.Line2D at 0x7f8b4dcb2320>]"
      ]
     },
     "execution_count": 46,
     "metadata": {},
     "output_type": "execute_result"
    },
    {
     "data": {
      "image/png": "[encoded data removed]",
      "text/plain": [
       "<Figure size 432x288 with 1 Axes>"
      ]
     },
     "metadata": {
      "needs_background": "light"
     },
     "output_type": "display_data"
    }
   ],
   "source": [
    "# use circles rather than a line\n",
    "plt.plot(t, speed, 'o')"
   ]
  },
  {
   "cell_type": "code",
   "execution_count": 47,
   "metadata": {},
   "outputs": [
    {
     "data": {
      "text/plain": [
       "Text(0, 0.5, 'Speed (mph)')"
      ]
     },
     "execution_count": 47,
     "metadata": {},
     "output_type": "execute_result"
    },
    {
     "data": {
      "image/png": "[encoded data removed]",
      "text/plain": [
       "<Figure size 432x288 with 1 Axes>"
      ]
     },
     "metadata": {
      "needs_background": "light"
     },
     "output_type": "display_data"
    }
   ],
   "source": [
    "# add axes labels\n",
    "plt.plot(t, speed, 'o')\n",
    "plt.xlabel(\"Time (s)\") # add x-label\n",
    "plt.ylabel(\"Speed (mph)\")  # add y-label"
   ]
  },
  {
   "cell_type": "code",
   "execution_count": 48,
   "metadata": {},
   "outputs": [
    {
     "data": {
      "text/plain": [
       "Text(0.5, 1.0, 'Tesla Model S P100D at max acceleration')"
      ]
     },
     "execution_count": 48,
     "metadata": {},
     "output_type": "execute_result"
    },
    {
     "data": {
      "image/png": "[encoded data removed]",
      "text/plain": [
       "<Figure size 432x288 with 1 Axes>"
      ]
     },
     "metadata": {
      "needs_background": "light"
     },
     "output_type": "display_data"
    }
   ],
   "source": [
    "# add title\n",
    "plt.plot(t, speed, 'o')\n",
    "plt.xlabel(\"Time (s)\")\n",
    "plt.ylabel(\"Speed (mph)\")\n",
    "plt.title(\"Tesla Model S P100D at max acceleration\")"
   ]
  },
  {
   "cell_type": "code",
   "execution_count": 49,
   "metadata": {},
   "outputs": [
    {
     "data": {
      "text/plain": [
       "(0.0, 110.0)"
      ]
     },
     "execution_count": 49,
     "metadata": {},
     "output_type": "execute_result"
    },
    {
     "data": {
      "image/png": "[encoded data removed]",
      "text/plain": [
       "<Figure size 432x288 with 1 Axes>"
      ]
     },
     "metadata": {
      "needs_background": "light"
     },
     "output_type": "display_data"
    }
   ],
   "source": [
    "# adjust x and y limits\n",
    "plt.plot(t, speed, 'o')\n",
    "plt.xlabel(\"Time (s)\")\n",
    "plt.ylabel(\"Speed (mph)\")\n",
    "plt.title(\"Acceleration of Tesla Model S P100D\")\n",
    "plt.xlim(0,7)  # I want the lowest time to be zero.\n",
    "plt.ylim(0,110)  # I want the lowest speed to be zero."
   ]
  },
  {
   "cell_type": "markdown",
   "metadata": {
    "nbgrader": {
     "grade": false,
     "grade_id": "cell-7be28cb837414500",
     "locked": true,
     "schema_version": 3,
     "solution": false
    }
   },
   "source": [
    "## Task 3: Create a plot of the high temperature data in the following graph (1 point for graph, 1 point autograded)\n",
    "The following weather predictions are from [weather.com](https://weather.com/weather/tenday/l/Rochester+NY+USNY1232).\n",
    "<img src=\"10day.JPG\" alt=\"10 day forecast\" width=\"500\"/>\n",
    "\n",
    "1. Create two lists:\n",
    "    * One list named `day` for the day of the month\n",
    "    * Another list named `hightemp` for the high temperature data\n",
    "1. Create a plot of the high temperature vs the day. Make sure to add the following features\n",
    "    * $x$ and $y$ axes labels.\n",
    "    * A title\n",
    "    * Pick the line and marker style from the [matplotlib.pyplot.plot documentation](https://matplotlib.org/api/_as_gen/matplotlib.pyplot.plot.html). Scroll down to **Notes** section.\n",
    "    \n",
    "The graph should look similar to this one, but with different marker and line style and color. \n",
    "![Graph of temperature data](WeatherData1.PNG)"
   ]
  },
  {
   "cell_type": "code",
   "execution_count": 50,
   "metadata": {
    "nbgrader": {
     "grade": true,
     "grade_id": "cell-8ce42bb50c298bdf",
     "locked": false,
     "points": 1,
     "schema_version": 3,
     "solution": true
    }
   },
   "outputs": [
    {
     "data": {
      "text/plain": [
       "Text(0.5, 1.0, 'Extended forecast in Rochester, NY')"
      ]
     },
     "execution_count": 50,
     "metadata": {},
     "output_type": "execute_result"
    },
    {
     "data": {
      "image/png": "[encoded data removed]",
      "text/plain": [
       "<Figure size 432x288 with 1 Axes>"
      ]
     },
     "metadata": {
      "needs_background": "light"
     },
     "output_type": "display_data"
    }
   ],
   "source": [
    "\"\"\"\n",
    "Compute the speed of light from EM constants and store \n",
    "the value in a variable named c_EM. Print out c_EM.\n",
    "\n",
    "Compute the difference \n",
    "\n",
    "\"\"\"\n",
    "\n",
    "# define the lists\n",
    "day = [4,5,6,7,8,9,10,11,12,13,14]\n",
    "hightemp = [85, 91, 75, 72, 70, 68, 73, 76, 80, 81, 78]\n",
    "\n",
    "#make the plots\n",
    "plt.plot(day, hightemp, 'o--')\n",
    "plt.xlabel(\"Day of month in September\")\n",
    "plt.ylabel(\"Temperature (degrees F)\")\n",
    "plt.title(\"Extended forecast in Rochester, NY\")"
   ]
  },
  {
   "cell_type": "code",
   "execution_count": 51,
   "metadata": {
    "nbgrader": {
     "grade": true,
     "grade_id": "cell-4c3f15d4616bc491",
     "locked": true,
     "points": 1,
     "schema_version": 3,
     "solution": false
    }
   },
   "outputs": [
    {
     "name": "stdout",
     "output_type": "stream",
     "text": [
      "[4, 5, 6, 7, 8, 9, 10, 11, 12, 13, 14]\n",
      "[85, 91, 75, 72, 70, 68, 73, 76, 80, 81, 78]\n"
     ]
    }
   ],
   "source": [
    "\"\"\"Autograde the lists were entered and named correctly (1 point)\"\"\"\n",
    "print(day)  # check for name errors\n",
    "print(hightemp)  #check for name errors\n",
    "\n",
    "assert len(day) == 11 # Check list length\n",
    "assert  len(hightemp) == 11 # check list length\n",
    "\n",
    "assert day[3:6] == [7,8,9]\n",
    "assert hightemp[8:] == [80, 81, 78]"
   ]
  },
  {
   "cell_type": "markdown",
   "metadata": {
    "nbgrader": {
     "grade": false,
     "grade_id": "cell-0172a790f524d8b1",
     "locked": true,
     "schema_version": 3,
     "solution": false
    }
   },
   "source": [
    "### Adding a second comparison plot (example)\n",
    "\n",
    "A Corvette Z06 is another fast car, which has available acceleration data.\n",
    " "
   ]
  },
  {
   "cell_type": "code",
   "execution_count": 52,
   "metadata": {},
   "outputs": [
    {
     "data": {
      "text/plain": [
       "[<matplotlib.lines.Line2D at 0x7f8b4ddf4470>]"
      ]
     },
     "execution_count": 52,
     "metadata": {},
     "output_type": "execute_result"
    },
    {
     "data": {
      "image/png": "[encoded data removed]",
      "text/plain": [
       "<Figure size 432x288 with 1 Axes>"
      ]
     },
     "metadata": {
      "needs_background": "light"
     },
     "output_type": "display_data"
    }
   ],
   "source": [
    "\"\"\"\n",
    "Add plot of a second vehicle accerating\n",
    "\"\"\"\n",
    "\n",
    "# Input the acceleration data\n",
    "tZ06 = [0.0, 1.3, 1.7, 2.3, 3.0, 3.8, 4.7, 5.6, 6.8, 8.1, 9.6] # times in sec\n",
    "speedZ06 = [0, 30, 40, 50, 60, 70, 80, 90, 100, 110, 120]  # speeds in mph\n",
    "\n",
    "# Plot the speed vs time of the Tesla\n",
    "plt.plot(t,speed,'o-')\n",
    "# plot the speed vs time of the Corvette Z06\n",
    "plt.plot(tZ06, speedZ06, 'o-')"
   ]
  },
  {
   "cell_type": "markdown",
   "metadata": {
    "nbgrader": {
     "grade": false,
     "grade_id": "cell-023263d23f890094",
     "locked": true,
     "schema_version": 3,
     "solution": false,
     "task": false
    }
   },
   "source": [
    "#### Adding a plot legend using the `label = \"label text\"` option.\n",
    "\n",
    "The legend won't be displayed unless you use the `plt.legend()` command."
   ]
  },
  {
   "cell_type": "code",
   "execution_count": 25,
   "metadata": {},
   "outputs": [
    {
     "data": {
      "text/plain": [
       "<matplotlib.legend.Legend at 0x7f8b4e0575f8>"
      ]
     },
     "execution_count": 25,
     "metadata": {},
     "output_type": "execute_result"
    },
    {
     "data": {
      "image/png": "[encoded data removed]",
      "text/plain": [
       "<Figure size 432x288 with 1 Axes>"
      ]
     },
     "metadata": {
      "needs_background": "light"
     },
     "output_type": "display_data"
    }
   ],
   "source": [
    "# Plot the speed vs time of the Tesla\n",
    "plt.plot(t, speed, '-o', label = \"Tesla S\")  # plot with label name added\n",
    "# plot the speed vs time of the Corvette Z06\n",
    "plt.plot(tZ06, speedZ06, '-o', label = \"Corvette Z06\")\n",
    "\n",
    "# Required to display the legend.\n",
    "plt.legend() # creates the legend."
   ]
  },
  {
   "cell_type": "markdown",
   "metadata": {
    "nbgrader": {
     "grade": false,
     "grade_id": "cell-bd7ee1b3ba999f41",
     "locked": true,
     "schema_version": 3,
     "solution": false
    }
   },
   "source": [
    "## Task 4: Adding a plot daily low temperature predictions (1 point, manually graded)\n",
    "In the section below,  \n",
    "* create a list named `lowtemp` that contains the predicted daily low temperatures,\n",
    "* create a modified version of the plot you created for **Task 4**.  \n",
    "* It should look similar to this graph, though **you should chose different markers and colors.**\n",
    "* See list of formatting options on the [pyplot.plot documentation](https://matplotlib.org/api/_as_gen/matplotlib.pyplot.plot.html) and scroll toward the bottom. \n",
    "![10 day forecast](Forecast.png)"
   ]
  },
  {
   "cell_type": "code",
   "execution_count": 26,
   "metadata": {
    "nbgrader": {
     "grade": true,
     "grade_id": "cell-75325df015cf8fa3",
     "locked": false,
     "points": 1,
     "schema_version": 3,
     "solution": true
    }
   },
   "outputs": [
    {
     "data": {
      "text/plain": [
       "<matplotlib.legend.Legend at 0x7f8b4df10518>"
      ]
     },
     "execution_count": 26,
     "metadata": {},
     "output_type": "execute_result"
    },
    {
     "data": {
      "image/png": "[encoded data removed]",
      "text/plain": [
       "<Figure size 432x288 with 1 Axes>"
      ]
     },
     "metadata": {
      "needs_background": "light"
     },
     "output_type": "display_data"
    }
   ],
   "source": [
    "lowtemp = [72, 71, 60, 58, 55, 61, 62, 62, 63, 64, 62]\n",
    "\n",
    "#make the plots\n",
    "plt.plot(day, hightemp, 'o--', label = \"Daily High\")\n",
    "plt.plot(day, lowtemp, 'x--', label = \"Daily Low\")\n",
    "plt.xlabel(\"Day of month in September\")\n",
    "plt.ylabel(\"Temperature (F)\")\n",
    "plt.title(\"Extended forecast in Rochester, NY\")\n",
    "plt.legend()"
   ]
  },
  {
   "cell_type": "markdown",
   "metadata": {
    "nbgrader": {
     "grade": false,
     "grade_id": "cell-a739c4a9af0c3cae",
     "locked": true,
     "schema_version": 3,
     "solution": false
    }
   },
   "source": [
    "# Doing math with lists is bad, numpy arrays are good.\n",
    "In this example, we try to convert Fahrenheit to Celcius using the equation\n",
    "\n",
    "$$ T_\\textrm{C} = \\frac{5}{9}(T_\\textrm{F} - 32)$$\n",
    "\n",
    "Unfortunately, the built in Python lists are terrible for math, as the next example shows."
   ]
  },
  {
   "cell_type": "code",
   "execution_count": 55,
   "metadata": {},
   "outputs": [
    {
     "ename": "TypeError",
     "evalue": "unsupported operand type(s) for -: 'list' and 'int'",
     "output_type": "error",
     "traceback": [
      "\u001b[0;31m---------------------------------------------------------------------------\u001b[0m",
      "\u001b[0;31mTypeError\u001b[0m                                 Traceback (most recent call last)",
      "\u001b[0;32m<ipython-input-55-de59d6064e34>\u001b[0m in \u001b[0;36m<module>\u001b[0;34m\u001b[0m\n\u001b[1;32m      1\u001b[0m \u001b[0;31m# It is too bad this math doesn't work with lists\u001b[0m\u001b[0;34m\u001b[0m\u001b[0;34m\u001b[0m\u001b[0;34m\u001b[0m\u001b[0m\n\u001b[0;32m----> 2\u001b[0;31m \u001b[0mlowtemp_Cel\u001b[0m \u001b[0;34m=\u001b[0m \u001b[0;34m(\u001b[0m\u001b[0;36m5\u001b[0m\u001b[0;34m/\u001b[0m\u001b[0;36m9\u001b[0m\u001b[0;34m)\u001b[0m\u001b[0;34m*\u001b[0m\u001b[0;34m(\u001b[0m\u001b[0mlowtemp\u001b[0m \u001b[0;34m-\u001b[0m \u001b[0;36m32\u001b[0m\u001b[0;34m)\u001b[0m\u001b[0;34m\u001b[0m\u001b[0;34m\u001b[0m\u001b[0m\n\u001b[0m",
      "\u001b[0;31mTypeError\u001b[0m: unsupported operand type(s) for -: 'list' and 'int'"
     ]
    }
   ],
   "source": [
    "# It is too bad this math doesn't work with lists\n",
    "lowtemp_Cel = (5/9)*(lowtemp - 32)"
   ]
  },
  {
   "cell_type": "markdown",
   "metadata": {
    "nbgrader": {
     "grade": false,
     "grade_id": "cell-2b11bb4933dce7e4",
     "locked": true,
     "schema_version": 3,
     "solution": false,
     "task": false
    }
   },
   "source": [
    "However, the Numpy module (short for **Num**erical **Py**thon) is great for doing math. \n",
    "\n",
    "Instead of `list` objects, Numpy works with `array` objects."
   ]
  },
  {
   "cell_type": "code",
   "execution_count": 28,
   "metadata": {},
   "outputs": [],
   "source": [
    "# Super important step of importing numpy module\n",
    "import numpy as np"
   ]
  },
  {
   "cell_type": "code",
   "execution_count": 29,
   "metadata": {},
   "outputs": [
    {
     "name": "stdout",
     "output_type": "stream",
     "text": [
      "list:  [72, 71, 60, 58, 55, 61, 62, 62, 63, 64, 62]\n",
      "numpy array:  [72 71 60 58 55 61 62 62 63 64 62]\n",
      "numpy array in Celcius:  [22.22222222 21.66666667 15.55555556 14.44444444 12.77777778 16.11111111\n",
      " 16.66666667 16.66666667 17.22222222 17.77777778 16.66666667]\n"
     ]
    }
   ],
   "source": [
    "# this is a list\n",
    "lowtemp = [72, 71, 60, 58, 55, 61, 62, 62, 63, 64, 62]\n",
    "print(\"list: \", lowtemp)\n",
    "\n",
    "# the numpy.array function creates an array from the list\n",
    "lowtemp_array = np.array( lowtemp )  \n",
    "print(\"numpy array: \", lowtemp_array)\n",
    "\n",
    "# the math operations are applied to each element of lowtemp_array\n",
    "lowtemp_array_Cel = (5/9)*(lowtemp_array - 32)\n",
    "\n",
    "print(\"numpy array in Celcius: \", lowtemp_array_Cel)"
   ]
  },
  {
   "cell_type": "markdown",
   "metadata": {
    "nbgrader": {
     "grade": false,
     "grade_id": "cell-392fe39f9802025a",
     "locked": true,
     "schema_version": 3,
     "solution": false
    }
   },
   "source": [
    "#### Subsets of Numpy arrays are a lot like lists"
   ]
  },
  {
   "cell_type": "code",
   "execution_count": 30,
   "metadata": {},
   "outputs": [
    {
     "data": {
      "text/plain": [
       "72"
      ]
     },
     "execution_count": 30,
     "metadata": {},
     "output_type": "execute_result"
    }
   ],
   "source": [
    "lowtemp_array[0]  # first element"
   ]
  },
  {
   "cell_type": "code",
   "execution_count": 31,
   "metadata": {},
   "outputs": [
    {
     "data": {
      "text/plain": [
       "array([60, 58, 55, 61, 62, 62, 63, 64, 62])"
      ]
     },
     "execution_count": 31,
     "metadata": {},
     "output_type": "execute_result"
    }
   ],
   "source": [
    "lowtemp_array[2:]  # 3rd element to the end"
   ]
  },
  {
   "cell_type": "markdown",
   "metadata": {
    "nbgrader": {
     "grade": false,
     "grade_id": "cell-7fd4fefc08c5361e",
     "locked": true,
     "schema_version": 3,
     "solution": false
    }
   },
   "source": [
    "## Task 5: Redo the Tesla plot with speed in meter/second (1 point)\n",
    "In the cell below, \n",
    "* create a numpy array using the `list` of speeds, which is named `speed`\n",
    "* convert `speed` in miles per hour to meters per second and store in a variable `speed_mks`\n",
    "* plot `speed_mks` vs `t` and make sure to keep all the nice formatting. It should look similar to this, but with the y-axis now showing speed in meters/second.\n",
    "![Speed vs time Tesla](Tesla_acceleration.png)\n"
   ]
  },
  {
   "cell_type": "code",
   "execution_count": 32,
   "metadata": {
    "nbgrader": {
     "grade": true,
     "grade_id": "cell-ac26eb582a0d6cc1",
     "locked": false,
     "points": 1,
     "schema_version": 3,
     "solution": true,
     "task": false
    }
   },
   "outputs": [
    {
     "data": {
      "text/plain": [
       "<matplotlib.legend.Legend at 0x7f8b4df3e828>"
      ]
     },
     "execution_count": 32,
     "metadata": {},
     "output_type": "execute_result"
    },
    {
     "data": {
      "image/png": "[encoded data removed]",
      "text/plain": [
       "<Figure size 432x288 with 1 Axes>"
      ]
     },
     "metadata": {
      "needs_background": "light"
     },
     "output_type": "display_data"
    }
   ],
   "source": [
    "# Task 5: Redo of the Tesla Plot\n",
    "\n",
    "speed_mks = np.array( speed ) * (1/3600) * (1609)  # convert to numpy array and change mph to m/s\n",
    "plt.plot(t, speed_mks, '-o', label = \"Tesla S\")  # plot with label name added\n",
    "\n",
    "# Required to display the legend.\n",
    "plt.legend() # creates the legend."
   ]
  },
  {
   "cell_type": "markdown",
   "metadata": {
    "nbgrader": {
     "grade": false,
     "grade_id": "cell-d43a33c8c2e8bc12",
     "locked": true,
     "schema_version": 3,
     "solution": false
    }
   },
   "source": [
    "## Plotting functions (the tedious way!)\n",
    "In order to plot a function you need to evaluate the function at a whole range of points.\n",
    "\n",
    "Without Numpy, this could be very tedious as shown below."
   ]
  },
  {
   "cell_type": "code",
   "execution_count": 25,
   "metadata": {},
   "outputs": [
    {
     "data": {
      "text/plain": [
       "Text(0, 0.5, 'y')"
      ]
     },
     "execution_count": 25,
     "metadata": {},
     "output_type": "execute_result"
    },
    {
     "data": {
      "image/png": "[encoded data removed]",
      "text/plain": [
       "<Figure size 432x288 with 1 Axes>"
      ]
     },
     "metadata": {
      "needs_background": "light"
     },
     "output_type": "display_data"
    }
   ],
   "source": [
    "x = [-2.5,-2.0, -1.5, -1.0,-0.5, 0.0, 0.5, 1.0, 1.5, 2.0, 2.5]\n",
    "\n",
    "y = [np.sin(-2.5),np.sin(-2.0), np.sin(-1.5), np.sin(-1.0), \n",
    "     np.sin(-0.5), np.sin(0.0), np.sin(0.5), np.sin(1.0),  \n",
    "     np.sin(1.5), np.sin(2.0), np.sin(2.5)]\n",
    "\n",
    "plt.plot(x,y, '-o')\n",
    "plt.title(\"y = sin(x)\")\n",
    "plt.xlabel(\"x\")\n",
    "plt.ylabel(\"y\")"
   ]
  },
  {
   "cell_type": "markdown",
   "metadata": {},
   "source": [
    "# Plotting functions using Numpy\n",
    "The example below uses two numpy features.\n",
    "1. The `np.linspace()` function, which creates a linearly spaced array of points.\n",
    "1. The fact that math operations can be applied to an entire numpy array in one line of code."
   ]
  },
  {
   "cell_type": "code",
   "execution_count": 26,
   "metadata": {},
   "outputs": [
    {
     "name": "stdout",
     "output_type": "stream",
     "text": [
      "x =  [-2.5 -2.  -1.5 -1.  -0.5  0.   0.5  1.   1.5  2.   2.5]\n",
      "y =  [-0.59847214 -0.90929743 -0.99749499 -0.84147098 -0.47942554  0.\n",
      "  0.47942554  0.84147098  0.99749499  0.90929743  0.59847214]\n"
     ]
    },
    {
     "data": {
      "text/plain": [
       "Text(0, 0.5, 'y')"
      ]
     },
     "execution_count": 26,
     "metadata": {},
     "output_type": "execute_result"
    },
    {
     "data": {
      "image/png": "[encoded data removed]",
      "text/plain": [
       "<Figure size 432x288 with 1 Axes>"
      ]
     },
     "metadata": {
      "needs_background": "light"
     },
     "output_type": "display_data"
    }
   ],
   "source": [
    "x = np.linspace(-2.5,2.5, 11)  # generate the list of x-values\n",
    "y = np.sin(x)  # create the list of y-values from the x-values\n",
    "\n",
    "# the print shows the same x values as above\n",
    "print(\"x = \", x)\n",
    "print(\"y = \", y)\n",
    "\n",
    "# exact same plot commands as before\n",
    "plt.plot(x,y)\n",
    "plt.title(\"y = sin(x)\")\n",
    "plt.xlabel(\"x\")\n",
    "plt.ylabel(\"y\")\n"
   ]
  },
  {
   "cell_type": "markdown",
   "metadata": {
    "nbgrader": {
     "grade": false,
     "grade_id": "cell-71fa7db7b1136406",
     "locked": true,
     "schema_version": 3,
     "solution": false
    }
   },
   "source": [
    "### Using the `np.linspace()` function\n",
    "The `np.linspace(start, stop, num)` function returns *num* evenly spaced numbers calculated over the interval [*start*, *stop*]. Here are a few examples.\n",
    "\n",
    "As always you can Google [\"Numpy Linspace\"](https://www.google.com/search?q=numpy+linspace) or navigate to the [official Numpy documentation](https://docs.scipy.org/doc/numpy/reference/generated/numpy.linspace.html)."
   ]
  },
  {
   "cell_type": "code",
   "execution_count": 27,
   "metadata": {},
   "outputs": [
    {
     "data": {
      "text/plain": [
       "array([0.        , 0.11111111, 0.22222222, 0.33333333, 0.44444444,\n",
       "       0.55555556, 0.66666667, 0.77777778, 0.88888889, 1.        ])"
      ]
     },
     "execution_count": 27,
     "metadata": {},
     "output_type": "execute_result"
    }
   ],
   "source": [
    "# Go from 0 to 1 using 10 data points\n",
    "np.linspace(start=0, stop=1, num=10)  "
   ]
  },
  {
   "cell_type": "code",
   "execution_count": 28,
   "metadata": {},
   "outputs": [
    {
     "data": {
      "text/plain": [
       "array([0. , 0.1, 0.2, 0.3, 0.4, 0.5, 0.6, 0.7, 0.8, 0.9, 1. ])"
      ]
     },
     "execution_count": 28,
     "metadata": {},
     "output_type": "execute_result"
    }
   ],
   "source": [
    "# to have steps of 0.1, we must use num=11 points\n",
    "np.linspace(start=0, stop=1, num=11)  "
   ]
  },
  {
   "cell_type": "markdown",
   "metadata": {},
   "source": [
    "The names of the function inputs are assumed to come in a specific order (i.e., *start*, *stop*, *num*), and can be omitted."
   ]
  },
  {
   "cell_type": "code",
   "execution_count": 29,
   "metadata": {},
   "outputs": [
    {
     "data": {
      "text/plain": [
       "array([0. , 0.1, 0.2, 0.3, 0.4, 0.5, 0.6, 0.7, 0.8, 0.9, 1. ])"
      ]
     },
     "execution_count": 29,
     "metadata": {},
     "output_type": "execute_result"
    }
   ],
   "source": [
    "# to have steps of 0.1, we must use num=11 points\n",
    "np.linspace(0, 1, 11)  # Go from 0 to 1 using 11 data points"
   ]
  },
  {
   "cell_type": "markdown",
   "metadata": {},
   "source": [
    "#  Simple harmonic motion (Tasks 6-7)\n",
    "### Task 6: LaTeX equation for simple harmonic motion (1 point)\n",
    "\n",
    "A mass is attached to a spring and oscillates (in simple harmonic motion) with a period of $T = 0.5 \\textrm{ s}$ and an amplitude of $0.1 \\textrm{ m}$. At time $t = 0$ the mass is at its maximum displacement.\n",
    "\n",
    "* Using LaTeX, write the **symbolic equation** for the diplacement of the mass, $x$, as a function of the time $t$ and the given parameters $T$ and $A$. \n",
    "* Don't use numbers in your LaTeX equation, though $2\\pi$ is okay.\n",
    "\n",
    "Remember, Google can lead you to all kinds of LaTeX cheat sheets and quick guides [such as this one](https://users.dickinson.edu/~richesod/latex/latexcheatsheet.pdf)."
   ]
  },
  {
   "cell_type": "markdown",
   "metadata": {
    "nbgrader": {
     "grade": true,
     "grade_id": "cell-2c077fa6bb7fa916",
     "locked": false,
     "points": 1,
     "schema_version": 3,
     "solution": true
    }
   },
   "source": [
    "$$ x(t) = A\\cos\\left(\\frac{2\\pi t}{T} + \\phi\\right) $$"
   ]
  },
  {
   "cell_type": "markdown",
   "metadata": {
    "nbgrader": {
     "grade": false,
     "grade_id": "cell-a5f85123c435e7dd",
     "locked": true,
     "schema_version": 3,
     "solution": false
    }
   },
   "source": [
    "### Task 7: Make plot of simple harmonic motion (1 point for graph, 1 for autograding, 1 for comments)\n",
    "Follow these steps to create a plot of $x$ vs $t$ over 3 periods of motion (starting at t = 0):\n",
    "1. Define the variables (parameters) given in the problem\n",
    "1. Use `np.linspace()` to create an array of 100 time values ranging from $[0,3T]$, and store them in a variable named `t_osc`.\n",
    "1. Calculate the discplacement array **`x_osc`** array from **`t_osc`** using your equation from the previous task.\n",
    "1. Add comments to each line. If you don't, you will lose 1 point."
   ]
  },
  {
   "cell_type": "code",
   "execution_count": 30,
   "metadata": {
    "nbgrader": {
     "grade": true,
     "grade_id": "cell-e78ef2522ff8612d",
     "locked": false,
     "points": 2,
     "schema_version": 3,
     "solution": true
    }
   },
   "outputs": [
    {
     "name": "stdout",
     "output_type": "stream",
     "text": [
      "100\n"
     ]
    },
    {
     "data": {
      "image/png": "[encoded data removed]",
      "text/plain": [
       "<Figure size 432x288 with 1 Axes>"
      ]
     },
     "metadata": {
      "needs_background": "light"
     },
     "output_type": "display_data"
    }
   ],
   "source": [
    "from numpy import pi\n",
    "\n",
    "A = 0.1  # amplitude in meters\n",
    "T = 0.5 # period in seconds\n",
    "phi = 0 # phase shift in radians\n",
    "\n",
    "t_osc = np.linspace(0,3*T, 100) # create a range of time values\n",
    "x_osc = A * np.cos(2 * pi * t_osc/ T + phi)  # compute oscillation\n",
    "\n",
    "plt.plot(t_osc, x_osc)\n",
    "plt.xlabel(\"Time (s)\")\n",
    "plt.ylabel(\"Displacement (m)\")\n",
    "\n",
    "print(len(t_osc))"
   ]
  },
  {
   "cell_type": "code",
   "execution_count": 31,
   "metadata": {
    "nbgrader": {
     "grade": true,
     "grade_id": "cell-2d070c2c3cd9a996",
     "locked": true,
     "points": 1,
     "schema_version": 3,
     "solution": false
    }
   },
   "outputs": [],
   "source": [
    "\"\"\"Check the values (1 point for passing the autograding) \"\"\"\n",
    "# A NameError is produced if the variable name is not correct. \n",
    "# check the arrays t_osc and x_osc\n",
    "\n",
    "assert len(t_osc) == 100 # check length of each list is correct\n",
    "assert len(x_osc) == 100 \n",
    "\n",
    "assert type(t_osc) == np.ndarray  # check numpy arrays were used\n",
    "assert type(x_osc) == np.ndarray \n",
    "\n",
    "assert abs(t_osc[-1] - 1.5)/(1.5) < 0.02  # check the end point of the time array\n",
    "assert abs(x_osc[0] - 0.1)/0.1 < 0.01  # initial x position\n",
    "assert abs(x_osc[-1] - 0.1)/0.1 < 0.01  # check final x position, which should be a maximum\n",
    "\n",
    "# Remember you STILL need to make the plot. Autograding just checks the values. "
   ]
  },
  {
   "cell_type": "markdown",
   "metadata": {
    "nbgrader": {
     "grade": false,
     "grade_id": "cell-1169c672212c8b5d",
     "locked": true,
     "schema_version": 3,
     "solution": false
    }
   },
   "source": [
    "## Task 8-10: Kinematic trajectory of a ball\n",
    "A ball is thrown upwards at $9 \\textrm{ m/s}$ toward a platform located $4.1 \\textrm{ m}$ above the point where you release the ball. Air resistance is negligable. Assume $g = 9.8 \\textrm{ m/s}^2$."
   ]
  },
  {
   "cell_type": "markdown",
   "metadata": {
    "nbgrader": {
     "grade": false,
     "grade_id": "cell-070a3d55a2aac2db",
     "locked": true,
     "schema_version": 3,
     "solution": false
    }
   },
   "source": [
    "### Task 8: Enter LaTeX equation for height of the ball as a function of time (1 point)\n",
    "* Enter the equation for the ball's position $y(t)$ as a function of the other parameters, like the initial conditions and gravitational acceleration $g$.\n",
    "* Keep your equation symbolic. Use LaTeX to enter the equation below."
   ]
  },
  {
   "cell_type": "markdown",
   "metadata": {
    "nbgrader": {
     "grade": true,
     "grade_id": "cell-b1c271c8cf7cfe6f",
     "locked": false,
     "points": 1,
     "schema_version": 3,
     "solution": true
    }
   },
   "source": [
    "$$y(t) = y_0 + v_0 t + \\frac{1}{2}a_y t^2$$\n",
    "$$a_y = -g = -9.8 \\textrm{ m/s}^2$$"
   ]
  },
  {
   "cell_type": "markdown",
   "metadata": {
    "nbgrader": {
     "grade": false,
     "grade_id": "cell-aaeea74a4c338bb3",
     "locked": true,
     "schema_version": 3,
     "solution": false
    }
   },
   "source": [
    "### Task 9: Make plot of the height of the ball as a function of time (1 pt for graph, 1 pt for autograding, 1 for comments)\n",
    "* Add all axes labels\n",
    "* Use the time range $[0,5]$ seconds with 100 time values.\n",
    "* Name the two arrays `t_ball` and `y_ball` (for autograding purposes)\n",
    "* Add comments to each line. If you don't, you will lose 1 point.\n",
    "\n"
   ]
  },
  {
   "cell_type": "code",
   "execution_count": 33,
   "metadata": {
    "nbgrader": {
     "grade": true,
     "grade_id": "cell-0eb936a1667d5c56",
     "locked": false,
     "points": 2,
     "schema_version": 3,
     "solution": true,
     "task": false
    }
   },
   "outputs": [
    {
     "name": "stdout",
     "output_type": "stream",
     "text": [
      "-77.50000000000001\n"
     ]
    },
    {
     "data": {
      "image/png": "[encoded data removed]",
      "text/plain": [
       "<Figure size 432x288 with 1 Axes>"
      ]
     },
     "metadata": {
      "needs_background": "light"
     },
     "output_type": "display_data"
    }
   ],
   "source": [
    "# Task 9 Solution\n",
    "\n",
    "# enter given parameters\n",
    "v0y = 9.0\n",
    "y0 = 0\n",
    "g = 9.8\n",
    "\n",
    "# calculate the t_traj and y_traj arrays\n",
    "t_ball = np.linspace(0,5,100)\n",
    "y_ball = y0 + v0y * t_ball + (-0.5*g) * t_ball**2\n",
    "\n",
    "plt.plot(t_ball,y_ball)\n",
    "plt.xlabel(\"Time (s)\")\n",
    "plt.ylabel(\"Height (m)\")\n",
    "\n",
    "print(y_ball[-1])"
   ]
  },
  {
   "cell_type": "code",
   "execution_count": 34,
   "metadata": {
    "nbgrader": {
     "grade": true,
     "grade_id": "cell-810026009acd4691",
     "locked": true,
     "points": 1,
     "schema_version": 3,
     "solution": false
    }
   },
   "outputs": [],
   "source": [
    "\"\"\"Check the values \"\"\"\n",
    "# A NameError is produced if the variable name is not correct. \n",
    "# check the arrays t_traj and y_traj\n",
    "\n",
    "assert len(t_ball) == 100 # check length of each list is correct\n",
    "assert len(y_ball) == 100 \n",
    "\n",
    "assert type(t_ball) == np.ndarray  # check numpy arrays were used\n",
    "assert type(y_ball) == np.ndarray \n",
    "\n",
    "assert abs(t_ball[-1] - 5)/(5) < 0.02  # check the end point of the time array\n",
    "assert abs(y_ball[0] - 0)/0.1 < 0.01  # initial y position\n",
    "assert abs(y_ball[-1] - (-77.5))/77.5 < 0.01  # check final y position at 5 seconds\n",
    "\n",
    "# Remember you STILL need to make the plot. Autograding just checks the values. "
   ]
  },
  {
   "cell_type": "markdown",
   "metadata": {
    "nbgrader": {
     "grade": false,
     "grade_id": "cell-dd85e3cda1f6e054",
     "locked": true,
     "schema_version": 3,
     "solution": false
    }
   },
   "source": [
    "### Task 10 : Graphically find time when ball reaches the platform (ungraded)\n",
    "The general idea is to simultaneously plot $y_\\textrm{ball}(t)$ and $y_\\textrm{platform} = 4.1$ and find the times where the curves intersect.\n",
    "\n",
    "\n",
    "* Copy and paste your code from the previous task as a starting point\n",
    "* You can create an array of constant values using \n",
    "    * `y_platform = 4.1 * np.ones()`, \n",
    "    * This generates an array of constant values (all equal to 1) and multiplies by 4.1.\n",
    "* Use `plt.xlim()` and `plt.ylim()` to adjust the plot range and zoom in on the crossings. \n",
    "* Add all axes labels and other nice format.\n"
   ]
  },
  {
   "cell_type": "code",
   "execution_count": 35,
   "metadata": {
    "nbgrader": {
     "grade": false,
     "grade_id": "cell-43c6611ec45b638e",
     "locked": false,
     "schema_version": 3,
     "solution": true,
     "task": false
    }
   },
   "outputs": [
    {
     "data": {
      "text/plain": [
       "(4.0, 4.2)"
      ]
     },
     "execution_count": 35,
     "metadata": {},
     "output_type": "execute_result"
    },
    {
     "data": {
      "image/png": "[encoded data removed]",
      "text/plain": [
       "<Figure size 432x288 with 1 Axes>"
      ]
     },
     "metadata": {
      "needs_background": "light"
     },
     "output_type": "display_data"
    }
   ],
   "source": [
    "\"\"\"\n",
    "Plot two curves for y_ball and y_platform. Find the times where they intersect.\n",
    "\"\"\"\n",
    "\n",
    "### BEGIN SOLUTION\n",
    "\n",
    "# enter given parameters\n",
    "v0y = 9.0\n",
    "y0 = 0\n",
    "g = 9.8\n",
    "\n",
    "# calculate the t_traj and y_traj arrays\n",
    "t_ball = np.linspace(0,5,100)\n",
    "y_ball = y0 + v0y * t_ball + (-0.5*g) * t_ball**2\n",
    "y_platform = 4.1 * np.ones(100) # create list of 100 1's\n",
    "\n",
    "plt.figure()\n",
    "plt.plot(t_ball,y_ball)\n",
    "plt.plot(t_ball,y_platform)\n",
    "plt.xlabel(\"Time (s)\")\n",
    "plt.ylabel(\"Height (m)\")\n",
    "\n",
    "plt.xlim(0.75,1.1)\n",
    "plt.ylim(4.0,4.2)\n",
    "\n",
    "### END SOLUTION"
   ]
  },
  {
   "cell_type": "markdown",
   "metadata": {
    "nbgrader": {
     "grade": false,
     "grade_id": "cell-ab1a74d081e668e4",
     "locked": true,
     "schema_version": 3,
     "solution": false
    }
   },
   "source": [
    "Check that your two graphical solutions are approximately $t = 0.84 \\textrm{ s}$ and $t = 1.00 \\textrm{ s}$."
   ]
  },
  {
   "cell_type": "markdown",
   "metadata": {
    "nbgrader": {
     "grade": false,
     "grade_id": "cell-99af913658b1f465",
     "locked": true,
     "schema_version": 3,
     "solution": false,
     "task": false
    }
   },
   "source": [
    "### Bonus topic: Creating zoomable plots\n",
    "The command `%matplotlib notebook` changes how plots are displayed and permits zooming and panning. \n",
    "\n",
    "1. You should put the \"magic command\" at the top of every cell where you want an interactive plot.\n",
    "1. If you click the \"power button\", the plot ceases to be interactive. \n",
    "1. Plots from different cells can accidentally get combined \n",
    "\n",
    "The command `%matplotlib inline` restores plots back to regular non-zoomable plots."
   ]
  },
  {
   "cell_type": "code",
   "execution_count": 40,
   "metadata": {},
   "outputs": [
    {
     "data": {
      "application/javascript": [
       "/* Put everything inside the global mpl namespace */\n",
       "window.mpl = {};\n",
       "\n",
       "\n",
       "mpl.get_websocket_type = function() {\n",
       "    if (typeof(WebSocket) !== 'undefined') {\n",
       "        return WebSocket;\n",
       "    } else if (typeof(MozWebSocket) !== 'undefined') {\n",
       "        return MozWebSocket;\n",
       "    } else {\n",
       "        alert('Your browser does not have WebSocket support. ' +\n",
       "              'Please try Chrome, Safari or Firefox ≥ 6. ' +\n",
       "              'Firefox 4 and 5 are also supported but you ' +\n",
       "              'have to enable WebSockets in about:config.');\n",
       "    };\n",
       "}\n",
       "\n",
       "mpl.figure = function(figure_id, websocket, ondownload, parent_element) {\n",
       "    this.id = figure_id;\n",
       "\n",
       "    this.ws = websocket;\n",
       "\n",
       "    this.supports_binary = (this.ws.binaryType != undefined);\n",
       "\n",
       "    if (!this.supports_binary) {\n",
       "        var warnings = document.getElementById(\"mpl-warnings\");\n",
       "        if (warnings) {\n",
       "            warnings.style.display = 'block';\n",
       "            warnings.textContent = (\n",
       "                \"This browser does not support binary websocket messages. \" +\n",
       "                    \"Performance may be slow.\");\n",
       "        }\n",
       "    }\n",
       "\n",
       "    this.imageObj = new Image();\n",
       "\n",
       "    this.context = undefined;\n",
       "    this.message = undefined;\n",
       "    this.canvas = undefined;\n",
       "    this.rubberband_canvas = undefined;\n",
       "    this.rubberband_context = undefined;\n",
       "    this.format_dropdown = undefined;\n",
       "\n",
       "    this.image_mode = 'full';\n",
       "\n",
       "    this.root = $('<div/>');\n",
       "    this._root_extra_style(this.root)\n",
       "    this.root.attr('style', 'display: inline-block');\n",
       "\n",
       "    $(parent_element).append(this.root);\n",
       "\n",
       "    this._init_header(this);\n",
       "    this._init_canvas(this);\n",
       "    this._init_toolbar(this);\n",
       "\n",
       "    var fig = this;\n",
       "\n",
       "    this.waiting = false;\n",
       "\n",
       "    this.ws.onopen =  function () {\n",
       "            fig.send_message(\"supports_binary\", {value: fig.supports_binary});\n",
       "            fig.send_message(\"send_image_mode\", {});\n",
       "            if (mpl.ratio != 1) {\n",
       "                fig.send_message(\"set_dpi_ratio\", {'dpi_ratio': mpl.ratio});\n",
       "            }\n",
       "            fig.send_message(\"refresh\", {});\n",
       "        }\n",
       "\n",
       "    this.imageObj.onload = function() {\n",
       "            if (fig.image_mode == 'full') {\n",
       "                // Full images could contain transparency (where diff images\n",
       "                // almost always do), so we need to clear the canvas so that\n",
       "                // there is no ghosting.\n",
       "                fig.context.clearRect(0, 0, fig.canvas.width, fig.canvas.height);\n",
       "            }\n",
       "            fig.context.drawImage(fig.imageObj, 0, 0);\n",
       "        };\n",
       "\n",
       "    this.imageObj.onunload = function() {\n",
       "        fig.ws.close();\n",
       "    }\n",
       "\n",
       "    this.ws.onmessage = this._make_on_message_function(this);\n",
       "\n",
       "    this.ondownload = ondownload;\n",
       "}\n",
       "\n",
       "mpl.figure.prototype._init_header = function() {\n",
       "    var titlebar = $(\n",
       "        '<div class=\"ui-dialog-titlebar ui-widget-header ui-corner-all ' +\n",
       "        'ui-helper-clearfix\"/>');\n",
       "    var titletext = $(\n",
       "        '<div class=\"ui-dialog-title\" style=\"width: 100%; ' +\n",
       "        'text-align: center; padding: 3px;\"/>');\n",
       "    titlebar.append(titletext)\n",
       "    this.root.append(titlebar);\n",
       "    this.header = titletext[0];\n",
       "}\n",
       "\n",
       "\n",
       "\n",
       "mpl.figure.prototype._canvas_extra_style = function(canvas_div) {\n",
       "\n",
       "}\n",
       "\n",
       "\n",
       "mpl.figure.prototype._root_extra_style = function(canvas_div) {\n",
       "\n",
       "}\n",
       "\n",
       "mpl.figure.prototype._init_canvas = function() {\n",
       "    var fig = this;\n",
       "\n",
       "    var canvas_div = $('<div/>');\n",
       "\n",
       "    canvas_div.attr('style', 'position: relative; clear: both; outline: 0');\n",
       "\n",
       "    function canvas_keyboard_event(event) {\n",
       "        return fig.key_event(event, event['data']);\n",
       "    }\n",
       "\n",
       "    canvas_div.keydown('key_press', canvas_keyboard_event);\n",
       "    canvas_div.keyup('key_release', canvas_keyboard_event);\n",
       "    this.canvas_div = canvas_div\n",
       "    this._canvas_extra_style(canvas_div)\n",
       "    this.root.append(canvas_div);\n",
       "\n",
       "    var canvas = $('<canvas/>');\n",
       "    canvas.addClass('mpl-canvas');\n",
       "    canvas.attr('style', \"left: 0; top: 0; z-index: 0; outline: 0\")\n",
       "\n",
       "    this.canvas = canvas[0];\n",
       "    this.context = canvas[0].getContext(\"2d\");\n",
       "\n",
       "    var backingStore = this.context.backingStorePixelRatio ||\n",
       "\tthis.context.webkitBackingStorePixelRatio ||\n",
       "\tthis.context.mozBackingStorePixelRatio ||\n",
       "\tthis.context.msBackingStorePixelRatio ||\n",
       "\tthis.context.oBackingStorePixelRatio ||\n",
       "\tthis.context.backingStorePixelRatio || 1;\n",
       "\n",
       "    mpl.ratio = (window.devicePixelRatio || 1) / backingStore;\n",
       "\n",
       "    var rubberband = $('<canvas/>');\n",
       "    rubberband.attr('style', \"position: absolute; left: 0; top: 0; z-index: 1;\")\n",
       "\n",
       "    var pass_mouse_events = true;\n",
       "\n",
       "    canvas_div.resizable({\n",
       "        start: function(event, ui) {\n",
       "            pass_mouse_events = false;\n",
       "        },\n",
       "        resize: function(event, ui) {\n",
       "            fig.request_resize(ui.size.width, ui.size.height);\n",
       "        },\n",
       "        stop: function(event, ui) {\n",
       "            pass_mouse_events = true;\n",
       "            fig.request_resize(ui.size.width, ui.size.height);\n",
       "        },\n",
       "    });\n",
       "\n",
       "    function mouse_event_fn(event) {\n",
       "        if (pass_mouse_events)\n",
       "            return fig.mouse_event(event, event['data']);\n",
       "    }\n",
       "\n",
       "    rubberband.mousedown('button_press', mouse_event_fn);\n",
       "    rubberband.mouseup('button_release', mouse_event_fn);\n",
       "    // Throttle sequential mouse events to 1 every 20ms.\n",
       "    rubberband.mousemove('motion_notify', mouse_event_fn);\n",
       "\n",
       "    rubberband.mouseenter('figure_enter', mouse_event_fn);\n",
       "    rubberband.mouseleave('figure_leave', mouse_event_fn);\n",
       "\n",
       "    canvas_div.on(\"wheel\", function (event) {\n",
       "        event = event.originalEvent;\n",
       "        event['data'] = 'scroll'\n",
       "        if (event.deltaY < 0) {\n",
       "            event.step = 1;\n",
       "        } else {\n",
       "            event.step = -1;\n",
       "        }\n",
       "        mouse_event_fn(event);\n",
       "    });\n",
       "\n",
       "    canvas_div.append(canvas);\n",
       "    canvas_div.append(rubberband);\n",
       "\n",
       "    this.rubberband = rubberband;\n",
       "    this.rubberband_canvas = rubberband[0];\n",
       "    this.rubberband_context = rubberband[0].getContext(\"2d\");\n",
       "    this.rubberband_context.strokeStyle = \"#000000\";\n",
       "\n",
       "    this._resize_canvas = function(width, height) {\n",
       "        // Keep the size of the canvas, canvas container, and rubber band\n",
       "        // canvas in synch.\n",
       "        canvas_div.css('width', width)\n",
       "        canvas_div.css('height', height)\n",
       "\n",
       "        canvas.attr('width', width * mpl.ratio);\n",
       "        canvas.attr('height', height * mpl.ratio);\n",
       "        canvas.attr('style', 'width: ' + width + 'px; height: ' + height + 'px;');\n",
       "\n",
       "        rubberband.attr('width', width);\n",
       "        rubberband.attr('height', height);\n",
       "    }\n",
       "\n",
       "    // Set the figure to an initial 600x600px, this will subsequently be updated\n",
       "    // upon first draw.\n",
       "    this._resize_canvas(600, 600);\n",
       "\n",
       "    // Disable right mouse context menu.\n",
       "    $(this.rubberband_canvas).bind(\"contextmenu\",function(e){\n",
       "        return false;\n",
       "    });\n",
       "\n",
       "    function set_focus () {\n",
       "        canvas.focus();\n",
       "        canvas_div.focus();\n",
       "    }\n",
       "\n",
       "    window.setTimeout(set_focus, 100);\n",
       "}\n",
       "\n",
       "mpl.figure.prototype._init_toolbar = function() {\n",
       "    var fig = this;\n",
       "\n",
       "    var nav_element = $('<div/>');\n",
       "    nav_element.attr('style', 'width: 100%');\n",
       "    this.root.append(nav_element);\n",
       "\n",
       "    // Define a callback function for later on.\n",
       "    function toolbar_event(event) {\n",
       "        return fig.toolbar_button_onclick(event['data']);\n",
       "    }\n",
       "    function toolbar_mouse_event(event) {\n",
       "        return fig.toolbar_button_onmouseover(event['data']);\n",
       "    }\n",
       "\n",
       "    for(var toolbar_ind in mpl.toolbar_items) {\n",
       "        var name = mpl.toolbar_items[toolbar_ind][0];\n",
       "        var tooltip = mpl.toolbar_items[toolbar_ind][1];\n",
       "        var image = mpl.toolbar_items[toolbar_ind][2];\n",
       "        var method_name = mpl.toolbar_items[toolbar_ind][3];\n",
       "\n",
       "        if (!name) {\n",
       "            // put a spacer in here.\n",
       "            continue;\n",
       "        }\n",
       "        var button = $('<button/>');\n",
       "        button.addClass('ui-button ui-widget ui-state-default ui-corner-all ' +\n",
       "                        'ui-button-icon-only');\n",
       "        button.attr('role', 'button');\n",
       "        button.attr('aria-disabled', 'false');\n",
       "        button.click(method_name, toolbar_event);\n",
       "        button.mouseover(tooltip, toolbar_mouse_event);\n",
       "\n",
       "        var icon_img = $('<span/>');\n",
       "        icon_img.addClass('ui-button-icon-primary ui-icon');\n",
       "        icon_img.addClass(image);\n",
       "        icon_img.addClass('ui-corner-all');\n",
       "\n",
       "        var tooltip_span = $('<span/>');\n",
       "        tooltip_span.addClass('ui-button-text');\n",
       "        tooltip_span.html(tooltip);\n",
       "\n",
       "        button.append(icon_img);\n",
       "        button.append(tooltip_span);\n",
       "\n",
       "        nav_element.append(button);\n",
       "    }\n",
       "\n",
       "    var fmt_picker_span = $('<span/>');\n",
       "\n",
       "    var fmt_picker = $('<select/>');\n",
       "    fmt_picker.addClass('mpl-toolbar-option ui-widget ui-widget-content');\n",
       "    fmt_picker_span.append(fmt_picker);\n",
       "    nav_element.append(fmt_picker_span);\n",
       "    this.format_dropdown = fmt_picker[0];\n",
       "\n",
       "    for (var ind in mpl.extensions) {\n",
       "        var fmt = mpl.extensions[ind];\n",
       "        var option = $(\n",
       "            '<option/>', {selected: fmt === mpl.default_extension}).html(fmt);\n",
       "        fmt_picker.append(option);\n",
       "    }\n",
       "\n",
       "    // Add hover states to the ui-buttons\n",
       "    $( \".ui-button\" ).hover(\n",
       "        function() { $(this).addClass(\"ui-state-hover\");},\n",
       "        function() { $(this).removeClass(\"ui-state-hover\");}\n",
       "    );\n",
       "\n",
       "    var status_bar = $('<span class=\"mpl-message\"/>');\n",
       "    nav_element.append(status_bar);\n",
       "    this.message = status_bar[0];\n",
       "}\n",
       "\n",
       "mpl.figure.prototype.request_resize = function(x_pixels, y_pixels) {\n",
       "    // Request matplotlib to resize the figure. Matplotlib will then trigger a resize in the client,\n",
       "    // which will in turn request a refresh of the image.\n",
       "    this.send_message('resize', {'width': x_pixels, 'height': y_pixels});\n",
       "}\n",
       "\n",
       "mpl.figure.prototype.send_message = function(type, properties) {\n",
       "    properties['type'] = type;\n",
       "    properties['figure_id'] = this.id;\n",
       "    this.ws.send(JSON.stringify(properties));\n",
       "}\n",
       "\n",
       "mpl.figure.prototype.send_draw_message = function() {\n",
       "    if (!this.waiting) {\n",
       "        this.waiting = true;\n",
       "        this.ws.send(JSON.stringify({type: \"draw\", figure_id: this.id}));\n",
       "    }\n",
       "}\n",
       "\n",
       "\n",
       "mpl.figure.prototype.handle_save = function(fig, msg) {\n",
       "    var format_dropdown = fig.format_dropdown;\n",
       "    var format = format_dropdown.options[format_dropdown.selectedIndex].value;\n",
       "    fig.ondownload(fig, format);\n",
       "}\n",
       "\n",
       "\n",
       "mpl.figure.prototype.handle_resize = function(fig, msg) {\n",
       "    var size = msg['size'];\n",
       "    if (size[0] != fig.canvas.width || size[1] != fig.canvas.height) {\n",
       "        fig._resize_canvas(size[0], size[1]);\n",
       "        fig.send_message(\"refresh\", {});\n",
       "    };\n",
       "}\n",
       "\n",
       "mpl.figure.prototype.handle_rubberband = function(fig, msg) {\n",
       "    var x0 = msg['x0'] / mpl.ratio;\n",
       "    var y0 = (fig.canvas.height - msg['y0']) / mpl.ratio;\n",
       "    var x1 = msg['x1'] / mpl.ratio;\n",
       "    var y1 = (fig.canvas.height - msg['y1']) / mpl.ratio;\n",
       "    x0 = Math.floor(x0) + 0.5;\n",
       "    y0 = Math.floor(y0) + 0.5;\n",
       "    x1 = Math.floor(x1) + 0.5;\n",
       "    y1 = Math.floor(y1) + 0.5;\n",
       "    var min_x = Math.min(x0, x1);\n",
       "    var min_y = Math.min(y0, y1);\n",
       "    var width = Math.abs(x1 - x0);\n",
       "    var height = Math.abs(y1 - y0);\n",
       "\n",
       "    fig.rubberband_context.clearRect(\n",
       "        0, 0, fig.canvas.width / mpl.ratio, fig.canvas.height / mpl.ratio);\n",
       "\n",
       "    fig.rubberband_context.strokeRect(min_x, min_y, width, height);\n",
       "}\n",
       "\n",
       "mpl.figure.prototype.handle_figure_label = function(fig, msg) {\n",
       "    // Updates the figure title.\n",
       "    fig.header.textContent = msg['label'];\n",
       "}\n",
       "\n",
       "mpl.figure.prototype.handle_cursor = function(fig, msg) {\n",
       "    var cursor = msg['cursor'];\n",
       "    switch(cursor)\n",
       "    {\n",
       "    case 0:\n",
       "        cursor = 'pointer';\n",
       "        break;\n",
       "    case 1:\n",
       "        cursor = 'default';\n",
       "        break;\n",
       "    case 2:\n",
       "        cursor = 'crosshair';\n",
       "        break;\n",
       "    case 3:\n",
       "        cursor = 'move';\n",
       "        break;\n",
       "    }\n",
       "    fig.rubberband_canvas.style.cursor = cursor;\n",
       "}\n",
       "\n",
       "mpl.figure.prototype.handle_message = function(fig, msg) {\n",
       "    fig.message.textContent = msg['message'];\n",
       "}\n",
       "\n",
       "mpl.figure.prototype.handle_draw = function(fig, msg) {\n",
       "    // Request the server to send over a new figure.\n",
       "    fig.send_draw_message();\n",
       "}\n",
       "\n",
       "mpl.figure.prototype.handle_image_mode = function(fig, msg) {\n",
       "    fig.image_mode = msg['mode'];\n",
       "}\n",
       "\n",
       "mpl.figure.prototype.updated_canvas_event = function() {\n",
       "    // Called whenever the canvas gets updated.\n",
       "    this.send_message(\"ack\", {});\n",
       "}\n",
       "\n",
       "// A function to construct a web socket function for onmessage handling.\n",
       "// Called in the figure constructor.\n",
       "mpl.figure.prototype._make_on_message_function = function(fig) {\n",
       "    return function socket_on_message(evt) {\n",
       "        if (evt.data instanceof Blob) {\n",
       "            /* FIXME: We get \"Resource interpreted as Image but\n",
       "             * transferred with MIME type text/plain:\" errors on\n",
       "             * Chrome.  But how to set the MIME type?  It doesn't seem\n",
       "             * to be part of the websocket stream */\n",
       "            evt.data.type = \"image/png\";\n",
       "\n",
       "            /* Free the memory for the previous frames */\n",
       "            if (fig.imageObj.src) {\n",
       "                (window.URL || window.webkitURL).revokeObjectURL(\n",
       "                    fig.imageObj.src);\n",
       "            }\n",
       "\n",
       "            fig.imageObj.src = (window.URL || window.webkitURL).createObjectURL(\n",
       "                evt.data);\n",
       "            fig.updated_canvas_event();\n",
       "            fig.waiting = false;\n",
       "            return;\n",
       "        }\n",
       "        else if (typeof evt.data === 'string' && evt.data.slice(0, 21) == \"data:image/png;base64\") {\n",
       "            fig.imageObj.src = evt.data;\n",
       "            fig.updated_canvas_event();\n",
       "            fig.waiting = false;\n",
       "            return;\n",
       "        }\n",
       "\n",
       "        var msg = JSON.parse(evt.data);\n",
       "        var msg_type = msg['type'];\n",
       "\n",
       "        // Call the  \"handle_{type}\" callback, which takes\n",
       "        // the figure and JSON message as its only arguments.\n",
       "        try {\n",
       "            var callback = fig[\"handle_\" + msg_type];\n",
       "        } catch (e) {\n",
       "            console.log(\"No handler for the '\" + msg_type + \"' message type: \", msg);\n",
       "            return;\n",
       "        }\n",
       "\n",
       "        if (callback) {\n",
       "            try {\n",
       "                // console.log(\"Handling '\" + msg_type + \"' message: \", msg);\n",
       "                callback(fig, msg);\n",
       "            } catch (e) {\n",
       "                console.log(\"Exception inside the 'handler_\" + msg_type + \"' callback:\", e, e.stack, msg);\n",
       "            }\n",
       "        }\n",
       "    };\n",
       "}\n",
       "\n",
       "// from http://stackoverflow.com/questions/1114465/getting-mouse-location-in-canvas\n",
       "mpl.findpos = function(e) {\n",
       "    //this section is from http://www.quirksmode.org/js/events_properties.html\n",
       "    var targ;\n",
       "    if (!e)\n",
       "        e = window.event;\n",
       "    if (e.target)\n",
       "        targ = e.target;\n",
       "    else if (e.srcElement)\n",
       "        targ = e.srcElement;\n",
       "    if (targ.nodeType == 3) // defeat Safari bug\n",
       "        targ = targ.parentNode;\n",
       "\n",
       "    // jQuery normalizes the pageX and pageY\n",
       "    // pageX,Y are the mouse positions relative to the document\n",
       "    // offset() returns the position of the element relative to the document\n",
       "    var x = e.pageX - $(targ).offset().left;\n",
       "    var y = e.pageY - $(targ).offset().top;\n",
       "\n",
       "    return {\"x\": x, \"y\": y};\n",
       "};\n",
       "\n",
       "/*\n",
       " * return a copy of an object with only non-object keys\n",
       " * we need this to avoid circular references\n",
       " * http://stackoverflow.com/a/24161582/3208463\n",
       " */\n",
       "function simpleKeys (original) {\n",
       "  return Object.keys(original).reduce(function (obj, key) {\n",
       "    if (typeof original[key] !== 'object')\n",
       "        obj[key] = original[key]\n",
       "    return obj;\n",
       "  }, {});\n",
       "}\n",
       "\n",
       "mpl.figure.prototype.mouse_event = function(event, name) {\n",
       "    var canvas_pos = mpl.findpos(event)\n",
       "\n",
       "    if (name === 'button_press')\n",
       "    {\n",
       "        this.canvas.focus();\n",
       "        this.canvas_div.focus();\n",
       "    }\n",
       "\n",
       "    var x = canvas_pos.x * mpl.ratio;\n",
       "    var y = canvas_pos.y * mpl.ratio;\n",
       "\n",
       "    this.send_message(name, {x: x, y: y, button: event.button,\n",
       "                             step: event.step,\n",
       "                             guiEvent: simpleKeys(event)});\n",
       "\n",
       "    /* This prevents the web browser from automatically changing to\n",
       "     * the text insertion cursor when the button is pressed.  We want\n",
       "     * to control all of the cursor setting manually through the\n",
       "     * 'cursor' event from matplotlib */\n",
       "    event.preventDefault();\n",
       "    return false;\n",
       "}\n",
       "\n",
       "mpl.figure.prototype._key_event_extra = function(event, name) {\n",
       "    // Handle any extra behaviour associated with a key event\n",
       "}\n",
       "\n",
       "mpl.figure.prototype.key_event = function(event, name) {\n",
       "\n",
       "    // Prevent repeat events\n",
       "    if (name == 'key_press')\n",
       "    {\n",
       "        if (event.which === this._key)\n",
       "            return;\n",
       "        else\n",
       "            this._key = event.which;\n",
       "    }\n",
       "    if (name == 'key_release')\n",
       "        this._key = null;\n",
       "\n",
       "    var value = '';\n",
       "    if (event.ctrlKey && event.which != 17)\n",
       "        value += \"ctrl+\";\n",
       "    if (event.altKey && event.which != 18)\n",
       "        value += \"alt+\";\n",
       "    if (event.shiftKey && event.which != 16)\n",
       "        value += \"shift+\";\n",
       "\n",
       "    value += 'k';\n",
       "    value += event.which.toString();\n",
       "\n",
       "    this._key_event_extra(event, name);\n",
       "\n",
       "    this.send_message(name, {key: value,\n",
       "                             guiEvent: simpleKeys(event)});\n",
       "    return false;\n",
       "}\n",
       "\n",
       "mpl.figure.prototype.toolbar_button_onclick = function(name) {\n",
       "    if (name == 'download') {\n",
       "        this.handle_save(this, null);\n",
       "    } else {\n",
       "        this.send_message(\"toolbar_button\", {name: name});\n",
       "    }\n",
       "};\n",
       "\n",
       "mpl.figure.prototype.toolbar_button_onmouseover = function(tooltip) {\n",
       "    this.message.textContent = tooltip;\n",
       "};\n",
       "mpl.toolbar_items = [[\"Home\", \"Reset original view\", \"fa fa-home icon-home\", \"home\"], [\"Back\", \"Back to previous view\", \"fa fa-arrow-left icon-arrow-left\", \"back\"], [\"Forward\", \"Forward to next view\", \"fa fa-arrow-right icon-arrow-right\", \"forward\"], [\"\", \"\", \"\", \"\"], [\"Pan\", \"Pan axes with left mouse, zoom with right\", \"fa fa-arrows icon-move\", \"pan\"], [\"Zoom\", \"Zoom to rectangle\", \"fa fa-square-o icon-check-empty\", \"zoom\"], [\"\", \"\", \"\", \"\"], [\"Download\", \"Download plot\", \"fa fa-floppy-o icon-save\", \"download\"]];\n",
       "\n",
       "mpl.extensions = [\"eps\", \"pdf\", \"png\", \"ps\", \"raw\", \"svg\"];\n",
       "\n",
       "mpl.default_extension = \"png\";var comm_websocket_adapter = function(comm) {\n",
       "    // Create a \"websocket\"-like object which calls the given IPython comm\n",
       "    // object with the appropriate methods. Currently this is a non binary\n",
       "    // socket, so there is still some room for performance tuning.\n",
       "    var ws = {};\n",
       "\n",
       "    ws.close = function() {\n",
       "        comm.close()\n",
       "    };\n",
       "    ws.send = function(m) {\n",
       "        //console.log('sending', m);\n",
       "        comm.send(m);\n",
       "    };\n",
       "    // Register the callback with on_msg.\n",
       "    comm.on_msg(function(msg) {\n",
       "        //console.log('receiving', msg['content']['data'], msg);\n",
       "        // Pass the mpl event to the overridden (by mpl) onmessage function.\n",
       "        ws.onmessage(msg['content']['data'])\n",
       "    });\n",
       "    return ws;\n",
       "}\n",
       "\n",
       "mpl.mpl_figure_comm = function(comm, msg) {\n",
       "    // This is the function which gets called when the mpl process\n",
       "    // starts-up an IPython Comm through the \"matplotlib\" channel.\n",
       "\n",
       "    var id = msg.content.data.id;\n",
       "    // Get hold of the div created by the display call when the Comm\n",
       "    // socket was opened in Python.\n",
       "    var element = $(\"#\" + id);\n",
       "    var ws_proxy = comm_websocket_adapter(comm)\n",
       "\n",
       "    function ondownload(figure, format) {\n",
       "        window.open(figure.imageObj.src);\n",
       "    }\n",
       "\n",
       "    var fig = new mpl.figure(id, ws_proxy,\n",
       "                           ondownload,\n",
       "                           element.get(0));\n",
       "\n",
       "    // Call onopen now - mpl needs it, as it is assuming we've passed it a real\n",
       "    // web socket which is closed, not our websocket->open comm proxy.\n",
       "    ws_proxy.onopen();\n",
       "\n",
       "    fig.parent_element = element.get(0);\n",
       "    fig.cell_info = mpl.find_output_cell(\"<div id='\" + id + \"'></div>\");\n",
       "    if (!fig.cell_info) {\n",
       "        console.error(\"Failed to find cell for figure\", id, fig);\n",
       "        return;\n",
       "    }\n",
       "\n",
       "    var output_index = fig.cell_info[2]\n",
       "    var cell = fig.cell_info[0];\n",
       "\n",
       "};\n",
       "\n",
       "mpl.figure.prototype.handle_close = function(fig, msg) {\n",
       "    var width = fig.canvas.width/mpl.ratio\n",
       "    fig.root.unbind('remove')\n",
       "\n",
       "    // Update the output cell to use the data from the current canvas.\n",
       "    fig.push_to_output();\n",
       "    var dataURL = fig.canvas.toDataURL();\n",
       "    // Re-enable the keyboard manager in IPython - without this line, in FF,\n",
       "    // the notebook keyboard shortcuts fail.\n",
       "    IPython.keyboard_manager.enable()\n",
       "    $(fig.parent_element).html('<img src=\"' + dataURL + '\" width=\"' + width + '\">');\n",
       "    fig.close_ws(fig, msg);\n",
       "}\n",
       "\n",
       "mpl.figure.prototype.close_ws = function(fig, msg){\n",
       "    fig.send_message('closing', msg);\n",
       "    // fig.ws.close()\n",
       "}\n",
       "\n",
       "mpl.figure.prototype.push_to_output = function(remove_interactive) {\n",
       "    // Turn the data on the canvas into data in the output cell.\n",
       "    var width = this.canvas.width/mpl.ratio\n",
       "    var dataURL = this.canvas.toDataURL();\n",
       "    this.cell_info[1]['text/html'] = '<img src=\"' + dataURL + '\" width=\"' + width + '\">';\n",
       "}\n",
       "\n",
       "mpl.figure.prototype.updated_canvas_event = function() {\n",
       "    // Tell IPython that the notebook contents must change.\n",
       "    IPython.notebook.set_dirty(true);\n",
       "    this.send_message(\"ack\", {});\n",
       "    var fig = this;\n",
       "    // Wait a second, then push the new image to the DOM so\n",
       "    // that it is saved nicely (might be nice to debounce this).\n",
       "    setTimeout(function () { fig.push_to_output() }, 1000);\n",
       "}\n",
       "\n",
       "mpl.figure.prototype._init_toolbar = function() {\n",
       "    var fig = this;\n",
       "\n",
       "    var nav_element = $('<div/>');\n",
       "    nav_element.attr('style', 'width: 100%');\n",
       "    this.root.append(nav_element);\n",
       "\n",
       "    // Define a callback function for later on.\n",
       "    function toolbar_event(event) {\n",
       "        return fig.toolbar_button_onclick(event['data']);\n",
       "    }\n",
       "    function toolbar_mouse_event(event) {\n",
       "        return fig.toolbar_button_onmouseover(event['data']);\n",
       "    }\n",
       "\n",
       "    for(var toolbar_ind in mpl.toolbar_items){\n",
       "        var name = mpl.toolbar_items[toolbar_ind][0];\n",
       "        var tooltip = mpl.toolbar_items[toolbar_ind][1];\n",
       "        var image = mpl.toolbar_items[toolbar_ind][2];\n",
       "        var method_name = mpl.toolbar_items[toolbar_ind][3];\n",
       "\n",
       "        if (!name) { continue; };\n",
       "\n",
       "        var button = $('<button class=\"btn btn-default\" href=\"#\" title=\"' + name + '\"><i class=\"fa ' + image + ' fa-lg\"></i></button>');\n",
       "        button.click(method_name, toolbar_event);\n",
       "        button.mouseover(tooltip, toolbar_mouse_event);\n",
       "        nav_element.append(button);\n",
       "    }\n",
       "\n",
       "    // Add the status bar.\n",
       "    var status_bar = $('<span class=\"mpl-message\" style=\"text-align:right; float: right;\"/>');\n",
       "    nav_element.append(status_bar);\n",
       "    this.message = status_bar[0];\n",
       "\n",
       "    // Add the close button to the window.\n",
       "    var buttongrp = $('<div class=\"btn-group inline pull-right\"></div>');\n",
       "    var button = $('<button class=\"btn btn-mini btn-primary\" href=\"#\" title=\"Stop Interaction\"><i class=\"fa fa-power-off icon-remove icon-large\"></i></button>');\n",
       "    button.click(function (evt) { fig.handle_close(fig, {}); } );\n",
       "    button.mouseover('Stop Interaction', toolbar_mouse_event);\n",
       "    buttongrp.append(button);\n",
       "    var titlebar = this.root.find($('.ui-dialog-titlebar'));\n",
       "    titlebar.prepend(buttongrp);\n",
       "}\n",
       "\n",
       "mpl.figure.prototype._root_extra_style = function(el){\n",
       "    var fig = this\n",
       "    el.on(\"remove\", function(){\n",
       "\tfig.close_ws(fig, {});\n",
       "    });\n",
       "}\n",
       "\n",
       "mpl.figure.prototype._canvas_extra_style = function(el){\n",
       "    // this is important to make the div 'focusable\n",
       "    el.attr('tabindex', 0)\n",
       "    // reach out to IPython and tell the keyboard manager to turn it's self\n",
       "    // off when our div gets focus\n",
       "\n",
       "    // location in version 3\n",
       "    if (IPython.notebook.keyboard_manager) {\n",
       "        IPython.notebook.keyboard_manager.register_events(el);\n",
       "    }\n",
       "    else {\n",
       "        // location in version 2\n",
       "        IPython.keyboard_manager.register_events(el);\n",
       "    }\n",
       "\n",
       "}\n",
       "\n",
       "mpl.figure.prototype._key_event_extra = function(event, name) {\n",
       "    var manager = IPython.notebook.keyboard_manager;\n",
       "    if (!manager)\n",
       "        manager = IPython.keyboard_manager;\n",
       "\n",
       "    // Check for shift+enter\n",
       "    if (event.shiftKey && event.which == 13) {\n",
       "        this.canvas_div.blur();\n",
       "        event.shiftKey = false;\n",
       "        // Send a \"J\" for go to next cell\n",
       "        event.which = 74;\n",
       "        event.keyCode = 74;\n",
       "        manager.command_mode();\n",
       "        manager.handle_keydown(event);\n",
       "    }\n",
       "}\n",
       "\n",
       "mpl.figure.prototype.handle_save = function(fig, msg) {\n",
       "    fig.ondownload(fig, null);\n",
       "}\n",
       "\n",
       "\n",
       "mpl.find_output_cell = function(html_output) {\n",
       "    // Return the cell and output element which can be found *uniquely* in the notebook.\n",
       "    // Note - this is a bit hacky, but it is done because the \"notebook_saving.Notebook\"\n",
       "    // IPython event is triggered only after the cells have been serialised, which for\n",
       "    // our purposes (turning an active figure into a static one), is too late.\n",
       "    var cells = IPython.notebook.get_cells();\n",
       "    var ncells = cells.length;\n",
       "    for (var i=0; i<ncells; i++) {\n",
       "        var cell = cells[i];\n",
       "        if (cell.cell_type === 'code'){\n",
       "            for (var j=0; j<cell.output_area.outputs.length; j++) {\n",
       "                var data = cell.output_area.outputs[j];\n",
       "                if (data.data) {\n",
       "                    // IPython >= 3 moved mimebundle to data attribute of output\n",
       "                    data = data.data;\n",
       "                }\n",
       "                if (data['text/html'] == html_output) {\n",
       "                    return [cell, data, j];\n",
       "                }\n",
       "            }\n",
       "        }\n",
       "    }\n",
       "}\n",
       "\n",
       "// Register the function which deals with the matplotlib target/channel.\n",
       "// The kernel may be null if the page has been refreshed.\n",
       "if (IPython.notebook.kernel != null) {\n",
       "    IPython.notebook.kernel.comm_manager.register_target('matplotlib', mpl.mpl_figure_comm);\n",
       "}\n"
      ],
      "text/plain": [
       "<IPython.core.display.Javascript object>"
      ]
     },
     "metadata": {},
     "output_type": "display_data"
    },
    {
     "data": {
      "text/html": [
       "<img src=\"data:image/png;base64,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\" width=\"640\">"
      ],
      "text/plain": [
       "<IPython.core.display.HTML object>"
      ]
     },
     "metadata": {},
     "output_type": "display_data"
    },
    {
     "data": {
      "text/plain": [
       "Text(0, 0.5, 'y')"
      ]
     },
     "execution_count": 40,
     "metadata": {},
     "output_type": "execute_result"
    }
   ],
   "source": [
    "# Example 1: Interactive Plot\n",
    "%matplotlib notebook\n",
    "\n",
    "x = np.linspace(-5,5, 1000)  # generate the list of x-values\n",
    "y = np.sin(x) * np.sin( 10*np.pi*x )  # create the list of y-values from the x-values\n",
    "\n",
    "# exact same plot commands as before\n",
    "plt.plot(x,y)\n",
    "plt.title(\"y = sin(x)*sin(10 pi x)\")\n",
    "plt.xlabel(\"x\")\n",
    "plt.ylabel(\"y\")"
   ]
  },
  {
   "cell_type": "markdown",
   "metadata": {
    "nbgrader": {
     "grade": false,
     "grade_id": "cell-1dd1df1bd192118e",
     "locked": true,
     "schema_version": 3,
     "solution": false,
     "task": false
    }
   },
   "source": [
    "Notice that when you run this next example, it becomes interactive, while the above plot stops being interactive."
   ]
  },
  {
   "cell_type": "code",
   "execution_count": 41,
   "metadata": {},
   "outputs": [
    {
     "data": {
      "application/javascript": [
       "/* Put everything inside the global mpl namespace */\n",
       "window.mpl = {};\n",
       "\n",
       "\n",
       "mpl.get_websocket_type = function() {\n",
       "    if (typeof(WebSocket) !== 'undefined') {\n",
       "        return WebSocket;\n",
       "    } else if (typeof(MozWebSocket) !== 'undefined') {\n",
       "        return MozWebSocket;\n",
       "    } else {\n",
       "        alert('Your browser does not have WebSocket support. ' +\n",
       "              'Please try Chrome, Safari or Firefox ≥ 6. ' +\n",
       "              'Firefox 4 and 5 are also supported but you ' +\n",
       "              'have to enable WebSockets in about:config.');\n",
       "    };\n",
       "}\n",
       "\n",
       "mpl.figure = function(figure_id, websocket, ondownload, parent_element) {\n",
       "    this.id = figure_id;\n",
       "\n",
       "    this.ws = websocket;\n",
       "\n",
       "    this.supports_binary = (this.ws.binaryType != undefined);\n",
       "\n",
       "    if (!this.supports_binary) {\n",
       "        var warnings = document.getElementById(\"mpl-warnings\");\n",
       "        if (warnings) {\n",
       "            warnings.style.display = 'block';\n",
       "            warnings.textContent = (\n",
       "                \"This browser does not support binary websocket messages. \" +\n",
       "                    \"Performance may be slow.\");\n",
       "        }\n",
       "    }\n",
       "\n",
       "    this.imageObj = new Image();\n",
       "\n",
       "    this.context = undefined;\n",
       "    this.message = undefined;\n",
       "    this.canvas = undefined;\n",
       "    this.rubberband_canvas = undefined;\n",
       "    this.rubberband_context = undefined;\n",
       "    this.format_dropdown = undefined;\n",
       "\n",
       "    this.image_mode = 'full';\n",
       "\n",
       "    this.root = $('<div/>');\n",
       "    this._root_extra_style(this.root)\n",
       "    this.root.attr('style', 'display: inline-block');\n",
       "\n",
       "    $(parent_element).append(this.root);\n",
       "\n",
       "    this._init_header(this);\n",
       "    this._init_canvas(this);\n",
       "    this._init_toolbar(this);\n",
       "\n",
       "    var fig = this;\n",
       "\n",
       "    this.waiting = false;\n",
       "\n",
       "    this.ws.onopen =  function () {\n",
       "            fig.send_message(\"supports_binary\", {value: fig.supports_binary});\n",
       "            fig.send_message(\"send_image_mode\", {});\n",
       "            if (mpl.ratio != 1) {\n",
       "                fig.send_message(\"set_dpi_ratio\", {'dpi_ratio': mpl.ratio});\n",
       "            }\n",
       "            fig.send_message(\"refresh\", {});\n",
       "        }\n",
       "\n",
       "    this.imageObj.onload = function() {\n",
       "            if (fig.image_mode == 'full') {\n",
       "                // Full images could contain transparency (where diff images\n",
       "                // almost always do), so we need to clear the canvas so that\n",
       "                // there is no ghosting.\n",
       "                fig.context.clearRect(0, 0, fig.canvas.width, fig.canvas.height);\n",
       "            }\n",
       "            fig.context.drawImage(fig.imageObj, 0, 0);\n",
       "        };\n",
       "\n",
       "    this.imageObj.onunload = function() {\n",
       "        fig.ws.close();\n",
       "    }\n",
       "\n",
       "    this.ws.onmessage = this._make_on_message_function(this);\n",
       "\n",
       "    this.ondownload = ondownload;\n",
       "}\n",
       "\n",
       "mpl.figure.prototype._init_header = function() {\n",
       "    var titlebar = $(\n",
       "        '<div class=\"ui-dialog-titlebar ui-widget-header ui-corner-all ' +\n",
       "        'ui-helper-clearfix\"/>');\n",
       "    var titletext = $(\n",
       "        '<div class=\"ui-dialog-title\" style=\"width: 100%; ' +\n",
       "        'text-align: center; padding: 3px;\"/>');\n",
       "    titlebar.append(titletext)\n",
       "    this.root.append(titlebar);\n",
       "    this.header = titletext[0];\n",
       "}\n",
       "\n",
       "\n",
       "\n",
       "mpl.figure.prototype._canvas_extra_style = function(canvas_div) {\n",
       "\n",
       "}\n",
       "\n",
       "\n",
       "mpl.figure.prototype._root_extra_style = function(canvas_div) {\n",
       "\n",
       "}\n",
       "\n",
       "mpl.figure.prototype._init_canvas = function() {\n",
       "    var fig = this;\n",
       "\n",
       "    var canvas_div = $('<div/>');\n",
       "\n",
       "    canvas_div.attr('style', 'position: relative; clear: both; outline: 0');\n",
       "\n",
       "    function canvas_keyboard_event(event) {\n",
       "        return fig.key_event(event, event['data']);\n",
       "    }\n",
       "\n",
       "    canvas_div.keydown('key_press', canvas_keyboard_event);\n",
       "    canvas_div.keyup('key_release', canvas_keyboard_event);\n",
       "    this.canvas_div = canvas_div\n",
       "    this._canvas_extra_style(canvas_div)\n",
       "    this.root.append(canvas_div);\n",
       "\n",
       "    var canvas = $('<canvas/>');\n",
       "    canvas.addClass('mpl-canvas');\n",
       "    canvas.attr('style', \"left: 0; top: 0; z-index: 0; outline: 0\")\n",
       "\n",
       "    this.canvas = canvas[0];\n",
       "    this.context = canvas[0].getContext(\"2d\");\n",
       "\n",
       "    var backingStore = this.context.backingStorePixelRatio ||\n",
       "\tthis.context.webkitBackingStorePixelRatio ||\n",
       "\tthis.context.mozBackingStorePixelRatio ||\n",
       "\tthis.context.msBackingStorePixelRatio ||\n",
       "\tthis.context.oBackingStorePixelRatio ||\n",
       "\tthis.context.backingStorePixelRatio || 1;\n",
       "\n",
       "    mpl.ratio = (window.devicePixelRatio || 1) / backingStore;\n",
       "\n",
       "    var rubberband = $('<canvas/>');\n",
       "    rubberband.attr('style', \"position: absolute; left: 0; top: 0; z-index: 1;\")\n",
       "\n",
       "    var pass_mouse_events = true;\n",
       "\n",
       "    canvas_div.resizable({\n",
       "        start: function(event, ui) {\n",
       "            pass_mouse_events = false;\n",
       "        },\n",
       "        resize: function(event, ui) {\n",
       "            fig.request_resize(ui.size.width, ui.size.height);\n",
       "        },\n",
       "        stop: function(event, ui) {\n",
       "            pass_mouse_events = true;\n",
       "            fig.request_resize(ui.size.width, ui.size.height);\n",
       "        },\n",
       "    });\n",
       "\n",
       "    function mouse_event_fn(event) {\n",
       "        if (pass_mouse_events)\n",
       "            return fig.mouse_event(event, event['data']);\n",
       "    }\n",
       "\n",
       "    rubberband.mousedown('button_press', mouse_event_fn);\n",
       "    rubberband.mouseup('button_release', mouse_event_fn);\n",
       "    // Throttle sequential mouse events to 1 every 20ms.\n",
       "    rubberband.mousemove('motion_notify', mouse_event_fn);\n",
       "\n",
       "    rubberband.mouseenter('figure_enter', mouse_event_fn);\n",
       "    rubberband.mouseleave('figure_leave', mouse_event_fn);\n",
       "\n",
       "    canvas_div.on(\"wheel\", function (event) {\n",
       "        event = event.originalEvent;\n",
       "        event['data'] = 'scroll'\n",
       "        if (event.deltaY < 0) {\n",
       "            event.step = 1;\n",
       "        } else {\n",
       "            event.step = -1;\n",
       "        }\n",
       "        mouse_event_fn(event);\n",
       "    });\n",
       "\n",
       "    canvas_div.append(canvas);\n",
       "    canvas_div.append(rubberband);\n",
       "\n",
       "    this.rubberband = rubberband;\n",
       "    this.rubberband_canvas = rubberband[0];\n",
       "    this.rubberband_context = rubberband[0].getContext(\"2d\");\n",
       "    this.rubberband_context.strokeStyle = \"#000000\";\n",
       "\n",
       "    this._resize_canvas = function(width, height) {\n",
       "        // Keep the size of the canvas, canvas container, and rubber band\n",
       "        // canvas in synch.\n",
       "        canvas_div.css('width', width)\n",
       "        canvas_div.css('height', height)\n",
       "\n",
       "        canvas.attr('width', width * mpl.ratio);\n",
       "        canvas.attr('height', height * mpl.ratio);\n",
       "        canvas.attr('style', 'width: ' + width + 'px; height: ' + height + 'px;');\n",
       "\n",
       "        rubberband.attr('width', width);\n",
       "        rubberband.attr('height', height);\n",
       "    }\n",
       "\n",
       "    // Set the figure to an initial 600x600px, this will subsequently be updated\n",
       "    // upon first draw.\n",
       "    this._resize_canvas(600, 600);\n",
       "\n",
       "    // Disable right mouse context menu.\n",
       "    $(this.rubberband_canvas).bind(\"contextmenu\",function(e){\n",
       "        return false;\n",
       "    });\n",
       "\n",
       "    function set_focus () {\n",
       "        canvas.focus();\n",
       "        canvas_div.focus();\n",
       "    }\n",
       "\n",
       "    window.setTimeout(set_focus, 100);\n",
       "}\n",
       "\n",
       "mpl.figure.prototype._init_toolbar = function() {\n",
       "    var fig = this;\n",
       "\n",
       "    var nav_element = $('<div/>');\n",
       "    nav_element.attr('style', 'width: 100%');\n",
       "    this.root.append(nav_element);\n",
       "\n",
       "    // Define a callback function for later on.\n",
       "    function toolbar_event(event) {\n",
       "        return fig.toolbar_button_onclick(event['data']);\n",
       "    }\n",
       "    function toolbar_mouse_event(event) {\n",
       "        return fig.toolbar_button_onmouseover(event['data']);\n",
       "    }\n",
       "\n",
       "    for(var toolbar_ind in mpl.toolbar_items) {\n",
       "        var name = mpl.toolbar_items[toolbar_ind][0];\n",
       "        var tooltip = mpl.toolbar_items[toolbar_ind][1];\n",
       "        var image = mpl.toolbar_items[toolbar_ind][2];\n",
       "        var method_name = mpl.toolbar_items[toolbar_ind][3];\n",
       "\n",
       "        if (!name) {\n",
       "            // put a spacer in here.\n",
       "            continue;\n",
       "        }\n",
       "        var button = $('<button/>');\n",
       "        button.addClass('ui-button ui-widget ui-state-default ui-corner-all ' +\n",
       "                        'ui-button-icon-only');\n",
       "        button.attr('role', 'button');\n",
       "        button.attr('aria-disabled', 'false');\n",
       "        button.click(method_name, toolbar_event);\n",
       "        button.mouseover(tooltip, toolbar_mouse_event);\n",
       "\n",
       "        var icon_img = $('<span/>');\n",
       "        icon_img.addClass('ui-button-icon-primary ui-icon');\n",
       "        icon_img.addClass(image);\n",
       "        icon_img.addClass('ui-corner-all');\n",
       "\n",
       "        var tooltip_span = $('<span/>');\n",
       "        tooltip_span.addClass('ui-button-text');\n",
       "        tooltip_span.html(tooltip);\n",
       "\n",
       "        button.append(icon_img);\n",
       "        button.append(tooltip_span);\n",
       "\n",
       "        nav_element.append(button);\n",
       "    }\n",
       "\n",
       "    var fmt_picker_span = $('<span/>');\n",
       "\n",
       "    var fmt_picker = $('<select/>');\n",
       "    fmt_picker.addClass('mpl-toolbar-option ui-widget ui-widget-content');\n",
       "    fmt_picker_span.append(fmt_picker);\n",
       "    nav_element.append(fmt_picker_span);\n",
       "    this.format_dropdown = fmt_picker[0];\n",
       "\n",
       "    for (var ind in mpl.extensions) {\n",
       "        var fmt = mpl.extensions[ind];\n",
       "        var option = $(\n",
       "            '<option/>', {selected: fmt === mpl.default_extension}).html(fmt);\n",
       "        fmt_picker.append(option);\n",
       "    }\n",
       "\n",
       "    // Add hover states to the ui-buttons\n",
       "    $( \".ui-button\" ).hover(\n",
       "        function() { $(this).addClass(\"ui-state-hover\");},\n",
       "        function() { $(this).removeClass(\"ui-state-hover\");}\n",
       "    );\n",
       "\n",
       "    var status_bar = $('<span class=\"mpl-message\"/>');\n",
       "    nav_element.append(status_bar);\n",
       "    this.message = status_bar[0];\n",
       "}\n",
       "\n",
       "mpl.figure.prototype.request_resize = function(x_pixels, y_pixels) {\n",
       "    // Request matplotlib to resize the figure. Matplotlib will then trigger a resize in the client,\n",
       "    // which will in turn request a refresh of the image.\n",
       "    this.send_message('resize', {'width': x_pixels, 'height': y_pixels});\n",
       "}\n",
       "\n",
       "mpl.figure.prototype.send_message = function(type, properties) {\n",
       "    properties['type'] = type;\n",
       "    properties['figure_id'] = this.id;\n",
       "    this.ws.send(JSON.stringify(properties));\n",
       "}\n",
       "\n",
       "mpl.figure.prototype.send_draw_message = function() {\n",
       "    if (!this.waiting) {\n",
       "        this.waiting = true;\n",
       "        this.ws.send(JSON.stringify({type: \"draw\", figure_id: this.id}));\n",
       "    }\n",
       "}\n",
       "\n",
       "\n",
       "mpl.figure.prototype.handle_save = function(fig, msg) {\n",
       "    var format_dropdown = fig.format_dropdown;\n",
       "    var format = format_dropdown.options[format_dropdown.selectedIndex].value;\n",
       "    fig.ondownload(fig, format);\n",
       "}\n",
       "\n",
       "\n",
       "mpl.figure.prototype.handle_resize = function(fig, msg) {\n",
       "    var size = msg['size'];\n",
       "    if (size[0] != fig.canvas.width || size[1] != fig.canvas.height) {\n",
       "        fig._resize_canvas(size[0], size[1]);\n",
       "        fig.send_message(\"refresh\", {});\n",
       "    };\n",
       "}\n",
       "\n",
       "mpl.figure.prototype.handle_rubberband = function(fig, msg) {\n",
       "    var x0 = msg['x0'] / mpl.ratio;\n",
       "    var y0 = (fig.canvas.height - msg['y0']) / mpl.ratio;\n",
       "    var x1 = msg['x1'] / mpl.ratio;\n",
       "    var y1 = (fig.canvas.height - msg['y1']) / mpl.ratio;\n",
       "    x0 = Math.floor(x0) + 0.5;\n",
       "    y0 = Math.floor(y0) + 0.5;\n",
       "    x1 = Math.floor(x1) + 0.5;\n",
       "    y1 = Math.floor(y1) + 0.5;\n",
       "    var min_x = Math.min(x0, x1);\n",
       "    var min_y = Math.min(y0, y1);\n",
       "    var width = Math.abs(x1 - x0);\n",
       "    var height = Math.abs(y1 - y0);\n",
       "\n",
       "    fig.rubberband_context.clearRect(\n",
       "        0, 0, fig.canvas.width / mpl.ratio, fig.canvas.height / mpl.ratio);\n",
       "\n",
       "    fig.rubberband_context.strokeRect(min_x, min_y, width, height);\n",
       "}\n",
       "\n",
       "mpl.figure.prototype.handle_figure_label = function(fig, msg) {\n",
       "    // Updates the figure title.\n",
       "    fig.header.textContent = msg['label'];\n",
       "}\n",
       "\n",
       "mpl.figure.prototype.handle_cursor = function(fig, msg) {\n",
       "    var cursor = msg['cursor'];\n",
       "    switch(cursor)\n",
       "    {\n",
       "    case 0:\n",
       "        cursor = 'pointer';\n",
       "        break;\n",
       "    case 1:\n",
       "        cursor = 'default';\n",
       "        break;\n",
       "    case 2:\n",
       "        cursor = 'crosshair';\n",
       "        break;\n",
       "    case 3:\n",
       "        cursor = 'move';\n",
       "        break;\n",
       "    }\n",
       "    fig.rubberband_canvas.style.cursor = cursor;\n",
       "}\n",
       "\n",
       "mpl.figure.prototype.handle_message = function(fig, msg) {\n",
       "    fig.message.textContent = msg['message'];\n",
       "}\n",
       "\n",
       "mpl.figure.prototype.handle_draw = function(fig, msg) {\n",
       "    // Request the server to send over a new figure.\n",
       "    fig.send_draw_message();\n",
       "}\n",
       "\n",
       "mpl.figure.prototype.handle_image_mode = function(fig, msg) {\n",
       "    fig.image_mode = msg['mode'];\n",
       "}\n",
       "\n",
       "mpl.figure.prototype.updated_canvas_event = function() {\n",
       "    // Called whenever the canvas gets updated.\n",
       "    this.send_message(\"ack\", {});\n",
       "}\n",
       "\n",
       "// A function to construct a web socket function for onmessage handling.\n",
       "// Called in the figure constructor.\n",
       "mpl.figure.prototype._make_on_message_function = function(fig) {\n",
       "    return function socket_on_message(evt) {\n",
       "        if (evt.data instanceof Blob) {\n",
       "            /* FIXME: We get \"Resource interpreted as Image but\n",
       "             * transferred with MIME type text/plain:\" errors on\n",
       "             * Chrome.  But how to set the MIME type?  It doesn't seem\n",
       "             * to be part of the websocket stream */\n",
       "            evt.data.type = \"image/png\";\n",
       "\n",
       "            /* Free the memory for the previous frames */\n",
       "            if (fig.imageObj.src) {\n",
       "                (window.URL || window.webkitURL).revokeObjectURL(\n",
       "                    fig.imageObj.src);\n",
       "            }\n",
       "\n",
       "            fig.imageObj.src = (window.URL || window.webkitURL).createObjectURL(\n",
       "                evt.data);\n",
       "            fig.updated_canvas_event();\n",
       "            fig.waiting = false;\n",
       "            return;\n",
       "        }\n",
       "        else if (typeof evt.data === 'string' && evt.data.slice(0, 21) == \"data:image/png;base64\") {\n",
       "            fig.imageObj.src = evt.data;\n",
       "            fig.updated_canvas_event();\n",
       "            fig.waiting = false;\n",
       "            return;\n",
       "        }\n",
       "\n",
       "        var msg = JSON.parse(evt.data);\n",
       "        var msg_type = msg['type'];\n",
       "\n",
       "        // Call the  \"handle_{type}\" callback, which takes\n",
       "        // the figure and JSON message as its only arguments.\n",
       "        try {\n",
       "            var callback = fig[\"handle_\" + msg_type];\n",
       "        } catch (e) {\n",
       "            console.log(\"No handler for the '\" + msg_type + \"' message type: \", msg);\n",
       "            return;\n",
       "        }\n",
       "\n",
       "        if (callback) {\n",
       "            try {\n",
       "                // console.log(\"Handling '\" + msg_type + \"' message: \", msg);\n",
       "                callback(fig, msg);\n",
       "            } catch (e) {\n",
       "                console.log(\"Exception inside the 'handler_\" + msg_type + \"' callback:\", e, e.stack, msg);\n",
       "            }\n",
       "        }\n",
       "    };\n",
       "}\n",
       "\n",
       "// from http://stackoverflow.com/questions/1114465/getting-mouse-location-in-canvas\n",
       "mpl.findpos = function(e) {\n",
       "    //this section is from http://www.quirksmode.org/js/events_properties.html\n",
       "    var targ;\n",
       "    if (!e)\n",
       "        e = window.event;\n",
       "    if (e.target)\n",
       "        targ = e.target;\n",
       "    else if (e.srcElement)\n",
       "        targ = e.srcElement;\n",
       "    if (targ.nodeType == 3) // defeat Safari bug\n",
       "        targ = targ.parentNode;\n",
       "\n",
       "    // jQuery normalizes the pageX and pageY\n",
       "    // pageX,Y are the mouse positions relative to the document\n",
       "    // offset() returns the position of the element relative to the document\n",
       "    var x = e.pageX - $(targ).offset().left;\n",
       "    var y = e.pageY - $(targ).offset().top;\n",
       "\n",
       "    return {\"x\": x, \"y\": y};\n",
       "};\n",
       "\n",
       "/*\n",
       " * return a copy of an object with only non-object keys\n",
       " * we need this to avoid circular references\n",
       " * http://stackoverflow.com/a/24161582/3208463\n",
       " */\n",
       "function simpleKeys (original) {\n",
       "  return Object.keys(original).reduce(function (obj, key) {\n",
       "    if (typeof original[key] !== 'object')\n",
       "        obj[key] = original[key]\n",
       "    return obj;\n",
       "  }, {});\n",
       "}\n",
       "\n",
       "mpl.figure.prototype.mouse_event = function(event, name) {\n",
       "    var canvas_pos = mpl.findpos(event)\n",
       "\n",
       "    if (name === 'button_press')\n",
       "    {\n",
       "        this.canvas.focus();\n",
       "        this.canvas_div.focus();\n",
       "    }\n",
       "\n",
       "    var x = canvas_pos.x * mpl.ratio;\n",
       "    var y = canvas_pos.y * mpl.ratio;\n",
       "\n",
       "    this.send_message(name, {x: x, y: y, button: event.button,\n",
       "                             step: event.step,\n",
       "                             guiEvent: simpleKeys(event)});\n",
       "\n",
       "    /* This prevents the web browser from automatically changing to\n",
       "     * the text insertion cursor when the button is pressed.  We want\n",
       "     * to control all of the cursor setting manually through the\n",
       "     * 'cursor' event from matplotlib */\n",
       "    event.preventDefault();\n",
       "    return false;\n",
       "}\n",
       "\n",
       "mpl.figure.prototype._key_event_extra = function(event, name) {\n",
       "    // Handle any extra behaviour associated with a key event\n",
       "}\n",
       "\n",
       "mpl.figure.prototype.key_event = function(event, name) {\n",
       "\n",
       "    // Prevent repeat events\n",
       "    if (name == 'key_press')\n",
       "    {\n",
       "        if (event.which === this._key)\n",
       "            return;\n",
       "        else\n",
       "            this._key = event.which;\n",
       "    }\n",
       "    if (name == 'key_release')\n",
       "        this._key = null;\n",
       "\n",
       "    var value = '';\n",
       "    if (event.ctrlKey && event.which != 17)\n",
       "        value += \"ctrl+\";\n",
       "    if (event.altKey && event.which != 18)\n",
       "        value += \"alt+\";\n",
       "    if (event.shiftKey && event.which != 16)\n",
       "        value += \"shift+\";\n",
       "\n",
       "    value += 'k';\n",
       "    value += event.which.toString();\n",
       "\n",
       "    this._key_event_extra(event, name);\n",
       "\n",
       "    this.send_message(name, {key: value,\n",
       "                             guiEvent: simpleKeys(event)});\n",
       "    return false;\n",
       "}\n",
       "\n",
       "mpl.figure.prototype.toolbar_button_onclick = function(name) {\n",
       "    if (name == 'download') {\n",
       "        this.handle_save(this, null);\n",
       "    } else {\n",
       "        this.send_message(\"toolbar_button\", {name: name});\n",
       "    }\n",
       "};\n",
       "\n",
       "mpl.figure.prototype.toolbar_button_onmouseover = function(tooltip) {\n",
       "    this.message.textContent = tooltip;\n",
       "};\n",
       "mpl.toolbar_items = [[\"Home\", \"Reset original view\", \"fa fa-home icon-home\", \"home\"], [\"Back\", \"Back to previous view\", \"fa fa-arrow-left icon-arrow-left\", \"back\"], [\"Forward\", \"Forward to next view\", \"fa fa-arrow-right icon-arrow-right\", \"forward\"], [\"\", \"\", \"\", \"\"], [\"Pan\", \"Pan axes with left mouse, zoom with right\", \"fa fa-arrows icon-move\", \"pan\"], [\"Zoom\", \"Zoom to rectangle\", \"fa fa-square-o icon-check-empty\", \"zoom\"], [\"\", \"\", \"\", \"\"], [\"Download\", \"Download plot\", \"fa fa-floppy-o icon-save\", \"download\"]];\n",
       "\n",
       "mpl.extensions = [\"eps\", \"pdf\", \"png\", \"ps\", \"raw\", \"svg\"];\n",
       "\n",
       "mpl.default_extension = \"png\";var comm_websocket_adapter = function(comm) {\n",
       "    // Create a \"websocket\"-like object which calls the given IPython comm\n",
       "    // object with the appropriate methods. Currently this is a non binary\n",
       "    // socket, so there is still some room for performance tuning.\n",
       "    var ws = {};\n",
       "\n",
       "    ws.close = function() {\n",
       "        comm.close()\n",
       "    };\n",
       "    ws.send = function(m) {\n",
       "        //console.log('sending', m);\n",
       "        comm.send(m);\n",
       "    };\n",
       "    // Register the callback with on_msg.\n",
       "    comm.on_msg(function(msg) {\n",
       "        //console.log('receiving', msg['content']['data'], msg);\n",
       "        // Pass the mpl event to the overridden (by mpl) onmessage function.\n",
       "        ws.onmessage(msg['content']['data'])\n",
       "    });\n",
       "    return ws;\n",
       "}\n",
       "\n",
       "mpl.mpl_figure_comm = function(comm, msg) {\n",
       "    // This is the function which gets called when the mpl process\n",
       "    // starts-up an IPython Comm through the \"matplotlib\" channel.\n",
       "\n",
       "    var id = msg.content.data.id;\n",
       "    // Get hold of the div created by the display call when the Comm\n",
       "    // socket was opened in Python.\n",
       "    var element = $(\"#\" + id);\n",
       "    var ws_proxy = comm_websocket_adapter(comm)\n",
       "\n",
       "    function ondownload(figure, format) {\n",
       "        window.open(figure.imageObj.src);\n",
       "    }\n",
       "\n",
       "    var fig = new mpl.figure(id, ws_proxy,\n",
       "                           ondownload,\n",
       "                           element.get(0));\n",
       "\n",
       "    // Call onopen now - mpl needs it, as it is assuming we've passed it a real\n",
       "    // web socket which is closed, not our websocket->open comm proxy.\n",
       "    ws_proxy.onopen();\n",
       "\n",
       "    fig.parent_element = element.get(0);\n",
       "    fig.cell_info = mpl.find_output_cell(\"<div id='\" + id + \"'></div>\");\n",
       "    if (!fig.cell_info) {\n",
       "        console.error(\"Failed to find cell for figure\", id, fig);\n",
       "        return;\n",
       "    }\n",
       "\n",
       "    var output_index = fig.cell_info[2]\n",
       "    var cell = fig.cell_info[0];\n",
       "\n",
       "};\n",
       "\n",
       "mpl.figure.prototype.handle_close = function(fig, msg) {\n",
       "    var width = fig.canvas.width/mpl.ratio\n",
       "    fig.root.unbind('remove')\n",
       "\n",
       "    // Update the output cell to use the data from the current canvas.\n",
       "    fig.push_to_output();\n",
       "    var dataURL = fig.canvas.toDataURL();\n",
       "    // Re-enable the keyboard manager in IPython - without this line, in FF,\n",
       "    // the notebook keyboard shortcuts fail.\n",
       "    IPython.keyboard_manager.enable()\n",
       "    $(fig.parent_element).html('<img src=\"' + dataURL + '\" width=\"' + width + '\">');\n",
       "    fig.close_ws(fig, msg);\n",
       "}\n",
       "\n",
       "mpl.figure.prototype.close_ws = function(fig, msg){\n",
       "    fig.send_message('closing', msg);\n",
       "    // fig.ws.close()\n",
       "}\n",
       "\n",
       "mpl.figure.prototype.push_to_output = function(remove_interactive) {\n",
       "    // Turn the data on the canvas into data in the output cell.\n",
       "    var width = this.canvas.width/mpl.ratio\n",
       "    var dataURL = this.canvas.toDataURL();\n",
       "    this.cell_info[1]['text/html'] = '<img src=\"' + dataURL + '\" width=\"' + width + '\">';\n",
       "}\n",
       "\n",
       "mpl.figure.prototype.updated_canvas_event = function() {\n",
       "    // Tell IPython that the notebook contents must change.\n",
       "    IPython.notebook.set_dirty(true);\n",
       "    this.send_message(\"ack\", {});\n",
       "    var fig = this;\n",
       "    // Wait a second, then push the new image to the DOM so\n",
       "    // that it is saved nicely (might be nice to debounce this).\n",
       "    setTimeout(function () { fig.push_to_output() }, 1000);\n",
       "}\n",
       "\n",
       "mpl.figure.prototype._init_toolbar = function() {\n",
       "    var fig = this;\n",
       "\n",
       "    var nav_element = $('<div/>');\n",
       "    nav_element.attr('style', 'width: 100%');\n",
       "    this.root.append(nav_element);\n",
       "\n",
       "    // Define a callback function for later on.\n",
       "    function toolbar_event(event) {\n",
       "        return fig.toolbar_button_onclick(event['data']);\n",
       "    }\n",
       "    function toolbar_mouse_event(event) {\n",
       "        return fig.toolbar_button_onmouseover(event['data']);\n",
       "    }\n",
       "\n",
       "    for(var toolbar_ind in mpl.toolbar_items){\n",
       "        var name = mpl.toolbar_items[toolbar_ind][0];\n",
       "        var tooltip = mpl.toolbar_items[toolbar_ind][1];\n",
       "        var image = mpl.toolbar_items[toolbar_ind][2];\n",
       "        var method_name = mpl.toolbar_items[toolbar_ind][3];\n",
       "\n",
       "        if (!name) { continue; };\n",
       "\n",
       "        var button = $('<button class=\"btn btn-default\" href=\"#\" title=\"' + name + '\"><i class=\"fa ' + image + ' fa-lg\"></i></button>');\n",
       "        button.click(method_name, toolbar_event);\n",
       "        button.mouseover(tooltip, toolbar_mouse_event);\n",
       "        nav_element.append(button);\n",
       "    }\n",
       "\n",
       "    // Add the status bar.\n",
       "    var status_bar = $('<span class=\"mpl-message\" style=\"text-align:right; float: right;\"/>');\n",
       "    nav_element.append(status_bar);\n",
       "    this.message = status_bar[0];\n",
       "\n",
       "    // Add the close button to the window.\n",
       "    var buttongrp = $('<div class=\"btn-group inline pull-right\"></div>');\n",
       "    var button = $('<button class=\"btn btn-mini btn-primary\" href=\"#\" title=\"Stop Interaction\"><i class=\"fa fa-power-off icon-remove icon-large\"></i></button>');\n",
       "    button.click(function (evt) { fig.handle_close(fig, {}); } );\n",
       "    button.mouseover('Stop Interaction', toolbar_mouse_event);\n",
       "    buttongrp.append(button);\n",
       "    var titlebar = this.root.find($('.ui-dialog-titlebar'));\n",
       "    titlebar.prepend(buttongrp);\n",
       "}\n",
       "\n",
       "mpl.figure.prototype._root_extra_style = function(el){\n",
       "    var fig = this\n",
       "    el.on(\"remove\", function(){\n",
       "\tfig.close_ws(fig, {});\n",
       "    });\n",
       "}\n",
       "\n",
       "mpl.figure.prototype._canvas_extra_style = function(el){\n",
       "    // this is important to make the div 'focusable\n",
       "    el.attr('tabindex', 0)\n",
       "    // reach out to IPython and tell the keyboard manager to turn it's self\n",
       "    // off when our div gets focus\n",
       "\n",
       "    // location in version 3\n",
       "    if (IPython.notebook.keyboard_manager) {\n",
       "        IPython.notebook.keyboard_manager.register_events(el);\n",
       "    }\n",
       "    else {\n",
       "        // location in version 2\n",
       "        IPython.keyboard_manager.register_events(el);\n",
       "    }\n",
       "\n",
       "}\n",
       "\n",
       "mpl.figure.prototype._key_event_extra = function(event, name) {\n",
       "    var manager = IPython.notebook.keyboard_manager;\n",
       "    if (!manager)\n",
       "        manager = IPython.keyboard_manager;\n",
       "\n",
       "    // Check for shift+enter\n",
       "    if (event.shiftKey && event.which == 13) {\n",
       "        this.canvas_div.blur();\n",
       "        event.shiftKey = false;\n",
       "        // Send a \"J\" for go to next cell\n",
       "        event.which = 74;\n",
       "        event.keyCode = 74;\n",
       "        manager.command_mode();\n",
       "        manager.handle_keydown(event);\n",
       "    }\n",
       "}\n",
       "\n",
       "mpl.figure.prototype.handle_save = function(fig, msg) {\n",
       "    fig.ondownload(fig, null);\n",
       "}\n",
       "\n",
       "\n",
       "mpl.find_output_cell = function(html_output) {\n",
       "    // Return the cell and output element which can be found *uniquely* in the notebook.\n",
       "    // Note - this is a bit hacky, but it is done because the \"notebook_saving.Notebook\"\n",
       "    // IPython event is triggered only after the cells have been serialised, which for\n",
       "    // our purposes (turning an active figure into a static one), is too late.\n",
       "    var cells = IPython.notebook.get_cells();\n",
       "    var ncells = cells.length;\n",
       "    for (var i=0; i<ncells; i++) {\n",
       "        var cell = cells[i];\n",
       "        if (cell.cell_type === 'code'){\n",
       "            for (var j=0; j<cell.output_area.outputs.length; j++) {\n",
       "                var data = cell.output_area.outputs[j];\n",
       "                if (data.data) {\n",
       "                    // IPython >= 3 moved mimebundle to data attribute of output\n",
       "                    data = data.data;\n",
       "                }\n",
       "                if (data['text/html'] == html_output) {\n",
       "                    return [cell, data, j];\n",
       "                }\n",
       "            }\n",
       "        }\n",
       "    }\n",
       "}\n",
       "\n",
       "// Register the function which deals with the matplotlib target/channel.\n",
       "// The kernel may be null if the page has been refreshed.\n",
       "if (IPython.notebook.kernel != null) {\n",
       "    IPython.notebook.kernel.comm_manager.register_target('matplotlib', mpl.mpl_figure_comm);\n",
       "}\n"
      ],
      "text/plain": [
       "<IPython.core.display.Javascript object>"
      ]
     },
     "metadata": {},
     "output_type": "display_data"
    },
    {
     "data": {
      "text/html": [
       "<img src=\"data:image/png;base64,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\" width=\"640\">"
      ],
      "text/plain": [
       "<IPython.core.display.HTML object>"
      ]
     },
     "metadata": {},
     "output_type": "display_data"
    },
    {
     "data": {
      "text/plain": [
       "Text(0, 0.5, 'y')"
      ]
     },
     "execution_count": 41,
     "metadata": {},
     "output_type": "execute_result"
    }
   ],
   "source": [
    "# Example 2: A second interactive plot\n",
    "%matplotlib notebook\n",
    "\n",
    "x = np.linspace(-100,100, 1000)  # generate the list of x-values\n",
    "y = x*np.cos(x)  # create the list of y-values from the x-values\n",
    "\n",
    "plt.plot(x,y)\n",
    "plt.title(\"y = x*cos(x)\")\n",
    "plt.xlabel(\"x\")\n",
    "plt.ylabel(\"y\")"
   ]
  },
  {
   "cell_type": "markdown",
   "metadata": {
    "nbgrader": {
     "grade": false,
     "grade_id": "cell-59e27c38f44a55eb",
     "locked": true,
     "schema_version": 3,
     "solution": false,
     "task": false
    }
   },
   "source": [
    "Restore to non-inteactive plots using `%matplotlib inline`.\n",
    "\n",
    "Notice all plots stop being interactive when you run the magic command `%matplotlib inline`."
   ]
  },
  {
   "cell_type": "code",
   "execution_count": 42,
   "metadata": {},
   "outputs": [
    {
     "data": {
      "text/plain": [
       "Text(0, 0.5, 'y')"
      ]
     },
     "execution_count": 42,
     "metadata": {},
     "output_type": "execute_result"
    },
    {
     "data": {
      "image/png": "[encoded data removed]",
      "text/plain": [
       "<Figure size 432x288 with 1 Axes>"
      ]
     },
     "metadata": {
      "needs_background": "light"
     },
     "output_type": "display_data"
    }
   ],
   "source": [
    "# Example 3: Go back to \"inline\" non-interactive plots\n",
    "%matplotlib inline\n",
    "\n",
    "x = np.linspace(-2,2, 1000)  # generate the list of x-values\n",
    "y = np.exp(x)*np.cos(20 * np.pi * x)  # create the list of y-values from the x-values\n",
    "\n",
    "plt.plot(x,y)\n",
    "plt.title(\"y = x*cos(x)\")\n",
    "plt.xlabel(\"x\")\n",
    "plt.ylabel(\"y\")"
   ]
  },
  {
   "cell_type": "markdown",
   "metadata": {},
   "source": [
    "## Optional Exercise\n",
    "\n",
    "Redo task 10 using zoomable plots.\n"
   ]
  },
  {
   "cell_type": "code",
   "execution_count": 43,
   "metadata": {
    "nbgrader": {
     "grade": false,
     "grade_id": "cell-2d3ff6fb8d84be09",
     "locked": false,
     "schema_version": 3,
     "solution": true,
     "task": false
    }
   },
   "outputs": [
    {
     "data": {
      "application/javascript": [
       "/* Put everything inside the global mpl namespace */\n",
       "window.mpl = {};\n",
       "\n",
       "\n",
       "mpl.get_websocket_type = function() {\n",
       "    if (typeof(WebSocket) !== 'undefined') {\n",
       "        return WebSocket;\n",
       "    } else if (typeof(MozWebSocket) !== 'undefined') {\n",
       "        return MozWebSocket;\n",
       "    } else {\n",
       "        alert('Your browser does not have WebSocket support. ' +\n",
       "              'Please try Chrome, Safari or Firefox ≥ 6. ' +\n",
       "              'Firefox 4 and 5 are also supported but you ' +\n",
       "              'have to enable WebSockets in about:config.');\n",
       "    };\n",
       "}\n",
       "\n",
       "mpl.figure = function(figure_id, websocket, ondownload, parent_element) {\n",
       "    this.id = figure_id;\n",
       "\n",
       "    this.ws = websocket;\n",
       "\n",
       "    this.supports_binary = (this.ws.binaryType != undefined);\n",
       "\n",
       "    if (!this.supports_binary) {\n",
       "        var warnings = document.getElementById(\"mpl-warnings\");\n",
       "        if (warnings) {\n",
       "            warnings.style.display = 'block';\n",
       "            warnings.textContent = (\n",
       "                \"This browser does not support binary websocket messages. \" +\n",
       "                    \"Performance may be slow.\");\n",
       "        }\n",
       "    }\n",
       "\n",
       "    this.imageObj = new Image();\n",
       "\n",
       "    this.context = undefined;\n",
       "    this.message = undefined;\n",
       "    this.canvas = undefined;\n",
       "    this.rubberband_canvas = undefined;\n",
       "    this.rubberband_context = undefined;\n",
       "    this.format_dropdown = undefined;\n",
       "\n",
       "    this.image_mode = 'full';\n",
       "\n",
       "    this.root = $('<div/>');\n",
       "    this._root_extra_style(this.root)\n",
       "    this.root.attr('style', 'display: inline-block');\n",
       "\n",
       "    $(parent_element).append(this.root);\n",
       "\n",
       "    this._init_header(this);\n",
       "    this._init_canvas(this);\n",
       "    this._init_toolbar(this);\n",
       "\n",
       "    var fig = this;\n",
       "\n",
       "    this.waiting = false;\n",
       "\n",
       "    this.ws.onopen =  function () {\n",
       "            fig.send_message(\"supports_binary\", {value: fig.supports_binary});\n",
       "            fig.send_message(\"send_image_mode\", {});\n",
       "            if (mpl.ratio != 1) {\n",
       "                fig.send_message(\"set_dpi_ratio\", {'dpi_ratio': mpl.ratio});\n",
       "            }\n",
       "            fig.send_message(\"refresh\", {});\n",
       "        }\n",
       "\n",
       "    this.imageObj.onload = function() {\n",
       "            if (fig.image_mode == 'full') {\n",
       "                // Full images could contain transparency (where diff images\n",
       "                // almost always do), so we need to clear the canvas so that\n",
       "                // there is no ghosting.\n",
       "                fig.context.clearRect(0, 0, fig.canvas.width, fig.canvas.height);\n",
       "            }\n",
       "            fig.context.drawImage(fig.imageObj, 0, 0);\n",
       "        };\n",
       "\n",
       "    this.imageObj.onunload = function() {\n",
       "        fig.ws.close();\n",
       "    }\n",
       "\n",
       "    this.ws.onmessage = this._make_on_message_function(this);\n",
       "\n",
       "    this.ondownload = ondownload;\n",
       "}\n",
       "\n",
       "mpl.figure.prototype._init_header = function() {\n",
       "    var titlebar = $(\n",
       "        '<div class=\"ui-dialog-titlebar ui-widget-header ui-corner-all ' +\n",
       "        'ui-helper-clearfix\"/>');\n",
       "    var titletext = $(\n",
       "        '<div class=\"ui-dialog-title\" style=\"width: 100%; ' +\n",
       "        'text-align: center; padding: 3px;\"/>');\n",
       "    titlebar.append(titletext)\n",
       "    this.root.append(titlebar);\n",
       "    this.header = titletext[0];\n",
       "}\n",
       "\n",
       "\n",
       "\n",
       "mpl.figure.prototype._canvas_extra_style = function(canvas_div) {\n",
       "\n",
       "}\n",
       "\n",
       "\n",
       "mpl.figure.prototype._root_extra_style = function(canvas_div) {\n",
       "\n",
       "}\n",
       "\n",
       "mpl.figure.prototype._init_canvas = function() {\n",
       "    var fig = this;\n",
       "\n",
       "    var canvas_div = $('<div/>');\n",
       "\n",
       "    canvas_div.attr('style', 'position: relative; clear: both; outline: 0');\n",
       "\n",
       "    function canvas_keyboard_event(event) {\n",
       "        return fig.key_event(event, event['data']);\n",
       "    }\n",
       "\n",
       "    canvas_div.keydown('key_press', canvas_keyboard_event);\n",
       "    canvas_div.keyup('key_release', canvas_keyboard_event);\n",
       "    this.canvas_div = canvas_div\n",
       "    this._canvas_extra_style(canvas_div)\n",
       "    this.root.append(canvas_div);\n",
       "\n",
       "    var canvas = $('<canvas/>');\n",
       "    canvas.addClass('mpl-canvas');\n",
       "    canvas.attr('style', \"left: 0; top: 0; z-index: 0; outline: 0\")\n",
       "\n",
       "    this.canvas = canvas[0];\n",
       "    this.context = canvas[0].getContext(\"2d\");\n",
       "\n",
       "    var backingStore = this.context.backingStorePixelRatio ||\n",
       "\tthis.context.webkitBackingStorePixelRatio ||\n",
       "\tthis.context.mozBackingStorePixelRatio ||\n",
       "\tthis.context.msBackingStorePixelRatio ||\n",
       "\tthis.context.oBackingStorePixelRatio ||\n",
       "\tthis.context.backingStorePixelRatio || 1;\n",
       "\n",
       "    mpl.ratio = (window.devicePixelRatio || 1) / backingStore;\n",
       "\n",
       "    var rubberband = $('<canvas/>');\n",
       "    rubberband.attr('style', \"position: absolute; left: 0; top: 0; z-index: 1;\")\n",
       "\n",
       "    var pass_mouse_events = true;\n",
       "\n",
       "    canvas_div.resizable({\n",
       "        start: function(event, ui) {\n",
       "            pass_mouse_events = false;\n",
       "        },\n",
       "        resize: function(event, ui) {\n",
       "            fig.request_resize(ui.size.width, ui.size.height);\n",
       "        },\n",
       "        stop: function(event, ui) {\n",
       "            pass_mouse_events = true;\n",
       "            fig.request_resize(ui.size.width, ui.size.height);\n",
       "        },\n",
       "    });\n",
       "\n",
       "    function mouse_event_fn(event) {\n",
       "        if (pass_mouse_events)\n",
       "            return fig.mouse_event(event, event['data']);\n",
       "    }\n",
       "\n",
       "    rubberband.mousedown('button_press', mouse_event_fn);\n",
       "    rubberband.mouseup('button_release', mouse_event_fn);\n",
       "    // Throttle sequential mouse events to 1 every 20ms.\n",
       "    rubberband.mousemove('motion_notify', mouse_event_fn);\n",
       "\n",
       "    rubberband.mouseenter('figure_enter', mouse_event_fn);\n",
       "    rubberband.mouseleave('figure_leave', mouse_event_fn);\n",
       "\n",
       "    canvas_div.on(\"wheel\", function (event) {\n",
       "        event = event.originalEvent;\n",
       "        event['data'] = 'scroll'\n",
       "        if (event.deltaY < 0) {\n",
       "            event.step = 1;\n",
       "        } else {\n",
       "            event.step = -1;\n",
       "        }\n",
       "        mouse_event_fn(event);\n",
       "    });\n",
       "\n",
       "    canvas_div.append(canvas);\n",
       "    canvas_div.append(rubberband);\n",
       "\n",
       "    this.rubberband = rubberband;\n",
       "    this.rubberband_canvas = rubberband[0];\n",
       "    this.rubberband_context = rubberband[0].getContext(\"2d\");\n",
       "    this.rubberband_context.strokeStyle = \"#000000\";\n",
       "\n",
       "    this._resize_canvas = function(width, height) {\n",
       "        // Keep the size of the canvas, canvas container, and rubber band\n",
       "        // canvas in synch.\n",
       "        canvas_div.css('width', width)\n",
       "        canvas_div.css('height', height)\n",
       "\n",
       "        canvas.attr('width', width * mpl.ratio);\n",
       "        canvas.attr('height', height * mpl.ratio);\n",
       "        canvas.attr('style', 'width: ' + width + 'px; height: ' + height + 'px;');\n",
       "\n",
       "        rubberband.attr('width', width);\n",
       "        rubberband.attr('height', height);\n",
       "    }\n",
       "\n",
       "    // Set the figure to an initial 600x600px, this will subsequently be updated\n",
       "    // upon first draw.\n",
       "    this._resize_canvas(600, 600);\n",
       "\n",
       "    // Disable right mouse context menu.\n",
       "    $(this.rubberband_canvas).bind(\"contextmenu\",function(e){\n",
       "        return false;\n",
       "    });\n",
       "\n",
       "    function set_focus () {\n",
       "        canvas.focus();\n",
       "        canvas_div.focus();\n",
       "    }\n",
       "\n",
       "    window.setTimeout(set_focus, 100);\n",
       "}\n",
       "\n",
       "mpl.figure.prototype._init_toolbar = function() {\n",
       "    var fig = this;\n",
       "\n",
       "    var nav_element = $('<div/>');\n",
       "    nav_element.attr('style', 'width: 100%');\n",
       "    this.root.append(nav_element);\n",
       "\n",
       "    // Define a callback function for later on.\n",
       "    function toolbar_event(event) {\n",
       "        return fig.toolbar_button_onclick(event['data']);\n",
       "    }\n",
       "    function toolbar_mouse_event(event) {\n",
       "        return fig.toolbar_button_onmouseover(event['data']);\n",
       "    }\n",
       "\n",
       "    for(var toolbar_ind in mpl.toolbar_items) {\n",
       "        var name = mpl.toolbar_items[toolbar_ind][0];\n",
       "        var tooltip = mpl.toolbar_items[toolbar_ind][1];\n",
       "        var image = mpl.toolbar_items[toolbar_ind][2];\n",
       "        var method_name = mpl.toolbar_items[toolbar_ind][3];\n",
       "\n",
       "        if (!name) {\n",
       "            // put a spacer in here.\n",
       "            continue;\n",
       "        }\n",
       "        var button = $('<button/>');\n",
       "        button.addClass('ui-button ui-widget ui-state-default ui-corner-all ' +\n",
       "                        'ui-button-icon-only');\n",
       "        button.attr('role', 'button');\n",
       "        button.attr('aria-disabled', 'false');\n",
       "        button.click(method_name, toolbar_event);\n",
       "        button.mouseover(tooltip, toolbar_mouse_event);\n",
       "\n",
       "        var icon_img = $('<span/>');\n",
       "        icon_img.addClass('ui-button-icon-primary ui-icon');\n",
       "        icon_img.addClass(image);\n",
       "        icon_img.addClass('ui-corner-all');\n",
       "\n",
       "        var tooltip_span = $('<span/>');\n",
       "        tooltip_span.addClass('ui-button-text');\n",
       "        tooltip_span.html(tooltip);\n",
       "\n",
       "        button.append(icon_img);\n",
       "        button.append(tooltip_span);\n",
       "\n",
       "        nav_element.append(button);\n",
       "    }\n",
       "\n",
       "    var fmt_picker_span = $('<span/>');\n",
       "\n",
       "    var fmt_picker = $('<select/>');\n",
       "    fmt_picker.addClass('mpl-toolbar-option ui-widget ui-widget-content');\n",
       "    fmt_picker_span.append(fmt_picker);\n",
       "    nav_element.append(fmt_picker_span);\n",
       "    this.format_dropdown = fmt_picker[0];\n",
       "\n",
       "    for (var ind in mpl.extensions) {\n",
       "        var fmt = mpl.extensions[ind];\n",
       "        var option = $(\n",
       "            '<option/>', {selected: fmt === mpl.default_extension}).html(fmt);\n",
       "        fmt_picker.append(option);\n",
       "    }\n",
       "\n",
       "    // Add hover states to the ui-buttons\n",
       "    $( \".ui-button\" ).hover(\n",
       "        function() { $(this).addClass(\"ui-state-hover\");},\n",
       "        function() { $(this).removeClass(\"ui-state-hover\");}\n",
       "    );\n",
       "\n",
       "    var status_bar = $('<span class=\"mpl-message\"/>');\n",
       "    nav_element.append(status_bar);\n",
       "    this.message = status_bar[0];\n",
       "}\n",
       "\n",
       "mpl.figure.prototype.request_resize = function(x_pixels, y_pixels) {\n",
       "    // Request matplotlib to resize the figure. Matplotlib will then trigger a resize in the client,\n",
       "    // which will in turn request a refresh of the image.\n",
       "    this.send_message('resize', {'width': x_pixels, 'height': y_pixels});\n",
       "}\n",
       "\n",
       "mpl.figure.prototype.send_message = function(type, properties) {\n",
       "    properties['type'] = type;\n",
       "    properties['figure_id'] = this.id;\n",
       "    this.ws.send(JSON.stringify(properties));\n",
       "}\n",
       "\n",
       "mpl.figure.prototype.send_draw_message = function() {\n",
       "    if (!this.waiting) {\n",
       "        this.waiting = true;\n",
       "        this.ws.send(JSON.stringify({type: \"draw\", figure_id: this.id}));\n",
       "    }\n",
       "}\n",
       "\n",
       "\n",
       "mpl.figure.prototype.handle_save = function(fig, msg) {\n",
       "    var format_dropdown = fig.format_dropdown;\n",
       "    var format = format_dropdown.options[format_dropdown.selectedIndex].value;\n",
       "    fig.ondownload(fig, format);\n",
       "}\n",
       "\n",
       "\n",
       "mpl.figure.prototype.handle_resize = function(fig, msg) {\n",
       "    var size = msg['size'];\n",
       "    if (size[0] != fig.canvas.width || size[1] != fig.canvas.height) {\n",
       "        fig._resize_canvas(size[0], size[1]);\n",
       "        fig.send_message(\"refresh\", {});\n",
       "    };\n",
       "}\n",
       "\n",
       "mpl.figure.prototype.handle_rubberband = function(fig, msg) {\n",
       "    var x0 = msg['x0'] / mpl.ratio;\n",
       "    var y0 = (fig.canvas.height - msg['y0']) / mpl.ratio;\n",
       "    var x1 = msg['x1'] / mpl.ratio;\n",
       "    var y1 = (fig.canvas.height - msg['y1']) / mpl.ratio;\n",
       "    x0 = Math.floor(x0) + 0.5;\n",
       "    y0 = Math.floor(y0) + 0.5;\n",
       "    x1 = Math.floor(x1) + 0.5;\n",
       "    y1 = Math.floor(y1) + 0.5;\n",
       "    var min_x = Math.min(x0, x1);\n",
       "    var min_y = Math.min(y0, y1);\n",
       "    var width = Math.abs(x1 - x0);\n",
       "    var height = Math.abs(y1 - y0);\n",
       "\n",
       "    fig.rubberband_context.clearRect(\n",
       "        0, 0, fig.canvas.width / mpl.ratio, fig.canvas.height / mpl.ratio);\n",
       "\n",
       "    fig.rubberband_context.strokeRect(min_x, min_y, width, height);\n",
       "}\n",
       "\n",
       "mpl.figure.prototype.handle_figure_label = function(fig, msg) {\n",
       "    // Updates the figure title.\n",
       "    fig.header.textContent = msg['label'];\n",
       "}\n",
       "\n",
       "mpl.figure.prototype.handle_cursor = function(fig, msg) {\n",
       "    var cursor = msg['cursor'];\n",
       "    switch(cursor)\n",
       "    {\n",
       "    case 0:\n",
       "        cursor = 'pointer';\n",
       "        break;\n",
       "    case 1:\n",
       "        cursor = 'default';\n",
       "        break;\n",
       "    case 2:\n",
       "        cursor = 'crosshair';\n",
       "        break;\n",
       "    case 3:\n",
       "        cursor = 'move';\n",
       "        break;\n",
       "    }\n",
       "    fig.rubberband_canvas.style.cursor = cursor;\n",
       "}\n",
       "\n",
       "mpl.figure.prototype.handle_message = function(fig, msg) {\n",
       "    fig.message.textContent = msg['message'];\n",
       "}\n",
       "\n",
       "mpl.figure.prototype.handle_draw = function(fig, msg) {\n",
       "    // Request the server to send over a new figure.\n",
       "    fig.send_draw_message();\n",
       "}\n",
       "\n",
       "mpl.figure.prototype.handle_image_mode = function(fig, msg) {\n",
       "    fig.image_mode = msg['mode'];\n",
       "}\n",
       "\n",
       "mpl.figure.prototype.updated_canvas_event = function() {\n",
       "    // Called whenever the canvas gets updated.\n",
       "    this.send_message(\"ack\", {});\n",
       "}\n",
       "\n",
       "// A function to construct a web socket function for onmessage handling.\n",
       "// Called in the figure constructor.\n",
       "mpl.figure.prototype._make_on_message_function = function(fig) {\n",
       "    return function socket_on_message(evt) {\n",
       "        if (evt.data instanceof Blob) {\n",
       "            /* FIXME: We get \"Resource interpreted as Image but\n",
       "             * transferred with MIME type text/plain:\" errors on\n",
       "             * Chrome.  But how to set the MIME type?  It doesn't seem\n",
       "             * to be part of the websocket stream */\n",
       "            evt.data.type = \"image/png\";\n",
       "\n",
       "            /* Free the memory for the previous frames */\n",
       "            if (fig.imageObj.src) {\n",
       "                (window.URL || window.webkitURL).revokeObjectURL(\n",
       "                    fig.imageObj.src);\n",
       "            }\n",
       "\n",
       "            fig.imageObj.src = (window.URL || window.webkitURL).createObjectURL(\n",
       "                evt.data);\n",
       "            fig.updated_canvas_event();\n",
       "            fig.waiting = false;\n",
       "            return;\n",
       "        }\n",
       "        else if (typeof evt.data === 'string' && evt.data.slice(0, 21) == \"data:image/png;base64\") {\n",
       "            fig.imageObj.src = evt.data;\n",
       "            fig.updated_canvas_event();\n",
       "            fig.waiting = false;\n",
       "            return;\n",
       "        }\n",
       "\n",
       "        var msg = JSON.parse(evt.data);\n",
       "        var msg_type = msg['type'];\n",
       "\n",
       "        // Call the  \"handle_{type}\" callback, which takes\n",
       "        // the figure and JSON message as its only arguments.\n",
       "        try {\n",
       "            var callback = fig[\"handle_\" + msg_type];\n",
       "        } catch (e) {\n",
       "            console.log(\"No handler for the '\" + msg_type + \"' message type: \", msg);\n",
       "            return;\n",
       "        }\n",
       "\n",
       "        if (callback) {\n",
       "            try {\n",
       "                // console.log(\"Handling '\" + msg_type + \"' message: \", msg);\n",
       "                callback(fig, msg);\n",
       "            } catch (e) {\n",
       "                console.log(\"Exception inside the 'handler_\" + msg_type + \"' callback:\", e, e.stack, msg);\n",
       "            }\n",
       "        }\n",
       "    };\n",
       "}\n",
       "\n",
       "// from http://stackoverflow.com/questions/1114465/getting-mouse-location-in-canvas\n",
       "mpl.findpos = function(e) {\n",
       "    //this section is from http://www.quirksmode.org/js/events_properties.html\n",
       "    var targ;\n",
       "    if (!e)\n",
       "        e = window.event;\n",
       "    if (e.target)\n",
       "        targ = e.target;\n",
       "    else if (e.srcElement)\n",
       "        targ = e.srcElement;\n",
       "    if (targ.nodeType == 3) // defeat Safari bug\n",
       "        targ = targ.parentNode;\n",
       "\n",
       "    // jQuery normalizes the pageX and pageY\n",
       "    // pageX,Y are the mouse positions relative to the document\n",
       "    // offset() returns the position of the element relative to the document\n",
       "    var x = e.pageX - $(targ).offset().left;\n",
       "    var y = e.pageY - $(targ).offset().top;\n",
       "\n",
       "    return {\"x\": x, \"y\": y};\n",
       "};\n",
       "\n",
       "/*\n",
       " * return a copy of an object with only non-object keys\n",
       " * we need this to avoid circular references\n",
       " * http://stackoverflow.com/a/24161582/3208463\n",
       " */\n",
       "function simpleKeys (original) {\n",
       "  return Object.keys(original).reduce(function (obj, key) {\n",
       "    if (typeof original[key] !== 'object')\n",
       "        obj[key] = original[key]\n",
       "    return obj;\n",
       "  }, {});\n",
       "}\n",
       "\n",
       "mpl.figure.prototype.mouse_event = function(event, name) {\n",
       "    var canvas_pos = mpl.findpos(event)\n",
       "\n",
       "    if (name === 'button_press')\n",
       "    {\n",
       "        this.canvas.focus();\n",
       "        this.canvas_div.focus();\n",
       "    }\n",
       "\n",
       "    var x = canvas_pos.x * mpl.ratio;\n",
       "    var y = canvas_pos.y * mpl.ratio;\n",
       "\n",
       "    this.send_message(name, {x: x, y: y, button: event.button,\n",
       "                             step: event.step,\n",
       "                             guiEvent: simpleKeys(event)});\n",
       "\n",
       "    /* This prevents the web browser from automatically changing to\n",
       "     * the text insertion cursor when the button is pressed.  We want\n",
       "     * to control all of the cursor setting manually through the\n",
       "     * 'cursor' event from matplotlib */\n",
       "    event.preventDefault();\n",
       "    return false;\n",
       "}\n",
       "\n",
       "mpl.figure.prototype._key_event_extra = function(event, name) {\n",
       "    // Handle any extra behaviour associated with a key event\n",
       "}\n",
       "\n",
       "mpl.figure.prototype.key_event = function(event, name) {\n",
       "\n",
       "    // Prevent repeat events\n",
       "    if (name == 'key_press')\n",
       "    {\n",
       "        if (event.which === this._key)\n",
       "            return;\n",
       "        else\n",
       "            this._key = event.which;\n",
       "    }\n",
       "    if (name == 'key_release')\n",
       "        this._key = null;\n",
       "\n",
       "    var value = '';\n",
       "    if (event.ctrlKey && event.which != 17)\n",
       "        value += \"ctrl+\";\n",
       "    if (event.altKey && event.which != 18)\n",
       "        value += \"alt+\";\n",
       "    if (event.shiftKey && event.which != 16)\n",
       "        value += \"shift+\";\n",
       "\n",
       "    value += 'k';\n",
       "    value += event.which.toString();\n",
       "\n",
       "    this._key_event_extra(event, name);\n",
       "\n",
       "    this.send_message(name, {key: value,\n",
       "                             guiEvent: simpleKeys(event)});\n",
       "    return false;\n",
       "}\n",
       "\n",
       "mpl.figure.prototype.toolbar_button_onclick = function(name) {\n",
       "    if (name == 'download') {\n",
       "        this.handle_save(this, null);\n",
       "    } else {\n",
       "        this.send_message(\"toolbar_button\", {name: name});\n",
       "    }\n",
       "};\n",
       "\n",
       "mpl.figure.prototype.toolbar_button_onmouseover = function(tooltip) {\n",
       "    this.message.textContent = tooltip;\n",
       "};\n",
       "mpl.toolbar_items = [[\"Home\", \"Reset original view\", \"fa fa-home icon-home\", \"home\"], [\"Back\", \"Back to previous view\", \"fa fa-arrow-left icon-arrow-left\", \"back\"], [\"Forward\", \"Forward to next view\", \"fa fa-arrow-right icon-arrow-right\", \"forward\"], [\"\", \"\", \"\", \"\"], [\"Pan\", \"Pan axes with left mouse, zoom with right\", \"fa fa-arrows icon-move\", \"pan\"], [\"Zoom\", \"Zoom to rectangle\", \"fa fa-square-o icon-check-empty\", \"zoom\"], [\"\", \"\", \"\", \"\"], [\"Download\", \"Download plot\", \"fa fa-floppy-o icon-save\", \"download\"]];\n",
       "\n",
       "mpl.extensions = [\"eps\", \"pdf\", \"png\", \"ps\", \"raw\", \"svg\"];\n",
       "\n",
       "mpl.default_extension = \"png\";var comm_websocket_adapter = function(comm) {\n",
       "    // Create a \"websocket\"-like object which calls the given IPython comm\n",
       "    // object with the appropriate methods. Currently this is a non binary\n",
       "    // socket, so there is still some room for performance tuning.\n",
       "    var ws = {};\n",
       "\n",
       "    ws.close = function() {\n",
       "        comm.close()\n",
       "    };\n",
       "    ws.send = function(m) {\n",
       "        //console.log('sending', m);\n",
       "        comm.send(m);\n",
       "    };\n",
       "    // Register the callback with on_msg.\n",
       "    comm.on_msg(function(msg) {\n",
       "        //console.log('receiving', msg['content']['data'], msg);\n",
       "        // Pass the mpl event to the overridden (by mpl) onmessage function.\n",
       "        ws.onmessage(msg['content']['data'])\n",
       "    });\n",
       "    return ws;\n",
       "}\n",
       "\n",
       "mpl.mpl_figure_comm = function(comm, msg) {\n",
       "    // This is the function which gets called when the mpl process\n",
       "    // starts-up an IPython Comm through the \"matplotlib\" channel.\n",
       "\n",
       "    var id = msg.content.data.id;\n",
       "    // Get hold of the div created by the display call when the Comm\n",
       "    // socket was opened in Python.\n",
       "    var element = $(\"#\" + id);\n",
       "    var ws_proxy = comm_websocket_adapter(comm)\n",
       "\n",
       "    function ondownload(figure, format) {\n",
       "        window.open(figure.imageObj.src);\n",
       "    }\n",
       "\n",
       "    var fig = new mpl.figure(id, ws_proxy,\n",
       "                           ondownload,\n",
       "                           element.get(0));\n",
       "\n",
       "    // Call onopen now - mpl needs it, as it is assuming we've passed it a real\n",
       "    // web socket which is closed, not our websocket->open comm proxy.\n",
       "    ws_proxy.onopen();\n",
       "\n",
       "    fig.parent_element = element.get(0);\n",
       "    fig.cell_info = mpl.find_output_cell(\"<div id='\" + id + \"'></div>\");\n",
       "    if (!fig.cell_info) {\n",
       "        console.error(\"Failed to find cell for figure\", id, fig);\n",
       "        return;\n",
       "    }\n",
       "\n",
       "    var output_index = fig.cell_info[2]\n",
       "    var cell = fig.cell_info[0];\n",
       "\n",
       "};\n",
       "\n",
       "mpl.figure.prototype.handle_close = function(fig, msg) {\n",
       "    var width = fig.canvas.width/mpl.ratio\n",
       "    fig.root.unbind('remove')\n",
       "\n",
       "    // Update the output cell to use the data from the current canvas.\n",
       "    fig.push_to_output();\n",
       "    var dataURL = fig.canvas.toDataURL();\n",
       "    // Re-enable the keyboard manager in IPython - without this line, in FF,\n",
       "    // the notebook keyboard shortcuts fail.\n",
       "    IPython.keyboard_manager.enable()\n",
       "    $(fig.parent_element).html('<img src=\"' + dataURL + '\" width=\"' + width + '\">');\n",
       "    fig.close_ws(fig, msg);\n",
       "}\n",
       "\n",
       "mpl.figure.prototype.close_ws = function(fig, msg){\n",
       "    fig.send_message('closing', msg);\n",
       "    // fig.ws.close()\n",
       "}\n",
       "\n",
       "mpl.figure.prototype.push_to_output = function(remove_interactive) {\n",
       "    // Turn the data on the canvas into data in the output cell.\n",
       "    var width = this.canvas.width/mpl.ratio\n",
       "    var dataURL = this.canvas.toDataURL();\n",
       "    this.cell_info[1]['text/html'] = '<img src=\"' + dataURL + '\" width=\"' + width + '\">';\n",
       "}\n",
       "\n",
       "mpl.figure.prototype.updated_canvas_event = function() {\n",
       "    // Tell IPython that the notebook contents must change.\n",
       "    IPython.notebook.set_dirty(true);\n",
       "    this.send_message(\"ack\", {});\n",
       "    var fig = this;\n",
       "    // Wait a second, then push the new image to the DOM so\n",
       "    // that it is saved nicely (might be nice to debounce this).\n",
       "    setTimeout(function () { fig.push_to_output() }, 1000);\n",
       "}\n",
       "\n",
       "mpl.figure.prototype._init_toolbar = function() {\n",
       "    var fig = this;\n",
       "\n",
       "    var nav_element = $('<div/>');\n",
       "    nav_element.attr('style', 'width: 100%');\n",
       "    this.root.append(nav_element);\n",
       "\n",
       "    // Define a callback function for later on.\n",
       "    function toolbar_event(event) {\n",
       "        return fig.toolbar_button_onclick(event['data']);\n",
       "    }\n",
       "    function toolbar_mouse_event(event) {\n",
       "        return fig.toolbar_button_onmouseover(event['data']);\n",
       "    }\n",
       "\n",
       "    for(var toolbar_ind in mpl.toolbar_items){\n",
       "        var name = mpl.toolbar_items[toolbar_ind][0];\n",
       "        var tooltip = mpl.toolbar_items[toolbar_ind][1];\n",
       "        var image = mpl.toolbar_items[toolbar_ind][2];\n",
       "        var method_name = mpl.toolbar_items[toolbar_ind][3];\n",
       "\n",
       "        if (!name) { continue; };\n",
       "\n",
       "        var button = $('<button class=\"btn btn-default\" href=\"#\" title=\"' + name + '\"><i class=\"fa ' + image + ' fa-lg\"></i></button>');\n",
       "        button.click(method_name, toolbar_event);\n",
       "        button.mouseover(tooltip, toolbar_mouse_event);\n",
       "        nav_element.append(button);\n",
       "    }\n",
       "\n",
       "    // Add the status bar.\n",
       "    var status_bar = $('<span class=\"mpl-message\" style=\"text-align:right; float: right;\"/>');\n",
       "    nav_element.append(status_bar);\n",
       "    this.message = status_bar[0];\n",
       "\n",
       "    // Add the close button to the window.\n",
       "    var buttongrp = $('<div class=\"btn-group inline pull-right\"></div>');\n",
       "    var button = $('<button class=\"btn btn-mini btn-primary\" href=\"#\" title=\"Stop Interaction\"><i class=\"fa fa-power-off icon-remove icon-large\"></i></button>');\n",
       "    button.click(function (evt) { fig.handle_close(fig, {}); } );\n",
       "    button.mouseover('Stop Interaction', toolbar_mouse_event);\n",
       "    buttongrp.append(button);\n",
       "    var titlebar = this.root.find($('.ui-dialog-titlebar'));\n",
       "    titlebar.prepend(buttongrp);\n",
       "}\n",
       "\n",
       "mpl.figure.prototype._root_extra_style = function(el){\n",
       "    var fig = this\n",
       "    el.on(\"remove\", function(){\n",
       "\tfig.close_ws(fig, {});\n",
       "    });\n",
       "}\n",
       "\n",
       "mpl.figure.prototype._canvas_extra_style = function(el){\n",
       "    // this is important to make the div 'focusable\n",
       "    el.attr('tabindex', 0)\n",
       "    // reach out to IPython and tell the keyboard manager to turn it's self\n",
       "    // off when our div gets focus\n",
       "\n",
       "    // location in version 3\n",
       "    if (IPython.notebook.keyboard_manager) {\n",
       "        IPython.notebook.keyboard_manager.register_events(el);\n",
       "    }\n",
       "    else {\n",
       "        // location in version 2\n",
       "        IPython.keyboard_manager.register_events(el);\n",
       "    }\n",
       "\n",
       "}\n",
       "\n",
       "mpl.figure.prototype._key_event_extra = function(event, name) {\n",
       "    var manager = IPython.notebook.keyboard_manager;\n",
       "    if (!manager)\n",
       "        manager = IPython.keyboard_manager;\n",
       "\n",
       "    // Check for shift+enter\n",
       "    if (event.shiftKey && event.which == 13) {\n",
       "        this.canvas_div.blur();\n",
       "        event.shiftKey = false;\n",
       "        // Send a \"J\" for go to next cell\n",
       "        event.which = 74;\n",
       "        event.keyCode = 74;\n",
       "        manager.command_mode();\n",
       "        manager.handle_keydown(event);\n",
       "    }\n",
       "}\n",
       "\n",
       "mpl.figure.prototype.handle_save = function(fig, msg) {\n",
       "    fig.ondownload(fig, null);\n",
       "}\n",
       "\n",
       "\n",
       "mpl.find_output_cell = function(html_output) {\n",
       "    // Return the cell and output element which can be found *uniquely* in the notebook.\n",
       "    // Note - this is a bit hacky, but it is done because the \"notebook_saving.Notebook\"\n",
       "    // IPython event is triggered only after the cells have been serialised, which for\n",
       "    // our purposes (turning an active figure into a static one), is too late.\n",
       "    var cells = IPython.notebook.get_cells();\n",
       "    var ncells = cells.length;\n",
       "    for (var i=0; i<ncells; i++) {\n",
       "        var cell = cells[i];\n",
       "        if (cell.cell_type === 'code'){\n",
       "            for (var j=0; j<cell.output_area.outputs.length; j++) {\n",
       "                var data = cell.output_area.outputs[j];\n",
       "                if (data.data) {\n",
       "                    // IPython >= 3 moved mimebundle to data attribute of output\n",
       "                    data = data.data;\n",
       "                }\n",
       "                if (data['text/html'] == html_output) {\n",
       "                    return [cell, data, j];\n",
       "                }\n",
       "            }\n",
       "        }\n",
       "    }\n",
       "}\n",
       "\n",
       "// Register the function which deals with the matplotlib target/channel.\n",
       "// The kernel may be null if the page has been refreshed.\n",
       "if (IPython.notebook.kernel != null) {\n",
       "    IPython.notebook.kernel.comm_manager.register_target('matplotlib', mpl.mpl_figure_comm);\n",
       "}\n"
      ],
      "text/plain": [
       "<IPython.core.display.Javascript object>"
      ]
     },
     "metadata": {},
     "output_type": "display_data"
    },
    {
     "data": {
      "text/html": [
       "<img src=\"data:image/png;base64,iVBORw0KGgoAAAANSUhEUgAAAoAAAAHgCAYAAAA10dzkAAAgAElEQVR4XuydCVhVxf/GX1YRERR3kc0VDTdwQTTBLc20Mk1NzbXc0tCyzFLT/prapm2mlusvdyvNFlMz9w33fRfEfWWXnf8zQxAq6OUOcM+9553n4SnhzDkzn3kv35f5npmxSk9PTwcLCZAACZAACZAACZCAbghY0QDqZqzZURIgARIgARIgARKQBGgAKQQSIAESIAESIAES0BkBGkCdDTi7SwIkQAIkQAIkQAI0gNQACZAACZAACZAACeiMAA2gzgac3SUBEiABEiABEiABGkBqgARIgARIgARIgAR0RoAGUGcDzu6SAAmQAAmQAAmQAA0gNUACJEACJEACJEACOiNAA6izAWd3SYAESIAESIAESIAGkBogARIgARIgARIgAZ0RoAHU2YCzuyRAAiRAAiRAAiRAA0gNkAAJkAAJkAAJkIDOCNAA6mzA2V0SIAESIAESIAESoAGkBkiABEiABEiABEhAZwRoAHU24OwuCZAACZAACZAACdAAUgMkQAIkQAIkQAIkoDMCNIA6G3B2lwRIgARIgARIgARoAKkBEiABEiABEiABEtAZARpAnQ04u0sCJEACJEACJEACNIDUAAmQAAmQAAmQAAnojAANoM4GnN0lARIgARIgARIgARpAaoAESIAESIAESIAEdEaABlBnA87ukgAJkAAJkAAJkAANIDVAAiRAAiRAAiRAAjojQAOoswFnd0mABEiABEiABEiABpAaIAESIAESIAESIAGdEaAB1NmAs7skQAIkQAIkQAIkQANIDZAACZAACZAACZCAzgjQAOpswNldEiABEiABEiABEqABpAZIgARIgARIgARIQGcEaAB1NuDsLgmQAAmQAAmQAAnQAFIDJEACJEACJEACJKAzAjSAOhtwdpcESIAESIAESIAEaACpARIgARIgARIgARLQGQEaQJ0NOLtLAiRAAiRAAiRAAjSA1AAJkAAJkAAJkAAJ6IwADaDOBpzdJQESIAESIAESIAEaQGqABEiABEiABEiABHRGgAZQZwPO7pIACZAACZAACZAADSA1QAIkQAIkQAIkQAI6I0ADqLMBZ3dJgARIgARIgARIgAaQGiABEiABEiABEiABnRGgAdTZgLO7JEACJEACJEACJEADSA2QAAmQAAmQAAmQgM4I0ADqbMDZXRIgARIgARIgARKgAaQGSIAESIAESIAESEBnBGgAdTbg7C4JkAAJkAAJkAAJ0ABSAyRAAiRAAiRAAiSgMwI0gDobcHaXBEiABEiABEiABGgAqQESIAESIAESIAES0BkBGkCdDTi7SwIkQAIkQAIkQAI0gNQACZAACZAACZAACeiMgOYM4NSpUzFmzBiEhIRgxowZOQ7H999/j0WLFuHYsWPy5/7+/vj444/RqFGjrOvT09Px4YcfQlwbGRmJpk2b4rvvvkO1atWyrrl79y6GDx+OtWvXwtraGp07d8aXX34JJycnncmA3SUBEiABEiABEtATAU0ZwNDQUHTt2hXOzs5o0aJFrgawZ8+e0tAFBgbCwcEB06ZNwy+//ILjx4/Dzc1Njp/43pQpU7Bw4UJ4e3tj3LhxOHr0KE6cOCHriPLss8/i2rVrmD17NpKTk9GvXz80bNgQS5Ys0ZMG2FcSIAESIAESIAGdEdCMAYyNjYWfnx9mzpyJSZMmoV69erkawIfHKDU1FSVLlsQ333yD3r17Q8z+VaxYEW+//TZGjRolL4+KikK5cuWwYMECdO/eHSdPnkStWrUgTGeDBg3kNevWrUP79u1x+fJlWZ+FBEiABEiABEiABCyRgGYMYJ8+feDq6orp06cjODg4TwYwJiYGZcuWxcqVK9GhQwdcuHABVapUwcGDB+V9MktQUJD8t0jzzps3TxrEe/fuZf08JSVFzg6K+3Tq1MkSx5t9IgESIAESIAESIAFowgAuW7YMkydPlrNxwoDl1QAOHToUf/31l0wBi/o7d+6UKeKrV6+iQoUKWcMs0stWVlZYvny5fGdQpIdPnz79gAyEkZw4cSKGDBnyiDwSExMhvjJLWloaxHuEpUqVkvdlIQESIAESIAES0D4BkSkUk0ci2yfWAOixmNwARkREyBTshg0bUKdOHTkGeTGAYtHIJ598gs2bN2fVLygDOGHCBGkOWUiABEiABEiABMyfgPAglSpVMv+OGNEDkxvA1atXy3SrjY1NVvPFO31iRk24cjHjlv1n2fv42WefyfcFN27cmPUen/h5QaWAH54BFO8Venh4QAhILFxhIQESIAESIAES0D6B6OhouLu7y11CXFxctN/gAmihyQ2gmIINDw9/oGtiNa6Pjw9Gjx4NX1/fHLstZv1E2likfgMCAh64JnMRiFgAIt7zE0UMtkjvPrwIZN++fXIbGVHWr1+Pdu3aGbwIRNxTCEcYQRrAAlAnb0kCJEACJEACBUCA8RvaeAfw4bF9OAUsVvaK7V3Eti6iiC1exo8fL7drEe/6ZRaxf1/mHn7iGpEezr4NzJEjRx7ZBubGjRuYNWtW1jYwIh1t6DYwFFABfCp5SxIgARIgARIoYAKM32ZiAIUh9PLykrN3ooj/f3jWUHxfbPws3tMTJXMj6Dlz5sgp3mbNmsktZqpXr54lK7GAY9iwYQ9sBP3VV18ZvBE0BVTAn1DengRIgARIgAQKgADjt0YNYAGMdYHckgIqEKy8KQmQAAmQAAkUKAHGbxpAJYFRQEr4WJkESIAESIAETEKA8ZsGUEl4FJASPlYmARIgARIgAZMQYPymAVQSHgWkhI+VSYAESIAESMAkBBi/aQCVhEcBKeFjZRIgARIgARIwCQHGbxpAJeFRQEr4WJkESIAESIAETEKA8ZsGUEl4FJASPlYmARIgARIgAZMQYPymAVQSHgWkhI+VSYAESIAESMAkBBi/aQCVhEcBKeFjZRIgARIgARIwCQHGbxpAJeFRQEr4WJkESIAESIAETEKA8ZsGUEl4FJASPlYmARIgARIgAZMQYPymAVQSHgWkhI+VSYAESIAESMAkBBi/aQCVhEcBKeFjZRIgARIgARIwCQHGbxpAJeFRQEr4WJkESIAESIAETEKA8ZsGUEl4FJASPlYmARIgARIgAZMQYPymAVQSHgWkhI+VSYAESIAESMAkBBi/aQCVhEcBKeFjZRIgARIgARIwCQHGbxpAJeFRQEr4WJkESIAESIAETEKA8ZsGUEl4FJASPlYmARIgARIgAZMQYPymAVQSHgWkhI+VSYAESIAESMAkBBi/aQCVhEcBKeFjZRIgARIgARIwCQHGbxpAJeFRQEr4WJkESIAESIAETEKA8ZsGUEl4FJASPlYmARIgARIgAZMQYPymAVQSHgWkhI+VSYAESIAESMAkBBi/aQCVhEcBKeFjZRIgARIgARIwCQHGbxpAJeFRQEr4WJkESIAESIAETEKA8ZsGUEl4FJASPlYmARIgARIgAZMQYPymAVQSHgWkhI+VSYAESIAESMAkBBi/aQCVhEcBKeFjZRIgARIgARIwCQHGbxpAJeFRQEr4WJkESIAESIAETEKA8ZsGUEl4FJASPlYmARIgARIgAZMQYPymAVQSHgWkhI+VSYAESIAESMAkBBi/aQCVhEcBKeFjZRIgARIgARIwCQHGbxpAJeFRQEr4WJkESIAESIAETEKA8ZsGUEl4FJASPlYmARIgARIgAZMQYPymAVQSHgWkhI+VSYAESIAESMAkBBi/NWYAp06dijFjxiAkJAQzZszIURTHjx/H+PHjsX//foSHh2P69OkYMWLEA9d6eXnJnz1chg4dim+//VZ+Ozg4GFu2bHngkkGDBmHWrFkGi5ECMhgVLyQBEiABEiABzRBg/NaQAQwNDUXXrl3h7OyMFi1a5GoAxXUrVqyAv78/Ro4cidGjRz9iAG/duoXU1NQsoR07dgxt2rTBP//8I41fpgGsXr06Pvroo6zrHB0d5fMNLRSQoaR4HQmQAAmQAAlohwDjt0YMYGxsLPz8/DBz5kxMmjQJ9erVy9UAZpePmOkTs38PzwA+LDHx899++w1nz56FlZVVlgE09Dm5SZYC0s6HmS0hARIgARIgAUMJMH5rxAD26dMHrq6uMp0rZugMNWaGGMCkpCRUrFgRb731Ft5///0sbYjniHRyeno6ypcvj44dO2LcuHEQs4CGFgrIUFK8jgRIgARIgAS0Q4DxWwMGcNmyZZg8eTJEatfBwSHfDaBIF/fo0QOXLl2SRjCzzJkzB56envJ7R44ckankRo0a4eeff85VoYmJiRBfmUUIyN3dHVFRUXlKHWvnI8CWkAAJkAAJkID+CNAAmtgARkREoEGDBtiwYQPq1KkjFZjfM4Bt27aFvb091q5d+1iFb9q0Ca1atcK5c+dQpUqVHK+dMGECJk6c+MjPaAD198uDPSYBEiABEjBfAjSAJjaAq1evRqdOnWBjY5OlIrF4Q7ynZ21tLWfbsv/sYak9KQUsVgJXrlxZzuq98MILj1VqXFwcnJycsG7dOgjTmFPhDKD5ftjZchIgARIgARLIJEADaGIDGBMT88h2Lf369YOPj49Myfr6+j5WrU8ygGLGbvbs2RAzjba2to+9144dO9CsWTMcPnw4azbySR8VCuhJhPhzEiABEiABEtAeAcZvExvAnCTxcAq4d+/ecHNzw5QpU+TlYlHHiRMn5P+3b98ePXv2lF9i9q5q1apZt0xLS4O3tzdeeeUViP0Fs5fz589jyZIlsn6pUqXkO4BiS5lKlSo9sjfg42RLAWnvQ80WkQAJkAAJkMCTCDB+m4EBFIZQzPQtWLBAjmdYWJg0dg+XoKAgbN68Oevb69evl6nc06dPQ+z3l72IGcFevXpB7A8oUr9iIYdIRY8dOzZPizkooCd9xPhzEiABEiABEtAeAcZvDRpA7ckk9xZRQOY0WmwrCZAACZAACWQQYPymAVT6LFBASvhYmQRIgARIgARMQoDxmwZQSXgUkBI+ViYBEiABEiABkxBg/KYBVBIeBaSEj5VJgARIgARIwCQEGL9pAJWERwEp4WNlEiABEiABEjAJAcZvGkAl4VFASvhYmQRIgARIgARMQoDxmwZQSXgUkBI+ViYBEiABEiABkxBg/KYBVBIeBaSEj5VJgARIgARIwCQEGL9pAJWERwEp4WNlEiABEiABEjAJAcZvGkAl4VFASvhYmQRIgARIgARMQoDxmwZQSXgUkBI+ViYBEiABEiABkxBg/KYBVBIeBaSEj5VJgARIgARIwCQEGL9pAJWERwEp4WNlEiABEiABEjAJAcZvGkAl4VFASvhYmQRIgARIgARMQoDxmwZQSXgUkBI+ViYBEiABEiABkxBg/KYBVBIeBaSEj5VJgARIgARIwCQEGL9pAJWERwEp4WNlEiABEiABEjAJAcZvGkAl4VFASvhYmQRIgARIgARMQoDxmwZQSXgUkBI+ViYBEiABEiABkxBg/KYBVBIeBaSEj5VJgARIgARIwCQEGL9pAJWERwEp4WNlEiABEiABEjAJAcZvGkAl4VFASvhYmQRIgARIgARMQoDxmwZQSXgUkBI+ViYBEiABEiABkxBg/KYBVBIeBaSEj5VJgARIgARIwCQEGL9pAJWERwEp4WNlEiABEiABEjAJAcZvGkAl4VFASvhYmQRIgARIgARMQoDxmwZQSXgUkBI+ViYBEiABEiABkxBg/KYBVBIeBaSEj5VJgARIgARIwCQEGL9pAJWERwEp4WNlEiABEiABEjAJAcZvGkAl4VFASvhYmQRIgARIgARMQoDxmwZQSXgUkBI+ViYBEiABEiABkxBg/KYBVBIeBaSEj5VJgARIgARIwCQEGL9pAJWERwEp4WNlEiABEiABEjAJAcZvGkAl4VFASvhYmQRIgARIgARMQoDxmwZQSXgUkBI+ViYBEiABEiABkxBg/KYBVBIeBaSEj5VJgARIgARIwCQEGL81ZgCnTp2KMWPGICQkBDNmzMhRFMePH8f48eOxf/9+hIeHY/r06RgxYsQD106YMAETJ0584Hs1atTAqVOnsr6XkJCAt99+G8uWLUNiYiLatm2LmTNnoly5cgaLkQIyGBUvJAESIAESIAHNEGD81pABDA0NRdeuXeHs7IwWLVrkagDFdStWrIC/vz9GjhyJ0aNH52gAV61ahY0bN2aJzdbWFqVLl87695AhQ/D7779jwYIFcHFxwbBhw2BtbY0dO3YYLFAKyGBUvJAESIAESIAENEOA8VsjBjA2NhZ+fn5yBm7SpEmoV69ergYwu3q8vLyk+ctpBnD16tU4dOhQjmKLiopCmTJlsGTJEnTp0kVeI2YHa9asiV27diEgIMAgkVJABmHiRSRAAiRAAiSgKQKM3xoxgH369IGrq6tM5wYHB+eLAfz000/lzJ6DgwOaNGmCKVOmwMPDQwpw06ZNaNWqFe7du4cSJUpkidLT01OaSTGzaEihgAyhxGtIgARIgARIQFsEGL81YADFO3iTJ0+GSO0Ks5YfBvDPP/+EmFUU7/1du3ZNvg945coVHDt2DMWLF5czf/369ZPv/mUvjRo1kunnadOm5ahUcX32OkJA7u7uEDOKInXNQgIkQAIkQAIkoH0CNIAmNoARERFo0KABNmzYgDp16kjF5IcBfFh6kZGRELN7X3zxBQYMGGC0AcxpcYl4Fg2g9j/sbCEJkAAJkAAJZBKgATSxARTv6XXq1Ak2NjZZqkxNTYWVlZVckCFm27L/7GHp5vYOYE4Sb9iwIVq3bi1TwcamgDkDyF8eJEACJEACJGD+BGgATWwAY2Ji5FYu2YtIzfr4+MjVvb6+vo9VmaEGUKSDxft/YgbvzTfflDN2YhHI0qVL0blzZ/mM06dPy+dyEYj5f7DZAxIgARIgARJ4HAEaQBMbwJwG5+EUcO/eveHm5iZn7kRJSkrCiRMn5P+3b98ePXv2lF9OTk6oWrWq/P6oUaPQsWNHmfa9evUqPvzwQ7kiWNQTxk8UsQ3MH3/8IbeBEe/vDR8+XH5/586dBn9qKCCDUfFCEiABEiABEtAMAcZvMzCAwhCKmT5h1EQJCwuDt7f3IyIKCgrC5s2b5fe7d++OrVu34s6dO9LwNWvWTC40qVKlSla9zI2gxSxg9o2gy5cvb7BAKSCDUfFCEiABEiABEtAMAcZvDRpAzajDgIZQQAZA4iUkQAIkQAIkoDECjN80gEqSpICU8LEyCZAACZAACZiEAOM3DaCS8CggJXysTAIkQAIkQAImIcD4TQOoJDwKSAkfK5MACZAACZCASQgwftMAKgmPAlLCx8okQAIkQAIkYBICjN80gErCo4CU8LEyCZAACZAACZiEAOM3DaCS8CggJXysTAIkQAIkQAImIcD4TQOoJDwKSAkfK5MACZAACZCASQgwftMAKgmPAlLCx8okQAIkQAIkYBICjN80gErCo4CU8LEyCZAACZAACZiEAOM3DaCS8CggJXysTAIkQAIkQAImIcD4TQOoJDwKSAkfK5MACZAACZCASQgwftMAKgmPAlLCx8okQAIkQAIkYBICjN80gErCo4CU8LEyCZAACZAACZiEAOM3DaCS8CggJXysTAIkQAIkQAImIcD4TQOoJDwKSAkfK5MACZAACZCASQgwftMAKgmPAlLCx8okQAIkQAIkYBICjN80gErCo4CU8LEyCZAACZAACZiEAOM3DaCS8CggJXysTAIkQAIkQAImIcD4TQOoJDwKSAkfK5MACZAACZCASQgwftMAKgmPAlLCx8okQAIkQAIkYBICjN80gErCo4CU8LEyCZAACZAACZiEAOM3DaCS8CggJXysTAIkQAIkQAImIcD4TQOoJDwKSAkfK5MACZAACZCASQgwftMAKgmPAlLCx8okQAIkQAIkYBICjN80gErCo4CU8LEyCZAACZAACZiEAOM3DaCS8CggJXysTALKBFJS0xB+Nx5uJYrCwc5G+X68AQmQgD4IMH7TACopnQJSwsfKJGA0geiEZKwIjcCCnWG4fO8+bKytUL1ccdSt5ILalVxQx60EapQvDntba6OfwYokQAKWS4DxmwZQSd0UkBI+ViaBPBO4dCce83dexMp9lxGbmCLr21pbISUt/ZF72dtYo2aF4lmGsI67C6qWcYKtDU1hnsGzAglYGAHGbxpAJUlTQEr4WJkEDCKQnp6O0LB7mLv9AjacuIFMr1etrBP6N/NGp/puuBefhMMRUTh6JRJHLov/RiEyPvmR+zvYWeOpii6o7eaCuu7ivyVQuXQxWFtbGdQWXkQCJGAZBBi/aQCVlEwBKeFjZRJ4LIGklDT8cfQa5m6/KA1dZmlevQwGNPNG82qlYWWVs3ETpjHi7n0cuRKJo5ejcPhyJI5dic6aNcz+YKcitniqojPqupeQxrBOJRd4uDrmem8OGwmQgPkTYPymAVRSMQWkhI+VSSBHApHxSVi85xIW7QrDjehEeU0RW2u85OeG/k29Ua1ccaPIpaWl4+KduCxDKIzhsatRSEhOe+R+LkXtpBHMNIR1KpVABRcHmkKjyLMSCWiPAOM3DaCSKikgJXysTAIPEDh3Mxbzd1zETwcuZ5myMsWLoHeAJ3oGeMK1mH2+ExOriM/dis1IG1+OwpErUTh5NRpJqY+awtJO9tIQ1q5UImuxSdniDvneJt6QBEig4AkwftMAKqmMAlLCx8okAJGq3X7utkzzbj59K4tIrQrOMs3boW4FFLEt3O1dROr5zI2Yf98ljJTvFop/57TQpLyzg5wplLOFlUqgjpsLShaAUaVUSIAE8pcA4zcNoJKiKCAlfKysYwIJyalYc+gK5m0Pw+kbMZKEeJ2vlU85afwCKrtqKt0q2nvyWrQ0hRmLTCJx9mYs0h9dfAx316JyG5qM7Whc4FvJBc4OdjoebXadBLRHgPGbBlBJlRSQEj5W1iGBWzGJ+N/ucCzeHY47cUmSgKO9Dbo2cEffQC94lS5mNlTiElNw/KowhZFykYpIIV+4HZdj+8VKY2EIM1Yfl5CLThztbc2mr2woCVgaAcZvGkAlTVNASvhYWUcExOyZSPP+euhq1vt14vSOPoGe6NbQA2LRhSWUqPvJOH4l411CYQzFbKHYqPrhInadqVrWCWJxSeZik5oVnHmaiSWIgH0wCwKM3xozgFOnTsWYMWMQEhKCGTNm5Cii48ePY/z48di/fz/Cw8Mxffp0jBgx4oFrp0yZgp9//hmnTp1C0aJFERgYiGnTpqFGjRpZ1wUHB2PLli0P1Bs0aBBmzZplsHgpIINR8UIdEhCrbv85fVMav53n72QRqO9RQqZ52z1VXhebMt+NS5IzhEciIqUxFDOF16MTHlGE2NBanF6SYQgzjKH4tx03rtbhp4ddLmgCjN8aMoChoaHo2rUrnJ2d0aJFi1wNoLhuxYoV8Pf3x8iRIzF69OhHDGC7du3QvXt3NGzYECkpKXj//fdx7NgxnDhxAsWKZaSYhAGsXr06PvrooyydOTo6yucbWiggQ0nxOj0RiE9KwU/7L2P+jrCslKg4qq2db3lp/Pw8SuoJR459vRmdkPE+oTSEGTOFmSnx7BXEUXZiZlC8S5ix2KSEnDkUPFlIgASMJ8D4rREDGBsbCz8/P8ycOROTJk1CvXr1cjWA2Yfby8tLmr+HZwAflsStW7dQtmxZOePXvHnzLANo6HNykxgFZPyHjzUtj8C1qPtYuDMcS/degkiFilLcwRavNPJAn0AviJQvS84ExGroq1EJWWYwY7FJJKITMo67y16K2tnIdwiz0seVXOBdiqeZUFskkBcCjN8aMYB9+vSBq6urTOeKmTlDjZmhBvDcuXOoVq0ajh49Cl9f3ywDKNLJ4hdv+fLl0bFjR4wbNw5iFjC3kpiYCPGVWYSA3N3dERUVlaeZw7yIlNeSgNYJHI6IlGlecWpH5lYpnqUc0S/QC10auEOctMGSdwLid9Olu/E4LPcozJglPHYlCnFJqY/crHgRW/j+O0soFpvUrVQClUoW1dRK6rwTYA0SKDgCNIAaMIDLli3D5MmTIVK7Dg4O+W4A09LS8PzzzyMyMhLbt2/PUtOcOXPg6emJihUr4siRIzKV3KhRI/nuYG5lwoQJmDhx4iM/pgEsuA8p76xNAqlp6Vh//Lo0fvvC72U1srG3q0zztqpZjmnKAhg68V7lhdsZG1dnnnl8PJfTTEo42slVx61rlsOrAZ4877gAxoO3NF8CNIAmNoARERFo0KABNmzYgDp16mTNzOXnDOCQIUPw559/SvNXqVKlXNW6adMmtGrVCmK2sEqVKjlexxlA8/2ws+X5QyAmIRnLQyOwYGdY1upWOxsrdKxTEf2bectZKJbCJSBOMxF7EmacZJIxUyhWXSen/rdJ4XO1K+DzrnW5yrhwh4ZP0zABGkATG8DVq1ejU6dOsLH5b6f/1NRUmbawtraW6dbsP3tYS09KAQ8bNgxr1qzB1q1b4e3t/VgpxsXFwcnJCevWrUPbtm0Nki0FZBAmXmQBBCLuxstFHSv2RSA2MeO9tJKOdujZ2BOvNvFEOWceiaalYU5MScWZ67HYdu4Wpm84I82g2H/w+97+4PF1WhoptsVUBBi/TWwAY2Ji5FYu2Uu/fv3g4+MjU7KZ7+vlJpDcDKB4d2b48OH45ZdfsHnzZvn+35PKjh070KxZMxw+fDhrNvJJdSigJxHiz82ZgPgcifTu3G0Xsf7EdaT9O6EkVqH2b+qNTvXdUNS+cI9pM2eepmr77gt3MPjH/YiMT5YLceb2bQCf8obvdmCqdvO5JFCQBBi/TWwAcxrchxeB9O7dG25ubhB7+4mSlJQkt3MRpX379ujZs6f8ErN3VatWld8fOnQolixZImf/su/95+LiIvcFPH/+vPy5qF+qVCn5DqDYUkakiB/eG/BxAqSACvLjyXubikByahp+P3IN83ZclOnEzNK8ehn0b+qFoOpluLjAVINj5HMv3o5D/84jHoMAACAASURBVAWhEP8Vi3K+6VEfwTXKGnk3ViMB8yfA+G0GBlAYQjHTt2DBAqm4sLCwHNO5QUFBcrZPFJFCzqnMnz8fffv2hXj3sFevXnJvQJH6FSt5RSp67NixeVrNSwGZ/y8B9uA/ApHxSVi85xIW7QrDjeiM1e5FbK3xkp8b+jX1RvVyxYnLjAmI8RUzgbsv3IXYRvDDjk/J7XlYSECPBBi/NWgAzUmIFJA5jRbbmhuB87diMW/7Rfx04DISktPkZWWKF0HvAE/0aOyBUk5FCM9CCCSlpOGDX45i5f7Lskfi/OWxz9XUxYksFjKE7EY+EWD8pgFUkhIFpISPlU1IQLzft+PcHczdfgH/nL6V1ZJaFZzlNi4d6lZAEVu+32fCISqwR4ux/27LeXyy7rR8RosaZfB1Dz/u11hgxHljLRJg/KYBVNIlBaSEj5VNQCAhORW/Hroq3+87dT1GtkC8MdHKp5w0fgGVXfl+nwnGxRSP/PPoNYxccUjO+vqUL465fRvytBZTDASfaRICjN80gErCo4CU8LFyIRK4FZOIH3eHY/GecNyOTZJPdrS3wcv+ldC3qTe8S2eckc2iLwLiFJfXFu2D0EdppyL4oU8D1HMvoS8I7K0uCTB+0wAqCZ8CUsLHyoVA4NT1aLmNy5pDV5GUmvF+X0UXB/nyf/eGHnBxtCuEVvARWiZwJfI+BiwIlTPCYtHP9G710L52BS03mW0jAWUCjN9GGkCxQfOePXvkHn7x8fEoU6YM6tev/8TNlpVHTGM3oIA0NiBsjiQgjgvbfOamPKZNvOeXWcTMjkjztvMtDzsba9IigSwCYnPvN5cexKZTN+X33mlbA0ODq/B1AGrEYgkwfufRAIrNkr/88kusXbsWycnJyNxX7+7du/LUjsqVK2PgwIEYPHgwihe3/C0jKCCL/d1glh2LT0rBTweuYP6Oi7hwK072QWz38axvBXlMm79nSbPsFxtdOATE+c6Tfj8hT3wRpYt/JXzcqTbsbfnHQuGMAJ9SmAQYv/NgAJ9//nkcOHAAPXr0QMeOHeUZvmJT5cxy4cIFbNu2DUuXLpWnaSxatAht2rQpzPEs9GdRQIWOnA/MgcD1qAQs3BWGJXsuIep+sryieBFbdG/kLlO9lUo6khsJGExA7AM54dfj8uSXxt6umNXLHyWL2RtcnxeSgDkQYPzOgwGcPXs2+vfvDzu7J78zJE7quHbtGlq1amUOOjC6jRSQ0ehYMR8IHLkcKdO84tSOlH/PafNwdUS/pl54uYE7t/XIB8Z6vcXm0zcxbMlBee6zWCA0r29DLhTSqxgstN+M33kwgBaqAaVuUUBK+FjZCAIiTbfhxHVp/ELD7mXdoZG3q3y/r3XNcrAReV8WElAkcPp6jDw+TiwScSlqJ2cCm1QppXhXVicBbRBg/M4HAxgbG4u0tIzVhZnF2VkfB41TQNr4IOuhFTEJyVgeGoEFO8Nw+d592WVbayt0rFtRGj9fNxc9YGAfC5mA2B7m9UX7cCgiEnY2VpjcqTa6NnAv5FbwcSSQ/wQYv400gBcvXsSwYcPk2bsJCQlZIyN2mBfn8Kampub/aGnwjhSQBgfFwpqUkpqGLzacwaJd4TIdJ0oJRzv0bOyB3k28UM7ZwcJ6zO5ojYDYPPztlYflqwaiiNXBo56pAWvONGttqNiePBBg/DbSADZt2hTC7IWEhKBcuXKPbBUQFBSUh2Ew30spIPMdO3NoufiMvffTUSzfFyGbW6VMMbma96X6lVDUnse0mcMYWkobxdZC0zeewdebzskuta9dHp+/XI86tJQB1mE/GL+NNIBOTk7Yv38/atSooUPZ/NdlCkjXw1/gnZ/65ynM2nJebuXyaZe66FTfjbMuBU6dD3gcgZ/2X8Z7Px9Bcmo66lZywfe9G6AsZ6EpGjMkwPhtpAFs0aIFPvjgA7Ru3doMhz3/mkwB5R9L3ulBAnO2nsfHf5yS35zWuTa6NfQgIhLQBIG9F+9i0P/24V58sjxVRpwhXLOCPt771sQAsBH5QoDx20gDeP78ebnZc69eveDr6/vI1jB16tTJlwHS+k0oIK2PkHm2b8W+CLy76ohs/HvP+mBwUBXz7AhbbbEEwm7HyRXCF27HoZi9Db7p4YcWPmUttr/smOURYPw20gDu3r1bbggdFpaxY7woYvEHF4FY3oeEPSpcAn8dv44hP+6Xm/AOal4ZY9rXLNwG8GkkYCCBqPhkDP5xP3ZduCNfUxjfoRb6NvU2sDYvIwHTEqABNNIA1qpVCzVr1sS7776b4yIQT09P045sIT2dAiok0Dp5zK7zd9Bn/l4kpaThZf9K+KRLHZ7FqpOxN9duCq2OW30sa6FS7yae0gja8qxpcx1S3bSb8dtIA1isWDF53FvVqlV1I5acOkoB6Xr487Xzx65Eofuc3XKrlza1yuG7nn4MovlKmDcrKAIi8zNn6wVMXXcK6elAUPUy+KZHfRR3ePKpUQXVJt6XBJ5EgPHbSAMozgLu27cvOnfu/CTGFv1zCsiih7fQOnfxdhy6fLcTd+KS5NmrC/s3goMdt3kptAHgg/KFwLpj1zFi+UEkJKehRrnimNu3Ac+hzheyvElBEGD8NtIAzpkzB5MmTZJnA9euXfuRRSDPP/98QYyX5u5JAWluSMyuQdejEtD5u53yuK2nKjpj6cAAOHPmxOzGkQ3OICDOp35t4T7cjElEaSd7uU1MfY+SxEMCmiPA+G2kAbS2ts51MHkSiOZ0zgZplEBkfBK6zt6FMzdi4V26GFYOboLSTkU02lo2iwQMI3At6j76L9iHk9eiUcTWGp93rYsOdSoaVplXkUAhEaABNNIAFtL4aP4xFJDmh0izDYxPSkGvH/bgwKVIlHMuglWDA+Hu6qjZ9rJhJJAXAnGJKXhz6UH8feqmrDbqmep4o0VVLmrKC0ReW6AEGL9pAJUERgEp4dNtZbFy8vVF+7DlzC24FLXDikFNUKN8cd3yYMctk0BqWjo+/uMk5m6/KDv4kp8bprxUG0Vs+X6rZY64efWK8TsPBnDZsmXo3r27QSMcERGBS5cuQZwZbMmFArLk0S2YvokzVUcsP4RfD19FUTsb/PhaY/h78h2pgqHNu2qBwI+7w/Hhr8chDGEjL1fMftUfJYvZa6FpbIOOCTB+58EABgUF4ebNm+jXrx/EKmCxD2D2EhUVhR07duDHH3/Ehg0bMHfuXFj6YhAKSMe/PYzoutguY8Kvx7FwVzhsra3wQ58GCK7B0xOMQMkqZkZg65lbeGPxAcQkpsCrlKM8Pq5KGScz6wWba0kEGL/zYADFwP/666/4+uuvsWnTJoi9AMuVKwcHBwfcu3cP169fR+nSpeX2MCNHjpQ/s/RCAVn6COdv/2ZsPIMZG8/CygqY0a0eXqjnlr8P4N1IQMMEztyIkcfHXb53H84Otpj1qj8Cq5TWcIvZNEsmwPidRwOYKYbbt29j+/btCA8Px/3796Xxq1+/vvx63AphSxMTBWRpI1pw/Vm0Kwzj1xyXD5j4/FPoE+hVcA/jnUlAowRuxyZi4KJ9cvGTmAX/uFNtdG3ortHWslmWTIDx20gDaMmiyEvfKKC80NLvtWsOXZHv/YlTEka0roYRravrFwZ7rnsCCcmpeGfVEaw9fFWyGBxUBe+2rQFrcaAwCwkUEgHGbxpAJalRQEr4dFF58+mbcmPclLR09GniiQnPP8WtMHQx8uzk4wiI92GnbzyLr/4+Ky9r91R5TO9WD0XtuUKYyikcAozfNIBKSqOAlPBZfOX94ffkXn/3k1PxfN2K8r0/znJY/LCzg3kgsPrgFby76giSUtNQp5ILfujdAGWdHfJwB15KAsYRYPymATROOf/WooCU8Fl0ZfHC+8uzdiHqfjKaVy8jA5u9be4n6Fg0DHaOBB5DIDTsLgb9bz/uxiWhgosD5vZpiFoVncmMBAqUAOM3DaCSwCggJXwWWznibjy6zNqJG9GJqO9RAotfawxHe1uL7S87RgKqBMLvxMkVwudvxaGYvQ2+eqU+WtW0/J0kVLmxvvEEGL+NNIAfffQRRo0aBUfHB4+uEiuCP/30U4wfP974UTGjmhSQGQ1WITVVrHLs8t1OhN2JR/VyTvKUjxKO3PS2kPDzMWZMQMyWD128HzvO3YFYDzL2uVro19SL78ya8ZhquemM30YaQBsbG1y7dg1lyz64ie2dO3fk91JTU7U87vnWNgoo31BaxI1iEpLRfc5uHL8aDbcSRfHTkECUd+H7TBYxuOxEoRBITk3D+DXHsHRvhHzeqwGe+LBjLdja8PWJQhkAHT2E8dtIAyj2+rtx4wbKlCnzgFzEBtHdunXDrVu3dCEjCkgXw2xQJ8XWFn3m7cWei3dRqpg9Vg0JhHfpYgbV5UUkQAL/ERArhH/YdhEf/3lSbp0k3qH9pkd9ODvYERMJ5BsBxu88GsCSJUvK6Xhx7Juzs/MDU/Ni1i82NhaDBw/Gt99+a9QgTZ06FWPGjEFISAhmzJiR4z2OHz8uU8z79++XG1FPnz4dI0aMeORa0QaRjhYnlNStW1eeYNKoUaOs6xISEvD2229DnHGcmJiItm3bYubMmXk6wYQCMmqYLa5SSmoahi4+gPUnbsCpiC2WDQyAr5uLxfWTHSKBwiSw/vh1hCw7JFfRVyvrhHl9G8Ld9cHXjgqzPXyWZRFg/M6jAVy4cCHEX2f9+/eXBs3F5b8gZ29vDy8vLzRp0sQolYSGhqJr167SWLZo0SJXAyiuW7FiBfz9/eWRc6NHj37EAC5fvhy9e/fGrFmz0LhxY3mvlStX4vTp01lp6yFDhuD333/HggULZD+GDRsmTzER5xkbWiggQ0lZ7nXi8zD6pyNYse+yXOW7sF8jNKlSynI7zJ6RQCESOHYlCgMWhsoFVaWd7DGndwP4eZQsxBbwUZZKgPE7jwYwUwhbtmxBYGAg7OzyZ0pezBz6+fnJGbhJkyahXr16uRrA7GIUhlPM/j08AyhMX8OGDfHNN9/Iy9PS0uDu7o7hw4fjvffekzOYIn29ZMkSdOnSRV5z6tQp1KxZE7t27UJAQIBBms8S0K2r0riy6I/AZ+tPY+72i/Kl9S+710drrlzUnwjY4wIlcCM6AUMWH8DJa9HyjyxxfNxztSsU6DN5c8snION3mYpZGU3L7/GjPbRKF1MYRhRhqs6dO4ebN29Kg5W9NG/ePE937NOnD1xdXWU6Nzg4WMkAJiUlydXJq1atwosvvpjVDvGMyMhIrFmzBuJdxVatWuHevXsoUaJE1jWenp7STIqZxZyKSBWLr8wiBCSMZdR7xeFchMcY5WnQeTEJkAAJkAAJmIhAdGI6XKbG0ADmlf/u3bvRo0cP+Q7ew/5RvCOYl1XA4h28yZMnQ6R2HRwclA3g1atX4ebmhp07dz6Qjn733XchZi737NkjZ/769ev3gJkTDMQ7giL9PG3atByRTJgwARMnTnzkZzSAeVUQrycBEiABEiAB0xGgATQyBSxStNWrV5dmqEKFCo/s05T93cDHDW9ERAQaNGiADRs2oE6dOvJS1RnAgjSAuc4AMgVsuk+xCZ688eQNhCw7iLR0YEAzb4x6poYJWsFHkoA+CSwPjcD//X4CqWnp8PcoKTeNdi3GvTb1qQbje80UsJEGsFixYjh8+DCqVq1qPH0Aq1evRqdOnSD2FcwsYvZQzCKKBRnCcGX/2cMPy+kdwIJMAT/8fL5EqjT8Zll51/k76DN/L5JS0tCtgTumdq7NjWrNciTZaHMmsP3sbQxZvB8xCSnwLOUoj4+rWtbJnLvEthcyAcZvIw1gy5YtIVKq7dq1UxqymJgYmUbOXkRq1sfHR67u9fX1fez9H7cIRKRzxdYvooh3FD08PORK3+yLQJYuXYrOnTvLa8QKYfFcoxaB/LstjhIMVtY8AbEiUWz0HJuYgmdqlcPMnn7coFbzo8YGWiqBczdj0G9BKCLu3oezgy2+6+WPplVLW2p32a98JkADmAcDeOTIkSz858+fx9ixY/HOO++gdu3aj6wGzkznGjNeD6eAxXYu4p2+KVOmyNuJGb4TJ07I/2/fvj169uwpv5ycnLJmJMU2MGLRx+zZs+V7fWIbGLF1jFjpW65cxvmSYhuYP/74Q24DI1bwihXCooh3Bw0tFJChpMz/ugu3YvHyrF24E5eEgMquWNCvERzs/pu5Nv8esgckYH4E7sQmYtD/9mNf+D3YWlth0ou+6N7Iw/w6whYXOgHG7zwYQJGSFanZ3BYNZ/4sr4tAHh71hw2g+LeY6RNGTZSwsDB4e3s/IpagoCBs3rw56/tiC5jMjaDFO4tfffWV3BMws2RuBC1mAbNvBF2+fHmDhUgBGYzKrC+8HpWAzt/txJXI+/B1c8bS1wNQnKcSmPWYsvGWQ0CcwiP24lxz6Krs1KDmlTG6nQ+sxd5MLCSQCwHG7zwYwIdTtY9TldhORQ+FArL8UY6MT5Izf2dvxqJy6WJYMbgJSjsVsfyOs4ckYEYExMTEV3+fw/SNZ2SrxSsaM7rXg6O9rRn1gk0tTAKM33kwgIU5MObyLArIXEbKuHbGJ6Wg5w97cPBSJMo7O2DVkCaoVJJHURlHk7VIoOAJrDl0Be+sOiIXaYnZerE4pJyzQ8E/mE8wOwKM30YawF9//TXHwRbpX7GXn1gdnFOa1uwU8oQGU0CWNqL/9UcEkNcW7cPWM7fgUtQOKwc3QfVyxS23w+wZCVgIgf3hdzFw0X75vq74w+2HPg14NreFjG1+doPx20gDmNv7gNnfA2zWrJnc5qVkScs9t5ECys+Po3bulZaWjpDlh7D28FUUtbPB4tcb8/xR7QwPW0ICTyQQcTderhA+dzMWjvY2+Eoc01grYwEgCwkIAozfRhrAv//+Gx988IE8wUOsshVl7969GDdunFwdLDaCHjRokFx0MXfuXItVGwVkeUMr3iX68NfjWLQrHHY2VvihT0MEVS9jeR1lj0jAwglE3U/GsCUHsO3sbVhZAR+0ryk3bhcTFSwkwPhtpAEU+/PNmTMHgYGBD6hox44dGDhwII4fP46NGzeif//+uHTpksUqjQKyvKGdvuEMvvz7rAwYX3avj+frVrS8TrJHJKATAsmpafIPuiV7MuJQj8YemPj8U7CzsdYJAXYzNwKM30YawKJFi8qzex/eqPno0aNyRvD+/ftyg+eaNWsiPj7eYhVIAVnW0C7cGSaDhSj/96IvXg3Qx2p2yxpF9oYEHiQgZvXnbr+IyX+cRHo68HS10vimh598t5dFvwQYv400gOL9vuLFi2PRokUoUyYjPXbr1i2ITZvj4uKwdetWOQP4xhtvyBM2LLVQQJYzsmL1YMiyQ7JDI1tXR0jrapbTOfaEBEgAG05knOEdn5Qqj42b37ch3F25ql+v0mD8NtIAClP3wgsv4OLFi3B3d5f6iYiIQOXKlbFmzRpUr15dLgARR729+uqrFqsvCsgyhvaf0zfx+sJ9SElLR99AL3zYsRbfE7KMoWUvSOABAuI4x9cW7sP16ASUKmaPOb394e/pSko6JMD4baQBFFoR5+uuX78eZ85kbLxZo0YNtGnTBmKFsF4KBWT+Iy22jBB7/SUkp+GFehUxvWs9niBg/sPKHpBArgRuRCdgwMJQHLsSDXtba3zX0w+tanKFsN4kw/itYAD1Jpac+ksBmbcKTl+PwcuzdiI6IQXBNcpgzqsNZEBgIQESsGwCYpP3EcsOYf2JGyjhaIf1I5ujbHFuGG3Zo/5g7xi/82AAxVm6YoWv2OhZ/P/jyptvvqkLHVFA5jvMYp8wcb7vzZhE+HuWxI8DGqOovY35dogtJwESyBMBsUL4xW934PjVaHl03OxX/fnqR54ImvfFjN95MIDiZI99+/ahVKlSjz3lQ+yxdOHCBfNWhoGtp4AMBKWxy27FJMqZv7A78ahRrjhWDGoCF0euCNTYMLE5JFDgBE5ei8bz32xHcmo6vuxeDy/UcyvwZ/IB2iDA+J0HA6iNIdNWKyggbY2HIa2JTkjGK3N2y7/6K5Usip+GBPKsUEPA8RoSsFACX/99Fp9vOMNUsIWOb27dYvxWNIBJSUlyJXCVKlVga2urM/nwKBlzG/CE5FT0nrcXey/eRWkne6waHAiv0sXMrRtsLwmQQD4SEKngTjN3yEUhbWqVwxymgvORrnZvRQNopAEUmzsPHz4cCxculKMrVgKLLWDE99zc3PDee+9pd9TzsWUUUD7CLOBbpaSmYfCPB7Dx5A0UL2KLpQMDeEB8ATPn7UnAXAicuh6Njl9npIKnd6uLTvUrmUvT2U4jCTB+G2kAQ0JCII59mzFjBtq1a4cjR45k7QE4YcIEHDx40MghMa9qFJB5jJc4CeCdVUewav9lucp3Uf9GCKhcyjwaz1aSAAkUCoFvNp3FZ+vPyBNCNohVwc5cFVwo4E30EMZvIw2gp6cnli9fjoCAAHkiyOHDh6UBPHfuHPz8/CDA6qFQQOYxyh//cRJztl6AjbUVZvXyl2keFhIgARLITkBkCTrN3ImjV6LQumZZfN+7AVcFW7BEGL+NNICOjo44duyYNH3ZDaAwgs2bN0dUVJQFy+a/rlFA2h/mWVvOY+qfp2RDP3u5Lrr4M7Wj/VFjC0nANATE3qAiFZyUmoYvutbFS378fWGakSj4pzJ+G2kAhcl7+eWX5Tt/wgCKFLDYJkb8++zZs1i3bl3Bj54GnkABaWAQHtOE5aGXMPqno/KKD9rXxOvNK2u7wWwdCZCAyQl8+885fPrXaTg72GLDW0HcJcDkI1IwDWD8NtIAbt++Hc8++yx69eqFBQsWYNCgQThx4gR27tyJLVu2wN/fv2BGTGN3pYA0NiDZmrPu2HUMXbwfaenAkOAqGN3OR7uNZctIgAQ0Q0CkgsUm8YcvR6GlT1nM7cNUsGYGJx8bwvhtpAEUY3D+/HlMnTpVvv8XGxsr3/0bPXo0ateunY9DpO1bUUDaHJ+d52+j77xQmcbp3tAdU16qzXd5tDlUbBUJaJLA2RsxeO6rjFQwXx3R5BApN4rxW8EAKtO3gBtQQNobxKOXo9B9zi7EJaWi3VPl8U2P+rC14fm+2hsptogEtE3gu83nMW3dKRQXqeCRQSjvwlXB2h6xvLWO8TuPBtDQ1b3Ozs55GwkzvZoC0tbAnb8Vi5dn7cLduCQEVimFeX0bwsGO5/tqa5TYGhIwDwIyFTxrFw5HRCK4RhnM79uQmQTzGDqDWsn4nUcDaG1t/dgPgNhvTZwFnJqaatAAmPtFFJB2RvBa1H10+W4XrkTeR203F7nRs1MR/Z1Oo50RYUtIwPwJnLsZg/YiFZyShk+61EHXBu7m3yn2QBJg/M6jARQLPDKLMHvt27fHDz/8IE//yF6CgoJ0ITEKSBvDfC8uCV1n78LZm7GoXLoYVg5uglJORbTROLaCBEjArAlkbiUlThBa/1ZzVHApatb9YeMzCDB+59EAPiyc7HsA6lFUFJDpRz0uMQU9f9iDQxGRKO/sgJ+GBsKtBH9Bm35k2AISsAwCqWnp6DJrJw5eikRQ9TJY0I+pYEsYWcZvGkAlHVNASviUK4u0zICFodh29jZKONph5aAmqFauuPJ9eQMSIAESyE7g3M1YtP9qW0YquHMddG3IVLC5K4TxmwZQScMUkBI+pcrir/KQZQfx25FrcLS3weLXGqO+R0mle7IyCZAACeRGYM7W8/j4j1MQqeC/RjZHRWYazFosjN/5YAAzTwExayUY2XgKyEhwitXE+6fj1hzDj7svwc7GCnP7NETz6mUU78rqJEACJJA7AfFH58uzduLApUj5+2YhU8FmLRfG7zwawJdeeumBAV+7di1atmyJYsWKPfD9n3/+2ayFYWjjKSBDSeXvdV9sOIOv/j4LKyvg61fqo0Odivn7AN6NBEiABHIgILaaav/lNiSmpGHqS7XRvZEHOZkpAcbvPBrAfv36GTTU8+fPN+g6c7+IAir8EZy/4yImrj0hHzzpRV/0CvAs/EbwiSRAArol8MO2C5j0+0m5zZRIBXPRmXlKgfE7jwbQPIe54FpNARUc25zuvPrgFYxYfkj+6O021TG8VbXCbQCfRgIkoHsCIhXcbfYu7Au/h6erlcai/o24QbQZqoLxmwZQSbYUkBK+PFX+5/RNvL5wH1LS0tE30AsfdqzFX7p5IsiLSYAE8ovAhVuxePbfVPDHnWqjR2OmgvOLbWHdh/GbBlBJaxSQEj6DK+8Pvyv3+ktITsOL9Srii671YG1tZXB9XkgCJEAC+U0gMxVczN5GpoIrlXTM70fwfgVIgPGbBlBJXhSQEj6DKp+6Ho2us3YhOiEFLX3KYvar/rCzsTaoLi8iARIggYIiIFLB3efsQmjYPTStWgo/DmjMrERBwS6A+zJ+a9AATp06FWPGjEFISAhmzJiR67CvXLkS48aNQ1hYGKpVq4Zp06bJo+kyiziTOKfyySef4J133pE/8vLyQnh4+AOXTZkyBe+9955BcqOADMJk9EURd+PR+buduBmTiAaeJfG/AY1R1N7G6PuxIgmQAAnkJ4Gw23Fo9+VWmZ3gorT8JFvw92L81pgBDA0NRdeuXeHs7IwWLVrkagB37tyJ5s2bQ5i1Dh06YMmSJdIAHjhwAL6+vlI5169ff0BBf/75JwYMGIBz586hcuXKWQZQfO/111/PulYcb/fwtja5SZECKrgP6a2YRHn8UvidePiUL47lA5vAxdGu4B7IO5MACZCAEQTmbb+Ij347AZEKXjeiOdxdmQo2AmOhV2H81pABjI2NhZ+fH2bOnIlJkyahXr16uRrAbt26IS4uDr/99luWaAICAmSdWbNm5SikF198ETExMfj777+zfi5mAEeMGCG/jCkUkDHUnlwnOiEZ3Wbvxslr0XB3LYqfBgeirLPDkyvyChIgARIoZAJpMhW8G3vD7iKwSkYqmO8oF/IgGPE4xm8N7V81IwAAIABJREFUGcA+ffrA1dUV06dPR3Bw8GMNoIeHB956660HjNuHH36I1atX4/Dhw49I4caNG6hUqRIWLlyIHj16PGAAExISkJycDHFP8bORI0fC1tbWIDlRQAZhytNFCcmp6D1vL/ZevIvSTkWwanATeJV+cKPxPN2QF5MACZBAARPIngr+vxd98Sr3Jy1g4uq3Z/zWiAFctmwZJk+eDJECdnBweKIBtLe3l2bulVdeyVKBmDmcOHEihNl7uIj3/sS7hVevXpX3zyxffPGFnHUUxlOklcW7h2Kza/H9nEpiYiLEV2YRAnJ3d0dUVJRMW7OoEUhJTcPgHw9g48kb8rzNZYMC8FRFF7WbsjYJkAAJFAKBBTsuYsLaE/Js8r+YCi4E4mqPoAHUgAGMiIhAgwYNsGHDBtSpU0eO6JNmAPNqAH18fNCmTRt8/fXXj1XMvHnzMGjQIIh0dJEiRR65dsKECdJkPlxoANU+iKK2SKO8s+oIfjpwGUVsreXmqo0rl1K/Me9AAiRAAoVAQPwOe+X73dhz8S4CKrtiyWsBTAUXAndjH0EDqAEDKNK2nTp1go3Nf6s7U1NT5XJ6a2trOeOW/WdisPOSAt62bZtcMHLo0CHUrVv3sVo5fvy4XERy6tQp1KhR45FrOQNo7Eft8fXS09Mx+feT+GH7RdhYW2F2L3+0rlWuYB7Gu5IACZBAARG4dCcebWdsxf3kVHz0wlPo3cSrgJ7E26oSoAHUgAEUCzMe3opFpGHFrN3o0aOzVvVmH2yxCCQ+Ph5r167N+nZgYKCcQXx4EUjfvn1x7Ngx7Nu374l6Wbx4MXr37o3bt2+jZMmST7yeAnoiIoMumLv9Iv7vt4zzfT9/uS46+1cyqB4vIgESIAGtEVi4Mwwf/nocRe0yUsEepbgqWGtjJNrD+K0BA5iTMB5OAQtT5ubmJrd9EUW8rxcUFCTf63vuuecg3iH8+OOPH9gGJnOAK1SogM8//xyDBw9+4FG7du3Cnj175HYzYusX8W+xAOTZZ5+V7xcaUiggQyg9/pqrkffR8vPNch+tD9rXxOvNM7boYSEBEiABcyQgUsE9ftiN3RfuopG3K5a9zlSwFseR8dtMDKAwhGLLlgULFmTpSGwEPXbs2KyNoMVCj+wbQYsL58yZI1cKX7t2DS4uDy4mEHsGDh06VKZ7RWrX29sbr776qlxdnNP7fzkJmAJS/1i/ufQgfj18FY28XLF8UAB30ldHyjuQAAmYmIDYxF6kguOTUjGhYy30bept4hbx8Q8TYPzWqAE0F6lSQGojFRp2Fy/P2gVxaMvaYc3g68YVv2pEWZsESEArBP63Kwzj1mSkgteNeBqepbidlVbGRrSD8ZsGUEmPFJDx+ESa5Plvt+PYlWi80sgdU17KWAHOQgIkQAKWQED8juv5wx7sunBHZjiWDWQqWEvjyvhNA6ikRwrIeHwrQiPw7k9H5H5//7wTLDd9ZiEBEiABSyIgUsHtZmxFXFIqxneohf7NmArWyvgyftMAKmmRAjIOX0xCMlp8tgW3YxMx9rmaeO1pLvwwjiRrkQAJaJ3Aj7vDMXb1MTjYWePPkObw5slGmhgyxm8aQCUhUkDG4Zvy50nM3nIBlUsXk4en29taG3cj1iIBEiABjRMQ+5z2mrsHO87dQUOvklg+sAk3iNbAmDF+0wAqyZACyju+i7fj8Mz0LUhOTce8vg3Q0ocbPuedImuQAAmYE4HL9+LRdnpGKnhch1oYwFSwyYeP8ZsGUEmEFFDe8b22cJ886zeoehks6NeQ277kHSFrkAAJmCGBxXvC8cEvx+RRl3+GPI3KZZzMsBeW02TGbxpAJTVTQHnDt+3sLbw6dy9sra3ktghVyxbP2w14NQmQAAmYKQGRCha//7afuw1/z5JYMaiJPPqSxTQEGL9pAJWURwEZji8lNQ3PfrkNZ2/Gon9Tb4zvWMvwyrySBEiABCyAwJXI+zIVHJuYwgVwJh5Pxm8aQCUJUkCG48s8H7Okox02j2oBF0c7wyvzShIgARKwEAJL917CmJ+PylTwHyFPowpTwSYZWcZvGkAl4VFAhuG7F5eE4M82I+p+Mia96IteAZ6GVeRVJEACJGBhBEQquPe8vdh29jb8PEpg5eBApoJNMMaM3zSASrKjgAzDN37NMSzaFQ6f8sXx+5tP85edYdh4FQmQgIUSuPpvKjgmMQXvt/fBwOZVLLSn2u0W4zcNoJI6KaAn4zt9PQbPfrkVaenAktcbI7BK6SdX4hUkQAIkYOEElodewuifjsp9UP94UyyK46rgwhxyxm8aQCW9UUCPx5d9A9Rnfcvju17+SrxZmQRIgAQshYD4/dh3fii2nLmFeu4l8NMQpoILc2wZv2kAlfRGAT0e3/rj1zHwf/vlX7h/vxUEd1dHJd6sTAIkQAKWROBa1H0888VWiFTwe8/6YHAQU8GFNb6M3zSASlqjgHLHl5iSijZfbMWlu/F4o0UVvNPWR4k1K5MACZCAJRJYsS8C76468m8quBn3Ry2kQWb8pgFUkhoFlDu+7zafx7R1p1C2eBH8MyoYxYrYKrFmZRIgARKwRAIiFdx/QSj+OX0LdUUqeHAT2NrwfPSCHmvGbxpAJY1RQDnjuxmdgBafbZbnXn7RtS5e8qukxJmVSYAESMCSCVyPSkCb6VsQk5CC0e18MCSYqeCCHm/GbxpAJY1RQDnje2flYazcf1n+NfvLkEBY87gjJZ2xMgmQgOUTWLkvAu+IVLCNNX5/sxmqleNRmQU56ozfNIBK+qKAHsV3OCISL3y7Q/7g56GB8PMoqcSYlUmABEhADwREKnjAwn3YdOom6lRywc9DApkKLsCBZ/ymAVSSFwX0ID7xC6zzdztx4FIkXqrvhi+61VPiy8okQAIkoCcCIhX8zPQtiE5IwTtta+CNFlX11P1C7SvjNw2gkuAooAfxrTl0BSHLDsHR3gab3g5GeRcHJb6sTAIkQAJ6I/DT/st4e+VhmQpeO7wZapRnKrggNMD4TQOopCsK6D988UkpaPnZFlyPTuBfrkqqYmUSIAE9ExCZlNcW7sPfp26itpuLfJXGjquC810SjN80gEqiooD+w/fFhjP46u+zqFSyKDa+FQQHOxsltqxMAiRAAnolcCM6AW2+yEgFj3qmOoa1rKZXFAXWb8ZvGkAlcVFAGfgu34tHq8+3IDElDd/19MOztSsocWVlEiABEtA7gV8OXsbI5YdhZ2MlU8E+5Z31jiRf+8/4TQOoJCgKKAPfG0sO4Pcj1xBQ2RVLXw+AlZWVEldWJgESIAG9ExCp4NcX7cfGkzfg6+aMX4Y2ZSo4H0XB+E0DqCQnCgjYc+EOus3ZDbHV32/Dn0ativwrVUlUrEwCJEAC/xIQm+q3mb4VUfeT8Xab6hjeiqng/BIH4zcNoJKW9C6g1LR0dPx6O05ci0bPxh6Y3Km2Ek9WJgESIAESeJDA6oNXMGL5IZkK/nVYM9SswD+y80Mjeo/fgqFVuphnZjGKgN4FtGzvJbz381EUd7DF5lHBKOVUxCiOrEQCJEACJJAzARGiB/5vPzacuIGnKjpj9RtMBeeHVvQev2kAFVWkZwFFJySjxaebcScuCeM61MKAZt6KNFmdBEiABEggJwI3Y8QG0VsRGZ+Mka2rI6Q1U8GqStFz/M5kxxlABRXpWUCTfz+B77ddRJUyxbBuRHO+nKygI1YlARIggScRyNxo39baCmuGNcVTFV2eVIU/fwwBPcdvGsB8+GjoVUDnb8Wi7fStSElLx4J+DRFco2w+0OQtSIAESIAEciMgUsGDf9yPv47fkO8BrnmjKextrQnMSAJ6jd/ZcXEG0EjxiGp6FVD/BaHywPKWPmUxr29DBYKsSgIkQAIkYCiBWzGJ8qzge/HJCGlVDSPbVDe0Kq97iIBe4zcNYD59FPQooM2nb6Lv/FCINMRfI5ujShmnfKLJ25AACZAACTyJwNrDVzF86UH5O5ip4CfRyv3neozfD9PgDKDx+tHdDGByahrazdiK87fi8Fozb4ztUEuBHquSAAmQAAnklYBIBQ9dfAB/HrsOn/LF5dYwTAXnlaJ+M3icAcy7VnKsobe/IOZtv4iPfjuBUsXssWlUMFyK2uUTSd6GBEiABEjAUAK3Y0UqeCvuxiXhzZZV8dYzNQytyuv+JaC3+J3TwGtuBnDq1KkYM2YMQkJCMGPGjFzFunLlSowbNw5hYWGoVq0apk2bhvbt22dd37dvXyxcuPCB+m3btsW6deuyvnf37l0MHz4ca9euhbW1NTp37owvv/wSTk6GpTX1JKA7sYkI/mwzYhJSMOWl2nilkQd/kZAACZAACZiIwG9HrmLYkoOwEangN5rC142rgvMyFHqK37lx0ZQBDA0NRdeuXeHs7IwWLVrkagB37tyJ5s2bY8qUKejQoQOWLFkiDeCBAwfg6+sr+yoM4I0bNzB//vysvhcpUgQlS5bM+vezzz6La9euYfbs2UhOTka/fv3QsGFDeT9Dip4E9MEvR7F4zyW5+uy34c3kLx0WEiABEiAB0xF4Y/EB/H70GlPBRgyBnuK35g1gbGws/Pz8MHPmTEyaNAn16tXL1QB269YNcXFx+O2337L6FRAQIOvMmjUrywBGRkZi9erVOfb95MmTqFWrFoTpbNCggbxGzA6KWcTLly+jYsWKT5SUXgR08lo0nvtqG9LSgWUDAxBQudQT2fACEiABEiCBgiUgMjMiFSw25B/esireZirYYOB6id+PA6KZGcA+ffrA1dUV06dPR3Bw8GMNoIeHB9566y2MGDEiq28ffvihNHuHDx/OMoDi3/b29nLWr2XLltJYliqVYV7mzZuHt99+G/fu3cu6R0pKChwcHCDSy506dXqikPQgIPHCcY/v92DXhTt4rnYFfNvT74lceAEJkAAJkEDhEPjj6DW5KERkZX4ZGog6lUoUzoPN/Cl6iN9PGiJNGMBly5Zh8uTJcjZOGLAnGUBh6sT7fa+88kpW/8TM4cSJE2XaVxRxT0dHR3h7e+P8+fN4//335bt9u3btgo2NDT7++GN5j9OnTz/AqGzZsvI+Q4YMeYRdYmIixFdmEQJyd3dHVFSUTFtbYll37BoG/3gARWytsfGtILi7OlpiN9knEiABEjBbAm8sOYDfj1xD9XJOWDu8GYrY2phtXwqr4TSAgMkNYEREhEzBbtiwAXXq1JFjnx8G8GERXbhwAVWqVMHGjRvRqlUrowzghAkTpDl8uFiqAUxITkXrL7bg8r37XGlWWL+V+BwSIAESyCOB7KngN1pUwTttffJ4B/1dTgOoAQMo0rQi3Spm5TJLamoqrKys5MpcMeOW/WfiGkNSwDnJuUyZMjINPGjQIKNSwHqbAfz2n3P49K/TKO/sgE2jguBob6u/3xLsMQmQAAmYAYE/j17DkH9TwT8PCURdd6aCHzdsNIAaMIAxMTEIDw9/YJzEalwfHx+MHj06a1Vv9gvEIpD4+Hi5fUtmCQwMlDOImYtAHh54sbBDGEdhOJ9//nlkLgLZt28f/P395eXr169Hu3btuAgEwI3oBLT4bDPik1Ixo1s9vFjfzQx+BbKJJEACJKBfAuKEEHFSSLWyGalgBzumgnNTAw2gBgxgToPzcAq4d+/ecHNzk9u+iCK2gQkKCoLYM/C5556T7/uJd/oyt4ERK4pFqlbs61e+fHn5DuC7774LYTaPHj0KsR2MKGIbGPHOoDCNmdvAiHQ0t4EB3lpxCD8fuAI/jxL4aUignJFlIQESIAES0C4BsTG0OCv4dmwShgRXweh2TAXTAOauV5O/A2iIARSG0MvLCwsWLMi6XKzUHTt2bNZG0J988knWRtD379/Hiy++iIMHD0JsBSO2dHnmmWfwf//3fyhXrlzWPcRG0MOGDXtgI+ivvvpK9xtBH7x0D51m7pScxAajTCVo9xc+W0YCJEAC2QmsO3Ydg3/cD7FV689Dm6IeU8E5CoQzgBqdATSXj7MlCigtLR0vfbcThyIi0cW/Ej57ua65DAfbSQIkQAIkACBk2UGsOXQVVcs6yY37mQp+VBaWGL/zKn5NzgDmtROmut4SBfTzgct4a8VhFLO3wT+jglHW2cFUePlcEiABEiABIwjci0tCm+lbIc4MHhRUGWOerWnEXSy7iiXG77yOGA1gXollu97SBBSXmIKWn2/GjehEvNuuBoYGV1Wgw6okQAIkQAKmIrD++HUM/F9GKnjVkED4efx3DKqp2qSl51pa/DaGLQ2gMdT+rWNpAvrsr9P45p9z8HB1xPqRzZk2UNAGq5IACZCAqQmMWHYQqw9dRZUyxfD7m0/zd7oFT+AYozUaQGOoWaABjLgbj1ZfbEFSShpmv+qPtk+VVyDDqiRAAiRAAqYmEBmfkQq+FZOIQc0rY0x7poIzx8TSJnCM0RoNoDHULNAADvlxP/48dh1Nq5bCjwMac9sXBV2wKgmQAAlohcCGEzfw+qJ9MhW8cnAg/D2ZChZjQwPIVcBKn1FLEdCu83fwyve75S+IP0Kehk95yzzXWGmwWZkESIAEzJTAW8sP4eeDV1C5dDH5O56rgmkAhZQ5A6jwgbYEA5ialo7nvtqGU9dj8GqAJ/7vRV8FIqxKAiRAAiSgNQJR8cloM30LbsYk4vWnvfHBc7W01sRCb48lxG9VaDSACgQtQUCL94Tjg1+OwaWoHTaPCkbJYvYKRFiVBEiABEhAiwT+PnkDAxbugzjUadXgJvD3dNViMwutTZYQv1Vh0QAqEDR3AYm/CoM/+wf34pMxoWMt9G3qrUCDVUmABEiABLRM4O0Vh/HTgcvwFqngN59GUXv9nhVs7vE7P3RGA6hA0dwF9NHaE5i346I8OFy8F2JnY61Ag1VJgARIgAS0TCDqfrI8K1js9TqgmTfGddBvKtjc43d+6IwGUIGiOQvo3M1YtJuxFSlp6VjUvxGaVy+jQIJVSYAESIAEzIHAP6duot+CUJkKXjGoCRp66TMVbM7xO790RgOoQNKcBdR3/l5sPn0LrWuWxQ99GipQYFUSIAESIAFzIjBq5WGs2n8ZXqUc8WdIc12mgs05fueX1mgAFUiaq4Ay/wK0s7HC+pFB8n0QFhIgARIgAX0QEKngttO34np0Avo39cb4jvpLBZtr/M5PhdIAKtA0RwGJkz5E6vfC7TjuDK8w9qxKAiRAAuZM4J/TN9FvfkYqePnAJmjkra9UsDnG7/zWGw2gAlFzFNAP2y5g0u8nUdrJHv+MCkZxBzsFAqxKAiRAAiRgrgTeXXUYK/ZdhqdMBT8NR3tbc+1KntttjvE7z518QgUaQAWi5iag27GJaPHpZsQkpmBa59ro1tBDofesSgIkQAIkYM4EohMyUsHXohLQN9ALE55/ypy7k6e2m1v8zlPnDLyYBtBAUDldZm4CGvPzUSzdewm+bs5Y80Yz2Iiz31hIgARIgAR0S2DLmVvoM2+v7P+ygQEIqFxKFyzMLX4XxKDQACpQNScBHb8ahQ5fb0d6ujgQXL9L/xWGm1VJgARIwCIJvPfTESwLjYCHqyPWjdBHKtic4ndBiY4GUIGsuQgoPT0d3ebsxt6Ld9GxbkV8/Up9hV6zKgmQAAmQgCURiPk3FXw1KgF9mnhi4guWfya8ucTvgtQZDaACXXMR0O9HruGNJQfgYGeNv98OhluJogq9ZlUSIAESIAFLI7D1zC30/jcVvPT1ADSpYtmpYHOJ3wWpMxpABbrmIKCE5FS0+nwLrkTeR0irahjZprpCj1mVBEiABEjAUgmM+fkIlu6NgLtrUawLaY5iRSx3VbA5xO+C1hkNoAJhcxDQ13+fxecbzqCCiwM2vR2syx3fFYaYVUmABEhANwREKrjdjG1ywuDVAE/834uWmwo2h/hd0MKjAVQgrHUBXYu6j5afbcH95FR89Up9PF+3okJvWZUESIAESMDSCWw/exu95u6R3VzyWmMEVi1tkV3WevwuDOg0gAqUtS6gEcsOYvWhq2jgWVKu/LUSW76zkAAJkAAJkMBjCLz/y1Es2XMJlUoWxfqRzS1yg2itx+/CECgNoAJlLQtof/hddP5ulzzm59c3mqF2JReFnrIqCZAACZCAXgjEJqbIDaJFKnh8h1ro38zb4rqu5fhdWLBpABVIa1VAaWnpeHHmDhy5HIWuDSrhky51FXrJqiRAAiRAAnojsHhPOD745Rgqujhgy7stYGdjbVEItBq/CxMyDaACba0KaNX+yxi18jCcithi06gglC3uoNBLViUBEiABEtAbAbGDRLNp/0AcIfr5y3XR2b+SRSHQavwuTMg0gAq0tSggMXXf4rPNuBWTiDHP+mBQUBWFHrIqCZAACZCAXgnM3HwOn6w7jWplnfDXiOawtqDjQ7UYvwtbZzSACsS1KKBp607hu83n4VXKEX+NbI4itjYKPWRVEiABEiABvRKITkhG0ymbEJOYgh96N0DrWuUsBoUW43dhw6UBVCCuNQGF34lDmy+2Iik1Dd/3boA2FvRhVRgmViUBEiABEjCSwNQ/T2HWlvPw8yiBn4YEWsxuElqL30YOj1I1GkAFfFoT0MBF+7D+xA08Xa00FvVvZDEfVIUhYlUSIAESIAEFAjejE+S7gGJiYcWgJmjk7apwN+1U1Vr8NgUZGkAF6loS0I5zt9Hzhz2wsbbCnyFPo3q54go9Y1USIAESIAESyCAw5uejWLr3Elr6lMW8vg0tAouW4repgNIAKpDXioBSUtPw3FfbcfpGDPoGemHC808p9IpVSYAESIAESOA/Ahdvx6Hl55uRng6sG/E0fMo7mz0ercRvU4KkAVSgrxUB/W9XGMatOY4SjnbYPCoYJRztFXrFqiRAAiRAAiTwIIE3Fh/A70evoVN9N0zvVs/s8WglfpsSJA2gAn0tCCgyPgnBn21GZHwyPnrhKfRu4qXQI1YlARIgARIggUcJHL0chY7fbJevGYmJBndXR7PGpIX4bWqAmjOAU6dOxZgxYxASEoIZM2bkymflypUYN24cwsLCUK1aNUybNg3t27eX1ycnJ2Ps2LH4448/cOHCBbi4uKB169YQ965YsWLWPb28vBAeHv7AM6ZMmYL33nvPoHHRgoAm/HocC3aGoXo5J/zx5tOwtbDd2g0aCF5EAiRAAiRQ4AR6/bAH28/dRp8mnpj4gm+BP68gH6CF+F2Q/TPk3poygKGhoejatSucnZ3RokWLXA3gzp070bx5cwiz1qFDByxZskQawAMHDsDX1xdRUVHo0qULXn/9ddStWxf37t2ThjI1NRX79u17wAAOGDBAXpdZihcvjmLFihnCDqYW0NkbMWj35TakpqVj8WuN0bRqaYPazYtIgARIgARIIK8EMhcbOthZY8folijlVCSvt9DM9aaO31oAoRkDGBsbCz8/P8ycOROTJk1CvXr1cjWA3bp1Q1xcHH777bcshgEBAbLOrFmzcuQqzGWjRo3kjJ+Hh4e8RswAjhgxQn4ZU0wpoPT0dPSetxfbzt7+//bOAzqqam3DLyGS0LsgvUi9ECACIgGS0KSKEEQ6oiBd6aCowJWuAipV/JGmgHIFBASlI0WKQOgCQSDUSycEEkjCv77tnTEMSebMnClnZt69lkvN7Prs75z9nl2+jYbl8+GrzlXtaQLTkAAJkAAJkIAmAjLuvDJtBw5fvIN36j6PgQ3LaEpnxEjuHL+NwsMwArBLly7IlSsXpkyZgrCwsDQFoAi4gQMHPiHcRo4ciRUrViAyMjJFths2bEDDhg1x+/ZtNcNoEoBxcXFqyVjybN++PQYMGAB/f39N/eNOA9pw7Cq6LdiHDOn9sH5gHRTNrW3WUlPDGIkESIAESIAEUiDw8+HL6P3tfmTP+Ax2Dq+LzAHaxkujwXTn+G0UFoYQgEuWLMHYsWMhs3SBgYFWBWCGDBkwf/58tGvXzsxRZg5Hjx6Nq1evPsVWRF5ISAjKli2Lb7/91vz75MmT1ayjCE9ZVpa9h127doX8PaUQHx8P+ccUxIAKFy6slpxNotIVHRufkIiXp2zD2Rv30TO0JIY3LuuKYlkGCZAACZCAjxOQLUf1J2+FuIb5oGk5dKtdwiOJUAACbheA0dHRqFq1KtavX4+goCBlSNZmAG0RgDK7FxERgQsXLmDLli1pCrW5c+eiR48ekOXogICn9zaMGjVKiUzL4GoBOHtrFMavPYG8WQOweXAYsnjoF5hHvjVYaRIgARLwcQLiFFqcQ+fPFohtQ8ORwd/P44hQABpAAMqybcuWLZE+fXqzAclhjXTp0sHPz0/NuCX/TSJpXQIW8SeHSuQk8KZNm5A7d+40jfTo0aPqEMmJEydQpszTexuMMAN4LSYe4Z9uwb34BHzSOgivVS3scQ8eK0wCJEACJOC5BGQVqvbEzfhvTLzHjkMUgAYQgDExMU+5YpFlWFmuHTZsmBJklkEOgdy/fx+rVq0y/1SzZk01g2g6BGISf6dOncLmzZuRN29eq0+bLA937twZ169fR86cOa3Gd4cBDVt2CEv3RSOoUHas6B0CP790VuvJCCRAAiRAAiTgSAKztkZhwtoTKJk3M9YPCPW4scgd47cj+TsiL7cvAafUCMslYBFlBQsWVG5fJMh+vdDQUOXXr2nTppA9hOPGjTO7gRHxJ25gxC2MnBTOly+fuRjZ7ydLyLt27cLu3buVuxlx/SL/LwdAGjdurPYXagmuNiBxxPnK9O3qOp7/9HoJLxT1jku5tbBmHBIgARIgAeMQiIl7hJoTNiEmLgFfdXoBDf+V3ziV01ATV4/fGqrk8igeIQBFEIrLlnnz5pkBiSNocfZscgQ9adIksyNo+Vvx4sVThCmzgZKfiMPevXur5V5Z2pX4nTp1UqeLU9r/l1JmrjQgOX7/2qxd2HfuFlpULoDP21ZxubGwQBIgARIgARIwEZi07gRmbIlC5cI5sLx3TbV1y1OCK8dvozIxpAA0KizLernSgFY/h6hRAAAc8UlEQVRFXkK/xQeQ8Zn02DQ4FM9lz+gpmFhPEiABEiABLyQge9JDJm7Cw4QkLHm7BmqUSHufvZEQuHL8NlK7k9eFAlBHz7jKgB48TES9z7bg0p04DGxQGu/UK6Wj1kxKAiRAAiRAAo4hMGL5YXy7+zzCyuTFvK7VHZOpC3Jx1fjtgqbYXQQFoN3o4LKr4KZuOImpG06hYI6M2DgoFIHP/HNiWkf1mZQESIAESIAEdBE4dyNWeaZIegx1H335An9ftGD0QAFogFPARjeStOrnCgO6ePuBmv2Le5SEae2roFlQAU9GxrqTAAmQAAl4GYG+3+3H6kOX8UqlAviinWfsT3fF+G30buYMoI4ecoUByb4/2f9XvVguLO1Rw6M22epAy6QkQAIkQAIeQuDIxTto9uV2iFeyLYPDUSR3JsPX3BXjt9EhUADq6CFnG9DeszfVyV85WLWqby1UKJhdR22ZlARIgARIgAScQ6DT/+3Gb6euo1ONovj41af99zqnVPtzdfb4bX/NXJeSAlAHa2caUFLSY+Xz78jFu2hXvTDGt/r7mjwGEiABEiABEjAagZ1R19F+zm4E+Pthx/C6yJPl6etUjVRnZ47fRmpnWnWhANTRU840oO/3RmPofw4ha4A/Ng8JM/zDpAMjk5IACZAACXg4AfFV++qMnYiMvo2+4c9j8MtPX6dqpCY6c/w2UjspAJ3UG84yIPGwLqeqrt97iBFNyqF7nRJOagGzJQESIAESIAHHEFh35DJ6LtqPbIH+2PlePWQJ8HdMxk7IxVnjtxOq6rQsOQOoA62zDGj8z8cxe9sZFM+TGb/0r4MM/n46asmkJEACJEACJOB8ArJ1qf6UrThzLdbwkxfOGr+dT9lxJVAA6mDpDAP663osGk7ZikeJjzH3jaqoW/afe4x1VJVJSYAESIAESMDpBJbuPY9h/zmMfNkCsG1oOAL8jem31hnjt9PhOrgACkAdQJ1hQN3m78OG41cRWlq8qlej2xcd/cOkJEACJEACriUQn5CIOpM24+rdeEyKCEKbaoVdWwGNpTlj/NZYtGGiUQDq6ApHG9C2k9fQee4e+Pulw7r+tfH8s1l11I5JSYAESIAESMD1BOZsO4OxPx9HibyZsX5AKNKLg0CDBUeP3wZrnqbqUABqwpRyJEca0KPEJDT5/Dec+u89dA0phpHN/6WjZkxKAiRAAiRAAu4hcC8+ATXHb8TduATM6hiMRhWec09F0ijVkeO34RqnsUIUgBpBpRTNkQY0b8dfGLXqGHJmekZ5Us+e6RkdNWNSEiABEiABEnAfgU9/+RPTNp9GpcI5sKJ3TcNtZ3Lk+O0+yvpKpgDUwc9RBnQr9iHCPt2COw8eYcyrFdCxRlEdtWJSEiABEiABEnAvgev34hEyYRPiE5LwXfcXUbNkHvdWyKJ0R43fhmqUjZWhALQRWPLojjKgj1YewYJd51A2f1aseae2IfdL6MDEpCRAAiRAAj5I4MMVR7Dw93OoUzovFrxZ3VAEHDV+G6pRNlaGAtBGYI4WgCeu3FV7/5Iew5BfSTrwMCkJkAAJkIAPE4i+eV+tbiUmPcbqfsa6z54CEKAA1PFw6jUguTqnw9e7sTPqBhr9Kz9mdXpBR22YlARIgARIgASMReCdxQfwU+QlNAt6DtPaBxumcnrHb8M0REdFKAB1wNNrQL8cvYIeC/9QN31sGBCKIrkz6agNk5IACZAACZCAsQgcu3QXTb74DeIJZvPgMBTNndkQFdQ7fhuiETorQQGoA6AeAxJnmQ0mb8P5m/fRJ7wkhrxcVkdNmJQESIAESIAEjEmgy9w92HryGjq8WARjW1Y0RCX1jN+GaIADKkEBqAOiHgOauSUKE9edwLNZA9RXUWYDX5qtAxGTkgAJkAAJ+DiB38/cQNuvflerXTuG1UXerAFuJ6Jn/HZ75R1UAQpAHSDtNaD/3o1D+KdbEPswEZ+9VgkRLxTSUQsmJQESIAESIAHjEpD97q1m7sSB87fRO6wkhjZy/4qXveO3cSnbXjMKQNuZmVPYa0CDf4jEsj8uKAeZy3vVhJ8Br8nRgYVJSYAESIAESOAJAqY971kD/bFzeF1kDXTvZQf2jt/e1K0UgDp60x4Dioy+jRbTd6hSf+xdE8FFcuqoAZOSAAmQAAmQgPEJJCU9RoMpWxF1LRbvNS6LHqEl3Vppe8Zvt1bYCYVTAOqAaqsByTR4xMyd2H/+NlpVKYjJr1fWUTqTkgAJkAAJkIDnEPh+XzSGLjuk9r7/NiwcAf7p3VZ5W8dvt1XUiQVTAOqAa6sBrTx4Ee8uOYhMGdJj06Aw5M8eqKN0JiUBEiABEiABzyHwMCEJdSZtxpW7cZjQqiLaVi/itsrbOn67raJOLJgCUAdcWwzo/sME1P10qzL8wQ1Lo2/dUjpKZlISIAESIAES8DwCX/92BmPWHEfxPJmxYWCo264+tWX89jzK2mpMAaiNU4qxbDGgyb/+iS82nUahnBmV0Qc+476pbx1NZlISIAESIAESsJtAbHwCak7YhDsPHmFGh2A0qfic3XnpSWjL+K2nHCOnpQDU0TtaDejS7QfK7Ut8QhJmdghGYzcZvI6mMikJkAAJkAAJOISAaUIkqFB2rOwTgnTp0jkkX1sy0Tp+25Knp8WlANTRY1oNaPza45i99QyqF8uFpT1quMXYdTSTSUmABEiABEjAYQRu3ItHyMRNiHuUhG+7vYiQ5/M4LG+tGWkdv7Xm54nxKAB19JoWA4p7lIiXxm/ErfuPMKdzVTQon09HiUxKAiRAAiRAAp5PYOTKI5i/6xxql8qDhW+96PIGaRm/XV4pFxdIAagDuBYD+mFfNIYsO4SCOTJi29Bwt2141dFMJiUBEiABEiABhxKIvnkfYZ9uQWLSY6zqWwsVC2V3aP7WMtMyflvLw9N/pwDU0YPWDEj8/jWfth1HLt7FsEZl0SvMvY4vdTSVSUmABEiABEjAoQT6LzmAFQcvoWnF5zC9Q7BD87aWmbXx21p6b/idAlBHL1ozoP3nb6HVjJ3qAuzf36uHXJkz6CiNSUmABEiABEjAewicuHIXjab+BrkNdeOgMOUaxlXB2vjtqnq4sxwKQB30rRnQgKUHsfzARUQEF8JnbSrpKIlJSYAESIAESMD7CHT9Zg82/3kN7aoXwfhWFV3WQGvjt8sq4saCKAB1wE/LgK7FxCNkwiY8TEzCT31DEFQoh46SmJQESIAESIAEvI/Anr9uos3sXciQ3g/bh4Xj2WyuuSGLAhAwnACcMGEC3nvvPbz77ruYOnVqqtb+ww8/4MMPP8TZs2dRqlQpTJw4EU2aNDHHl/13I0eOxJw5c3D79m2EhIRg5syZKq4p3Lx5E/369cOqVavg5+eHiIgIfP7558iSJYumpywtA5q26RQ+/fUkKhfOgRV9QjTlx0gkQAIkQAIk4EsEZKxuPWsX/jh3Cz1DS2J447IuaT4FoMEE4N69e9GmTRtky5YN4eHhqQrAnTt3ok6dOhg/fjyaNWuG7777TgnA/fv3o0KFCsp45P/l9/nz56N48eJKLB4+fBjHjh1DYODfXxiNGzfG5cuXMXv2bDx69Ahdu3ZFtWrVVH5aQmoGlJCYhNqTNuPynThMblMJrYILacmOcUiABEiABEjA5wisP3YV3RfsQ9YAf+x4ry6yBT7jdAYUgAYSgPfu3UNwcDBmzJiBMWPGoHLlyqkKwNdffx2xsbFYvXq12Uhq1Kih0syaNQvyRVGgQAEMGjQIgwcPVnHu3LmDfPnyYd68eWjbti2OHz+O8uXLQ0Rn1apVVZx169apWcQLFy6o9NZCaga07shl9Fy0H7kzZ8CO4XV57Zs1kPydBEiABEjAZwkkJT3Gy1O34dR/77nMYwYFoIEEYJcuXZArVy5MmTIFYWFhaQrAIkWKYODAgejfv7/5gZHl3hUrViAyMhJnzpxByZIlceDAAZWPKYSGhqr/l2XeuXPnKoF469Yt8+8JCQlqdlCWl1u2bPnUwxgfHw/5xxREVEpdoqOj1aylKbz5zV7sOXsT3WoVR/8GpX32oWbDSYAESIAESEALgZUHLmLEiiNq4uSXAXWcPnEiArBw4cJqi1j27K71QaiFhyviGGIP4JIlSzB27Fg1GycCzJoAzJAhg1rabdeunZmRzByOHj0aV69ehSwRy56/S5cu4bnn/rloWpaX5c7BpUuXYty4cSqPP//88wnOzz77rMqnV69eT/EfNWqU+o2BBEiABEiABEjA8wlERUWhRIkSnt8QO1rgdgEos2eyBLt+/XoEBQWpJhhVAFrOAMqXQ9GiRXH+/Hmf/YJIzeZMX1eWs6N22KjXJSGb1LuUbFJmQy60GXtehLSb1KmZVvBkFTBHDt/00uF2ASjLtrLcmj59enNPJSYmqpk6OZkroiv5bxLJXUvAlqbEPQRpv5RlWl0esuTL4/a8xLwtDe2GdmOrTdNmaDO22ozEp93QbtKyG7cLwJiYGJw7d+6JOspp3LJly2LYsGHmU73JI8ghkPv37yv3LaZQs2ZNNYOY/BCIHACRfX6mB0GWdy0Pgezbtw8vvPCCivPrr7+iUaNGug+B2POgelsavnj44rHHpmk3qc8A8oOKbGx9pvg88T1saAGYUuUsl4A7d+6MggULKrcuEmSPnxzoEJ+BTZs2hewhlD19lm5g5PfkbmAOHTr0lBsY2TMootHkBkaWo/W6gbH1IfXG+Hzx8MVjj13TbihybLUb2gzfNbbaDGdH/ybm9hlALQJQBGGxYsXU7J0pyEndDz74wOwIetKkSSk6gv7qq6/UKZ9atWopFzOlS/9zKlccQfft2/cJR9BffPGFZkfQsjwtolQcVwcEBNhjg16bhmxS71qyIRtbH3zaDG3GVpuR+LQb2o3HzQDaY+hMQwIkQAIkQAIkQAIkoI2AIWcAtVWdsUiABEiABEiABEiABOwhQAFoDzWmIQESIAESIAESIAEPJkAB6MGdx6qTAAmQAAmQAAmQgD0EKADtocY0JEACJEACJEACJODBBCgALTpv+vTp+OSTT3DlyhVUqlQJX375JapXr55iF8vp5K1btz71W5MmTbBmzRr19zfeeEO5okkeXn75Zaxbt86jzMYWLtKwqVOnYubMmeqWlDx58qB169bqxLRc9WcKtuZpVGC2tsMam5SuHCxTpgxOnDhhVASp1ssWNuKKSWxEnpeLFy9C2jxx4kTlmzN5sCVPIwOzpR1a2HiD3Wzbtk29f//44w9cvnwZy5cvx6uvvppmN27ZskXdDX/06FF1t6t4h5D3rrfZjDPYeIPNSD/bykZsS3wEix/g06dP45133lFjlmUQbyMffvih2duIvI9kfPeWQAGYrCfljmDxOSh+AV988UVlEGIAcl+wOJG2DOJG5uHDh+Y/37hxQ4nGr7/+2vwCkheR+Br85ptvzPHEZUzOnDk9xoZs5SJ+FN98803MnTsX4qD75MmTikfbtm0xefJk1W5b8zQqLFvboYWNvJSXLVuGDRs2mJvt7++vhLQnBVvZiOP3RYsWYc6cOcoR/C+//KIGdvH7WaVKFZ+2Gy1svMFu1q5dix07dijn/K1atbIqAP/66y91WUDPnj3RrVs3bNy4Ef3791cf4PKh7U3vGmew8QabkT62lc3Zs2cxZcoUZWfyb/ErbCkA5b1Tp04d9VHarFkz5R9YBGByf8Oe9D5Oqa4UgMmoiOirVq0apk2bpv6alJSkvij79euH4cOHW+1rMaCPPvpIfblmzpxZxRfhI34I5co7Tw22chHfisePH1cvY1OQr63du3dj+/bt6k+25mlUdra2QwsbeSmLvRw8eNCozdZUL1vZFChQACNGjECfPn3M+UdERCBjxoxKGPqy3Whh4y12Y+p8uQ7U2gygCGMRe0eOHDHbjHxoyjvXtMpiqx1qMm43R3IUG2+zGekWLWySd5/lxROm3+TGsdjYWKxevdocvUaNGqhcubKaJPKGQAH4v16UmbxMmTKpmZfkSw5dunRRL5OVK1da7e+KFSvipZdegjifNgURgDKYZ8iQQc361a1bF2PGjEHu3Lmt5meECPZwkS+l3r17q6v1ZPn8zJkz6saWTp064f3331ezpnpZeysbaZe8lGUZTK7+kiVzsSn5CpU7sD0l2NPH8kyIQ/e33nrL3MyOHTuqjwb5YrcnTyPysqcd1th4i90k7y8tA7nM0AQHBz8xeyOrLTILKPeQ28PaiDZjWSdHsPFGm3GkAJT3raxAiC2ZwsiRI9V4HhkZ6QlmYrWOFID/Q3Tp0iV13ZxM+8qAawpDhw5V+/xk9iqtsGfPHjWrJfGS7xmUa+pE7BQvXhxRUVFKAGXJkgW7du1C+vTprXaQuyPYy0VuVJG7mB8/foyEhAS1RCN7AiXYm6e7WViWb2870mIjZchyxr1799QeOJlNHj16tNoTJ7McWbNmNRqGFOtjD5v27durF6u8YEuWLKlmkFu0aIHExER1o4E9eRoRlj3tsMbGW+zGVgEoNzvJ3fFyG5Mp/Pzzz+qDU+6Lv3Xrlq73uhHtR6vIscZGZta94V1jjzhOnia1GUCZtJH9yO3atTNHl9vE5H0s27q8IVAAOkgA9ujRQ4k6uW84rSCzYTK4yf6uevXqGd6G7BmsZFO2LMPITKeIYtlk++6776J79+5qQ609eRoRlD3tsMYmpXbKDHTRokXV/snks2NGZGKqkz1srl27pmxk1apVahlHnpP69eurvaQPHjzwabuxxsZb7IYCUNtTrWUGUIsAtCzNE981FIDabCalWBSA/6OiZ6lA9gnIHp1///vfSuhYC3nz5lXiSESj0YM9XGrXrg3ZKyHLmKYge7jefvttNbMlM4K+ugRsjY2fn1+KJiF7U0UMyVKwJwR77MbUrri4OMiBKnmmZO+t7MGRE5568jQSMz3tSI1Nau3zNLuxVQByCTj1E9LW2HijzUibtIjj5G1PbQaQS8BGemu6oC4yWyXLt+L6RYIcAhEjkI37aR0CmTdvnlrilGU6a3v7Lly4oPKUZa5XXnnFBa3SX4StXORklYgVOTFlCosXL1azVzExMWrp29Y89bfCOTnY2g4tbCxrKqJZbEb2Boq7Ak8JtrKxbJe4PilXrhzatGmDcePGqZ/15mkUdnrbkRIbb7EbUzu0DORyCESWfA8fPmxuviyXi4eG5IdA7HmvG8VWUqqHo9h4m804UgDKIRDZRiArEqYgXi2CgoJ4CMTID4e9dRO3FXLoY/bs2UoIyqne77//Xvlfy5cvn3IRI/sELWdhZFZH/i77/ZIHGbhlv4CcZMyfP7/aAyh7CkUEyQtL3MF4QrCViwgVWa6UwzCmJeBevXqpI/eSlwRreXoCFy3tsLQZLWxk72Tz5s3Vsq8spcrGYzkRfOzYMcjssacEa31syUb2z8pHlJyyk38LK3HzIW4XcuTI4dN2o4WNN9iNvDNly4gEcf0j75Hw8HDkypVLfQTJXj+xjQULFqg4JjcwcnJcXE9t2rRJfSRZuoFJ673uKc+TM9h4g81I/9nKRtKYvCyI+yDZbz1kyBB1WLN8+fLKJOQ8gLiHmTBhgtpTKuO7fIjSDYynPDF21FNcwJgcQctAJBv2RcRIkKniYsWKQWb8TEF8BIrPMjnx2qBBgydKlH1LcqL4wIED6iSxLGk1bNgQH3/8sRKUnhRs4SJLvGPHjsXChQvVy1pEiwga+ZtpIJe2p5WnL7OR/ZPi2FSWQYVdrVq1FDvZE+dpwRa7kcNW8qEg+2TloJQ4XJWXrzw3yYMv2o0WNt5gN7JHVgSfZRABJ+9d8aogJ8IlninIfw8YMEB9IBUqVEjtM7Z0BO0NNuMMNt5gM2IH9rCRWVTLIB/dYl+mIH6AxbG4/K1UqVLKSwEdQXvaKMT6kgAJkAAJkAAJkAAJmAnwEAiNgQRIgARIgARIgAR8jAAFoI91OJtLAiRAAiRAAiRAAhSAtAESIAESIAESIAES8DECFIA+1uFsLgmQAAmQAAmQAAlQANIGSIAESIAESIAESMDHCFAA+liHs7kkQAIkQAIkQAIkQAFIGyABEiABEiABEiABHyNAAehjHc7mkgAJkAAJkAAJkAAFIG2ABEjAqwiYbgW4devWEzfPuKqRGzduVPeHHzlyRN17nVaQ+2rlnnG5XsrPz89VVWQ5JEACJAAKQBoBCZCAxxBI6fqm5JWXe5Pff/993Lx5U123aC2+Mxoud14PHDgQHTp00JR9tWrV1P21nTp10hSfkUiABEjAEQQoAB1BkXmQAAm4hMCVK1fM5SxduhQfffQR5D5uU5A7hOUfd4Xt27ejWbNmkHoGBgZqqsb06dPVPbd79+7VFJ+RSIAESMARBCgAHUGReZAACbicgIim/v374/bt20+UbbkEbIq3aNEiDBo0CNHR0epC9wULFkAue5dZwzt37qgZuClTppiXbePj4zFixAgsXrxYlVGhQgVMnDgRYWFhqbZVln6vXr2q8jWFyMhIVc99+/apGUm5VH727NmoWrWqinL+/HnIJfSnT59GyZIlXc6RBZIACfgmAQpA3+x3tpoEPJ6ALQLw7bffVsJNBFxMTAxatWoFWarNkSOHEoBnzpxBRESEEoWvv/66YtO9e3ccO3YMEyZMQIECBbB8+XJ88MEHOHz4sBJxKYVKlSqhffv2GDZsmPlnEY5VqlRRYlL2BB48eBClS5eGxDWF/Pnzq3LeeOMNj+8XNoAESMAzCFAAekY/sZYkQAIWBGwRgF27dn1ihq1nz55YuHChmq0zLRk3atQIxYoVw6xZs9SsXIkSJdS/RfyZQv369VG9enWMGzcuxf4QQfnll18+sZ8vW7Zs6m9dunRJtQ+Dg4PRokULJUYZSIAESMAVBCgAXUGZZZAACTicgC0CsE+fPoiNjTXXQYTWsmXLcPToUfPfRKDJ7OCPP/6INWvWqL18mTNnfqLesiwss4ey/zClEBAQAFlqfu2118w/jxo1CmPHjkVoaChEQMpvlku9ISEhqFWrlpqhZCABEiABVxCgAHQFZZZBAiTgcAK2CEDLvYIiylasWKGWY01Bll9lr5/8XQSenOIVgWjpykVmDGXJNqVQsGBBNYsnS87Jw8mTJ5WoXLt2LbZu3YolS5agZcuW5ijlypXDW2+9hcGDBzucEzMkARIggZQIUADSLkiABDySgDMFoAi2MmXKYNu2bahdu7ZmPjJr+Pzzz2Pq1KmppmnXrp2ajfzpp59UnLi4OMgysYjDevXqaS6LEUmABEhADwEKQD30mJYESMBtBJwpAKVRHTt2xI4dO/DZZ5+pQxzXrl2DOHkOCgpC06ZNU2y37PWbP3++OvEr4cGDBxgyZAhat26N4sWL48KFC2ovoBw4MS33yqnl5s2bq/2ImTJlchtPFkwCJOBbBCgAfau/2VoS8BoCzhaAjx49wpgxY9TJ4IsXLyJPnjyoUaMGRo8ejYoVK6bIURxQyzKwLC3LDOLDhw+V4BMhKQJP8pA9hJ988onZT2CPHj2Uexg5fMJAAiRAAq4iQAHoKtIshwRIwCcIyIzf3bt3la8/a+H69etKKMqMocwQMpAACZCAqwhQALqKNMshARLwCQJykGTGjBnqjl9r9/uK8IuKijL7HvQJQGwkCZCAIQhQABqiG1gJEiABEiABEiABEnAdAQpA17FmSSRAAiRAAiRAAiRgCAIUgIboBlaCBEiABEiABEiABFxHgALQdaxZEgmQAAmQAAmQAAkYggAFoCG6gZUgARIgARIgARIgAdcRoAB0HWuWRAIkQAIkQAIkQAKGIEABaIhuYCVIgARIgARIgARIwHUEKABdx5olkQAJkAAJkAAJkIAhCFAAGqIbWAkSIAESIAESIAEScB0BCkDXsWZJJEACJEACJEACJGAIAv8PphV2P0O2R7AAAAAASUVORK5CYII=\" width=\"640\">"
      ],
      "text/plain": [
       "<IPython.core.display.HTML object>"
      ]
     },
     "metadata": {},
     "output_type": "display_data"
    },
    {
     "data": {
      "text/plain": [
       "(4.0, 4.2)"
      ]
     },
     "execution_count": 43,
     "metadata": {},
     "output_type": "execute_result"
    }
   ],
   "source": [
    "\"\"\"\n",
    "Redo task 10 using the interactive plots to find the crossing points.\n",
    "\"\"\"\n",
    "\n",
    "### BEGIN SOLUTION ###\n",
    "\n",
    "%matplotlib notebook\n",
    "# enter given parameters\n",
    "v0y = 9.0\n",
    "y0 = 0\n",
    "g = 9.8\n",
    "\n",
    "# calculate the t_traj and y_traj arrays\n",
    "t_ball = np.linspace(0,5,100)\n",
    "y_ball = y0 + v0y * t_ball + (-0.5*g) * t_ball**2\n",
    "y_platform = 4.1 * np.ones(100) # create list of 100 1's\n",
    "\n",
    "plt.figure()\n",
    "plt.plot(t_ball,y_ball)\n",
    "plt.plot(t_ball,y_platform)\n",
    "plt.xlabel(\"Time (s)\")\n",
    "plt.ylabel(\"Height (m)\")\n",
    "\n",
    "plt.xlim(0.75,1.1)\n",
    "plt.ylim(4.0,4.2)\n",
    "\n",
    "### END SOLUTION ###"
   ]
  },
  {
   "cell_type": "code",
   "execution_count": 44,
   "metadata": {},
   "outputs": [],
   "source": [
    "# restore to inline plotting\n",
    "%matplotlib inline"
   ]
  },
  {
   "cell_type": "code",
   "execution_count": null,
   "metadata": {},
   "outputs": [],
   "source": []
  }
 ],
 "metadata": {
  "celltoolbar": "Create Assignment",
  "kernelspec": {
   "display_name": "Python 3",
   "language": "python",
   "name": "python3"
  },
  "language_info": {
   "codemirror_mode": {
    "name": "ipython",
    "version": 3
   },
   "file_extension": ".py",
   "mimetype": "text/x-python",
   "name": "python",
   "nbconvert_exporter": "python",
   "pygments_lexer": "ipython3",
   "version": "3.6.9"
  }
 },
 "nbformat": 4,
 "nbformat_minor": 2
}
