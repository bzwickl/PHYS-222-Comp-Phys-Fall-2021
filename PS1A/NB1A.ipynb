{
 "cells": [
  {
   "cell_type": "markdown",
   "metadata": {
    "nbgrader": {
     "grade": false,
     "grade_id": "cell-4a2aa041cd55ed0b",
     "locked": true,
     "schema_version": 3,
     "solution": false
    }
   },
   "source": [
    "# Notebook 1A \n",
    "## Using Python (and a Jupyter notebook) as a calculator\n",
    "## Total Points: 6\n",
    "#### PHYS 225 Intro to Computational Physics, Fall 2020\n"
   ]
  },
  {
   "cell_type": "markdown",
   "metadata": {
    "nbgrader": {
     "grade": false,
     "grade_id": "cell-a5a408070d17da00",
     "locked": true,
     "schema_version": 3,
     "solution": false
    }
   },
   "source": [
    "## Using Python and Jupyter notebooks as a calculator"
   ]
  },
  {
   "cell_type": "code",
   "execution_count": 1,
   "metadata": {},
   "outputs": [
    {
     "data": {
      "text/plain": [
       "5.5"
      ]
     },
     "execution_count": 1,
     "metadata": {},
     "output_type": "execute_result"
    }
   ],
   "source": [
    "3+2.5  # hit shift+enter to execute a cell"
   ]
  },
  {
   "cell_type": "code",
   "execution_count": 2,
   "metadata": {},
   "outputs": [],
   "source": [
    "# compute powers with the double star operator **\n",
    "two_cubed = 2**3 # hit shift+enter to execute\n",
    "two_tothefourth = 2**4 # notice the output isn't printed when the value is assigned to a variable"
   ]
  },
  {
   "cell_type": "code",
   "execution_count": 3,
   "metadata": {},
   "outputs": [
    {
     "name": "stdout",
     "output_type": "stream",
     "text": [
      "8\n",
      "16\n"
     ]
    }
   ],
   "source": [
    "print(two_cubed) # adding a print() function around the calculation make sure each output is printed\n",
    "print(two_tothefourth)"
   ]
  },
  {
   "cell_type": "code",
   "execution_count": 4,
   "metadata": {},
   "outputs": [
    {
     "name": "stdout",
     "output_type": "stream",
     "text": [
      "24\n",
      "3.5\n"
     ]
    }
   ],
   "source": [
    "print(2*3*4) # multiplication is a \"star\"\n",
    "print(7/2)  # division is a forward slash"
   ]
  },
  {
   "cell_type": "markdown",
   "metadata": {
    "nbgrader": {
     "grade": false,
     "grade_id": "cell-185efacd48d56099",
     "locked": true,
     "schema_version": 3,
     "solution": false
    }
   },
   "source": [
    "Examples of square roots and other roots:\n",
    "$$\\sqrt{2} = 2^{1/2}$$\n",
    "$$\\sqrt[3]{8} = 8^{1/3} = 2$$"
   ]
  },
  {
   "cell_type": "code",
   "execution_count": 5,
   "metadata": {},
   "outputs": [
    {
     "name": "stdout",
     "output_type": "stream",
     "text": [
      "1.4142135623730951\n",
      "2.0\n"
     ]
    }
   ],
   "source": [
    "print(2** (1/2))  # one way to do a square root is calculating a number to the 1/2 power\n",
    "print(8** (1/3))  # cube root"
   ]
  },
  {
   "cell_type": "markdown",
   "metadata": {
    "nbgrader": {
     "grade": false,
     "grade_id": "cell-2490117be5b33aa3",
     "locked": true,
     "schema_version": 3,
     "solution": false
    }
   },
   "source": [
    "### Task 1 (1 point, autograded)\n",
    "In the Python cell below, calculate $\\frac{(3-4)^2-8\\times17}{5}$ and keep the value in a variable named `result1`.  Also, print `result1`.\n",
    "\n",
    "The order of operation in python is similar to regular math, so you need to add parentheses in the right places.\n",
    "\n",
    "Delete the `raise NotImplementedError()` as part of your solution. The error is used to check for incomplete assignments."
   ]
  },
  {
   "cell_type": "code",
   "execution_count": 6,
   "metadata": {
    "nbgrader": {
     "grade": false,
     "grade_id": "cell-6907f8fce9944d06",
     "locked": false,
     "schema_version": 3,
     "solution": true
    }
   },
   "outputs": [
    {
     "name": "stdout",
     "output_type": "stream",
     "text": [
      "-27.0\n"
     ]
    }
   ],
   "source": [
    "\"\"\"Compute the numerical value for the above expression in Task 1 and save the value to a variable named result1.\n",
    "\"\"\"\n",
    "result1 = 0 # replace 0 with python math statements\n",
    "### BEGIN SOLUTION\n",
    "result1 = ((3-4)**2 - 8*17)/5\n",
    "print(result1)\n",
    "### END SOLUTION"
   ]
  },
  {
   "cell_type": "markdown",
   "metadata": {},
   "source": [
    "Your code should print `-27.0`. Check that it does.  \n",
    "Run the test case below. If the test case returns an error, your answer is not correct. If the test case runs, but no error is produced then everything is okay."
   ]
  },
  {
   "cell_type": "code",
   "execution_count": 7,
   "metadata": {
    "nbgrader": {
     "grade": true,
     "grade_id": "cell-f19c007e6c8c8f77",
     "locked": true,
     "points": 1,
     "schema_version": 3,
     "solution": false
    }
   },
   "outputs": [],
   "source": [
    "\"\"\"Check that result1 = -27.0\"\"\"\n",
    "assert abs(result1 - (-27.0))/abs(-27.0) < 1e-4 # autograded with tolerance\n",
    "assert result1 == -27.0  # match exact result"
   ]
  },
  {
   "cell_type": "markdown",
   "metadata": {
    "nbgrader": {
     "grade": false,
     "grade_id": "cell-8c7f576da2881f59",
     "locked": true,
     "schema_version": 3,
     "solution": false,
     "task": false
    }
   },
   "source": [
    "### What happens if you fail an autograded test?\n",
    "\n",
    "Suppose you had the same `assert` statements, but the wrong numerical value, such as: \n",
    "\n",
    "    result1 = 5 \n",
    "    \n",
    "Run the code cell below to see what happens.\n",
    "\n",
    "You can also try alternative answers, such as\n",
    "\n",
    "    result1 = -27.0001 \n",
    "    \n",
    "which will pass the first test (0.01% accuracy) but fail the second test."
   ]
  },
  {
   "cell_type": "code",
   "execution_count": 7,
   "metadata": {},
   "outputs": [
    {
     "ename": "AssertionError",
     "evalue": "",
     "output_type": "error",
     "traceback": [
      "\u001b[0;31m---------------------------------------------------------------------------\u001b[0m",
      "\u001b[0;31mAssertionError\u001b[0m                            Traceback (most recent call last)",
      "\u001b[0;32m<ipython-input-7-c04a06fea48a>\u001b[0m in \u001b[0;36m<module>\u001b[0;34m\u001b[0m\n\u001b[1;32m      3\u001b[0m \u001b[0;34m\u001b[0m\u001b[0m\n\u001b[1;32m      4\u001b[0m \u001b[0;34m\"\"\"Check that result1 = -27.0\"\"\"\u001b[0m\u001b[0;34m\u001b[0m\u001b[0;34m\u001b[0m\u001b[0m\n\u001b[0;32m----> 5\u001b[0;31m \u001b[0;32massert\u001b[0m \u001b[0mabs\u001b[0m\u001b[0;34m(\u001b[0m\u001b[0mresult1\u001b[0m \u001b[0;34m-\u001b[0m \u001b[0;34m(\u001b[0m\u001b[0;34m-\u001b[0m\u001b[0;36m27.0\u001b[0m\u001b[0;34m)\u001b[0m\u001b[0;34m)\u001b[0m\u001b[0;34m/\u001b[0m\u001b[0mabs\u001b[0m\u001b[0;34m(\u001b[0m\u001b[0;34m-\u001b[0m\u001b[0;36m27.0\u001b[0m\u001b[0;34m)\u001b[0m \u001b[0;34m<\u001b[0m \u001b[0;36m1e-4\u001b[0m \u001b[0;31m# autograded with tolerance\u001b[0m\u001b[0;34m\u001b[0m\u001b[0;34m\u001b[0m\u001b[0m\n\u001b[0m\u001b[1;32m      6\u001b[0m \u001b[0;32massert\u001b[0m \u001b[0mresult1\u001b[0m \u001b[0;34m==\u001b[0m \u001b[0;34m-\u001b[0m\u001b[0;36m27.0\u001b[0m  \u001b[0;31m# match exact result\u001b[0m\u001b[0;34m\u001b[0m\u001b[0;34m\u001b[0m\u001b[0m\n",
      "\u001b[0;31mAssertionError\u001b[0m: "
     ]
    }
   ],
   "source": [
    "# Set the wrong answer\n",
    "result1 = 5\n",
    "\n",
    "\"\"\"Check that result1 = -27.0\"\"\"\n",
    "assert abs(result1 - (-27.0))/abs(-27.0) < 1e-4 # autograded with tolerance\n",
    "assert result1 == -27.0  # match exact result\n"
   ]
  },
  {
   "cell_type": "markdown",
   "metadata": {
    "nbgrader": {
     "grade": false,
     "grade_id": "cell-36b98219b11139c3",
     "locked": true,
     "schema_version": 3,
     "solution": false,
     "task": false
    }
   },
   "source": [
    "Notes about autograding:\n",
    "* The autograding stops at the first error. Once the first error is fixed, it is still possible to generate an error on a later assert statement.\n",
    "* Because the cell above is not designated as an **answer cell**, failing the test does not penalize any points. Typically, I will only put assert statements within an **autograded answer cell**."
   ]
  },
  {
   "cell_type": "markdown",
   "metadata": {},
   "source": [
    "### Task 2  (1 point, autograded)\n",
    "In the Python cell below, calculate $\\sqrt[3]{3.4} - \\frac{\\sqrt{2.7 + 3.54}}{5}$ and keep the value in a variable named `result2`.  Also, print `result2`.\n",
    "\n",
    "Remember to delete the `raise NotImplementedError()` as part of your solution. The error is used to check for incomplete assignments."
   ]
  },
  {
   "cell_type": "code",
   "execution_count": 8,
   "metadata": {
    "nbgrader": {
     "grade": false,
     "grade_id": "cell-1559ca917aa293f6",
     "locked": false,
     "schema_version": 3,
     "solution": true
    }
   },
   "outputs": [
    {
     "name": "stdout",
     "output_type": "stream",
     "text": [
      "1.004094756333103\n"
     ]
    }
   ],
   "source": [
    "\"\"\"Compute the numerical value for the above expression in Task 2 and save the value to a variable named result2.\n",
    "\"\"\"\n",
    "result2 = 0 # replace 0 with python math statements\n",
    "### BEGIN SOLUTION\n",
    "result2 = (3.4)**(1/3) - (2.7 + 3.54)**(1/2)/5\n",
    "print(result2)\n",
    "### END SOLUTION"
   ]
  },
  {
   "cell_type": "markdown",
   "metadata": {
    "nbgrader": {
     "grade": false,
     "grade_id": "cell-6b82b0b31ffb12d0",
     "locked": true,
     "schema_version": 3,
     "solution": false
    }
   },
   "source": [
    "Your code should print `1.004094756333103` or something very close to that. Check that it does. Run the code below and make sure it does not produce an error."
   ]
  },
  {
   "cell_type": "code",
   "execution_count": 9,
   "metadata": {
    "nbgrader": {
     "grade": true,
     "grade_id": "cell-5ec5bb669476ded5",
     "locked": true,
     "points": 1,
     "schema_version": 3,
     "solution": false
    }
   },
   "outputs": [],
   "source": [
    "\"\"\"Check that result2 = -1.004094756333103\"\"\"\n",
    "assert abs(result2 - (1.004094756333103))/abs(1.004094756333103) < 1e-5 # autograded with tolerance"
   ]
  },
  {
   "cell_type": "markdown",
   "metadata": {
    "nbgrader": {
     "grade": false,
     "grade_id": "cell-adfd07ce59a7ac36",
     "locked": true,
     "schema_version": 3,
     "solution": false
    }
   },
   "source": [
    "### Task 3 Example Using Python as a calculator for physics problems\n",
    "Consider this totally typical UP1 problem (copied from the 2016 UP1 activity manual)\n",
    "\n",
    "1. A ball is thrown upwards at 9 m/s toward a platform located 4.1 m above the point where you release the ball. Air resistance is negligable. *Find the time taken to reach the platform.*\n",
    "\n",
    "Solution: Use displacement as a function of time \n",
    "$$y = y_0 + v_{y0}t + \\frac{1}{2}at^2$$ \n",
    "and solve using the quadratic equation.\n",
    "$$ t = \\frac{-v_{y0}\\pm \\sqrt{v_{y0}^2 - 4(a/2)(y_0-y)}}{2(a/2)} $$"
   ]
  },
  {
   "cell_type": "code",
   "execution_count": 10,
   "metadata": {},
   "outputs": [
    {
     "name": "stdout",
     "output_type": "stream",
     "text": [
      "0.8367346938775508\n",
      "1.0\n"
     ]
    }
   ],
   "source": [
    "# Method 1 - plugging numbers directly into the quadratic equation\n",
    "t1 = ((-9) + (9**2 - 4*(-9.8/2)*(0-4.1))**0.5)/(2*(-9.8/2)) # one root of quadratic equation\n",
    "t2 = ((-9) - (9**2 - 4*(-9.8/2)*(0-4.1))**0.5)/(2*(-9.8/2)) # the other root\n",
    "print( t1 ) # one root\n",
    "print( t2 ) # the other root"
   ]
  },
  {
   "cell_type": "code",
   "execution_count": 11,
   "metadata": {},
   "outputs": [
    {
     "name": "stdout",
     "output_type": "stream",
     "text": [
      "0.8367346938775508\n",
      "1.0\n"
     ]
    }
   ],
   "source": [
    "# Method 2 - defining values of each variable and using a \"symbolic\" equation for the formula\n",
    "y0 = 0  # initial height\n",
    "y = 4.1  # final height of the ball in meters\n",
    "vy0 = 9  # initial upward velocity in m/s\n",
    "a = -9.8  # acceleration due to gravity in m/s**2\n",
    "\n",
    "t1 = (-vy0 + ( vy0**2 - 4*(0.5*a)*(y0-y) )**0.5)/( 2*0.5*a )\n",
    "t2 = (-vy0 - ( vy0**2 - 4*(0.5*a)*(y0-y) )**0.5)/( 2*0.5*a )\n",
    "print( t1 )\n",
    "print( t2 )"
   ]
  },
  {
   "cell_type": "markdown",
   "metadata": {
    "nbgrader": {
     "grade": false,
     "grade_id": "cell-94664dcf080d4de4",
     "locked": true,
     "schema_version": 3,
     "solution": false
    }
   },
   "source": [
    "### Task 3 (1 point, manually graded)\n",
    "Although both approaches  produce the same numerical result, Dr. Zwickl strongly encourages the second method where all the values are defined and a \"symbolic\" equation for the result is used.  \n",
    "\n",
    "In the cell below, describe some advantages to the second method preferred by Dr. Zwickl."
   ]
  },
  {
   "cell_type": "markdown",
   "metadata": {
    "nbgrader": {
     "grade": true,
     "grade_id": "cell-08fbe6a445ee6a32",
     "locked": false,
     "points": 1,
     "schema_version": 3,
     "solution": true
    }
   },
   "source": [
    "In this cell, explain why the second method is preferrable in this cell. Double click on the Markdown cell to edit it. `Shift+Enter` will make it look nicely formatted."
   ]
  },
  {
   "cell_type": "markdown",
   "metadata": {
    "nbgrader": {
     "grade": false,
     "grade_id": "cell-020f4b73892eb005",
     "locked": true,
     "schema_version": 3,
     "solution": false
    }
   },
   "source": [
    "## Tasks 4, 5 and and 6 - Genesis Crash \n",
    "![NASA model of spacecraft](GenSC_collection2_150dpi.jpg)\n",
    "![Crash site](Genesis_crash_site_scenery.jpg)\n",
    "Based on Young and Freedman *University Physics* 13th edition Exercise 5.13.\n",
    "\n",
    "On September 8, 2004, the *Genesis* spacecraft crashed in the Utah desert because its parachute did not open. The 210-kg capsule hit the ground at 311 km/h and penetrated the soil to a depth of 81.0 cm.  \n",
    "a. Assuming it to be constant, what was its acceleration (in g's) during the crash?  \n",
    "b. What force did the ground exert on the capsule during the crash? Express this force in Newtons.  \n",
    "c. For how long did this force last?\n",
    "\n",
    "Use the second approach.\n",
    "Do all unit conversions in python.\n",
    "\n",
    "**Assume $g=9.8 \\text{ m/s}^2$ **"
   ]
  },
  {
   "cell_type": "markdown",
   "metadata": {
    "nbgrader": {
     "grade": false,
     "grade_id": "cell-2899e8edad82ce05",
     "locked": true,
     "schema_version": 3,
     "solution": false
    }
   },
   "source": [
    "### Task 4 - Describe your solution strategy (1 point, manual graded)\n",
    "Describe process as a series of steps. Create an ordered list by typing markdown like this. It will auto number the entries.\n",
    "```\n",
    "1. First step\n",
    "1. next step\n",
    "1. next step\n",
    "```"
   ]
  },
  {
   "cell_type": "markdown",
   "metadata": {
    "nbgrader": {
     "grade": true,
     "grade_id": "cell-912d60a524e0537c",
     "locked": false,
     "points": 1,
     "schema_version": 3,
     "solution": true
    }
   },
   "source": [
    "Type your strategy here."
   ]
  },
  {
   "cell_type": "markdown",
   "metadata": {
    "nbgrader": {
     "grade": false,
     "grade_id": "cell-53624c10ec1a3aa7",
     "locked": true,
     "schema_version": 3,
     "solution": false
    }
   },
   "source": [
    "### Task 5 - Calculate the acceleration during the impact (1 point, autograded)\n",
    "Calculate the acceleration and set the result to a variable named `acc_gen`. Print the value of `acc_gen`.  \n",
    "Remember to delete the `raise NotImplementedError()` as part of your solution. The error is used to check for incomplete assignments."
   ]
  },
  {
   "cell_type": "code",
   "execution_count": 12,
   "metadata": {
    "nbgrader": {
     "grade": false,
     "grade_id": "cell-92be48bf49bae217",
     "locked": false,
     "schema_version": 3,
     "solution": true
    }
   },
   "outputs": [
    {
     "name": "stdout",
     "output_type": "stream",
     "text": [
      "470.0831521451744\n"
     ]
    }
   ],
   "source": [
    "\"\"\"Compute the numerical value for the acceleration of the Genesis spacecraft (in g's) \n",
    "and save the value to a variable named acc_gen\n",
    "\"\"\"\n",
    "\n",
    "# start off by defining all the known variables\n",
    "# replace 0 with python equation for acc_gen in terms of known variables\n",
    "acc_gen = 0 \n",
    "\n",
    "### BEGIN SOLUTION\n",
    "v0 = -311 * 1000 / 3600 # 311 km/hr downward converted to m/s\n",
    "v = 0 # spacecraft ends at rest\n",
    "d0 = 0 # ground level initially\n",
    "d = -0.81 # penetrates 81 cm into ground.\n",
    "g = 9.8 # acceleration due to gravity\n",
    "m = 210 # mass of spacecraft in kg\n",
    "\n",
    "acc_gen = (v**2 - v0**2)/(2*(d-d0)) /g\n",
    "print(acc_gen)\n",
    "### END SOLUTION"
   ]
  },
  {
   "cell_type": "markdown",
   "metadata": {
    "nbgrader": {
     "grade": false,
     "grade_id": "cell-8737817e30f8de41",
     "locked": true,
     "schema_version": 3,
     "solution": false
    }
   },
   "source": [
    "The result should be an acceleration of about 470 g's. Check that is what you also got."
   ]
  },
  {
   "cell_type": "code",
   "execution_count": 13,
   "metadata": {
    "nbgrader": {
     "grade": true,
     "grade_id": "cell-ee2b28fda50ed43b",
     "locked": true,
     "points": 1,
     "schema_version": 3,
     "solution": false
    }
   },
   "outputs": [],
   "source": [
    "\"\"\"Check that acc_gen = 470.0831521451744\"\"\"\n",
    "assert abs(acc_gen - (470.0831521451744))/abs(470.0831521451744) < 1e-5 # autograded with tolerance"
   ]
  },
  {
   "cell_type": "markdown",
   "metadata": {
    "nbgrader": {
     "grade": false,
     "grade_id": "cell-ccaf41e8ede879d9",
     "locked": true,
     "schema_version": 3,
     "solution": false
    }
   },
   "source": [
    "### Compute the force during the collision (example)\n",
    "Calculate the force of the ground on the spacecraft (in Newtons) and set the result to a variable named `force`.\n",
    "\n",
    "$$ \\vec{F}_{\\textrm{net}} = \\vec{F}_{\\textrm{ground}} + \\vec{F}_{\\textrm{grav}} = m\\vec{a} $$\n",
    "$$ F_{\\textrm{ground}} = ma + mg = m(a+g) $$"
   ]
  },
  {
   "cell_type": "code",
   "execution_count": 14,
   "metadata": {},
   "outputs": [
    {
     "name": "stdout",
     "output_type": "stream",
     "text": [
      "969489.127114769\n"
     ]
    }
   ],
   "source": [
    "\"\"\"\n",
    "quantities defined in another cell previously are in the kernel's memory \n",
    "and can be used in\n",
    "\"\"\"\n",
    "a = acc_gen * g  # convert to m/s^2\n",
    "F_ground = m*a + m*g  # calculate force of ground on spacecraft\n",
    "print(F_ground)  # force in Newtons  "
   ]
  },
  {
   "cell_type": "markdown",
   "metadata": {
    "nbgrader": {
     "grade": false,
     "grade_id": "cell-5bc9373808fac433",
     "locked": true,
     "schema_version": 3,
     "solution": false
    }
   },
   "source": [
    "### Task 6, Calculate the duration of the collision force (1 point, autograded)\n",
    "Use the previously defined quantities to calculate the time the force acted during the *Genesis* spacecraft's impact. Save the result in a variable named `t_impact`."
   ]
  },
  {
   "cell_type": "code",
   "execution_count": 15,
   "metadata": {
    "nbgrader": {
     "grade": false,
     "grade_id": "cell-7c512e612cff6ee8",
     "locked": false,
     "schema_version": 3,
     "solution": true
    }
   },
   "outputs": [
    {
     "name": "stdout",
     "output_type": "stream",
     "text": [
      "0.018752411575562705\n"
     ]
    }
   ],
   "source": [
    "\"\"\"Compute the time the force acted during the Genesis spacecraft's impact\n",
    "and save the value to a variable named t_impact\n",
    "print(t)\n",
    "\"\"\"\n",
    "### BEGIN SOLUTION\n",
    "t_impact = (v - v0)/a  \n",
    "print(t_impact)\n",
    "### END SOLUTION"
   ]
  },
  {
   "cell_type": "code",
   "execution_count": 16,
   "metadata": {
    "nbgrader": {
     "grade": true,
     "grade_id": "cell-aa2601039c51a4c9",
     "locked": true,
     "points": 1,
     "schema_version": 3,
     "solution": false
    }
   },
   "outputs": [],
   "source": [
    "\"\"\"Check that t_impact = 0.018752411575562705\"\"\"\n",
    "assert abs(t_impact - (0.018752411575562705))/abs(0.018752411575562705) < 1e-5 # autograded with tolerance"
   ]
  }
 ],
 "metadata": {
  "celltoolbar": "Create Assignment",
  "kernelspec": {
   "display_name": "Python 3",
   "language": "python",
   "name": "python3"
  },
  "language_info": {
   "codemirror_mode": {
    "name": "ipython",
    "version": 3
   },
   "file_extension": ".py",
   "mimetype": "text/x-python",
   "name": "python",
   "nbconvert_exporter": "python",
   "pygments_lexer": "ipython3",
   "version": "3.6.9"
  }
 },
 "nbformat": 4,
 "nbformat_minor": 2
}
