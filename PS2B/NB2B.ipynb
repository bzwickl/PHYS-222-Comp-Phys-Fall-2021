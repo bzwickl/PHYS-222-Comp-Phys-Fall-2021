{
 "cells": [
  {
   "cell_type": "markdown",
   "metadata": {
    "nbgrader": {
     "grade": false,
     "grade_id": "cell-af118bea8944e84a",
     "locked": true,
     "schema_version": 3,
     "solution": false
    }
   },
   "source": [
    "# Notebook 2B - Mon/Tues\n",
    "## Using built-in functions, defining your own functions\n",
    "## Total Points: 8\n",
    "#### PHYS 225 Intro to Computational Physics, Fall 2020"
   ]
  },
  {
   "cell_type": "markdown",
   "metadata": {
    "nbgrader": {
     "grade": false,
     "grade_id": "cell-3ddd8785edd1d63a",
     "locked": true,
     "schema_version": 3,
     "solution": false
    }
   },
   "source": [
    "## Import the packages to be used throughout this activity"
   ]
  },
  {
   "cell_type": "code",
   "execution_count": 11,
   "metadata": {},
   "outputs": [],
   "source": [
    "import numpy as np\n",
    "import matplotlib.pyplot as plt"
   ]
  },
  {
   "cell_type": "markdown",
   "metadata": {
    "nbgrader": {
     "grade": false,
     "grade_id": "cell-33c4ab197a8af77c",
     "locked": true,
     "schema_version": 3,
     "solution": false
    }
   },
   "source": [
    "## Using built-in functions\n",
    "As mentioned in the video, most data types (e.g., strings or numpy arrays) have built-in functions that can be applied to the data type. We will look at examples from both\n",
    "* `string` \n",
    "* `numpy.array`"
   ]
  },
  {
   "cell_type": "code",
   "execution_count": 12,
   "metadata": {},
   "outputs": [],
   "source": [
    "# Our example of built-in function with strings will start of with a date\n",
    "day = \"Monday 9/9/2019\""
   ]
  },
  {
   "cell_type": "code",
   "execution_count": 13,
   "metadata": {},
   "outputs": [
    {
     "name": "stdout",
     "output_type": "stream",
     "text": [
      "MONDAY 9/9/2019\n",
      "Monday 9/9/2019\n"
     ]
    }
   ],
   "source": [
    "print(day.upper()) # upper() changes all letters (a-z) to uppercase (A-Z)\n",
    "print(day) "
   ]
  },
  {
   "cell_type": "markdown",
   "metadata": {
    "nbgrader": {
     "grade": false,
     "grade_id": "cell-33776e404fd5d8d8",
     "locked": true,
     "schema_version": 3,
     "solution": false
    }
   },
   "source": [
    "Notice above that `day.upper()` does **not modify** the original variable `day`. Instead, it creates a copy before applying the `upper()` function. \n",
    "\n",
    "If you want to modify the variable you need to do something like \n",
    "    \n",
    "    day = day.upper()"
   ]
  },
  {
   "cell_type": "code",
   "execution_count": 14,
   "metadata": {},
   "outputs": [
    {
     "name": "stdout",
     "output_type": "stream",
     "text": [
      "Monday 9/9/2019\n",
      "Monday 9/9/2019\n"
     ]
    }
   ],
   "source": [
    "print(day)\n",
    "day = day.capitalize() # just capitalizes first letter of every word\n",
    "print(day)"
   ]
  },
  {
   "cell_type": "markdown",
   "metadata": {
    "nbgrader": {
     "grade": false,
     "grade_id": "cell-5706a73840902d10",
     "locked": true,
     "schema_version": 3,
     "solution": false,
     "task": false
    }
   },
   "source": [
    "# Task 1: Using `string.split()` function to separate the day of week, day, month and year (1 pt, autograded)\n",
    "\n",
    "The string `day = \"Monday 9/9/2019\"` can be split apart to a `list` of separate variables using the `string.split()` function. Your goal is to use `string.split()` along with what you know about list indices to extract 4 values from the string, which must be named as follows for autograding purposes:\n",
    "\n",
    "    day_of_week =    # a string\n",
    "    day_of month =   # an integer\n",
    "    month =          # an integer\n",
    "    year =           # an integer\n",
    "    \n",
    "* You may need to use the `split` function more than once. \n",
    "* You will also need to convert `string` representations of numbers (e.g., `\"09\"`) to `int` data types. This is done using the `int()` function. For instance `int(\"10\")` converts the string `\"10\"` into the  integer `10`.  Print your results to make sure it behaved as expected.\n",
    "    \n",
    "See the example below for the basic behavior of `string.split()` or Google will lead you to many [helpful tutorials on `string.split()`](https://www.pythonforbeginners.com/dictionary/python-split). Search for \"python string.split\" or something like that.\n",
    "\n",
    "#### I strongly recommend working out a procedure on pencil and paper first. \n",
    "\n",
    "For example, you can fill in this chart to work out your steps\n",
    "\n",
    "| **Step** | **Use `split`? If so, on which character?** | **What is the resulting list?** | **Which desired quantities did you select from the list?**|\n",
    "|---|---| --- |---|\n",
    "|  1|  |  |  |\n",
    "| 2 |  |  |  |\n",
    "| 3 |  |  |  |\n",
    "| 4 |  |  |  |\n",
    "| 5 |  |  |  |\n"
   ]
  },
  {
   "cell_type": "code",
   "execution_count": 15,
   "metadata": {},
   "outputs": [
    {
     "name": "stdout",
     "output_type": "stream",
     "text": [
      "['M', 'nday 9/9/2019']\n",
      "['Monday 9/9/2', '19']\n"
     ]
    }
   ],
   "source": [
    "#In this cell, just try messing around with day.split()\n",
    "print( day.split('o') )\n",
    "print( day.split('0') )"
   ]
  },
  {
   "cell_type": "code",
   "execution_count": 16,
   "metadata": {
    "nbgrader": {
     "grade": false,
     "grade_id": "cell-d349563b294f0d9d",
     "locked": false,
     "schema_version": 3,
     "solution": true
    }
   },
   "outputs": [
    {
     "name": "stdout",
     "output_type": "stream",
     "text": [
      "['Monday', '9/9/2019']\n",
      "Monday\n",
      "9\n",
      "9\n",
      "2019\n"
     ]
    }
   ],
   "source": [
    "\"\"\" Solution for Task 1 \"\"\"\n",
    "day = \"Monday 9/9/2019\"\n",
    "### BEGIN SOLUTION\n",
    "l1 = day.split(' ')\n",
    "print(l1)\n",
    "\n",
    "day_of_week = l1[0]\n",
    "date = l1[1]\n",
    "\n",
    "# convert the date to the three\n",
    "l2 = date.split('/')\n",
    "day_of_month = l2[1]\n",
    "month = l2[0]\n",
    "year = l2[2]\n",
    "\n",
    "# convert to integers\n",
    "day_of_month = int(day_of_month)\n",
    "month = int(month)\n",
    "year = int(year)\n",
    "\n",
    "#print results\n",
    "print(day_of_week)\n",
    "print(day_of_month)\n",
    "print(month)\n",
    "print(year)\n",
    "\n",
    "### END SOLUTION"
   ]
  },
  {
   "cell_type": "code",
   "execution_count": 17,
   "metadata": {
    "nbgrader": {
     "grade": true,
     "grade_id": "cell-2dc3a4e3503fdcb0",
     "locked": true,
     "points": 1,
     "schema_version": 3,
     "solution": false
    }
   },
   "outputs": [],
   "source": [
    "\"\"\"Check the values \"\"\"\n",
    "\n",
    "# check the data types\n",
    "assert type(month) == int # check month, day_of_month, and year are integers\n",
    "assert type(year) == int\n",
    "assert type(day_of_month) == int\n",
    "\n",
    "# check the four individual values\n",
    "assert day_of_week == \"Monday\"\n",
    "assert day_of_month == 9\n",
    "assert month == 9\n",
    "assert year == 2019"
   ]
  },
  {
   "cell_type": "markdown",
   "metadata": {
    "nbgrader": {
     "grade": false,
     "grade_id": "cell-1d470f8735f7d7fb",
     "locked": true,
     "schema_version": 3,
     "solution": false
    }
   },
   "source": [
    "# Built in functions for numpy arrays \n",
    "Numpy arrays are a type called `numpy.ndarray`, which stands for *N-dimensional array*. Numpy arrays have a lot of built-in methods, similar to strings. A list of all the built-in methods for **calculations** is shown in the [official numpy reference page for ndarray](https://docs.scipy.org/doc/numpy-1.14.0/reference/arrays.ndarray.html#calculation).   "
   ]
  },
  {
   "cell_type": "code",
   "execution_count": 18,
   "metadata": {},
   "outputs": [
    {
     "name": "stdout",
     "output_type": "stream",
     "text": [
      "<class 'numpy.ndarray'>\n",
      "11\n",
      "77.18181818181819\n"
     ]
    }
   ],
   "source": [
    "#  Example code for Task 3\n",
    "\n",
    "# define the high temperature data array\n",
    "hightemp = np.array([85, 91, 75, 72, 70, 68, 73, 76, 80, 81, 78])\n",
    "\n",
    "# print the data type (see it is numpy.ndarray)\n",
    "print( type(hightemp) )\n",
    "\n",
    "# print the number of data points in array\n",
    "print( hightemp.size ) \n",
    "\n",
    "# calculate the mean or average high temperature\n",
    "mean_high_temp = hightemp.mean()  \n",
    "print( mean_high_temp )"
   ]
  },
  {
   "cell_type": "markdown",
   "metadata": {
    "nbgrader": {
     "grade": false,
     "grade_id": "cell-96f14dd40b5b5667",
     "locked": true,
     "schema_version": 3,
     "solution": false,
     "task": false
    }
   },
   "source": [
    "# Task 2: Calculate the minimum, maximum, and standard deviation of the `hightemp` data\n",
    "Use the built-in Numpy array functions (see [list of calculations](https://docs.scipy.org/doc/numpy-1.14.0/reference/arrays.ndarray.html#calculation)) to calculate the following three quantities:\n",
    "\n",
    "    min_high_temp =            # minimum high temperature over the 11 days\n",
    "    max_high_temp =            # maximum high temperature over the 11 days\n",
    "    std_high_temp =            # standard deviation of the high temperature (a measure of spread)\n",
    "    \n",
    "Make sure to print out your result"
   ]
  },
  {
   "cell_type": "code",
   "execution_count": 19,
   "metadata": {
    "nbgrader": {
     "grade": false,
     "grade_id": "cell-dac34dc54c7e682b",
     "locked": false,
     "schema_version": 3,
     "solution": true
    }
   },
   "outputs": [
    {
     "name": "stdout",
     "output_type": "stream",
     "text": [
      "68\n",
      "91\n",
      "6.478189727752679\n"
     ]
    }
   ],
   "source": [
    "\"\"\"\n",
    "Calculate the max, min, and standard deviation of the high temperature data.\n",
    "\"\"\"\n",
    "### BEGIN SOLUTION\n",
    "min_high_temp = hightemp.min()           # minimum high temperature over the 11 days\n",
    "max_high_temp = hightemp.max()           # maximum high temperature over the 11 days\n",
    "std_high_temp = hightemp.std()           # standard deviation of the high temperature (a measure of spread)\n",
    "\n",
    "print(min_high_temp)\n",
    "print(max_high_temp)\n",
    "print(std_high_temp)\n",
    "### END SOLUTION"
   ]
  },
  {
   "cell_type": "code",
   "execution_count": 20,
   "metadata": {
    "nbgrader": {
     "grade": true,
     "grade_id": "cell-991d02e183e8dc06",
     "locked": true,
     "points": 1,
     "schema_version": 3,
     "solution": false
    }
   },
   "outputs": [],
   "source": [
    "\"\"\"Check the values \"\"\"\n",
    "\n",
    "assert min_high_temp == 68\n",
    "assert max_high_temp == 91\n",
    "assert abs(std_high_temp - 6.4781897)/abs(6.4781897) < 1e-5"
   ]
  },
  {
   "cell_type": "markdown",
   "metadata": {
    "nbgrader": {
     "grade": false,
     "grade_id": "cell-ff30784d93d17e76",
     "locked": true,
     "schema_version": 3,
     "solution": false
    }
   },
   "source": [
    "## Defining your own functions\n",
    "A function is a reusable portion of code than can be called whenever you need it. Functions are great for these common scenarios\n",
    "1. Repetative procedures\n",
    "1. Mathematical functions that you want to include in a Python program\n",
    "\n",
    "Functions take **input** arguments and **return** an output. \n",
    "\n",
    "    def f(input1, input2, input3,...) :\n",
    "        \"\"\" Put description of the function here \"\"\"\n",
    "        \n",
    "        # do a bunch of stuff in the middle\n",
    "        \n",
    "        output = ...       # calculate the output\n",
    "        \n",
    "        return output      #return the output\n",
    "    \n",
    "\n",
    "\n",
    "\n",
    "#### For example, the mathematical function \n",
    "$$ f(x,y) = 3x + 5y^2  $$  \n",
    "could be expressed as a Python function as follows\n",
    "\n",
    "    def f(x, y) :\n",
    "        \"\"\" apply the function f(x,y) \"\"\"\n",
    "        result = 3*x + 5*y**2\n",
    "        return result\n",
    "        "
   ]
  },
  {
   "cell_type": "code",
   "execution_count": 21,
   "metadata": {},
   "outputs": [],
   "source": [
    "# run this cell to define the function\n",
    "def f(x, y) :\n",
    "    result = 3*x + 5*y**2\n",
    "    return result"
   ]
  },
  {
   "cell_type": "code",
   "execution_count": 22,
   "metadata": {},
   "outputs": [
    {
     "name": "stdout",
     "output_type": "stream",
     "text": [
      "5\n",
      "3\n",
      "26\n"
     ]
    }
   ],
   "source": [
    "# run this cell to execute the function for particular value of x and y.\n",
    "\n",
    "print( f(0,1) )\n",
    "print( f(1,0) )\n",
    "print( f(2,2) )"
   ]
  },
  {
   "cell_type": "markdown",
   "metadata": {
    "nbgrader": {
     "grade": false,
     "grade_id": "cell-cb038ddfe4932a15",
     "locked": true,
     "schema_version": 3,
     "solution": false,
     "task": false
    }
   },
   "source": [
    "## Task 3: Write a function `day_split` that takes your code from Task 1 and turns it into a function (1 point)\n",
    "\n",
    "#### Function name:  `day_split`  \n",
    "**Inputs:**  \n",
    "* `day` - a date string in the formatted similar to `\"Wednesday 3/18/2020\"` \n",
    "\n",
    "**Returns:**\n",
    "* `day_list` - a list of the day name, day of month, month, and year. For example: `[\"Wednesday\",18,3,2020]`\n",
    "* Note: the \"day name\" should be a string, but the day of month, month, and year should be integers.\n",
    "\n",
    "**Note:** You should be able to re-use much of your solution from Task 1, but convert it into a function. "
   ]
  },
  {
   "cell_type": "code",
   "execution_count": 31,
   "metadata": {
    "nbgrader": {
     "grade": false,
     "grade_id": "cell-1232d7ea73109bb0",
     "locked": false,
     "schema_version": 3,
     "solution": true,
     "task": false
    }
   },
   "outputs": [],
   "source": [
    "\"\"\" Solution for defining the day_list() function \"\"\"\n",
    "\n",
    "### BEGIN SOLUTION\n",
    "def day_split(day ) :\n",
    "    l1 = day.split(' ')\n",
    "\n",
    "    day_of_week = l1[0]\n",
    "    date = l1[1]\n",
    "\n",
    "    # convert the date to the three\n",
    "    l2 = date.split('/')\n",
    "    day_of_month = l2[1]\n",
    "    month = l2[0]\n",
    "    year = l2[2]\n",
    "\n",
    "    # convert to integers\n",
    "    day_of_month = int(day_of_month)\n",
    "    month = int(month)\n",
    "    year = int(year)\n",
    "\n",
    "    return [day_of_week, day_of_month, month, year]\n",
    "\n",
    "### END SOLUTION"
   ]
  },
  {
   "cell_type": "code",
   "execution_count": 24,
   "metadata": {
    "nbgrader": {
     "grade": true,
     "grade_id": "cell-d346c2e64e052a27",
     "locked": true,
     "points": 1,
     "schema_version": 3,
     "solution": false,
     "task": false
    }
   },
   "outputs": [
    {
     "name": "stdout",
     "output_type": "stream",
     "text": [
      "['Tuesday', 21, 6, 2020]\n"
     ]
    }
   ],
   "source": [
    "\"\"\" Autograded test cases for day_split function \"\"\"\n",
    "day_list = day_split(\"Tuesday 6/21/2020\")\n",
    "print(day_list)\n",
    "assert type(day_list) == list\n",
    "assert type(day_list[0]) == str\n",
    "assert type(day_list[1]) == int\n",
    "assert type(day_list[2]) == int\n",
    "assert type(day_list[3]) == int\n",
    "assert day_list[0] == \"Tuesday\"\n",
    "assert day_list[1] == 21\n",
    "assert day_list[2] == 6\n",
    "assert day_list[3] == 2020"
   ]
  },
  {
   "cell_type": "markdown",
   "metadata": {
    "nbgrader": {
     "grade": false,
     "grade_id": "cell-d55436a1f5a194af",
     "locked": true,
     "schema_version": 3,
     "solution": false
    }
   },
   "source": [
    "## Defining and plotting your own functions (Tasks 4-8)\n",
    "A ball is thrown at an angle $\\theta$ above the horizontal with an initial speed of $v_0$. Neglecting air resistance, the motion of this ball can be described by the following two kinematic equations which you know and love:\n",
    "$$ x = x_0 + v_{0,x}t$$\n",
    "$$ y = y_0 + v_{0,y}t + \\frac{1}{2}a_y t^2$$\n",
    "\n",
    "These equations could be converted to functions, as would be very helpful for the QBasic Gorillas game. It was the first non-educational game Dr. Zwickl played on a PC [QBasic Gorillas Video](https://youtu.be/lyBD0X81tjk). \n",
    "\n",
    "<img src=\"Gorillas.jpg\" alt=\"QBasic Gorillas Screenshot\" width=\"400\"/>\n"
   ]
  },
  {
   "cell_type": "markdown",
   "metadata": {
    "nbgrader": {
     "grade": false,
     "grade_id": "cell-f2b207aecc94c873",
     "locked": true,
     "schema_version": 3,
     "solution": false
    }
   },
   "source": [
    "# Task 4: Define functions that represent the kinematics equations above (1 pt, autograded) \n",
    "\n",
    "#### Function name:  `x_proj`  \n",
    "**Inputs:**  \n",
    "* `x0` - the initial x position\n",
    "* `v0x` - the x-component of initial velocity\n",
    "* `t` -  time  \n",
    "\n",
    "**Returns:**\n",
    "* `x` - position at time t\n",
    "\n",
    "\n",
    "#### Function name:  `y_proj`  \n",
    "**Inputs:**  \n",
    "*  `y0` - the initial y position\n",
    "* `v0y` - the y-component of initial velocity\n",
    "* `ay` - acceleration in the y-direction\n",
    "* `t` - time  \n",
    "\n",
    "**Returns:**\n",
    "* `y` - position at time t\n"
   ]
  },
  {
   "cell_type": "code",
   "execution_count": 32,
   "metadata": {
    "nbgrader": {
     "grade": false,
     "grade_id": "cell-6e24e7041e0617fb",
     "locked": false,
     "schema_version": 3,
     "solution": true
    }
   },
   "outputs": [
    {
     "name": "stdout",
     "output_type": "stream",
     "text": [
      "5\n",
      "3\n",
      "7\n",
      "30.0\n",
      "-15.0\n",
      "15.0\n"
     ]
    }
   ],
   "source": [
    "\"\"\"\n",
    "Define the functions x_proj and y_proj\n",
    "\"\"\"\n",
    "### BEGIN SOLUTION\n",
    "\n",
    "#define the x_proj function\n",
    "def x_proj(x0, v0x, t) :\n",
    "    result = x0 + v0x * t\n",
    "    return result\n",
    "\n",
    "def y_proj(y0, v0y, ay, t) :\n",
    "    result = y0 + v0y * t + (ay / 2) * t**2\n",
    "    return result\n",
    "\n",
    "print(x_proj(0, 1, 5) )\n",
    "print(x_proj(-5, 4, 2) )\n",
    "print(x_proj(7, 0, 10) )\n",
    "\n",
    "print( y_proj(0,10, 0, 3))\n",
    "print( y_proj(0,10, -10, 3))\n",
    "print( y_proj(30,10, -10, 3))\n",
    "\n",
    "### END SOLUTION"
   ]
  },
  {
   "cell_type": "code",
   "execution_count": 33,
   "metadata": {
    "nbgrader": {
     "grade": true,
     "grade_id": "cell-7baf3d8bed84611b",
     "locked": true,
     "points": 1,
     "schema_version": 3,
     "solution": false
    }
   },
   "outputs": [],
   "source": [
    "\"\"\"Check the values \"\"\"\n",
    "\n",
    "assert abs(x_proj(0, 1, 5) - 5)/abs(5) < 1e-5 # start at origin\n",
    "assert abs(x_proj(7, 0, 10) - 7)/abs(7) < 1e-5  # no initial velocity \n",
    "assert abs(x_proj(-5, 4, 2) - 3)/abs(3) < 1e-5   # non-zero origin and velocity\n",
    "\n",
    "assert abs(y_proj(0,10, 0, 3) - 30)/abs(30) < 1e-5  # test with no acceleration\n",
    "assert abs(y_proj(0,10, -10, 3) - (-15))/abs(-15) < 1e-5 # now include acceleration\n",
    "assert abs(y_proj(30, 10,-10, 3) - 15)/abs(15) < 1e-5  # now change initial height"
   ]
  },
  {
   "cell_type": "markdown",
   "metadata": {
    "nbgrader": {
     "grade": false,
     "grade_id": "cell-8eb6ec986f23fb39",
     "locked": true,
     "schema_version": 3,
     "solution": false,
     "task": false
    }
   },
   "source": [
    "# Task 5: Create a plot of trajectory of $x$ vs $t$  and $y$ vs $t$\n",
    "For the initial conditions $x_0 = 0 \\textrm{ m}$, $y_0 = 10 \\textrm{ m}$, $v_{0,x} = 5 \\textrm{ m/s}$, $v_{0,y} = 5 \\textrm{ m/s}$, $a_y = -9.8 \\textrm{ m/s}^2$. \n",
    "\n",
    "Use the `x_proj` and `y_proj` functions to make three plots a plot for $t$ between 0 and 3 seconds. You should produce a plot that looks very similar to\n",
    "\n",
    "![Position vs time for Task 5](position_vs_time.png)"
   ]
  },
  {
   "cell_type": "code",
   "execution_count": 34,
   "metadata": {
    "nbgrader": {
     "grade": false,
     "grade_id": "cell-109ada4735a6fb8e",
     "locked": false,
     "schema_version": 3,
     "solution": true,
     "task": false
    }
   },
   "outputs": [
    {
     "data": {
      "text/plain": [
       "<matplotlib.legend.Legend at 0x7f6de4c846a0>"
      ]
     },
     "execution_count": 34,
     "metadata": {},
     "output_type": "execute_result"
    },
    {
     "data": {
      "image/png": "[encoded data removed]",
      "text/plain": [
       "<Figure size 432x288 with 1 Axes>"
      ]
     },
     "metadata": {
      "needs_background": "light"
     },
     "output_type": "display_data"
    }
   ],
   "source": [
    "\"\"\"Create your plot of the x(t) and y(t) \"\"\"\n",
    "\n",
    "# define known quantities\n",
    "\n",
    "# calculate x and y arrays\n",
    "\n",
    "# make the plot\n",
    "\n",
    "### BEGIN SOLUTION\n",
    "x0 = 0 # initial x position, meters\n",
    "y0 = 10 # initial y position, meters\n",
    "v0x = 5 # initial velocity, x-component in m/s\n",
    "v0y = 5 # initial velocity, y-component in m/s\n",
    "ay = -9.8 # acceleration due to gravity downward m/s^2\n",
    "t = np.linspace(0,3) \n",
    "x = x_proj(x0, v0x, t, )\n",
    "y = y_proj(y0, v0y, ay, t)\n",
    "plt.plot(t, x, label = \"x position\")\n",
    "plt.plot(t, y, label = \"y position\")\n",
    "plt.xlabel(\"Time (s)\")\n",
    "plt.ylabel(\"Position (m)\")\n",
    "plt.legend()\n",
    "#plt.savefig(\"position_vs_time.png\")\n",
    "### END SOLUTION"
   ]
  },
  {
   "cell_type": "code",
   "execution_count": 35,
   "metadata": {
    "nbgrader": {
     "grade": true,
     "grade_id": "cell-5c1d7e5eb33c5148",
     "locked": true,
     "points": 1,
     "schema_version": 3,
     "solution": false,
     "task": false
    }
   },
   "outputs": [],
   "source": [
    "## Make sure YOUR plot matches the example plot provided. \n",
    "# Do you have a legend? Labeled axes? \n",
    "# If you are missing elements, you will lose credit on this graph.\n",
    "assert True  # Dr. Zwickl"
   ]
  },
  {
   "cell_type": "markdown",
   "metadata": {
    "nbgrader": {
     "grade": false,
     "grade_id": "cell-6f251439108cb0b1",
     "locked": true,
     "schema_version": 3,
     "solution": false,
     "task": false
    }
   },
   "source": [
    "# Creating plots of the trajectory through space\n",
    "\n",
    "In the previous task you plotted something like\n",
    "\n",
    "    plt.plot(t,x)\n",
    "    plt.plot(t,y)\n",
    "    \n",
    "This code will overlay two plots showing how $x$ and $y$ coordinates both depended on the time $t$.\n",
    "\n",
    "If you want to make a plot of hte trajectory through space it is a super easy.  Just plot $y$ vs $x$!\n",
    "\n",
    "    plt.plot(x,y) # plots path through space"
   ]
  },
  {
   "cell_type": "markdown",
   "metadata": {
    "nbgrader": {
     "grade": false,
     "grade_id": "cell-7a27e91486bae85c",
     "locked": true,
     "schema_version": 3,
     "solution": false,
     "task": false
    }
   },
   "source": [
    "# Task 6 Define the `plot_trajectory()` function (1 point, manually graded)\n",
    "Define a function `plot_trajectory` that takes five inputs and creates a plot of the trajectory over the time $t = 0$ to $t = t_\\textrm{max}$. The function should use (inside of its defition) the existing functions `x_proj()` and `y_proj()` functions defined earlier as well. Also, assume $g = 9.8 \\textrm{ m/s}^2$.\n",
    "\n",
    "\n",
    "**Function Name:** `plot_trajectory`  \n",
    "**Inputs: **\n",
    "1. `v0`\n",
    "1. `theta` \n",
    "1. `x0`\n",
    "1. `y0`\n",
    "1. `tmax`\n",
    "\n",
    "**Returns:** Does not return anything (no return statement), but does create a plot of $y$ vs $x$\n",
    "  \n",
    "**Important note:** Comment your code!!! Comment your code!!!\n",
    "\n",
    "\n"
   ]
  },
  {
   "cell_type": "code",
   "execution_count": 36,
   "metadata": {
    "nbgrader": {
     "grade": true,
     "grade_id": "cell-9dadd336578cfdcc",
     "locked": false,
     "points": 1,
     "schema_version": 3,
     "solution": true
    }
   },
   "outputs": [],
   "source": [
    "\"\"\"\n",
    "Define the function plot_trajectory. It should take 5 inputs\n",
    "v0 (m/s)\n",
    "theta (degrees)\n",
    "x0 (m)\n",
    "y0 (m)\n",
    "tmax (s), plot the time between 0 and tmax\n",
    "\"\"\"\n",
    "### BEGIN SOLUTION\n",
    "\n",
    "#define the x_proj function\n",
    "def plot_trajectory(v0, theta, x0, y0, tmax) :\n",
    "    \n",
    "    g = -9.8\n",
    "    t = np.linspace(0,tmax, 100)  # define the time array\n",
    "    \n",
    "    theta = theta * np.pi / 180  # convert to radians\n",
    "    v0x = v0 * np.cos(theta) \n",
    "    v0y = v0 * np.sin(theta)\n",
    "    x = x_proj(x0, v0x, t)\n",
    "    y = y_proj(y0, v0y, g, t)\n",
    "    plt.plot(x,y)\n",
    "    plt.xlabel(\"Horizontal Position (m)\")\n",
    "    plt.ylabel(\"Vertical Position (m)\")\n",
    "   \n",
    "### END SOLUTION"
   ]
  },
  {
   "cell_type": "markdown",
   "metadata": {
    "nbgrader": {
     "grade": false,
     "grade_id": "cell-bb87f58c80699d69",
     "locked": true,
     "schema_version": 3,
     "solution": false,
     "task": false
    }
   },
   "source": [
    "# Task 7: Make a list of special test cases (1 pt, manual)\n",
    "It is always very important to validate your code against cases where you know the result. In the markdown cell below, list at least 3 special cases you could run to check whether the trajectories behave as expected.  In Markdown, your list can be written as:\n",
    "    1. First test\n",
    "    1. Second test\n",
    "    1. Third test\n",
    "    \n",
    "and it will display as\n",
    "1. First test\n",
    "1. Second test\n",
    "1. Third test"
   ]
  },
  {
   "cell_type": "markdown",
   "metadata": {
    "nbgrader": {
     "grade": true,
     "grade_id": "cell-1322b2c0b6119798",
     "locked": false,
     "points": 1,
     "schema_version": 3,
     "solution": true
    }
   },
   "source": []
  },
  {
   "cell_type": "markdown",
   "metadata": {
    "nbgrader": {
     "grade": false,
     "grade_id": "cell-b6191eb774b249e7",
     "locked": true,
     "schema_version": 3,
     "solution": false,
     "task": false
    }
   },
   "source": [
    "# Task 8: Autograding some special test cases (1 pt, auto)\n",
    "\n",
    "Run the autograded test and interpret the graphs to make sure the plots are doing what you expect.\n",
    "\n",
    "You should produce output similar to\n",
    "\n",
    "![autograder test cases](Test_cases_for_trajectory.png)"
   ]
  },
  {
   "cell_type": "code",
   "execution_count": 37,
   "metadata": {
    "nbgrader": {
     "grade": true,
     "grade_id": "cell-6d2634583de2bcae",
     "locked": true,
     "points": 1,
     "schema_version": 3,
     "solution": false
    }
   },
   "outputs": [
    {
     "data": {
      "image/png": "[encoded data removed]",
      "text/plain": [
       "<Figure size 432x288 with 1 Axes>"
      ]
     },
     "metadata": {
      "needs_background": "light"
     },
     "output_type": "display_data"
    }
   ],
   "source": [
    "\"\"\"Task 7: Autograding the special test cases \"\"\"\n",
    "\n",
    "# horizontal launch\n",
    "v0 = 10; theta = 0; x0 = 0; y0 = 0; tmax = 3 \n",
    "plot_trajectory(v0, theta, x0, y0, tmax)\n",
    "\n",
    "# vertical launch\n",
    "theta = 90\n",
    "plot_trajectory(v0, theta, x0, y0, tmax)\n",
    "\n",
    "# horizontal launch with half the initial speed\n",
    "v0 = 5; theta = 0; x0 = 0; y0 = 0; tmax = 3 \n",
    "plot_trajectory(v0, theta, x0, y0, tmax)\n",
    "\n",
    "# horizontal launch, starting 10 m higher\n",
    "v0 = 5; theta = 0; x0 = 0; y0 = 10; tmax = 3 \n",
    "plot_trajectory(v0, theta, x0, y0, tmax)\n",
    "\n",
    "# horizontal launch, starting 10 m higher and 10 m to right\n",
    "v0 = 5; theta = 0; x0 = 10; y0 = 10; tmax = 3 \n",
    "plot_trajectory(v0, theta, x0, y0, tmax)\n",
    "\n",
    "# launch from origin at 45 degrees\n",
    "v0 = 10; theta = 45; x0 = 0; y0 = 0; tmax = 3 \n",
    "plot_trajectory(v0, theta, x0, y0, tmax)\n",
    "\n",
    "#plt.savefig(\"Test_cases_for_trajectory.png\")"
   ]
  },
  {
   "cell_type": "markdown",
   "metadata": {
    "nbgrader": {
     "grade": false,
     "grade_id": "cell-ec4618ab3810e80b",
     "locked": true,
     "schema_version": 3,
     "solution": false
    }
   },
   "source": [
    "## Ungraded bonus content: Using function to study trends in behavior\n",
    "\n",
    "We can use the `plot_trajectory()` function to study variation in a particular parameter. We create a series of plots by systematically varying one parameters, but keeping all other parameters constant.  \n",
    "\n",
    "Here is an example studying trends in the trajectory with launch speed."
   ]
  },
  {
   "cell_type": "code",
   "execution_count": 53,
   "metadata": {},
   "outputs": [
    {
     "data": {
      "text/plain": [
       "(0, 10)"
      ]
     },
     "execution_count": 53,
     "metadata": {},
     "output_type": "execute_result"
    },
    {
     "data": {
      "image/png": "[encoded data removed]",
      "text/plain": [
       "<Figure size 432x288 with 1 Axes>"
      ]
     },
     "metadata": {
      "needs_background": "light"
     },
     "output_type": "display_data"
    }
   ],
   "source": [
    "\"\"\"example of varying launch speed\"\"\"\n",
    "\n",
    "# define the initial speed, angle, and position, and time range\n",
    "v0 = 5\n",
    "theta = 30\n",
    "x0 = 0 \n",
    "y0 = 0 \n",
    "tmax = 3 \n",
    "\n",
    "plot_trajectory(v0, theta, x0, y0, tmax)\n",
    "plot_trajectory(2*v0, theta, x0, y0, tmax)  # double the initial velocity\n",
    "plot_trajectory(3*v0, theta, x0, y0, tmax)  # 3X initial velocity\n",
    "plot_trajectory(4*v0, theta, x0, y0, tmax)  # 4X initial velocity\n",
    "plot_trajectory(5*v0, theta, x0, y0, tmax)  # 5X initial velocity\n",
    "plt.ylim(0,10)\n"
   ]
  },
  {
   "cell_type": "markdown",
   "metadata": {
    "nbgrader": {
     "grade": false,
     "grade_id": "cell-3e9083a3be45dec6",
     "locked": true,
     "schema_version": 3,
     "solution": false,
     "task": false
    }
   },
   "source": [
    "## Ungraded task: Visualize dependence of trajectory on launch angle (0 pt)\n",
    "* Use the `plot_trajectory()` function to show how the trajectory varies on launch angle. \n",
    "* Use 5 degree increments between 0 and 90.\n",
    "* Use an initial speed of 15 m/s\n",
    "* Restrict the y-limits on the plot to only be positive.\n",
    "\n",
    "Output should be similar to \n",
    "![Trajectory vs launch angle](Trajectory_vs_launch_angle.png)"
   ]
  },
  {
   "cell_type": "code",
   "execution_count": 54,
   "metadata": {
    "nbgrader": {
     "grade": false,
     "grade_id": "cell-faeb92f62eb47e54",
     "locked": false,
     "schema_version": 3,
     "solution": true,
     "task": false
    }
   },
   "outputs": [
    {
     "data": {
      "text/plain": [
       "(0, 25)"
      ]
     },
     "execution_count": 54,
     "metadata": {},
     "output_type": "execute_result"
    },
    {
     "data": {
      "image/png": "[encoded data removed]",
      "text/plain": [
       "<Figure size 432x288 with 1 Axes>"
      ]
     },
     "metadata": {
      "needs_background": "light"
     },
     "output_type": "display_data"
    }
   ],
   "source": [
    "\"\"\" Create the plot showing how trajectory depends on angle. Use the initial conditions given in the Task description.\n",
    "\"\"\"\n",
    "\n",
    "### BEGIN SOLUTION\n",
    "# define the initial speed, angle, and position, and time range\n",
    "v0 = 20 \n",
    "theta = 5\n",
    "x0 = 0 \n",
    "y0 = 0 \n",
    "tmax = 4 \n",
    "\n",
    "plot_trajectory(v0, theta, x0, y0, tmax)   # initial angle (5 degrees)\n",
    "plot_trajectory(v0, 2*theta, x0, y0, tmax)  # double the initial angle\n",
    "plot_trajectory(v0, 3*theta, x0, y0, tmax)  # 3X initial angle\n",
    "plot_trajectory(v0, 4*theta, x0, y0, tmax)  # 4X initial angle\n",
    "plot_trajectory(v0, 5*theta, x0, y0, tmax)  # 5X initial angle\n",
    "plot_trajectory(v0, 6*theta, x0, y0, tmax)  \n",
    "plot_trajectory(v0, 7*theta, x0, y0, tmax)  \n",
    "plot_trajectory(v0, 8*theta, x0, y0, tmax) \n",
    "plot_trajectory(v0, 9*theta, x0, y0, tmax)  \n",
    "plot_trajectory(v0, 10*theta, x0, y0, tmax)  \n",
    "plot_trajectory(v0, 11*theta, x0, y0, tmax)  \n",
    "plot_trajectory(v0, 12*theta, x0, y0, tmax)  \n",
    "plot_trajectory(v0, 13*theta, x0, y0, tmax)  \n",
    "plot_trajectory(v0, 14*theta, x0, y0, tmax) \n",
    "plot_trajectory(v0, 15*theta, x0, y0, tmax)  \n",
    "plot_trajectory(v0, 16*theta, x0, y0, tmax) \n",
    "plot_trajectory(v0, 17*theta, x0, y0, tmax) \n",
    "plot_trajectory(v0, 18*theta, x0, y0, tmax) \n",
    "\n",
    "plt.ylim(-0,25)\n",
    "\n",
    "#plt.savefig(\"Trajectory_vs_launch_angle.png\")\n",
    "### END SOLUTION"
   ]
  }
 ],
 "metadata": {
  "celltoolbar": "Create Assignment",
  "kernelspec": {
   "display_name": "Python 3",
   "language": "python",
   "name": "python3"
  },
  "language_info": {
   "codemirror_mode": {
    "name": "ipython",
    "version": 3
   },
   "file_extension": ".py",
   "mimetype": "text/x-python",
   "name": "python",
   "nbconvert_exporter": "python",
   "pygments_lexer": "ipython3",
   "version": "3.6.9"
  }
 },
 "nbformat": 4,
 "nbformat_minor": 2
}
